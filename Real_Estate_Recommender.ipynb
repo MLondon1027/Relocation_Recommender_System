{
 "cells": [
  {
   "cell_type": "code",
   "execution_count": 2984,
   "metadata": {},
   "outputs": [],
   "source": [
    "import pandas as pd\n",
    "import numpy as np\n",
    "import matplotlib.pyplot as plt\n",
    "import seaborn as sns\n",
    "pd.set_option('mode.chained_assignment', None)\n",
    "%matplotlib inline\n",
    "import re\n",
    "from sklearn.metrics.pairwise import cosine_similarity\n",
    "from sklearn.metrics.pairwise import euclidean_distances\n",
    "from sklearn.metrics.pairwise import linear_kernel\n",
    "from sklearn.preprocessing import StandardScaler\n",
    "import geopandas"
   ]
  },
  {
   "cell_type": "code",
   "execution_count": 2985,
   "metadata": {},
   "outputs": [],
   "source": [
    "data = pd.read_csv('data/ACSST5Y2018.S0101_data_with_overlays_2020-09-09T171138.csv', low_memory=False, header=1)"
   ]
  },
  {
   "cell_type": "code",
   "execution_count": 2986,
   "metadata": {},
   "outputs": [],
   "source": [
    "# Delete margin of error columns\n",
    "data = data[data.columns.drop(list(data.filter(regex='^Margin')))]"
   ]
  },
  {
   "cell_type": "code",
   "execution_count": 2987,
   "metadata": {},
   "outputs": [],
   "source": [
    "# Replace (X) with NaN values\n",
    "data = data.replace({'(X)': np.nan})"
   ]
  },
  {
   "cell_type": "code",
   "execution_count": 2988,
   "metadata": {},
   "outputs": [],
   "source": [
    "# Drop estimate percent total population because it doesn't make sense\n",
    "data.drop(['Estimate!!Percent!!Total population'], axis=1, inplace=True)"
   ]
  },
  {
   "cell_type": "code",
   "execution_count": 2989,
   "metadata": {},
   "outputs": [],
   "source": [
    "# Fill in percentage male total population\n",
    "data['Estimate!!Percent Male!!Total population'] = data['Estimate!!Male!!Total population']/data['Estimate!!Total!!Total population']"
   ]
  },
  {
   "cell_type": "code",
   "execution_count": 2990,
   "metadata": {},
   "outputs": [],
   "source": [
    "# Fill in percentage female total population\n",
    "data['Estimate!!Percent Female!!Total population'] = data['Estimate!!Female!!Total population']/data['Estimate!!Total!!Total population']\n",
    "\n"
   ]
  },
  {
   "cell_type": "code",
   "execution_count": 2991,
   "metadata": {},
   "outputs": [
    {
     "data": {
      "text/plain": [
       "1093602"
      ]
     },
     "execution_count": 2991,
     "metadata": {},
     "output_type": "execute_result"
    }
   ],
   "source": [
    "# Null data points\n",
    "data.isnull().values.sum()"
   ]
  },
  {
   "cell_type": "code",
   "execution_count": 2992,
   "metadata": {},
   "outputs": [
    {
     "data": {
      "text/plain": [
       "7584480"
      ]
     },
     "execution_count": 2992,
     "metadata": {},
     "output_type": "execute_result"
    }
   ],
   "source": [
    "# Total data points\n",
    "data.shape[0] * data.shape[1]"
   ]
  },
  {
   "cell_type": "code",
   "execution_count": 2993,
   "metadata": {},
   "outputs": [],
   "source": [
    "# Delete percent allocated columns\n",
    "data.drop(['Estimate!!Female!!PERCENT ALLOCATED!!Sex'], axis=1, inplace=True)\n",
    "data.drop(['Estimate!!Percent Female!!PERCENT ALLOCATED!!Sex'], axis=1, inplace=True)\n",
    "data.drop(['Estimate!!Total!!PERCENT ALLOCATED!!Age'], axis=1, inplace=True)\n",
    "data.drop(['Estimate!!Percent!!PERCENT ALLOCATED!!Age'], axis=1, inplace=True)\n",
    "data.drop(['Estimate!!Male!!PERCENT ALLOCATED!!Age'], axis=1, inplace=True)\n",
    "data.drop(['Estimate!!Percent Male!!PERCENT ALLOCATED!!Age'], axis=1, inplace=True)\n",
    "data.drop(['Estimate!!Female!!PERCENT ALLOCATED!!Age'], axis=1, inplace=True)\n",
    "data.drop(['Estimate!!Percent Female!!PERCENT ALLOCATED!!Age'], axis=1, inplace=True)"
   ]
  },
  {
   "cell_type": "code",
   "execution_count": 2994,
   "metadata": {},
   "outputs": [],
   "source": [
    "data.drop('Estimate!!Total!!PERCENT ALLOCATED!!Sex', axis=1, inplace=True)"
   ]
  },
  {
   "cell_type": "code",
   "execution_count": 2995,
   "metadata": {},
   "outputs": [],
   "source": [
    "data['zip'] = data['Geographic Area Name'].str[-5:]\n"
   ]
  },
  {
   "cell_type": "code",
   "execution_count": 2996,
   "metadata": {},
   "outputs": [
    {
     "data": {
      "text/plain": [
       "33120"
      ]
     },
     "execution_count": 2996,
     "metadata": {},
     "output_type": "execute_result"
    }
   ],
   "source": [
    "data['zip'].nunique()"
   ]
  },
  {
   "cell_type": "markdown",
   "metadata": {},
   "source": [
    "### Density"
   ]
  },
  {
   "cell_type": "code",
   "execution_count": 2997,
   "metadata": {},
   "outputs": [],
   "source": [
    "uszips = pd.read_csv('data/uszips.csv')"
   ]
  },
  {
   "cell_type": "code",
   "execution_count": 2998,
   "metadata": {},
   "outputs": [],
   "source": [
    "density = uszips[['zip', 'density']]"
   ]
  },
  {
   "cell_type": "code",
   "execution_count": 2999,
   "metadata": {},
   "outputs": [],
   "source": [
    "density['zip'] = density['zip'].astype(str)"
   ]
  },
  {
   "cell_type": "code",
   "execution_count": 3000,
   "metadata": {},
   "outputs": [],
   "source": [
    "density['zip']=density['zip'].str.rjust(5, \"0\")"
   ]
  },
  {
   "cell_type": "code",
   "execution_count": 3001,
   "metadata": {},
   "outputs": [],
   "source": [
    "density.set_index('zip', inplace=True)"
   ]
  },
  {
   "cell_type": "markdown",
   "metadata": {},
   "source": [
    "#### Demographic characteristics"
   ]
  },
  {
   "cell_type": "code",
   "execution_count": 3002,
   "metadata": {},
   "outputs": [],
   "source": [
    "dem_char = pd.read_csv('data/ACSST5Y2018.S2502_data_with_overlays_2020-09-08T190727.csv', low_memory=False, header=1)"
   ]
  },
  {
   "cell_type": "code",
   "execution_count": 3003,
   "metadata": {},
   "outputs": [],
   "source": [
    "dem_char['zip'] = dem_char['Geographic Area Name'].str[-5:]"
   ]
  },
  {
   "cell_type": "code",
   "execution_count": 3004,
   "metadata": {},
   "outputs": [],
   "source": [
    "# Delete margin of error columns\n",
    "dem_char = dem_char[dem_char.columns.drop(list(dem_char.filter(regex='^Margin')))]"
   ]
  },
  {
   "cell_type": "markdown",
   "metadata": {},
   "source": [
    "#### Worker class - NOT YET INCLUDED"
   ]
  },
  {
   "cell_type": "code",
   "execution_count": 3005,
   "metadata": {},
   "outputs": [],
   "source": [
    "worker_class = pd.read_csv('data/ACSST5Y2018.S2409_data_with_overlays_2020-09-17T001304.csv', low_memory=False, header=1)"
   ]
  },
  {
   "cell_type": "code",
   "execution_count": 3006,
   "metadata": {},
   "outputs": [],
   "source": [
    "worker_class['zip'] = worker_class['Geographic Area Name'].str[-5:]"
   ]
  },
  {
   "cell_type": "code",
   "execution_count": 3007,
   "metadata": {},
   "outputs": [],
   "source": [
    "# Delete margin of error columns\n",
    "worker_class = worker_class[worker_class.columns.drop(list(worker_class.filter(regex='^Margin')))]"
   ]
  },
  {
   "cell_type": "markdown",
   "metadata": {},
   "source": [
    "#### Real estate"
   ]
  },
  {
   "cell_type": "code",
   "execution_count": 3008,
   "metadata": {},
   "outputs": [],
   "source": [
    "real_estate = pd.read_excel('data/HPI_AT_BDL_ZIP5.xlsx')"
   ]
  },
  {
   "cell_type": "code",
   "execution_count": 3009,
   "metadata": {},
   "outputs": [],
   "source": [
    "# Drop first 5 rows\n",
    "real_estate = real_estate.iloc[5:]"
   ]
  },
  {
   "cell_type": "code",
   "execution_count": 3010,
   "metadata": {},
   "outputs": [],
   "source": [
    "# Make first row the header\n",
    "real_estate.rename(columns=real_estate.iloc[0], inplace = True)"
   ]
  },
  {
   "cell_type": "code",
   "execution_count": 3011,
   "metadata": {},
   "outputs": [],
   "source": [
    "# Delete repeating row\n",
    "real_estate = real_estate.iloc[1:]"
   ]
  },
  {
   "cell_type": "code",
   "execution_count": 3012,
   "metadata": {},
   "outputs": [],
   "source": [
    "# Select rows that are Year 2019\n",
    "real_estate_2019 = real_estate[real_estate['Year']=='2019']"
   ]
  },
  {
   "cell_type": "code",
   "execution_count": null,
   "metadata": {},
   "outputs": [],
   "source": []
  },
  {
   "cell_type": "markdown",
   "metadata": {},
   "source": [
    "### Physical Housing Characteristics"
   ]
  },
  {
   "cell_type": "code",
   "execution_count": 3013,
   "metadata": {},
   "outputs": [],
   "source": [
    "housing_char = pd.read_csv('data/Physical_Housing_Characteristics.csv', low_memory=False, header=1)"
   ]
  },
  {
   "cell_type": "code",
   "execution_count": 3014,
   "metadata": {},
   "outputs": [],
   "source": [
    "housing_char['zip'] = housing_char['Geographic Area Name'].str[-5:]"
   ]
  },
  {
   "cell_type": "code",
   "execution_count": 3015,
   "metadata": {},
   "outputs": [],
   "source": [
    "# Delete margin of error columns\n",
    "housing_char = housing_char[housing_char.columns.drop(list(housing_char.filter(regex='^Margin')))]"
   ]
  },
  {
   "cell_type": "markdown",
   "metadata": {},
   "source": [
    "### Veteran Status\n"
   ]
  },
  {
   "cell_type": "code",
   "execution_count": 3016,
   "metadata": {},
   "outputs": [],
   "source": [
    "veteran = pd.read_csv('data/ACSST5Y2018.S2101_data_with_overlays_2020-09-14T113935.csv', low_memory=False, header=1)"
   ]
  },
  {
   "cell_type": "code",
   "execution_count": 3017,
   "metadata": {},
   "outputs": [],
   "source": [
    "veteran['zip'] = veteran['Geographic Area Name'].str[-5:]"
   ]
  },
  {
   "cell_type": "code",
   "execution_count": 3018,
   "metadata": {},
   "outputs": [],
   "source": [
    "# Delete margin of error columns\n",
    "veteran = veteran[veteran.columns.drop(list(veteran.filter(regex='^Margin')))]"
   ]
  },
  {
   "cell_type": "markdown",
   "metadata": {},
   "source": [
    "### Transportation"
   ]
  },
  {
   "cell_type": "code",
   "execution_count": 3019,
   "metadata": {},
   "outputs": [],
   "source": [
    "transportation = pd.read_csv('data/ACSST5Y2018.S0801_data_with_overlays_2020-09-05T010054.csv', low_memory=False, header=1)"
   ]
  },
  {
   "cell_type": "code",
   "execution_count": 3020,
   "metadata": {},
   "outputs": [],
   "source": [
    "transportation['zip'] = transportation['Geographic Area Name'].str[-5:]"
   ]
  },
  {
   "cell_type": "code",
   "execution_count": 3021,
   "metadata": {},
   "outputs": [],
   "source": [
    "# Delete margin of error columns\n",
    "transportation = transportation[transportation.columns.drop(list(transportation.filter(regex='MOE')))]"
   ]
  },
  {
   "cell_type": "markdown",
   "metadata": {},
   "source": [
    "### Housing and Income\n"
   ]
  },
  {
   "cell_type": "code",
   "execution_count": 3022,
   "metadata": {},
   "outputs": [],
   "source": [
    "financial_char = pd.read_csv('data/ACSST5Y2018.S2503_data_with_overlays_2020-09-08T115524.csv', low_memory=False, header=1)"
   ]
  },
  {
   "cell_type": "code",
   "execution_count": 3023,
   "metadata": {},
   "outputs": [],
   "source": [
    "financial_char['zip'] = financial_char['Geographic Area Name'].str[-5:]"
   ]
  },
  {
   "cell_type": "code",
   "execution_count": 3024,
   "metadata": {},
   "outputs": [],
   "source": [
    "# Delete margin of error columns\n",
    "financial_char = financial_char[financial_char.columns.drop(list(financial_char.filter(regex='^Margin')))]"
   ]
  },
  {
   "cell_type": "markdown",
   "metadata": {},
   "source": [
    "### Education"
   ]
  },
  {
   "cell_type": "code",
   "execution_count": 3025,
   "metadata": {},
   "outputs": [],
   "source": [
    "education = pd.read_csv('data/Education.csv', low_memory=False, header=1)"
   ]
  },
  {
   "cell_type": "code",
   "execution_count": 3026,
   "metadata": {},
   "outputs": [],
   "source": [
    "education['zip'] = education['Geographic Area Name'].str[-5:]"
   ]
  },
  {
   "cell_type": "code",
   "execution_count": 3027,
   "metadata": {},
   "outputs": [],
   "source": [
    "# Delete margin of error columns\n",
    "education = education[education.columns.drop(list(education.filter(regex='^Margin')))]"
   ]
  },
  {
   "cell_type": "markdown",
   "metadata": {},
   "source": [
    "### Employment\n"
   ]
  },
  {
   "cell_type": "code",
   "execution_count": 3028,
   "metadata": {},
   "outputs": [],
   "source": [
    "employment = pd.read_csv('data/ACSST5Y2018.S2302_data_with_overlays_2020-09-08T190000.csv', low_memory=False, header=1)"
   ]
  },
  {
   "cell_type": "code",
   "execution_count": 3029,
   "metadata": {},
   "outputs": [],
   "source": [
    "# zip column\n",
    "employment['zip'] = employment['Geographic Area Name'].str[-5:]"
   ]
  },
  {
   "cell_type": "code",
   "execution_count": 3030,
   "metadata": {},
   "outputs": [],
   "source": [
    "# Delete margin of error columns\n",
    "employment = employment[employment.columns.drop(list(employment.filter(regex='^Margin')))]"
   ]
  },
  {
   "cell_type": "markdown",
   "metadata": {},
   "source": [
    "### Marital status\n"
   ]
  },
  {
   "cell_type": "code",
   "execution_count": 3031,
   "metadata": {},
   "outputs": [],
   "source": [
    "marital = pd.read_csv('data/ACSST5Y2018.S1201_data_with_overlays_2020-09-14T121102.csv', low_memory=False, header=1)"
   ]
  },
  {
   "cell_type": "code",
   "execution_count": 3032,
   "metadata": {},
   "outputs": [],
   "source": [
    "# zip column\n",
    "marital['zip'] = marital['Geographic Area Name'].str[-5:]"
   ]
  },
  {
   "cell_type": "code",
   "execution_count": 3033,
   "metadata": {},
   "outputs": [],
   "source": [
    "# Delete margin of error columns\n",
    "marital = marital[marital.columns.drop(list(marital.filter(regex='^Margin')))]"
   ]
  },
  {
   "cell_type": "markdown",
   "metadata": {},
   "source": [
    "### Language spoken at home"
   ]
  },
  {
   "cell_type": "code",
   "execution_count": 3034,
   "metadata": {},
   "outputs": [],
   "source": [
    "language = pd.read_csv('data/ACSST5Y2018.S1601_data_with_overlays_2020-09-14T123248.csv', low_memory=False, header=1)"
   ]
  },
  {
   "cell_type": "code",
   "execution_count": 3035,
   "metadata": {},
   "outputs": [],
   "source": [
    "# zip column\n",
    "language['zip'] = language['Geographic Area Name'].str[-5:]"
   ]
  },
  {
   "cell_type": "code",
   "execution_count": 3036,
   "metadata": {},
   "outputs": [],
   "source": [
    "# Delete margin of error columns\n",
    "language = language[language.columns.drop(list(language.filter(regex='^Margin')))]"
   ]
  },
  {
   "cell_type": "code",
   "execution_count": 3037,
   "metadata": {},
   "outputs": [],
   "source": [
    "# Drop Estimated Percent Pop 5 Years and over - no data\n",
    "language.drop('Estimate!!Percent!!Population 5 years and over', axis=1, inplace=True)"
   ]
  },
  {
   "cell_type": "markdown",
   "metadata": {},
   "source": [
    "### Drop id and Geographic Area Name"
   ]
  },
  {
   "cell_type": "code",
   "execution_count": 3038,
   "metadata": {},
   "outputs": [],
   "source": [
    "dem_char.drop('id', axis=1, inplace=True)\n",
    "dem_char.drop('Geographic Area Name', axis=1, inplace=True)\n",
    "housing_char.drop('id', axis=1, inplace=True)\n",
    "housing_char.drop('Geographic Area Name', axis=1, inplace=True)\n",
    "worker_class.drop('id', axis=1, inplace=True)\n",
    "worker_class.drop('Geographic Area Name', axis=1, inplace=True)\n",
    "employment.drop('id', axis=1, inplace=True)\n",
    "employment.drop('Geographic Area Name', axis=1, inplace=True)\n",
    "education.drop('id', axis=1, inplace=True)\n",
    "education.drop('Geographic Area Name', axis=1, inplace=True)\n",
    "financial_char.drop('id', axis=1, inplace=True)\n",
    "financial_char.drop('Geographic Area Name', axis=1, inplace=True)\n",
    "language.drop('id', axis=1, inplace=True)\n",
    "language.drop('Geographic Area Name', axis=1, inplace=True)\n",
    "data.drop('id', axis=1, inplace=True)\n",
    "data.drop('Geographic Area Name', axis=1, inplace=True)\n",
    "veteran.drop('id', axis=1, inplace=True)\n",
    "veteran.drop('Geographic Area Name', axis=1, inplace=True)\n",
    "marital.drop('id', axis=1, inplace=True)\n",
    "marital.drop('Geographic Area Name', axis=1, inplace=True)\n",
    "transportation.drop('id', axis=1, inplace=True)\n",
    "transportation.drop('Geographic Area Name', axis=1, inplace=True)"
   ]
  },
  {
   "cell_type": "code",
   "execution_count": 3039,
   "metadata": {},
   "outputs": [],
   "source": [
    "# Make zip column the index\n",
    "dem_char.set_index('zip', inplace=True)\n",
    "housing_char.set_index('zip', inplace=True)\n",
    "worker_class.set_index('zip', inplace=True)\n",
    "employment.set_index('zip', inplace=True)\n",
    "education.set_index('zip', inplace=True)\n",
    "financial_char.set_index('zip', inplace=True)\n",
    "language.set_index('zip', inplace=True)\n",
    "data.set_index('zip', inplace=True)\n",
    "marital.set_index('zip', inplace=True)\n",
    "veteran.set_index('zip', inplace=True)\n",
    "transportation.set_index('zip', inplace=True)"
   ]
  },
  {
   "cell_type": "code",
   "execution_count": 3040,
   "metadata": {},
   "outputs": [],
   "source": [
    "# Drop empty columns- marital\n",
    "marital.drop('Estimate!!Now married (except separated)!!PERCENT ALLOCATED!!Marital status', axis=1, inplace=True)\n",
    "marital.drop('Estimate!!Widowed!!PERCENT ALLOCATED!!Marital status', axis=1, inplace=True)\n",
    "marital.drop('Estimate!!Divorced!!PERCENT ALLOCATED!!Marital status', axis=1, inplace=True)\n",
    "marital.drop('Estimate!!Separated!!PERCENT ALLOCATED!!Marital status', axis=1, inplace=True)\n",
    "marital.drop('Estimate!!Never married!!PERCENT ALLOCATED!!Marital status', axis=1, inplace=True)"
   ]
  },
  {
   "cell_type": "code",
   "execution_count": 3041,
   "metadata": {},
   "outputs": [
    {
     "name": "stderr",
     "output_type": "stream",
     "text": [
      "/opt/anaconda3/lib/python3.7/site-packages/pandas/core/ops/array_ops.py:253: FutureWarning: elementwise comparison failed; returning scalar instead, but in the future will perform elementwise comparison\n",
      "  res_values = method(rvalues)\n"
     ]
    }
   ],
   "source": [
    "# Delete marital columns with (X)\n",
    "marital = marital.loc[:, ~(marital == '(X)').any()]"
   ]
  },
  {
   "cell_type": "code",
   "execution_count": 3042,
   "metadata": {},
   "outputs": [],
   "source": [
    "# Delete veterans columns with (X)\n",
    "veteran = veteran.loc[:, ~(veteran == '(X)').any()]"
   ]
  },
  {
   "cell_type": "code",
   "execution_count": 3043,
   "metadata": {},
   "outputs": [],
   "source": [
    "# Delete education columns with (X)\n",
    "education = education.loc[:, ~(education == '(X)').any()]"
   ]
  },
  {
   "cell_type": "code",
   "execution_count": 3044,
   "metadata": {},
   "outputs": [],
   "source": [
    "# Delete financial_char columns with (X)\n",
    "financial_char = financial_char.loc[:, ~(financial_char == '(X)').any()]"
   ]
  },
  {
   "cell_type": "code",
   "execution_count": 3045,
   "metadata": {},
   "outputs": [],
   "source": [
    "data = data.loc[:, ~(data == '(X)').any()]"
   ]
  },
  {
   "cell_type": "code",
   "execution_count": 3046,
   "metadata": {},
   "outputs": [],
   "source": [
    "# Delete employment columns with (X)\n",
    "employment = employment.loc[:, ~(employment == '(X)').any()]"
   ]
  },
  {
   "cell_type": "code",
   "execution_count": 3047,
   "metadata": {},
   "outputs": [],
   "source": [
    "# Delete language columns with (X)\n",
    "language = language.loc[:, ~(language == '(X)').any()]"
   ]
  },
  {
   "cell_type": "code",
   "execution_count": 3048,
   "metadata": {},
   "outputs": [],
   "source": [
    "# Delete transportation columns with (X)\n",
    "transportation = transportation.loc[:, ~(transportation == '(X)').any()]"
   ]
  },
  {
   "cell_type": "markdown",
   "metadata": {},
   "source": [
    "Most useful features idea:\n",
    "1) Household income\n",
    "2) Percent of children\n",
    "3) Percent children under 5\n",
    "4) Percent owner occupied housing\n",
    "5) Overall population size\n",
    "6) Percent veterans\n",
    "7) Percent speak English\n",
    "8) HPI\n",
    "9) HPI annual change\n",
    "10) Percent female population\n",
    "11) Percent over 65\n",
    "12) Percent population over 25 with bachelor degree\n",
    "13) Percent population over 25 with graduate degree\n",
    "14) Percent population over 25 with high school diploma\n",
    "15) Male percent population over 25 with bachelor degree\n",
    "16) Male Percent population over 25 with graduate degree\n",
    "17) Percent population over 25 with high school diploma\n",
    "18) Female percent population over 25 with bachelor degree\n",
    "19) Female Percent population over 25 with graduate degree\n",
    "20)  Female Percent population over 25 with high school diploma\n",
    "21) Percent divorced\n",
    "22) Percent separated\n",
    "23) Percent never been married\n",
    "24) Percent families - employment\n",
    "25) Percent families with own children under 18 - employment\n",
    "26) Estimate!!Percent!!Families!!EMPLOYMENT STATUS CHARACTERISTICS!!Married-couple families!!Both husband and wife in labor force \n",
    "27) Estimate!!Percent Families with own children under 18 years!!Families!!EMPLOYMENT STATUS CHARACTERISTICS!!Married-couple families!!Both husband and wife in labor force\n",
    "28) Estimate!!Percent!!Families!!EMPLOYMENT STATUS CHARACTERISTICS!!Married-couple families!!Husband in labor force, wife not in labor force\n",
    "29) Estimate!!Percent Families with own children under 18 years!!Families!!EMPLOYMENT STATUS CHARACTERISTICS!!Married-couple families!!Husband in labor force, wife not in labor force\n",
    "30) Estimate!!Percent!!Families!!EMPLOYMENT STATUS CHARACTERISTICS!!Married-couple families!!Wife in labor force, husband not in labor force\n",
    "31) Estimate!!Percent Families with own children under 18 years!!Families!!EMPLOYMENT STATUS CHARACTERISTICS!!Married-couple families!!Wife in labor force, husband not in labor force\n",
    "32) Estimate!!Percent!!Families!!EMPLOYMENT STATUS CHARACTERISTICS!!Married-couple families!!Both husband and wife not in labor force\n",
    "33) Estimate!!Percent Families with own children under 18 years!!Families!!EMPLOYMENT STATUS CHARACTERISTICS!!Married-couple families!!Both husband and wife not in labor force\n",
    "34) Estimate!!Percent!!Families!!EMPLOYMENT STATUS CHARACTERISTICS!!Other families\n",
    "35) Estimate!!Percent Families with own children under 18 years!!Families!!EMPLOYMENT STATUS CHARACTERISTICS!!Other families\n",
    "36) Estimate!!Percent!!Families!!EMPLOYMENT STATUS CHARACTERISTICS!!Other families!!Female householder, no husband present\n",
    "37) Estimate!!Percent Families with own children under 18 years!!Families!!EMPLOYMENT STATUS CHARACTERISTICS!!Other families!!Female householder, no husband present\n",
    "38) Estimate!!Percent!!Families!!EMPLOYMENT STATUS CHARACTERISTICS!!Other families!!Female householder, no husband present!!In labor force\n",
    "39) Estimate!!Percent Families with own children under 18 years!!Families!!EMPLOYMENT STATUS CHARACTERISTICS!!Other families!!Female householder, no husband present!!In labor force\n",
    "40) Estimate!!Percent!!Families!!EMPLOYMENT STATUS CHARACTERISTICS!!Other families!!Male householder, no wife present \n",
    "41) Estimate!!Percent Families with own children under 18 years!!Families!!EMPLOYMENT STATUS CHARACTERISTICS!!Other families!!Male householder, no wife present\n",
    "42) Estimate!!Percent!!Families!!EMPLOYMENT STATUS CHARACTERISTICS!!Other families!!Male householder, no wife present!!In labor force\n",
    "43) Estimate!!Percent Families with own children under 18 years!!Families!!EMPLOYMENT STATUS CHARACTERISTICS!!Other families!!Male householder, no wife present!!In labor force\n",
    "44) Estimate!!Percent!!Families!!EMPLOYMENT STATUS CHARACTERISTICS!!Other families!!Male householder, no wife present!!Not in labor force\n",
    "45) Estimate!!Percent!!WORK STATUS CHARACTERISTICS!!Families!!1 worker in the past 12 months\n",
    "46) Estimate!!Percent!!WORK STATUS CHARACTERISTICS!!Families!!2 or more workers in the past 12 months\n",
    "47) Estimate!!Percent Families with own children under 18 years!!WORK STATUS CHARACTERISTICS!!Families!!No workers in the past 12 months\n",
    "48) Estimate!!Percent Families with own children under 18 years!!WORK STATUS CHARACTERISTICS!!Families!!1 worker in the past 12 months\n",
    "49) Estimate!!Percent!!WORK STATUS CHARACTERISTICS!!Families!!No workers in the past 12 months\n",
    "50) Percent speak spanish\n",
    "51) Percent speak other language\n",
    "52) Percent drive/ride in private vehicle\n",
    "53) Percent walk\n",
    "54) Percent public transportation\n",
    "55) Percent work remote\n",
    "56) Mean commute time\n",
    "57) Median HH Income\n",
    "58) Median Renter HH Income\n",
    "59) Median Owner HH Income"
   ]
  },
  {
   "cell_type": "code",
   "execution_count": 3049,
   "metadata": {},
   "outputs": [],
   "source": [
    "dem_char_percents = dem_char.filter(regex='Percent')"
   ]
  },
  {
   "cell_type": "code",
   "execution_count": 3050,
   "metadata": {},
   "outputs": [],
   "source": [
    "housing_char_percents = housing_char.filter(regex='Percent')"
   ]
  },
  {
   "cell_type": "code",
   "execution_count": 3051,
   "metadata": {},
   "outputs": [],
   "source": [
    "worker_class_percents = worker_class.filter(regex='Percent')"
   ]
  },
  {
   "cell_type": "code",
   "execution_count": 3052,
   "metadata": {},
   "outputs": [],
   "source": [
    "employment_percents = employment.filter(regex='Percent')"
   ]
  },
  {
   "cell_type": "code",
   "execution_count": 3053,
   "metadata": {},
   "outputs": [],
   "source": [
    "veteran_percents = veteran.filter(regex='Percent')"
   ]
  },
  {
   "cell_type": "code",
   "execution_count": 3054,
   "metadata": {},
   "outputs": [],
   "source": [
    "education_percents = education.filter(regex='Percent')"
   ]
  },
  {
   "cell_type": "code",
   "execution_count": 3055,
   "metadata": {},
   "outputs": [],
   "source": [
    "marital_percents = marital.iloc[:, 1:6]"
   ]
  },
  {
   "cell_type": "code",
   "execution_count": 3056,
   "metadata": {},
   "outputs": [],
   "source": [
    "# Correct percentage columns for financial_char\n",
    "financial_char['Estimate!!Percent owner-occupied housing units!!Occupied housing units'] = financial_char['Estimate!!Owner-occupied housing units!!Occupied housing units'] / financial_char['Estimate!!Occupied housing units!!Occupied housing units']\n",
    "financial_char['Estimate!!Percent renter-occupied housing units!!Occupied housing units'] = 1 - financial_char['Estimate!!Percent owner-occupied housing units!!Occupied housing units']"
   ]
  },
  {
   "cell_type": "code",
   "execution_count": 3057,
   "metadata": {},
   "outputs": [],
   "source": [
    "financial_char_percents = financial_char.filter(regex='Percent')"
   ]
  },
  {
   "cell_type": "code",
   "execution_count": 3058,
   "metadata": {},
   "outputs": [],
   "source": [
    "language_percents = language.filter(regex='Percent')"
   ]
  },
  {
   "cell_type": "markdown",
   "metadata": {},
   "source": [
    "### Histogram of size of population by zip code"
   ]
  },
  {
   "cell_type": "code",
   "execution_count": 3059,
   "metadata": {},
   "outputs": [
    {
     "data": {
      "text/plain": [
       "<matplotlib.axes._subplots.AxesSubplot at 0x7fa9cff34bd0>"
      ]
     },
     "execution_count": 3059,
     "metadata": {},
     "output_type": "execute_result"
    },
    {
     "data": {
      "image/png": "[encoded data removed]",
      "text/plain": [
       "<Figure size 432x288 with 1 Axes>"
      ]
     },
     "metadata": {
      "needs_background": "light"
     },
     "output_type": "display_data"
    }
   ],
   "source": [
    "sns.distplot(data['Estimate!!Total!!Total population'])"
   ]
  },
  {
   "cell_type": "code",
   "execution_count": 3060,
   "metadata": {},
   "outputs": [],
   "source": [
    "total_pop = data['Estimate!!Total!!Total population']"
   ]
  },
  {
   "cell_type": "code",
   "execution_count": 3061,
   "metadata": {},
   "outputs": [],
   "source": [
    "data_percents = data.filter(regex='Percent')"
   ]
  },
  {
   "cell_type": "code",
   "execution_count": 3062,
   "metadata": {},
   "outputs": [],
   "source": [
    "# Concatenate total population back to data percents\n",
    "data_percents['total_pop'] = total_pop"
   ]
  },
  {
   "cell_type": "code",
   "execution_count": 3063,
   "metadata": {},
   "outputs": [],
   "source": [
    "# replace '-' with NaN\n",
    "data_percents = data_percents.replace({'-': np.nan})"
   ]
  },
  {
   "cell_type": "code",
   "execution_count": 3064,
   "metadata": {},
   "outputs": [],
   "source": [
    "# Drop columns with all nans\n",
    "\n",
    "data_percents.dropna(axis=1, how='all', inplace=True)"
   ]
  },
  {
   "cell_type": "code",
   "execution_count": 3065,
   "metadata": {},
   "outputs": [],
   "source": [
    "# Change all data_percents columns to floats\n",
    "for i in data_percents.columns:\n",
    "    try:\n",
    "        data_percents[i] = data_percents[i].astype(float)\n",
    "    except:\n",
    "        continue\n"
   ]
  },
  {
   "cell_type": "markdown",
   "metadata": {},
   "source": []
  },
  {
   "cell_type": "code",
   "execution_count": 3066,
   "metadata": {},
   "outputs": [
    {
     "data": {
      "text/plain": [
       "['Five-Digit ZIP Code',\n",
       " 'Year',\n",
       " 'Annual Change (%)',\n",
       " 'HPI',\n",
       " 'HPI with 1990 base',\n",
       " 'HPI with 2000 base']"
      ]
     },
     "execution_count": 3066,
     "metadata": {},
     "output_type": "execute_result"
    }
   ],
   "source": [
    "list(real_estate_2019.columns)"
   ]
  },
  {
   "cell_type": "code",
   "execution_count": 3067,
   "metadata": {},
   "outputs": [],
   "source": [
    "# Delete columns in data that are not floats\n",
    "data_percents = data_percents.select_dtypes(exclude=['object'])"
   ]
  },
  {
   "cell_type": "markdown",
   "metadata": {},
   "source": [
    "#### Edit real estate dataset"
   ]
  },
  {
   "cell_type": "code",
   "execution_count": 3068,
   "metadata": {},
   "outputs": [],
   "source": [
    "real_estate_2019.rename(columns={'Five-Digit ZIP Code': 'zip'}, inplace=True)"
   ]
  },
  {
   "cell_type": "code",
   "execution_count": 3069,
   "metadata": {},
   "outputs": [],
   "source": [
    "real_estate_2019 = real_estate_2019[['zip', 'Annual Change (%)', 'HPI']]"
   ]
  },
  {
   "cell_type": "code",
   "execution_count": 3070,
   "metadata": {},
   "outputs": [],
   "source": [
    "# Set zip as index\n",
    "real_estate_2019.set_index('zip', inplace=True)"
   ]
  },
  {
   "cell_type": "code",
   "execution_count": 3071,
   "metadata": {},
   "outputs": [],
   "source": [
    "# Rename Annual Change(%) \n",
    "real_estate_2019.rename(columns={'Annual Change (%)': 'HPI_%_Annual_Change'}, inplace=True)"
   ]
  },
  {
   "cell_type": "code",
   "execution_count": null,
   "metadata": {},
   "outputs": [],
   "source": []
  },
  {
   "cell_type": "markdown",
   "metadata": {},
   "source": [
    "#### Edit Demographic Characteristics Percent dataset"
   ]
  },
  {
   "cell_type": "code",
   "execution_count": 3072,
   "metadata": {},
   "outputs": [],
   "source": [
    "# replace '-' with NaN\n",
    "dem_char_percents = dem_char_percents.replace({'-': np.nan})"
   ]
  },
  {
   "cell_type": "code",
   "execution_count": 3073,
   "metadata": {},
   "outputs": [],
   "source": [
    "# Change all dem_char_percents columns to floats\n",
    "for i in dem_char_percents.columns:\n",
    "    try:\n",
    "        dem_char_percents[i] = dem_char_percents[i].astype(float)\n",
    "    except:\n",
    "        continue"
   ]
  },
  {
   "cell_type": "code",
   "execution_count": 3074,
   "metadata": {},
   "outputs": [],
   "source": [
    "dem_char_percents.rename(columns={'Estimate!!Percent occupied housing units!!Occupied housing units!!YEAR HOUSEHOLDER MOVED INTO UNIT!!Moved in 2017 or later':'Percent_Moved_In_2017_Plus'}, inplace=True)\n",
    "dem_char_percents.rename(columns={'Estimate!!Percent occupied housing units!!Occupied housing units!!YEAR HOUSEHOLDER MOVED INTO UNIT!!Moved in 2015 to 2016':'Percent_Moved_In_2015_2016'}, inplace=True)\n",
    "dem_char_percents.rename(columns={'Estimate!!Percent occupied housing units!!Occupied housing units!!YEAR HOUSEHOLDER MOVED INTO UNIT!!Moved in 2010 to 2014':'Percent_Moved_In_2010_2014'}, inplace=True)\n",
    "dem_char_percents.rename(columns={'Estimate!!Percent occupied housing units!!Occupied housing units!!YEAR HOUSEHOLDER MOVED INTO UNIT!!Moved in 2000 to 2009':'Percent_Moved_In_2000_2009'}, inplace=True)\n",
    "dem_char_percents.rename(columns={'Estimate!!Percent occupied housing units!!Occupied housing units!!YEAR HOUSEHOLDER MOVED INTO UNIT!!Moved in 1990 to 1999':'Percent_Moved_In_1990_1999'}, inplace=True)\n",
    "dem_char_percents.rename(columns={'Estimate!!Percent occupied housing units!!Occupied housing units!!YEAR HOUSEHOLDER MOVED INTO UNIT!!Moved in 1989 or earlier':'Percent_Moved_In_1989_Prior'}, inplace=True)\n"
   ]
  },
  {
   "cell_type": "code",
   "execution_count": 3075,
   "metadata": {},
   "outputs": [],
   "source": [
    "dem_char_percents = dem_char_percents[['Percent_Moved_In_2017_Plus', 'Percent_Moved_In_2015_2016', 'Percent_Moved_In_2010_2014', 'Percent_Moved_In_2000_2009', 'Percent_Moved_In_1990_1999', 'Percent_Moved_In_1989_Prior']]"
   ]
  },
  {
   "cell_type": "markdown",
   "metadata": {},
   "source": [
    "#### Edit education percents dataset"
   ]
  },
  {
   "cell_type": "code",
   "execution_count": null,
   "metadata": {},
   "outputs": [],
   "source": []
  },
  {
   "cell_type": "code",
   "execution_count": 3076,
   "metadata": {},
   "outputs": [],
   "source": [
    "# replace '-' with NaN\n",
    "education_percents = education_percents.replace({'-': np.nan})"
   ]
  },
  {
   "cell_type": "code",
   "execution_count": 3077,
   "metadata": {},
   "outputs": [],
   "source": [
    "# Change all education_percents columns to floats\n",
    "for i in education_percents.columns:\n",
    "    try:\n",
    "        education_percents[i] = education_percents[i].astype(float)\n",
    "    except:\n",
    "        continue"
   ]
  },
  {
   "cell_type": "code",
   "execution_count": null,
   "metadata": {},
   "outputs": [],
   "source": []
  },
  {
   "cell_type": "code",
   "execution_count": 3078,
   "metadata": {},
   "outputs": [],
   "source": [
    "education_percents = education_percents[[\"Estimate!!Percent!!Population 25 years and over!!Bachelor's degree\", \n",
    "                                         \"Estimate!!Percent!!Population 25 years and over!!Graduate or professional degree\", \n",
    "                                         \"Estimate!!Percent!!Population 25 years and over!!High school graduate or higher\", \n",
    "                                         \"Estimate!!Percent!!Population 25 years and over!!Some college, no degree\", \n",
    "                                         \"Estimate!!Percent Male!!Population 25 years and over!!Bachelor's degree\", \n",
    "                                         \"Estimate!!Percent Female!!Population 25 years and over!!Bachelor's degree\", \n",
    "                                         \"Estimate!!Percent Male!!Population 25 years and over!!Graduate or professional degree\", \n",
    "                                         \"Estimate!!Percent Female!!Population 25 years and over!!Graduate or professional degree\", \n",
    "                                         \"Estimate!!Percent Male!!Population 25 years and over!!High school graduate or higher\", \n",
    "                                         \"Estimate!!Percent Female!!Population 25 years and over!!High school graduate or higher\"]]"
   ]
  },
  {
   "cell_type": "markdown",
   "metadata": {},
   "source": [
    "#### Edit housing char percents dataset"
   ]
  },
  {
   "cell_type": "code",
   "execution_count": 3079,
   "metadata": {},
   "outputs": [],
   "source": [
    "housing_char_percents = housing_char_percents.replace({'-': np.nan})"
   ]
  },
  {
   "cell_type": "code",
   "execution_count": 3080,
   "metadata": {},
   "outputs": [],
   "source": [
    "# Change all employment_percent columns to floats\n",
    "for i in housing_char_percents.columns:\n",
    "    try:\n",
    "        housing_char_percents[i] = housing_char_percents[i].astype(float)\n",
    "    except:\n",
    "        continue"
   ]
  },
  {
   "cell_type": "code",
   "execution_count": 3081,
   "metadata": {},
   "outputs": [],
   "source": [
    "# Rename housing columns\n",
    "housing_char_percents.rename(columns={'Estimate!!Percent occupied housing units!!Occupied housing units!!UNITS IN STRUCTURE!!1, detached': 'Percent_SF_Houses_Det'}, inplace=True)\n",
    "housing_char_percents.rename(columns={'Estimate!!Percent occupied housing units!!Occupied housing units!!UNITS IN STRUCTURE!!1, attached': 'Percent_SF_Houses_Att'}, inplace=True)\n",
    "housing_char_percents.rename(columns={'Estimate!!Percent occupied housing units!!Occupied housing units!!UNITS IN STRUCTURE!!2 apartments': 'Percent_2F_Apts'}, inplace=True)\n",
    "housing_char_percents.rename(columns={'Estimate!!Percent occupied housing units!!Occupied housing units!!UNITS IN STRUCTURE!!3 or 4 apartments': 'Percent_3_4F_Apts'}, inplace=True)\n",
    "housing_char_percents.rename(columns={'Estimate!!Percent occupied housing units!!Occupied housing units!!UNITS IN STRUCTURE!!5 to 9 apartments':'Percent_5_9F_Apts'}, inplace=True)\n",
    "housing_char_percents.rename(columns={'Estimate!!Percent occupied housing units!!Occupied housing units!!UNITS IN STRUCTURE!!10 or more apartments':'Percent_10_PlusF_Apts'}, inplace=True)\n",
    "housing_char_percents.rename(columns={'Estimate!!Percent occupied housing units!!Occupied housing units!!UNITS IN STRUCTURE!!Mobile home or other type of housing':'Percent_Mobile_Home'}, inplace=True)\n",
    "housing_char_percents.rename(columns={'Estimate!!Percent occupied housing units!!Occupied housing units!!YEAR STRUCTURE BUILT!!2014 or later':'Percent_Yr_Built_2014_Plus'}, inplace=True)\n",
    "housing_char_percents.rename(columns={'Estimate!!Percent occupied housing units!!Occupied housing units!!YEAR STRUCTURE BUILT!!2010 to 2013':'Percent_Yr_Built_2010_2013'}, inplace=True)\n",
    "housing_char_percents.rename(columns={'Estimate!!Percent occupied housing units!!Occupied housing units!!YEAR STRUCTURE BUILT!!2000 to 2009':'Percent_Yr_Built_2000_2009'}, inplace=True)\n",
    "housing_char_percents.rename(columns={'Estimate!!Percent occupied housing units!!Occupied housing units!!YEAR STRUCTURE BUILT!!1980 to 1999':'Percent_Yr_Built_1980_1999'}, inplace=True)\n",
    "housing_char_percents.rename(columns={'Estimate!!Percent occupied housing units!!Occupied housing units!!YEAR STRUCTURE BUILT!!1960 to 1979':'Percent_Yr_Built_1960_1979'}, inplace=True)\n",
    "housing_char_percents.rename(columns={'Estimate!!Percent occupied housing units!!Occupied housing units!!YEAR STRUCTURE BUILT!!1940 to 1959':'Percent_Yr_Built_1940_1959'}, inplace=True)\n",
    "housing_char_percents.rename(columns={'Estimate!!Percent occupied housing units!!Occupied housing units!!YEAR STRUCTURE BUILT!!1939 or earlier':'Percent_Yr_Built_1939_Prior'}, inplace=True)\n",
    "\n"
   ]
  },
  {
   "cell_type": "code",
   "execution_count": 3082,
   "metadata": {},
   "outputs": [],
   "source": [
    "# Select housing columns\n",
    "\n",
    "housing_char_percents = housing_char_percents[['Percent_SF_Houses_Det', 'Percent_SF_Houses_Att', 'Percent_2F_Apts', 'Percent_3_4F_Apts', 'Percent_5_9F_Apts', 'Percent_10_PlusF_Apts', 'Percent_Mobile_Home', 'Percent_Yr_Built_2014_Plus', 'Percent_Yr_Built_2010_2013', 'Percent_Yr_Built_2000_2009', 'Percent_Yr_Built_1980_1999', 'Percent_Yr_Built_1960_1979', 'Percent_Yr_Built_1940_1959', 'Percent_Yr_Built_1939_Prior']]"
   ]
  },
  {
   "cell_type": "markdown",
   "metadata": {},
   "source": [
    "#### Edit employment percents dataset"
   ]
  },
  {
   "cell_type": "code",
   "execution_count": 3083,
   "metadata": {},
   "outputs": [],
   "source": [
    "employment_percents = employment_percents.replace({'-': np.nan})"
   ]
  },
  {
   "cell_type": "code",
   "execution_count": 3084,
   "metadata": {},
   "outputs": [],
   "source": [
    "# Change all employment_percent columns to floats\n",
    "for i in employment_percents.columns:\n",
    "    try:\n",
    "        employment_percents[i] = employment_percents[i].astype(float)\n",
    "    except:\n",
    "        continue"
   ]
  },
  {
   "cell_type": "code",
   "execution_count": 3085,
   "metadata": {},
   "outputs": [],
   "source": [
    "employment_percents.rename(columns={'Estimate!!Percent Families with own children under 18 years!!Families' : 'Percent_Families_With_Children'}, inplace=True)\n"
   ]
  },
  {
   "cell_type": "code",
   "execution_count": 3086,
   "metadata": {},
   "outputs": [],
   "source": [
    "employment_percents['Percent_Families_With_Children'] = employment_percents['Percent_Families_With_Children']/employment_percents['Estimate!!Percent!!Families']*100"
   ]
  },
  {
   "cell_type": "code",
   "execution_count": 3087,
   "metadata": {},
   "outputs": [],
   "source": [
    "employment_percents = employment_percents[['Percent_Families_With_Children','Estimate!!Percent!!Families!!EMPLOYMENT STATUS CHARACTERISTICS!!Married-couple families!!Husband in labor force, wife not in labor force', \n",
    "'Estimate!!Percent Families with own children under 18 years!!Families!!EMPLOYMENT STATUS CHARACTERISTICS!!Married-couple families!!Husband in labor force, wife not in labor force', \n",
    "'Estimate!!Percent!!Families!!EMPLOYMENT STATUS CHARACTERISTICS!!Married-couple families!!Wife in labor force, husband not in labor force', \n",
    "'Estimate!!Percent Families with own children under 18 years!!Families!!EMPLOYMENT STATUS CHARACTERISTICS!!Married-couple families!!Wife in labor force, husband not in labor force', \n",
    "'Estimate!!Percent!!Families!!EMPLOYMENT STATUS CHARACTERISTICS!!Married-couple families!!Both husband and wife not in labor force',\n",
    "'Estimate!!Percent Families with own children under 18 years!!Families!!EMPLOYMENT STATUS CHARACTERISTICS!!Married-couple families!!Both husband and wife not in labor force',\n",
    "'Estimate!!Percent!!Families!!EMPLOYMENT STATUS CHARACTERISTICS!!Other families!!Female householder, no husband present', \n",
    "'Estimate!!Percent Families with own children under 18 years!!Families!!EMPLOYMENT STATUS CHARACTERISTICS!!Other families!!Female householder, no husband present',\n",
    "'Estimate!!Percent!!Families!!EMPLOYMENT STATUS CHARACTERISTICS!!Other families!!Female householder, no husband present!!In labor force', \n",
    "'Estimate!!Percent Families with own children under 18 years!!Families!!EMPLOYMENT STATUS CHARACTERISTICS!!Other families!!Female householder, no husband present!!In labor force', \n",
    "'Estimate!!Percent!!Families!!EMPLOYMENT STATUS CHARACTERISTICS!!Other families!!Male householder, no wife present',  \n",
    "'Estimate!!Percent Families with own children under 18 years!!Families!!EMPLOYMENT STATUS CHARACTERISTICS!!Other families!!Male householder, no wife present', \n",
    "'Estimate!!Percent!!Families!!EMPLOYMENT STATUS CHARACTERISTICS!!Other families!!Male householder, no wife present!!In labor force', \n",
    "'Estimate!!Percent Families with own children under 18 years!!Families!!EMPLOYMENT STATUS CHARACTERISTICS!!Other families!!Male householder, no wife present!!In labor force', \n",
    "'Estimate!!Percent!!Families!!EMPLOYMENT STATUS CHARACTERISTICS!!Other families!!Male householder, no wife present!!Not in labor force', \n",
    "'Estimate!!Percent!!WORK STATUS CHARACTERISTICS!!Families!!1 worker in the past 12 months', \n",
    "'Estimate!!Percent!!WORK STATUS CHARACTERISTICS!!Families!!2 or more workers in the past 12 months',\n",
    "'Estimate!!Percent Families with own children under 18 years!!WORK STATUS CHARACTERISTICS!!Families!!No workers in the past 12 months', \n",
    "'Estimate!!Percent Families with own children under 18 years!!WORK STATUS CHARACTERISTICS!!Families!!1 worker in the past 12 months', \n",
    "'Estimate!!Percent!!WORK STATUS CHARACTERISTICS!!Families!!No workers in the past 12 months']]\n"
   ]
  },
  {
   "cell_type": "code",
   "execution_count": 3088,
   "metadata": {},
   "outputs": [
    {
     "data": {
      "text/plain": [
       "21"
      ]
     },
     "execution_count": 3088,
     "metadata": {},
     "output_type": "execute_result"
    }
   ],
   "source": [
    "len(list(employment_percents.columns))"
   ]
  },
  {
   "cell_type": "markdown",
   "metadata": {},
   "source": [
    "#### Edit veteran percents dataset"
   ]
  },
  {
   "cell_type": "code",
   "execution_count": null,
   "metadata": {},
   "outputs": [],
   "source": []
  },
  {
   "cell_type": "code",
   "execution_count": 3093,
   "metadata": {},
   "outputs": [],
   "source": [
    "veteran_percents = veteran_percents.replace({'-': np.nan})"
   ]
  },
  {
   "cell_type": "code",
   "execution_count": 3094,
   "metadata": {},
   "outputs": [],
   "source": [
    "# Change all veteran_percent columns to floats\n",
    "for i in veteran_percents.columns:\n",
    "    try:\n",
    "        veteran_percents[i] = veteran_percents[i].astype(float)\n",
    "    except:\n",
    "        continue"
   ]
  },
  {
   "cell_type": "code",
   "execution_count": 3095,
   "metadata": {},
   "outputs": [],
   "source": [
    "veteran_percents.rename(columns = {'Estimate!!Percent Veterans!!Civilian population 18 years and over' : 'Percent_Veterans'}, inplace=True)"
   ]
  },
  {
   "cell_type": "code",
   "execution_count": 3096,
   "metadata": {},
   "outputs": [],
   "source": [
    "veteran_percents = veteran_percents[['Percent_Veterans']]"
   ]
  },
  {
   "cell_type": "markdown",
   "metadata": {},
   "source": [
    "#### Edit worker class percents dataset"
   ]
  },
  {
   "cell_type": "code",
   "execution_count": 3097,
   "metadata": {},
   "outputs": [],
   "source": [
    "worker_class_percents = worker_class_percents.replace({'-': np.nan})"
   ]
  },
  {
   "cell_type": "code",
   "execution_count": 3098,
   "metadata": {},
   "outputs": [],
   "source": [
    "# Change all worker_class_percent columns to floats\n",
    "for i in worker_class_percents.columns:\n",
    "    try:\n",
    "        worker_class_percents[i] = worker_class_percents[i].astype(float)\n",
    "    except:\n",
    "        continue"
   ]
  },
  {
   "cell_type": "markdown",
   "metadata": {},
   "source": [
    "#### Edit marital percents dataset\n"
   ]
  },
  {
   "cell_type": "code",
   "execution_count": 3099,
   "metadata": {},
   "outputs": [],
   "source": [
    "marital_percents = marital_percents.replace({'-': np.nan})"
   ]
  },
  {
   "cell_type": "code",
   "execution_count": 3100,
   "metadata": {},
   "outputs": [],
   "source": [
    "# Change all marital_percent columns to floats\n",
    "for i in marital_percents.columns:\n",
    "    try:\n",
    "        marital_percents[i] = marital_percents[i].astype(float)\n",
    "    except:\n",
    "        continue"
   ]
  },
  {
   "cell_type": "markdown",
   "metadata": {},
   "source": [
    "####  Edit financial char percents dataset"
   ]
  },
  {
   "cell_type": "code",
   "execution_count": 3101,
   "metadata": {},
   "outputs": [],
   "source": [
    "financial_char_percents = financial_char_percents.replace({'-': np.nan})"
   ]
  },
  {
   "cell_type": "code",
   "execution_count": 3102,
   "metadata": {},
   "outputs": [],
   "source": [
    "# Change all financial_char_percent columns to floats\n",
    "for i in financial_char_percents.columns:\n",
    "    try:\n",
    "        financial_char_percents[i] = financial_char_percents[i].astype(float)\n",
    "    except:\n",
    "        continue"
   ]
  },
  {
   "cell_type": "code",
   "execution_count": 3103,
   "metadata": {},
   "outputs": [],
   "source": [
    "financial_char.rename(columns = {'Estimate!!Percent owner-occupied housing units!!Occupied housing units': 'Percent_Owner_Occupied'}, inplace=True)"
   ]
  },
  {
   "cell_type": "code",
   "execution_count": 3104,
   "metadata": {},
   "outputs": [],
   "source": [
    "financial_char.rename(columns = {'Estimate!!Percent occupied housing units!!Occupied housing units!!HOUSEHOLD INCOME IN THE PAST 12 MONTHS (IN 2018 INFLATION-ADJUSTED DOLLARS)!!Median household income (dollars)' : 'Median_HH_Income'}, inplace=True)"
   ]
  },
  {
   "cell_type": "code",
   "execution_count": 3105,
   "metadata": {},
   "outputs": [],
   "source": [
    "financial_char.rename(columns = {'Estimate!!Percent owner-occupied housing units!!Occupied housing units!!HOUSEHOLD INCOME IN THE PAST 12 MONTHS (IN 2018 INFLATION-ADJUSTED DOLLARS)!!Median household income (dollars)' : 'Median_Owner_HH_Income'}, inplace=True)"
   ]
  },
  {
   "cell_type": "code",
   "execution_count": 3106,
   "metadata": {},
   "outputs": [],
   "source": [
    "financial_char.rename(columns = { 'Estimate!!Percent renter-occupied housing units!!Occupied housing units!!HOUSEHOLD INCOME IN THE PAST 12 MONTHS (IN 2018 INFLATION-ADJUSTED DOLLARS)!!Median household income (dollars)' : 'Median_Renter_HH_Income'}, inplace=True)"
   ]
  },
  {
   "cell_type": "code",
   "execution_count": 3107,
   "metadata": {},
   "outputs": [],
   "source": [
    "financial_percents = financial_char[['Percent_Owner_Occupied', 'Median_HH_Income', 'Median_Owner_HH_Income', 'Median_Renter_HH_Income']]"
   ]
  },
  {
   "cell_type": "code",
   "execution_count": 3108,
   "metadata": {},
   "outputs": [],
   "source": [
    "financial_percents['Percent_Owner_Occupied'] = financial_percents['Percent_Owner_Occupied']*100"
   ]
  },
  {
   "cell_type": "markdown",
   "metadata": {},
   "source": [
    "#### Edit language percents dataset"
   ]
  },
  {
   "cell_type": "code",
   "execution_count": 3109,
   "metadata": {
    "scrolled": true
   },
   "outputs": [],
   "source": [
    "\n",
    "language_percents.rename(columns = {'Estimate!!Percent!!Population 5 years and over!!All citizens 18 years old and over!!Speak a language other than English!!Spanish' : \"Speaks_Spanish\"}, inplace=True)"
   ]
  },
  {
   "cell_type": "code",
   "execution_count": 3110,
   "metadata": {},
   "outputs": [],
   "source": [
    "language_percents.rename(columns = {'Estimate!!Percent!!Population 5 years and over!!Speak only English' : \"Speak_Only_English\"}, inplace=True)\n"
   ]
  },
  {
   "cell_type": "code",
   "execution_count": 3111,
   "metadata": {},
   "outputs": [],
   "source": [
    "language_percents.rename(columns = {'Estimate!!Percent!!Population 5 years and over!!Speak a language other than English' : \"Speaks_Other_Language\"}, inplace=True)"
   ]
  },
  {
   "cell_type": "code",
   "execution_count": 3112,
   "metadata": {},
   "outputs": [],
   "source": [
    "language_percents.rename(columns = {'Estimate!!Percent of specified language speakers!!Percent speak English less than very well\"!!Population 5 years and over\"' : \"Poor_English_Speaking\"}, inplace=True)"
   ]
  },
  {
   "cell_type": "code",
   "execution_count": 3113,
   "metadata": {},
   "outputs": [],
   "source": [
    "# Select just three columns\n",
    "\n",
    "language_percents = language_percents[['Speaks_Spanish', 'Speaks_Other_Language', 'Speak_Only_English', 'Poor_English_Speaking']]"
   ]
  },
  {
   "cell_type": "code",
   "execution_count": 3114,
   "metadata": {},
   "outputs": [],
   "source": [
    "language_percents = language_percents.replace({'-': np.nan})"
   ]
  },
  {
   "cell_type": "code",
   "execution_count": 3115,
   "metadata": {},
   "outputs": [],
   "source": [
    "# Change all languagepercent columns to floats\n",
    "for i in language_percents.columns:\n",
    "    try:\n",
    "        language_percents[i] = language_percents[i].astype(float)\n",
    "    except:\n",
    "        continue"
   ]
  },
  {
   "cell_type": "markdown",
   "metadata": {},
   "source": [
    "#### Edit transportation dataset"
   ]
  },
  {
   "cell_type": "code",
   "execution_count": 3116,
   "metadata": {},
   "outputs": [],
   "source": [
    "# Rename columns\n",
    "\n",
    "transportation.rename(columns = {'Estimate!!Total!!Workers 16 years and over!!MEANS OF TRANSPORTATION TO WORK!!Car, truck, or van' : 'Percent_Private_Vehicle'}, inplace=True)"
   ]
  },
  {
   "cell_type": "code",
   "execution_count": 3117,
   "metadata": {},
   "outputs": [],
   "source": [
    "transportation.rename(columns = {'Estimate!!Total!!Workers 16 years and over!!MEANS OF TRANSPORTATION TO WORK!!Public transportation (excluding taxicab)' : 'Percent_Public_Trans'}, inplace=True)"
   ]
  },
  {
   "cell_type": "code",
   "execution_count": 3118,
   "metadata": {},
   "outputs": [],
   "source": [
    "transportation.rename(columns = {'Estimate!!Total!!Workers 16 years and over!!MEANS OF TRANSPORTATION TO WORK!!Walked' : 'Percent_Walked'}, inplace=True)"
   ]
  },
  {
   "cell_type": "code",
   "execution_count": 3119,
   "metadata": {},
   "outputs": [],
   "source": [
    "transportation.rename(columns = {'Estimate!!Total!!Workers 16 years and over!!MEANS OF TRANSPORTATION TO WORK!!Worked at home' :'Percent_Remote_Work'}, inplace=True)"
   ]
  },
  {
   "cell_type": "code",
   "execution_count": 3120,
   "metadata": {},
   "outputs": [],
   "source": [
    "transportation.rename(columns = {'Estimate!!Total!!Workers 16 years and over who did not work at home!!TRAVEL TIME TO WORK!!Mean travel time to work (minutes)': 'Mean_Commute_Time'}, inplace=True)\n",
    "                                 "
   ]
  },
  {
   "cell_type": "code",
   "execution_count": 3121,
   "metadata": {},
   "outputs": [],
   "source": [
    "transportation_percents = transportation[['Percent_Private_Vehicle', 'Percent_Public_Trans', 'Percent_Walked', 'Percent_Remote_Work', 'Mean_Commute_Time']]"
   ]
  },
  {
   "cell_type": "code",
   "execution_count": 3122,
   "metadata": {},
   "outputs": [],
   "source": [
    "transportation_percents = transportation_percents.replace({'-': np.nan})"
   ]
  },
  {
   "cell_type": "code",
   "execution_count": 3123,
   "metadata": {},
   "outputs": [],
   "source": [
    "transportation_percents = transportation_percents.replace({'N': np.nan})"
   ]
  },
  {
   "cell_type": "code",
   "execution_count": 3124,
   "metadata": {},
   "outputs": [],
   "source": [
    "# Change all transportation_percent columns to floats\n",
    "for i in transportation_percents.columns:\n",
    "    try:\n",
    "        transportation_percents[i] = transportation_percents[i].astype(float)\n",
    "    except:\n",
    "        continue"
   ]
  },
  {
   "cell_type": "markdown",
   "metadata": {},
   "source": [
    "#### Edit Data Percents"
   ]
  },
  {
   "cell_type": "code",
   "execution_count": 3125,
   "metadata": {},
   "outputs": [],
   "source": [
    "data_percents.rename(columns={'Estimate!!Percent!!Total population!!AGE!!Under 5 years' : 'Percent_Under_5'}, inplace=True)"
   ]
  },
  {
   "cell_type": "code",
   "execution_count": 3126,
   "metadata": {},
   "outputs": [],
   "source": [
    "data_percents.rename(columns=  {'Estimate!!Percent!!Total population!!AGE!!5 to 9 years': 'Percent_5_to_9'}, inplace=True)\n",
    "data_percents.rename(columns = {'Estimate!!Percent!!Total population!!AGE!!10 to 14 years': 'Percent_10_to_14'}, inplace=True)\n",
    "data_percents.rename(columns = {'Estimate!!Percent!!Total population!!AGE!!15 to 19 years': 'Percent_15_to_19'}, inplace=True)\n",
    "data_percents.rename(columns = {'Estimate!!Percent!!Total population!!AGE!!20 to 24 years': 'Percent_20_to_24'}, inplace=True)\n",
    "data_percents.rename(columns = {'Estimate!!Percent!!Total population!!AGE!!25 to 29 years': 'Percent_25_to_29'}, inplace=True)\n",
    "data_percents.rename(columns = {'Estimate!!Percent!!Total population!!AGE!!30 to 34 years': 'Percent_30_to_34'}, inplace=True)\n",
    "data_percents.rename(columns = {'Estimate!!Percent!!Total population!!AGE!!35 to 39 years': 'Percent_35_to_39'}, inplace=True)\n",
    "data_percents.rename(columns = {'Estimate!!Percent!!Total population!!AGE!!40 to 44 years': 'Percent_40_to_44'}, inplace=True)\n",
    "data_percents.rename(columns = {'Estimate!!Percent!!Total population!!AGE!!45 to 49 years': 'Percent_45_to_49'}, inplace=True)\n",
    "data_percents.rename(columns = {'Estimate!!Percent!!Total population!!AGE!!50 to 54 years': 'Percent_50_to_54'}, inplace=True)\n",
    "data_percents.rename(columns = {'Estimate!!Percent!!Total population!!AGE!!55 to 59 years': 'Percent_55_to_59'}, inplace=True)\n",
    "data_percents.rename(columns = {'Estimate!!Percent!!Total population!!AGE!!60 to 64 years': 'Percent_60_to_64'}, inplace=True)\n",
    "data_percents.rename(columns = {'Estimate!!Percent!!Total population!!AGE!!65 to 69 years': 'Percent_65_to_69'}, inplace=True)\n",
    "data_percents.rename(columns = {'Estimate!!Percent!!Total population!!AGE!!70 to 74 years': 'Percent_70_to_74'}, inplace=True)\n",
    "data_percents.rename(columns = {'Estimate!!Percent!!Total population!!AGE!!75 to 79 years': 'Percent_75_to_79'}, inplace=True)\n",
    "data_percents.rename(columns = {'Estimate!!Percent!!Total population!!AGE!!80 to 84 years': 'Percent_80_to_84'}, inplace=True)\n",
    "data_percents.rename(columns = {'Estimate!!Percent!!Total population!!AGE!!85 years and over': 'Percent_85_Plus'}, inplace=True)\n"
   ]
  },
  {
   "cell_type": "code",
   "execution_count": 3127,
   "metadata": {},
   "outputs": [],
   "source": [
    "data_percents = data_percents[['total_pop', 'Percent_Under_5', 'Percent_5_to_9', \n",
    "                               'Percent_10_to_14', 'Percent_15_to_19', 'Percent_20_to_24', \n",
    "                               'Percent_25_to_29', 'Percent_30_to_34', 'Percent_35_to_39', \n",
    "                               'Percent_40_to_44', 'Percent_45_to_49', 'Percent_50_to_54', \n",
    "                               'Percent_55_to_59', 'Percent_60_to_64', 'Percent_65_to_69', \n",
    "                               'Percent_70_to_74', 'Percent_75_to_79', 'Percent_80_to_84', 'Percent_85_Plus']]"
   ]
  },
  {
   "cell_type": "markdown",
   "metadata": {},
   "source": [
    "#### Concatenate columns together based on \n"
   ]
  },
  {
   "cell_type": "code",
   "execution_count": 3128,
   "metadata": {},
   "outputs": [
    {
     "data": {
      "text/html": [
       "<div>\n",
       "<style scoped>\n",
       "    .dataframe tbody tr th:only-of-type {\n",
       "        vertical-align: middle;\n",
       "    }\n",
       "\n",
       "    .dataframe tbody tr th {\n",
       "        vertical-align: top;\n",
       "    }\n",
       "\n",
       "    .dataframe thead th {\n",
       "        text-align: right;\n",
       "    }\n",
       "</style>\n",
       "<table border=\"1\" class=\"dataframe\">\n",
       "  <thead>\n",
       "    <tr style=\"text-align: right;\">\n",
       "      <th></th>\n",
       "      <th>HPI_%_Annual_Change</th>\n",
       "      <th>HPI</th>\n",
       "    </tr>\n",
       "    <tr>\n",
       "      <th>zip</th>\n",
       "      <th></th>\n",
       "      <th></th>\n",
       "    </tr>\n",
       "  </thead>\n",
       "  <tbody>\n",
       "    <tr>\n",
       "      <th>01001</th>\n",
       "      <td>4.39</td>\n",
       "      <td>285.09</td>\n",
       "    </tr>\n",
       "    <tr>\n",
       "      <th>01002</th>\n",
       "      <td>7.71</td>\n",
       "      <td>408.00</td>\n",
       "    </tr>\n",
       "    <tr>\n",
       "      <th>01005</th>\n",
       "      <td>6.85</td>\n",
       "      <td>191.23</td>\n",
       "    </tr>\n",
       "    <tr>\n",
       "      <th>01007</th>\n",
       "      <td>5.35</td>\n",
       "      <td>302.99</td>\n",
       "    </tr>\n",
       "    <tr>\n",
       "      <th>01008</th>\n",
       "      <td>4.63</td>\n",
       "      <td>133.45</td>\n",
       "    </tr>\n",
       "  </tbody>\n",
       "</table>\n",
       "</div>"
      ],
      "text/plain": [
       "      HPI_%_Annual_Change     HPI\n",
       "zip                              \n",
       "01001  4.39                285.09\n",
       "01002  7.71                408.00\n",
       "01005  6.85                191.23\n",
       "01007  5.35                302.99\n",
       "01008  4.63                133.45"
      ]
     },
     "execution_count": 3128,
     "metadata": {},
     "output_type": "execute_result"
    }
   ],
   "source": [
    "real_estate_2019.head()"
   ]
  },
  {
   "cell_type": "code",
   "execution_count": 3129,
   "metadata": {},
   "outputs": [],
   "source": [
    "# Merge columns together\n",
    "# Add density if you want later\n",
    "\n",
    "final = pd.concat([data_percents, education_percents, employment_percents, language_percents, veteran_percents, transportation_percents, financial_percents, marital_percents, real_estate_2019, density, housing_char_percents, dem_char_percents], axis=1)"
   ]
  },
  {
   "cell_type": "code",
   "execution_count": 3130,
   "metadata": {},
   "outputs": [],
   "source": [
    "# Fix the remaining object datatypes in the final. Cut down zip codes less than 2000\n",
    "\n",
    "final['Median_HH_Income'] = final['Median_HH_Income'].replace({'-': np.nan})\n",
    "final['Median_HH_Income'] = final['Median_HH_Income'].replace({'2,500-': 2500.0})\n",
    "final['Median_HH_Income'] = final['Median_HH_Income'].replace({'250,000+': 250000.0})\n",
    "final['Median_HH_Income'] = final['Median_HH_Income'].astype(float)\n",
    "final['Median_Owner_HH_Income'] = final['Median_Owner_HH_Income'].replace({'-': np.nan})\n",
    "final['Median_Owner_HH_Income'] = final['Median_Owner_HH_Income'].replace({'2,500-': 2500.0})\n",
    "final['Median_Owner_HH_Income'] = final['Median_Owner_HH_Income'].replace({'250,000+': 250000.0})\n",
    "final['Median_Owner_HH_Income'] = final['Median_Owner_HH_Income'].astype(float)\n",
    "final['HPI_%_Annual_Change'] = final['HPI_%_Annual_Change'].replace({'.': np.nan})\n",
    "final['HPI_%_Annual_Change'] = final['HPI_%_Annual_Change'].astype(float)\n",
    "final['Median_Renter_HH_Income'] = final['Median_Renter_HH_Income'].replace({'-': np.nan})\n",
    "final['Median_Renter_HH_Income'] = final['Median_Renter_HH_Income'].replace({'2,500-': 2500.0})\n",
    "final['Median_Renter_HH_Income'] = final['Median_Renter_HH_Income'].replace({'250,000+': 250000.0})\n",
    "final['Median_Renter_HH_Income'] = final['Median_Renter_HH_Income'].astype(float)\n",
    "final['HPI'] = final['HPI'].replace({'.': np.nan})\n",
    "final['HPI'] = final['HPI'].astype(float)\n",
    "# Drop zip codes with fewer than 2000 people\n",
    "final = final[final['total_pop'] >= 2000]"
   ]
  },
  {
   "cell_type": "code",
   "execution_count": 3131,
   "metadata": {},
   "outputs": [],
   "source": [
    "# Save to csv\n",
    "\n",
    "final.to_csv('data/final.csv', index=False)"
   ]
  },
  {
   "cell_type": "markdown",
   "metadata": {},
   "source": [
    "## EDA"
   ]
  },
  {
   "cell_type": "code",
   "execution_count": 3132,
   "metadata": {},
   "outputs": [
    {
     "data": {
      "image/png": "[encoded data removed]",
      "text/plain": [
       "<Figure size 432x288 with 1 Axes>"
      ]
     },
     "metadata": {
      "needs_background": "light"
     },
     "output_type": "display_data"
    }
   ],
   "source": [
    "ax = sns.distplot(final['Mean_Commute_Time'])\n",
    "ax.set_title(\"Distribution: Mean Commute Time\");"
   ]
  },
  {
   "cell_type": "code",
   "execution_count": 3133,
   "metadata": {},
   "outputs": [
    {
     "data": {
      "text/plain": [
       "count    18633.000000\n",
       "mean     26.208571   \n",
       "std      6.567243    \n",
       "min      1.000000    \n",
       "25%      21.700000   \n",
       "50%      25.700000   \n",
       "75%      30.300000   \n",
       "max      64.200000   \n",
       "Name: Mean_Commute_Time, dtype: float64"
      ]
     },
     "execution_count": 3133,
     "metadata": {},
     "output_type": "execute_result"
    }
   ],
   "source": [
    "final['Mean_Commute_Time'].describe()"
   ]
  },
  {
   "cell_type": "code",
   "execution_count": 3134,
   "metadata": {},
   "outputs": [
    {
     "data": {
      "image/png": "[encoded data removed]",
      "text/plain": [
       "<Figure size 432x288 with 1 Axes>"
      ]
     },
     "metadata": {
      "needs_background": "light"
     },
     "output_type": "display_data"
    }
   ],
   "source": [
    "ax = sns.distplot(final['total_pop'])\n",
    "ax.set_title(\"Distribution: Total Population\");"
   ]
  },
  {
   "cell_type": "code",
   "execution_count": 3135,
   "metadata": {},
   "outputs": [
    {
     "data": {
      "image/png": "[encoded data removed]",
      "text/plain": [
       "<Figure size 432x288 with 1 Axes>"
      ]
     },
     "metadata": {},
     "output_type": "display_data"
    }
   ],
   "source": [
    "sns.set_palette(\"Dark2\")\n",
    "sns.set_style(\"dark\")\n",
    "ax = sns.regplot(x='Mean_Commute_Time', \n",
    "                 y='Median_HH_Income', data=final, line_kws= {\"color\": 'black'})\n",
    "ax.set_title(\"Mean Commute Time vs. Median Household Income\")\n",
    "ax.set_xlabel('Mean Commute Time')\n",
    "ax.set_ylabel('Median Household Income');"
   ]
  },
  {
   "cell_type": "code",
   "execution_count": 3136,
   "metadata": {},
   "outputs": [
    {
     "data": {
      "image/png": "[encoded data removed]",
      "text/plain": [
       "<Figure size 432x288 with 1 Axes>"
      ]
     },
     "metadata": {},
     "output_type": "display_data"
    }
   ],
   "source": [
    "ax = sns.regplot(x='Estimate!!Percent!!Population 25 years and over!!Graduate or professional degree', \n",
    "                 y='Median_HH_Income', data=final, line_kws= {\"color\": 'black'})\n",
    "ax.set_title(\"% with Graduate Degrees vs. Median Household Income\")\n",
    "ax.set_xlabel('Percent of Population 25+ with a Graduate or Professional Degree')\n",
    "ax.set_ylabel('Median Household Income');"
   ]
  },
  {
   "cell_type": "code",
   "execution_count": 3137,
   "metadata": {},
   "outputs": [
    {
     "data": {
      "image/png": "[encoded data removed]",
      "text/plain": [
       "<Figure size 432x288 with 1 Axes>"
      ]
     },
     "metadata": {},
     "output_type": "display_data"
    }
   ],
   "source": [
    "ax = sns.regplot(x = 'Estimate!!Divorced!!Population 15 years and over', y='Median_HH_Income', data=final, line_kws= {\"color\": 'black'})\n"
   ]
  },
  {
   "cell_type": "markdown",
   "metadata": {},
   "source": [
    "It appears that there is a negative correlation between Divorced Population and median household income"
   ]
  },
  {
   "cell_type": "code",
   "execution_count": 3138,
   "metadata": {},
   "outputs": [
    {
     "name": "stderr",
     "output_type": "stream",
     "text": [
      "*c* argument looks like a single numeric RGB or RGBA sequence, which should be avoided as value-mapping will have precedence in case its length matches with *x* & *y*.  Please use the *color* keyword-argument or provide a 2-D array with a single row if you intend to specify the same RGB or RGBA value for all points.\n"
     ]
    },
    {
     "data": {
      "image/png": "[encoded data removed]",
      "text/plain": [
       "<Figure size 432x288 with 1 Axes>"
      ]
     },
     "metadata": {},
     "output_type": "display_data"
    }
   ],
   "source": [
    "\n",
    "ax = final.plot.scatter(x='Poor_English_Speaking', y= 'Median_HH_Income')\n"
   ]
  },
  {
   "cell_type": "code",
   "execution_count": 3139,
   "metadata": {},
   "outputs": [
    {
     "name": "stderr",
     "output_type": "stream",
     "text": [
      "*c* argument looks like a single numeric RGB or RGBA sequence, which should be avoided as value-mapping will have precedence in case its length matches with *x* & *y*.  Please use the *color* keyword-argument or provide a 2-D array with a single row if you intend to specify the same RGB or RGBA value for all points.\n"
     ]
    },
    {
     "data": {
      "image/png": "[encoded data removed]",
      "text/plain": [
       "<Figure size 432x288 with 1 Axes>"
      ]
     },
     "metadata": {},
     "output_type": "display_data"
    }
   ],
   "source": [
    "ax = final.plot.scatter(x='HPI', y= 'HPI_%_Annual_Change')"
   ]
  },
  {
   "cell_type": "markdown",
   "metadata": {},
   "source": [
    "### Deal with NaNs"
   ]
  },
  {
   "cell_type": "markdown",
   "metadata": {},
   "source": [
    "Two options 1. Delete rows with missing values, 2. Impute values with missing values"
   ]
  },
  {
   "cell_type": "code",
   "execution_count": 3228,
   "metadata": {},
   "outputs": [],
   "source": [
    "final_del_nans = final.copy()"
   ]
  },
  {
   "cell_type": "code",
   "execution_count": 3229,
   "metadata": {},
   "outputs": [
    {
     "data": {
      "text/plain": [
       "(18654, 92)"
      ]
     },
     "execution_count": 3229,
     "metadata": {},
     "output_type": "execute_result"
    }
   ],
   "source": [
    "final_del_nans.shape"
   ]
  },
  {
   "cell_type": "code",
   "execution_count": 3230,
   "metadata": {},
   "outputs": [],
   "source": [
    "#HPI_change = final_del_nans['HPI_%_Annual_Change']"
   ]
  },
  {
   "cell_type": "code",
   "execution_count": 3231,
   "metadata": {},
   "outputs": [],
   "source": [
    "#final_del_nans.drop('HPI_%_Annual_Change', axis=1, inplace=True)"
   ]
  },
  {
   "cell_type": "code",
   "execution_count": 3232,
   "metadata": {},
   "outputs": [],
   "source": [
    "final_del_nans.dropna(axis=0, how='any', inplace=True)"
   ]
  },
  {
   "cell_type": "code",
   "execution_count": 3271,
   "metadata": {},
   "outputs": [
    {
     "data": {
      "text/plain": [
       "(14633, 92)"
      ]
     },
     "execution_count": 3271,
     "metadata": {},
     "output_type": "execute_result"
    }
   ],
   "source": [
    "final_del_nans.shape"
   ]
  },
  {
   "cell_type": "code",
   "execution_count": 3234,
   "metadata": {},
   "outputs": [],
   "source": [
    "scaler = StandardScaler()\n",
    "scaled = scaler.fit_transform(final_del_nans)"
   ]
  },
  {
   "cell_type": "code",
   "execution_count": 3235,
   "metadata": {},
   "outputs": [],
   "source": [
    "scaled = pd.DataFrame(scaled, index=final_del_nans.index, columns=final_del_nans.columns)"
   ]
  },
  {
   "cell_type": "code",
   "execution_count": 3236,
   "metadata": {},
   "outputs": [],
   "source": [
    "#similarity_matrix = linear_kernel(scaled, scaled)"
   ]
  },
  {
   "cell_type": "code",
   "execution_count": 3237,
   "metadata": {},
   "outputs": [],
   "source": [
    "cosine_matrix = cosine_similarity(scaled, scaled)"
   ]
  },
  {
   "cell_type": "code",
   "execution_count": 3238,
   "metadata": {},
   "outputs": [],
   "source": [
    "#euclidean_matrix = euclidean_distances(scaled, scaled)"
   ]
  },
  {
   "cell_type": "code",
   "execution_count": 3239,
   "metadata": {},
   "outputs": [],
   "source": [
    "\n",
    "mapping = pd.Series(scaled.reset_index().index, index = scaled.index)"
   ]
  },
  {
   "cell_type": "code",
   "execution_count": 3240,
   "metadata": {},
   "outputs": [],
   "source": [
    "# def recommend_zip_based_on_prev_zip(zip_input):\n",
    "#     zip_index = int(mapping[zip_input])\n",
    "#     #get similarity values with other zip codes\n",
    "#     #similarity_score is the list of index and similarity matrix\n",
    "#     similarity_score = list(enumerate(similarity_matrix[zip_index]))\n",
    "#     #sort in descending order the similarity score of zip inputted with all the other zip codes\n",
    "#     similarity_score = sorted(similarity_score, key=lambda x: x[1], reverse=True)\n",
    "#     # Get the scores of the 15 most similar zip codes. Ignore the first zip code.\n",
    "#     similarity_score = similarity_score[0:15]\n",
    "#     #return zip codes using the mapping series\n",
    "#     zip_indices = [i[0] for i in similarity_score]\n",
    "#     best = []\n",
    "#     for i in zip_indices:\n",
    "#         best.append(final_del_nans.reset_index().iloc[i][0])\n",
    "#     print(similarity_score)\n",
    "#     return best"
   ]
  },
  {
   "cell_type": "code",
   "execution_count": 3267,
   "metadata": {},
   "outputs": [],
   "source": [
    "def cosine_recommend_zip(zip_input, num=10, city=None, state=None):\n",
    "    zip_location = pd.read_csv('data/us-zip-code-latitude-and-longitude.csv', sep = ';')\n",
    "    zip_index = int(mapping[zip_input])\n",
    "    #get similarity values with other zip codes\n",
    "    #similarity_score is the list of index and similarity matrix\n",
    "    similarity_score = list(enumerate(cosine_matrix[zip_index]))\n",
    "    #sort in descending order the similarity score of zip inputted with all the other zip codes\n",
    "    similarity_score = sorted(similarity_score, key=lambda x: x[1], reverse=True)\n",
    "    # Get the scores of the 15 most similar zip codes. Ignore the first zip code.\n",
    "    #return zip codes using the mapping series\n",
    "    zip_indices = [i[0] for i in similarity_score]\n",
    "    #similarity_score = similarity_score[1:num+1]\n",
    "    print(similarity_score[1:10][:, 1])\n",
    "    best = []\n",
    "    for i in zip_indices:\n",
    "        best.append(int(final_del_nans.reset_index().iloc[i][0]))\n",
    "    df = pd.DataFrame(data = best, columns = ['Zip'])\n",
    "    merged = pd.merge(df,zip_location,on='Zip',how='inner')\n",
    "    merged = merged[['Zip', 'City', 'State']]\n",
    "    if city==None:\n",
    "        if state==None:\n",
    "            return merged[1:num+1]\n",
    "        else:\n",
    "            merged = merged[merged['State']==state]\n",
    "            return merged[0:num]\n",
    "    else:\n",
    "        if state==None:\n",
    "            print('You must enter a state with a city.')\n",
    "        else:\n",
    "            merged = merged[merged['State']==state]\n",
    "            merged = merged[merged['City']==city]\n",
    "            return merged[0:num]\n",
    "    \n",
    "  \n"
   ]
  },
  {
   "cell_type": "code",
   "execution_count": 3242,
   "metadata": {},
   "outputs": [],
   "source": [
    "# def euclidean_recommend_zip(zip_input):\n",
    "#     zip_location = pd.read_csv('data/us-zip-code-latitude-and-longitude.csv', sep = ';')\n",
    "#     zip_index = int(mapping[zip_input])\n",
    "#     #get similarity values with other zip codes\n",
    "#     #similarity_score is the list of index and similarity matrix\n",
    "#     similarity_score = list(enumerate(euclidean_matrix[zip_index]))\n",
    "#     #sort in descending order the similarity score of zip inputted with all the other zip codes\n",
    "#     similarity_score = sorted(similarity_score, key=lambda x: x[1], reverse=True)\n",
    "#     # Get the scores of the 15 most similar zip codes. Ignore the first zip code.\n",
    "#     similarity_score = similarity_score[1:20]\n",
    "#     #return zip codes using the mapping series\n",
    "#     zip_indices = [i[0] for i in similarity_score]\n",
    "#     best = []\n",
    "#     for i in zip_indices:\n",
    "#         best.append(int(final_del_nans.reset_index().iloc[i][0]))\n",
    "#     df = pd.DataFrame(data = best, columns = ['Zip'])\n",
    "#     merged = pd.merge(df,zip_location,on='Zip',how='inner')\n",
    "#     merged = merged[['Zip', 'City', 'State']]\n",
    "#     return merged"
   ]
  },
  {
   "cell_type": "code",
   "execution_count": 3268,
   "metadata": {
    "scrolled": false
   },
   "outputs": [
    {
     "name": "stdout",
     "output_type": "stream",
     "text": [
      "(3882, 0.8374917480125446)\n"
     ]
    },
    {
     "data": {
      "text/html": [
       "<div>\n",
       "<style scoped>\n",
       "    .dataframe tbody tr th:only-of-type {\n",
       "        vertical-align: middle;\n",
       "    }\n",
       "\n",
       "    .dataframe tbody tr th {\n",
       "        vertical-align: top;\n",
       "    }\n",
       "\n",
       "    .dataframe thead th {\n",
       "        text-align: right;\n",
       "    }\n",
       "</style>\n",
       "<table border=\"1\" class=\"dataframe\">\n",
       "  <thead>\n",
       "    <tr style=\"text-align: right;\">\n",
       "      <th></th>\n",
       "      <th>Zip</th>\n",
       "      <th>City</th>\n",
       "      <th>State</th>\n",
       "    </tr>\n",
       "  </thead>\n",
       "  <tbody>\n",
       "    <tr>\n",
       "      <th>1</th>\n",
       "      <td>77005</td>\n",
       "      <td>Houston</td>\n",
       "      <td>TX</td>\n",
       "    </tr>\n",
       "    <tr>\n",
       "      <th>2</th>\n",
       "      <td>28207</td>\n",
       "      <td>Charlotte</td>\n",
       "      <td>NC</td>\n",
       "    </tr>\n",
       "    <tr>\n",
       "      <th>3</th>\n",
       "      <td>30327</td>\n",
       "      <td>Atlanta</td>\n",
       "      <td>GA</td>\n",
       "    </tr>\n",
       "    <tr>\n",
       "      <th>4</th>\n",
       "      <td>75225</td>\n",
       "      <td>Dallas</td>\n",
       "      <td>TX</td>\n",
       "    </tr>\n",
       "    <tr>\n",
       "      <th>5</th>\n",
       "      <td>77024</td>\n",
       "      <td>Houston</td>\n",
       "      <td>TX</td>\n",
       "    </tr>\n",
       "    <tr>\n",
       "      <th>6</th>\n",
       "      <td>2481</td>\n",
       "      <td>Wellesley Hills</td>\n",
       "      <td>MA</td>\n",
       "    </tr>\n",
       "    <tr>\n",
       "      <th>7</th>\n",
       "      <td>80111</td>\n",
       "      <td>Englewood</td>\n",
       "      <td>CO</td>\n",
       "    </tr>\n",
       "    <tr>\n",
       "      <th>8</th>\n",
       "      <td>78746</td>\n",
       "      <td>Austin</td>\n",
       "      <td>TX</td>\n",
       "    </tr>\n",
       "    <tr>\n",
       "      <th>9</th>\n",
       "      <td>48009</td>\n",
       "      <td>Birmingham</td>\n",
       "      <td>MI</td>\n",
       "    </tr>\n",
       "    <tr>\n",
       "      <th>10</th>\n",
       "      <td>7940</td>\n",
       "      <td>Madison</td>\n",
       "      <td>NJ</td>\n",
       "    </tr>\n",
       "  </tbody>\n",
       "</table>\n",
       "</div>"
      ],
      "text/plain": [
       "      Zip             City State\n",
       "1   77005  Houston          TX  \n",
       "2   28207  Charlotte        NC  \n",
       "3   30327  Atlanta          GA  \n",
       "4   75225  Dallas           TX  \n",
       "5   77024  Houston          TX  \n",
       "6   2481   Wellesley Hills  MA  \n",
       "7   80111  Englewood        CO  \n",
       "8   78746  Austin           TX  \n",
       "9   48009  Birmingham       MI  \n",
       "10  7940   Madison          NJ  "
      ]
     },
     "execution_count": 3268,
     "metadata": {},
     "output_type": "execute_result"
    }
   ],
   "source": [
    "pd.set_option('display.max_rows', None)\n",
    "pd.set_option('display.max_columns', None)\n",
    "pd.set_option('display.width', None)\n",
    "cosine_recommend_zip('75205', 10, city=None, state=None)"
   ]
  },
  {
   "cell_type": "markdown",
   "metadata": {},
   "source": [
    "#### Map zip codes to cities"
   ]
  },
  {
   "cell_type": "code",
   "execution_count": 2140,
   "metadata": {},
   "outputs": [],
   "source": [
    "zip_location = pd.read_csv('data/us-zip-code-latitude-and-longitude.csv', sep = ';')"
   ]
  },
  {
   "cell_type": "markdown",
   "metadata": {},
   "source": [
    "#### What happens to the model if we remove features?"
   ]
  },
  {
   "cell_type": "markdown",
   "metadata": {},
   "source": [
    "#### Remove total population"
   ]
  },
  {
   "cell_type": "code",
   "execution_count": 2856,
   "metadata": {},
   "outputs": [],
   "source": [
    "final_no_pop = final_del_nans.drop('total_pop', axis=1)"
   ]
  },
  {
   "cell_type": "code",
   "execution_count": 2857,
   "metadata": {},
   "outputs": [],
   "source": [
    "scaler = StandardScaler()\n",
    "scaled = scaler.fit_transform(final_no_pop)\n"
   ]
  },
  {
   "cell_type": "code",
   "execution_count": 2858,
   "metadata": {},
   "outputs": [],
   "source": [
    "scaled = pd.DataFrame(scaled, index=final_no_pop.index, columns=final_no_pop.columns)"
   ]
  },
  {
   "cell_type": "code",
   "execution_count": 2859,
   "metadata": {},
   "outputs": [],
   "source": [
    "cosine_matrix = cosine_similarity(scaled, scaled)\n",
    "mapping = pd.Series(scaled.reset_index().index, index = scaled.index)"
   ]
  },
  {
   "cell_type": "code",
   "execution_count": 2860,
   "metadata": {},
   "outputs": [],
   "source": [
    "def cosine_recommend_zip(zip_input, num=10, city=None, state=None):\n",
    "    zip_location = pd.read_csv('data/us-zip-code-latitude-and-longitude.csv', sep = ';')\n",
    "    zip_index = int(mapping[zip_input])\n",
    "    #get similarity values with other zip codes\n",
    "    #similarity_score is the list of index and similarity matrix\n",
    "    similarity_score = list(enumerate(cosine_matrix[zip_index]))\n",
    "    #sort in descending order the similarity score of zip inputted with all the other zip codes\n",
    "    similarity_score = sorted(similarity_score, key=lambda x: x[1], reverse=True)\n",
    "    # Get the scores of the 15 most similar zip codes. Ignore the first zip code.\n",
    "    #return zip codes using the mapping series\n",
    "    zip_indices = [i[0] for i in similarity_score]\n",
    "    #similarity_score = similarity_score[1:num+1]\n",
    "    best = []\n",
    "    for i in zip_indices:\n",
    "        best.append(int(final_no_pop.reset_index().iloc[i][0]))\n",
    "    df = pd.DataFrame(data = best, columns = ['Zip'])\n",
    "    merged = pd.merge(df,zip_location,on='Zip',how='inner')\n",
    "    merged = merged[['Zip', 'City', 'State']]\n",
    "    if city==None:\n",
    "        if state==None:\n",
    "            return merged[1:num+1]\n",
    "        else:\n",
    "            merged = merged[merged['State']==state]\n",
    "            return merged[0:num]\n",
    "    else:\n",
    "        if state==None:\n",
    "            print('You must enter a state with a city.')\n",
    "        else:\n",
    "            merged = merged[merged['State']==state]\n",
    "            merged = merged[merged['City']==city]\n",
    "            return merged[0:num]"
   ]
  },
  {
   "cell_type": "code",
   "execution_count": 2861,
   "metadata": {},
   "outputs": [
    {
     "data": {
      "text/html": [
       "<div>\n",
       "<style scoped>\n",
       "    .dataframe tbody tr th:only-of-type {\n",
       "        vertical-align: middle;\n",
       "    }\n",
       "\n",
       "    .dataframe tbody tr th {\n",
       "        vertical-align: top;\n",
       "    }\n",
       "\n",
       "    .dataframe thead th {\n",
       "        text-align: right;\n",
       "    }\n",
       "</style>\n",
       "<table border=\"1\" class=\"dataframe\">\n",
       "  <thead>\n",
       "    <tr style=\"text-align: right;\">\n",
       "      <th></th>\n",
       "      <th>Zip</th>\n",
       "      <th>City</th>\n",
       "      <th>State</th>\n",
       "    </tr>\n",
       "  </thead>\n",
       "  <tbody>\n",
       "    <tr>\n",
       "      <th>51</th>\n",
       "      <td>78758</td>\n",
       "      <td>Austin</td>\n",
       "      <td>TX</td>\n",
       "    </tr>\n",
       "    <tr>\n",
       "      <th>68</th>\n",
       "      <td>78752</td>\n",
       "      <td>Austin</td>\n",
       "      <td>TX</td>\n",
       "    </tr>\n",
       "    <tr>\n",
       "      <th>223</th>\n",
       "      <td>78723</td>\n",
       "      <td>Austin</td>\n",
       "      <td>TX</td>\n",
       "    </tr>\n",
       "    <tr>\n",
       "      <th>224</th>\n",
       "      <td>78753</td>\n",
       "      <td>Austin</td>\n",
       "      <td>TX</td>\n",
       "    </tr>\n",
       "    <tr>\n",
       "      <th>248</th>\n",
       "      <td>78741</td>\n",
       "      <td>Austin</td>\n",
       "      <td>TX</td>\n",
       "    </tr>\n",
       "    <tr>\n",
       "      <th>550</th>\n",
       "      <td>78757</td>\n",
       "      <td>Austin</td>\n",
       "      <td>TX</td>\n",
       "    </tr>\n",
       "    <tr>\n",
       "      <th>583</th>\n",
       "      <td>78744</td>\n",
       "      <td>Austin</td>\n",
       "      <td>TX</td>\n",
       "    </tr>\n",
       "    <tr>\n",
       "      <th>588</th>\n",
       "      <td>78704</td>\n",
       "      <td>Austin</td>\n",
       "      <td>TX</td>\n",
       "    </tr>\n",
       "    <tr>\n",
       "      <th>657</th>\n",
       "      <td>78728</td>\n",
       "      <td>Austin</td>\n",
       "      <td>TX</td>\n",
       "    </tr>\n",
       "    <tr>\n",
       "      <th>691</th>\n",
       "      <td>78702</td>\n",
       "      <td>Austin</td>\n",
       "      <td>TX</td>\n",
       "    </tr>\n",
       "  </tbody>\n",
       "</table>\n",
       "</div>"
      ],
      "text/plain": [
       "       Zip    City State\n",
       "51   78758  Austin  TX  \n",
       "68   78752  Austin  TX  \n",
       "223  78723  Austin  TX  \n",
       "224  78753  Austin  TX  \n",
       "248  78741  Austin  TX  \n",
       "550  78757  Austin  TX  \n",
       "583  78744  Austin  TX  \n",
       "588  78704  Austin  TX  \n",
       "657  78728  Austin  TX  \n",
       "691  78702  Austin  TX  "
      ]
     },
     "execution_count": 2861,
     "metadata": {},
     "output_type": "execute_result"
    }
   ],
   "source": [
    "cosine_recommend_zip('01702', 10, city='Austin', state='TX')"
   ]
  },
  {
   "cell_type": "markdown",
   "metadata": {},
   "source": [
    "There was no change in the top 10 for Needham, MA 02492. For Dallas, 75205, there was no change in the top 4. The order of recommendations changes slightly after that, but the top 10 still consists of the same recommendations. For Woodinville, WA 98072 there was a slight change in order between the last two in the top 10, but otherwise the recommendations stayed the same. By including 40006, a smaller, less affluent town in Kentucky, we see that the impacts are also minimal. 02130 Jamaica Plain Boston just had a slight shift on the lower part of the top 10 recommendations."
   ]
  },
  {
   "cell_type": "markdown",
   "metadata": {},
   "source": [
    "### How does HH income impact? Remove median HH income (overall) and median HH income for owners and renters "
   ]
  },
  {
   "cell_type": "code",
   "execution_count": 2862,
   "metadata": {},
   "outputs": [],
   "source": [
    "final_no_income = final_del_nans.drop('Median_HH_Income', axis=1)\n",
    "final_no_income = final_no_income.drop('Median_Owner_HH_Income', axis=1)\n",
    "final_no_income = final_no_income.drop('Median_Renter_HH_Income', axis=1)"
   ]
  },
  {
   "cell_type": "code",
   "execution_count": 2863,
   "metadata": {},
   "outputs": [],
   "source": [
    "scaler = StandardScaler()\n",
    "scaled = scaler.fit_transform(final_no_income)\n",
    "scaled = pd.DataFrame(scaled, index=final_no_income.index, columns=final_no_income.columns)\n",
    "cosine_matrix = cosine_similarity(scaled, scaled)\n",
    "mapping = pd.Series(scaled.reset_index().index, index = scaled.index)"
   ]
  },
  {
   "cell_type": "code",
   "execution_count": 2864,
   "metadata": {},
   "outputs": [],
   "source": [
    "def cosine_recommend_zip(zip_input, num=10, city=None, state=None):\n",
    "    zip_location = pd.read_csv('data/us-zip-code-latitude-and-longitude.csv', sep = ';')\n",
    "    zip_index = int(mapping[zip_input])\n",
    "    #get similarity values with other zip codes\n",
    "    #similarity_score is the list of index and similarity matrix\n",
    "    similarity_score = list(enumerate(cosine_matrix[zip_index]))\n",
    "    #sort in descending order the similarity score of zip inputted with all the other zip codes\n",
    "    similarity_score = sorted(similarity_score, key=lambda x: x[1], reverse=True)\n",
    "    # Get the scores of the 15 most similar zip codes. Ignore the first zip code.\n",
    "    #return zip codes using the mapping series\n",
    "    zip_indices = [i[0] for i in similarity_score]\n",
    "    #similarity_score = similarity_score[1:num+1]\n",
    "    best = []\n",
    "    for i in zip_indices:\n",
    "        best.append(int(final_no_income.reset_index().iloc[i][0]))\n",
    "    df = pd.DataFrame(data = best, columns = ['Zip'])\n",
    "    merged = pd.merge(df,zip_location,on='Zip',how='inner')\n",
    "    merged = merged[['Zip', 'City', 'State']]\n",
    "    if city==None:\n",
    "        if state==None:\n",
    "            return merged[1:num+1]\n",
    "        else:\n",
    "            merged = merged[merged['State']==state]\n",
    "            return merged[0:num]\n",
    "    else:\n",
    "        if state==None:\n",
    "            print('You must enter a state with a city.')\n",
    "        else:\n",
    "            merged = merged[merged['State']==state]\n",
    "            merged = merged[merged['City']==city]\n",
    "            return merged[0:num]"
   ]
  },
  {
   "cell_type": "code",
   "execution_count": 2865,
   "metadata": {},
   "outputs": [
    {
     "data": {
      "text/html": [
       "<div>\n",
       "<style scoped>\n",
       "    .dataframe tbody tr th:only-of-type {\n",
       "        vertical-align: middle;\n",
       "    }\n",
       "\n",
       "    .dataframe tbody tr th {\n",
       "        vertical-align: top;\n",
       "    }\n",
       "\n",
       "    .dataframe thead th {\n",
       "        text-align: right;\n",
       "    }\n",
       "</style>\n",
       "<table border=\"1\" class=\"dataframe\">\n",
       "  <thead>\n",
       "    <tr style=\"text-align: right;\">\n",
       "      <th></th>\n",
       "      <th>Zip</th>\n",
       "      <th>City</th>\n",
       "      <th>State</th>\n",
       "    </tr>\n",
       "  </thead>\n",
       "  <tbody>\n",
       "    <tr>\n",
       "      <th>48</th>\n",
       "      <td>78758</td>\n",
       "      <td>Austin</td>\n",
       "      <td>TX</td>\n",
       "    </tr>\n",
       "    <tr>\n",
       "      <th>75</th>\n",
       "      <td>78752</td>\n",
       "      <td>Austin</td>\n",
       "      <td>TX</td>\n",
       "    </tr>\n",
       "    <tr>\n",
       "      <th>212</th>\n",
       "      <td>78753</td>\n",
       "      <td>Austin</td>\n",
       "      <td>TX</td>\n",
       "    </tr>\n",
       "    <tr>\n",
       "      <th>230</th>\n",
       "      <td>78723</td>\n",
       "      <td>Austin</td>\n",
       "      <td>TX</td>\n",
       "    </tr>\n",
       "    <tr>\n",
       "      <th>239</th>\n",
       "      <td>78741</td>\n",
       "      <td>Austin</td>\n",
       "      <td>TX</td>\n",
       "    </tr>\n",
       "    <tr>\n",
       "      <th>550</th>\n",
       "      <td>78744</td>\n",
       "      <td>Austin</td>\n",
       "      <td>TX</td>\n",
       "    </tr>\n",
       "    <tr>\n",
       "      <th>589</th>\n",
       "      <td>78704</td>\n",
       "      <td>Austin</td>\n",
       "      <td>TX</td>\n",
       "    </tr>\n",
       "    <tr>\n",
       "      <th>590</th>\n",
       "      <td>78757</td>\n",
       "      <td>Austin</td>\n",
       "      <td>TX</td>\n",
       "    </tr>\n",
       "    <tr>\n",
       "      <th>730</th>\n",
       "      <td>78728</td>\n",
       "      <td>Austin</td>\n",
       "      <td>TX</td>\n",
       "    </tr>\n",
       "    <tr>\n",
       "      <th>737</th>\n",
       "      <td>78702</td>\n",
       "      <td>Austin</td>\n",
       "      <td>TX</td>\n",
       "    </tr>\n",
       "  </tbody>\n",
       "</table>\n",
       "</div>"
      ],
      "text/plain": [
       "       Zip    City State\n",
       "48   78758  Austin  TX  \n",
       "75   78752  Austin  TX  \n",
       "212  78753  Austin  TX  \n",
       "230  78723  Austin  TX  \n",
       "239  78741  Austin  TX  \n",
       "550  78744  Austin  TX  \n",
       "589  78704  Austin  TX  \n",
       "590  78757  Austin  TX  \n",
       "730  78728  Austin  TX  \n",
       "737  78702  Austin  TX  "
      ]
     },
     "execution_count": 2865,
     "metadata": {},
     "output_type": "execute_result"
    }
   ],
   "source": [
    "cosine_recommend_zip('01702', 10, city='Austin', state='TX')"
   ]
  },
  {
   "cell_type": "markdown",
   "metadata": {},
   "source": [
    "Like total population, removing household income from the recommender had little impact on the recommendations. For Woodinville, 98072, the top 4 remained in the same place. The top 10 had all of the same recommendations except for one; what was number 11 in the original recommender jumped up to the 7th spot after removing income. For 75205 Dallas, 1 & 2 switched places. Most notably, 5 in the original dropped to 12. Looking at 40006, Bedford, KY, we also see minimal impact. 02130 Jamaica Plain Boston just had a slight shift in order."
   ]
  },
  {
   "cell_type": "markdown",
   "metadata": {},
   "source": [
    "#### Remove HPI to see impact"
   ]
  },
  {
   "cell_type": "code",
   "execution_count": 2866,
   "metadata": {},
   "outputs": [],
   "source": [
    "final_no_HPI = final_del_nans.drop('HPI', axis=1)\n",
    "scaler = StandardScaler()\n",
    "scaled = scaler.fit_transform(final_no_HPI)\n",
    "scaled = pd.DataFrame(scaled, index=final_no_HPI.index, columns=final_no_HPI.columns)\n",
    "cosine_matrix = cosine_similarity(scaled, scaled)\n",
    "mapping = pd.Series(scaled.reset_index().index, index = scaled.index)"
   ]
  },
  {
   "cell_type": "code",
   "execution_count": 2867,
   "metadata": {},
   "outputs": [],
   "source": [
    "def cosine_recommend_zip(zip_input, num=10, city=None, state=None):\n",
    "    zip_location = pd.read_csv('data/us-zip-code-latitude-and-longitude.csv', sep = ';')\n",
    "    zip_index = int(mapping[zip_input])\n",
    "    #get similarity values with other zip codes\n",
    "    #similarity_score is the list of index and similarity matrix\n",
    "    similarity_score = list(enumerate(cosine_matrix[zip_index]))\n",
    "    #sort in descending order the similarity score of zip inputted with all the other zip codes\n",
    "    similarity_score = sorted(similarity_score, key=lambda x: x[1], reverse=True)\n",
    "    # Get the scores of the 15 most similar zip codes. Ignore the first zip code.\n",
    "    #return zip codes using the mapping series\n",
    "    zip_indices = [i[0] for i in similarity_score]\n",
    "    #similarity_score = similarity_score[1:num+1]\n",
    "    best = []\n",
    "    for i in zip_indices:\n",
    "        best.append(int(final_no_HPI.reset_index().iloc[i][0]))\n",
    "    df = pd.DataFrame(data = best, columns = ['Zip'])\n",
    "    merged = pd.merge(df,zip_location,on='Zip',how='inner')\n",
    "    merged = merged[['Zip', 'City', 'State']]\n",
    "    if city==None:\n",
    "        if state==None:\n",
    "            return merged[1:num+1]\n",
    "        else:\n",
    "            merged = merged[merged['State']==state]\n",
    "            return merged[0:num]\n",
    "    else:\n",
    "        if state==None:\n",
    "            print('You must enter a state with a city.')\n",
    "        else:\n",
    "            merged = merged[merged['State']==state]\n",
    "            merged = merged[merged['City']==city]\n",
    "            return merged[0:num]"
   ]
  },
  {
   "cell_type": "code",
   "execution_count": 2868,
   "metadata": {},
   "outputs": [
    {
     "data": {
      "text/html": [
       "<div>\n",
       "<style scoped>\n",
       "    .dataframe tbody tr th:only-of-type {\n",
       "        vertical-align: middle;\n",
       "    }\n",
       "\n",
       "    .dataframe tbody tr th {\n",
       "        vertical-align: top;\n",
       "    }\n",
       "\n",
       "    .dataframe thead th {\n",
       "        text-align: right;\n",
       "    }\n",
       "</style>\n",
       "<table border=\"1\" class=\"dataframe\">\n",
       "  <thead>\n",
       "    <tr style=\"text-align: right;\">\n",
       "      <th></th>\n",
       "      <th>Zip</th>\n",
       "      <th>City</th>\n",
       "      <th>State</th>\n",
       "    </tr>\n",
       "  </thead>\n",
       "  <tbody>\n",
       "    <tr>\n",
       "      <th>56</th>\n",
       "      <td>78758</td>\n",
       "      <td>Austin</td>\n",
       "      <td>TX</td>\n",
       "    </tr>\n",
       "    <tr>\n",
       "      <th>87</th>\n",
       "      <td>78752</td>\n",
       "      <td>Austin</td>\n",
       "      <td>TX</td>\n",
       "    </tr>\n",
       "    <tr>\n",
       "      <th>212</th>\n",
       "      <td>78723</td>\n",
       "      <td>Austin</td>\n",
       "      <td>TX</td>\n",
       "    </tr>\n",
       "    <tr>\n",
       "      <th>236</th>\n",
       "      <td>78753</td>\n",
       "      <td>Austin</td>\n",
       "      <td>TX</td>\n",
       "    </tr>\n",
       "    <tr>\n",
       "      <th>258</th>\n",
       "      <td>78741</td>\n",
       "      <td>Austin</td>\n",
       "      <td>TX</td>\n",
       "    </tr>\n",
       "    <tr>\n",
       "      <th>436</th>\n",
       "      <td>78757</td>\n",
       "      <td>Austin</td>\n",
       "      <td>TX</td>\n",
       "    </tr>\n",
       "    <tr>\n",
       "      <th>552</th>\n",
       "      <td>78704</td>\n",
       "      <td>Austin</td>\n",
       "      <td>TX</td>\n",
       "    </tr>\n",
       "    <tr>\n",
       "      <th>584</th>\n",
       "      <td>78744</td>\n",
       "      <td>Austin</td>\n",
       "      <td>TX</td>\n",
       "    </tr>\n",
       "    <tr>\n",
       "      <th>707</th>\n",
       "      <td>78728</td>\n",
       "      <td>Austin</td>\n",
       "      <td>TX</td>\n",
       "    </tr>\n",
       "    <tr>\n",
       "      <th>749</th>\n",
       "      <td>78745</td>\n",
       "      <td>Austin</td>\n",
       "      <td>TX</td>\n",
       "    </tr>\n",
       "  </tbody>\n",
       "</table>\n",
       "</div>"
      ],
      "text/plain": [
       "       Zip    City State\n",
       "56   78758  Austin  TX  \n",
       "87   78752  Austin  TX  \n",
       "212  78723  Austin  TX  \n",
       "236  78753  Austin  TX  \n",
       "258  78741  Austin  TX  \n",
       "436  78757  Austin  TX  \n",
       "552  78704  Austin  TX  \n",
       "584  78744  Austin  TX  \n",
       "707  78728  Austin  TX  \n",
       "749  78745  Austin  TX  "
      ]
     },
     "execution_count": 2868,
     "metadata": {},
     "output_type": "execute_result"
    }
   ],
   "source": [
    "cosine_recommend_zip('01702', 10, city='Austin', state='TX')"
   ]
  },
  {
   "cell_type": "markdown",
   "metadata": {},
   "source": [
    "For 75205 Dallas, a zip code with a very high HPI, the top 4 remained the same. 5 moved down to 6 and was replaced with Little Rock, AR, which previously was not in the top 10 (only in the top 20). This is likely because this area of Little Rock has a much lower HPI. There is nearly no impact on 40006 Bedford KY, a zip code with a low HPI. Needham 02492 had minimal impact as well. 02130 Jamaica Plain Boston had little impact as well, although Berkeley, CA now moved into the top 10 at the expense of Union City, NJ."
   ]
  },
  {
   "cell_type": "markdown",
   "metadata": {},
   "source": [
    "#### Remove Education Characteristics"
   ]
  },
  {
   "cell_type": "code",
   "execution_count": 2869,
   "metadata": {},
   "outputs": [],
   "source": [
    "# Merge columns together\n",
    "# Add density if you want later\n",
    "\n",
    "final_no_edu = pd.concat([data_percents, employment_percents, language_percents, veteran_percents, transportation_percents, financial_percents, marital_percents, real_estate_2019, density, housing_char_percents, dem_char_percents], axis=1)\n"
   ]
  },
  {
   "cell_type": "code",
   "execution_count": 2870,
   "metadata": {},
   "outputs": [],
   "source": [
    "final_no_edu['Median_HH_Income'] = final_no_edu['Median_HH_Income'].replace({'-': np.nan})\n",
    "final_no_edu['Median_HH_Income'] = final_no_edu['Median_HH_Income'].replace({'2,500-': 2500.0})\n",
    "final_no_edu['Median_HH_Income'] = final_no_edu['Median_HH_Income'].replace({'250,000+': 250000.0})\n",
    "final_no_edu['Median_HH_Income'] = final_no_edu['Median_HH_Income'].astype(float)\n",
    "final_no_edu['Median_Owner_HH_Income'] = final_no_edu['Median_Owner_HH_Income'].replace({'-': np.nan})\n",
    "final_no_edu['Median_Owner_HH_Income'] = final_no_edu['Median_Owner_HH_Income'].replace({'2,500-': 2500.0})\n",
    "final_no_edu['Median_Owner_HH_Income'] = final_no_edu['Median_Owner_HH_Income'].replace({'250,000+': 250000.0})\n",
    "final_no_edu['Median_Owner_HH_Income'] = final_no_edu['Median_Owner_HH_Income'].astype(float)\n",
    "final_no_edu['HPI_%_Annual_Change'] = final_no_edu['HPI_%_Annual_Change'].replace({'.': np.nan})\n",
    "final_no_edu['HPI_%_Annual_Change'] = final_no_edu['HPI_%_Annual_Change'].astype(float)\n",
    "final_no_edu['Median_Renter_HH_Income'] = final_no_edu['Median_Renter_HH_Income'].replace({'-': np.nan})\n",
    "final_no_edu['Median_Renter_HH_Income'] = final_no_edu['Median_Renter_HH_Income'].replace({'2,500-': 2500.0})\n",
    "final_no_edu['Median_Renter_HH_Income'] = final_no_edu['Median_Renter_HH_Income'].replace({'250,000+': 250000.0})\n",
    "final_no_edu['Median_Renter_HH_Income'] = final_no_edu['Median_Renter_HH_Income'].astype(float)\n",
    "final_no_edu['HPI'] = final_no_edu['HPI'].replace({'.': np.nan})\n",
    "final_no_edu['HPI'] = final_no_edu['HPI'].astype(float)\n",
    "# Drop zip codes with fewer than 2000 people\n",
    "final_no_edu = final_no_edu[final_no_edu['total_pop'] >= 2000]"
   ]
  },
  {
   "cell_type": "code",
   "execution_count": 2871,
   "metadata": {},
   "outputs": [],
   "source": [
    "final_no_edu.dropna(axis=0, how='any', inplace=True)"
   ]
  },
  {
   "cell_type": "code",
   "execution_count": 2872,
   "metadata": {},
   "outputs": [],
   "source": [
    "scaler = StandardScaler()\n",
    "scaled = scaler.fit_transform(final_no_edu)\n",
    "scaled = pd.DataFrame(scaled, index=final_no_edu.index, columns=final_no_edu.columns)\n",
    "cosine_matrix = cosine_similarity(scaled, scaled)\n",
    "mapping = pd.Series(scaled.reset_index().index, index = scaled.index)"
   ]
  },
  {
   "cell_type": "code",
   "execution_count": 2873,
   "metadata": {},
   "outputs": [],
   "source": [
    "def cosine_recommend_zip(zip_input, num=10, city=None, state=None):\n",
    "    zip_location = pd.read_csv('data/us-zip-code-latitude-and-longitude.csv', sep = ';')\n",
    "    zip_index = int(mapping[zip_input])\n",
    "    #get similarity values with other zip codes\n",
    "    #similarity_score is the list of index and similarity matrix\n",
    "    similarity_score = list(enumerate(cosine_matrix[zip_index]))\n",
    "    #sort in descending order the similarity score of zip inputted with all the other zip codes\n",
    "    similarity_score = sorted(similarity_score, key=lambda x: x[1], reverse=True)\n",
    "    # Get the scores of the 15 most similar zip codes. Ignore the first zip code.\n",
    "    #return zip codes using the mapping series\n",
    "    zip_indices = [i[0] for i in similarity_score]\n",
    "    #similarity_score = similarity_score[1:num+1]\n",
    "    best = []\n",
    "    for i in zip_indices:\n",
    "        best.append(int(final_no_edu.reset_index().iloc[i][0]))\n",
    "    df = pd.DataFrame(data = best, columns = ['Zip'])\n",
    "    merged = pd.merge(df,zip_location,on='Zip',how='inner')\n",
    "    merged = merged[['Zip', 'City', 'State']]\n",
    "    if city==None:\n",
    "        if state==None:\n",
    "            return merged[1:num+1]\n",
    "        else:\n",
    "            merged = merged[merged['State']==state]\n",
    "            return merged[0:num]\n",
    "    else:\n",
    "        if state==None:\n",
    "            print('You must enter a state with a city.')\n",
    "        else:\n",
    "            merged = merged[merged['State']==state]\n",
    "            merged = merged[merged['City']==city]\n",
    "            return merged[0:num]"
   ]
  },
  {
   "cell_type": "code",
   "execution_count": 2874,
   "metadata": {},
   "outputs": [
    {
     "data": {
      "text/html": [
       "<div>\n",
       "<style scoped>\n",
       "    .dataframe tbody tr th:only-of-type {\n",
       "        vertical-align: middle;\n",
       "    }\n",
       "\n",
       "    .dataframe tbody tr th {\n",
       "        vertical-align: top;\n",
       "    }\n",
       "\n",
       "    .dataframe thead th {\n",
       "        text-align: right;\n",
       "    }\n",
       "</style>\n",
       "<table border=\"1\" class=\"dataframe\">\n",
       "  <thead>\n",
       "    <tr style=\"text-align: right;\">\n",
       "      <th></th>\n",
       "      <th>Zip</th>\n",
       "      <th>City</th>\n",
       "      <th>State</th>\n",
       "    </tr>\n",
       "  </thead>\n",
       "  <tbody>\n",
       "    <tr>\n",
       "      <th>82</th>\n",
       "      <td>78758</td>\n",
       "      <td>Austin</td>\n",
       "      <td>TX</td>\n",
       "    </tr>\n",
       "    <tr>\n",
       "      <th>112</th>\n",
       "      <td>78752</td>\n",
       "      <td>Austin</td>\n",
       "      <td>TX</td>\n",
       "    </tr>\n",
       "    <tr>\n",
       "      <th>201</th>\n",
       "      <td>78753</td>\n",
       "      <td>Austin</td>\n",
       "      <td>TX</td>\n",
       "    </tr>\n",
       "    <tr>\n",
       "      <th>321</th>\n",
       "      <td>78741</td>\n",
       "      <td>Austin</td>\n",
       "      <td>TX</td>\n",
       "    </tr>\n",
       "    <tr>\n",
       "      <th>342</th>\n",
       "      <td>78723</td>\n",
       "      <td>Austin</td>\n",
       "      <td>TX</td>\n",
       "    </tr>\n",
       "    <tr>\n",
       "      <th>529</th>\n",
       "      <td>78744</td>\n",
       "      <td>Austin</td>\n",
       "      <td>TX</td>\n",
       "    </tr>\n",
       "    <tr>\n",
       "      <th>579</th>\n",
       "      <td>78757</td>\n",
       "      <td>Austin</td>\n",
       "      <td>TX</td>\n",
       "    </tr>\n",
       "    <tr>\n",
       "      <th>608</th>\n",
       "      <td>78704</td>\n",
       "      <td>Austin</td>\n",
       "      <td>TX</td>\n",
       "    </tr>\n",
       "    <tr>\n",
       "      <th>714</th>\n",
       "      <td>78728</td>\n",
       "      <td>Austin</td>\n",
       "      <td>TX</td>\n",
       "    </tr>\n",
       "    <tr>\n",
       "      <th>856</th>\n",
       "      <td>78745</td>\n",
       "      <td>Austin</td>\n",
       "      <td>TX</td>\n",
       "    </tr>\n",
       "  </tbody>\n",
       "</table>\n",
       "</div>"
      ],
      "text/plain": [
       "       Zip    City State\n",
       "82   78758  Austin  TX  \n",
       "112  78752  Austin  TX  \n",
       "201  78753  Austin  TX  \n",
       "321  78741  Austin  TX  \n",
       "342  78723  Austin  TX  \n",
       "529  78744  Austin  TX  \n",
       "579  78757  Austin  TX  \n",
       "608  78704  Austin  TX  \n",
       "714  78728  Austin  TX  \n",
       "856  78745  Austin  TX  "
      ]
     },
     "execution_count": 2874,
     "metadata": {},
     "output_type": "execute_result"
    }
   ],
   "source": [
    "cosine_recommend_zip('01702', 10, city='Austin', state='TX')"
   ]
  },
  {
   "cell_type": "markdown",
   "metadata": {},
   "source": [
    "Removing education columns caused one new zip code to hit the top 10 for Jamaica Plain. 75205 Dallas had a shift around the top 4, and some new additions to the top 10. Woodinville 98072 had a few new additions to the top 10 as well. Removing education had a slightly bigger impact on 40006 Bedford KY; Winlock, WA took the 3rd spot and was not in the top 10 at all before."
   ]
  },
  {
   "cell_type": "markdown",
   "metadata": {},
   "source": [
    "#### Remove Employment Characteristics"
   ]
  },
  {
   "cell_type": "code",
   "execution_count": 2875,
   "metadata": {},
   "outputs": [],
   "source": [
    "final_no_emp = pd.concat([data_percents, education_percents, language_percents, veteran_percents, transportation_percents, financial_percents, marital_percents, real_estate_2019, density, housing_char_percents, dem_char_percents], axis=1)\n"
   ]
  },
  {
   "cell_type": "code",
   "execution_count": 2876,
   "metadata": {},
   "outputs": [],
   "source": [
    "final_no_emp['Median_HH_Income'] = final_no_emp['Median_HH_Income'].replace({'-': np.nan})\n",
    "final_no_emp['Median_HH_Income'] = final_no_emp['Median_HH_Income'].replace({'2,500-': 2500.0})\n",
    "final_no_emp['Median_HH_Income'] = final_no_emp['Median_HH_Income'].replace({'250,000+': 250000.0})\n",
    "final_no_emp['Median_HH_Income'] = final_no_emp['Median_HH_Income'].astype(float)\n",
    "final_no_emp['Median_Owner_HH_Income'] = final_no_emp['Median_Owner_HH_Income'].replace({'-': np.nan})\n",
    "final_no_emp['Median_Owner_HH_Income'] = final_no_emp['Median_Owner_HH_Income'].replace({'2,500-': 2500.0})\n",
    "final_no_emp['Median_Owner_HH_Income'] = final_no_emp['Median_Owner_HH_Income'].replace({'250,000+': 250000.0})\n",
    "final_no_emp['Median_Owner_HH_Income'] = final_no_emp['Median_Owner_HH_Income'].astype(float)\n",
    "final_no_emp['HPI_%_Annual_Change'] = final_no_emp['HPI_%_Annual_Change'].replace({'.': np.nan})\n",
    "final_no_emp['HPI_%_Annual_Change'] = final_no_emp['HPI_%_Annual_Change'].astype(float)\n",
    "final_no_emp['Median_Renter_HH_Income'] = final_no_emp['Median_Renter_HH_Income'].replace({'-': np.nan})\n",
    "final_no_emp['Median_Renter_HH_Income'] = final_no_emp['Median_Renter_HH_Income'].replace({'2,500-': 2500.0})\n",
    "final_no_emp['Median_Renter_HH_Income'] = final_no_emp['Median_Renter_HH_Income'].replace({'250,000+': 250000.0})\n",
    "final_no_emp['Median_Renter_HH_Income'] = final_no_emp['Median_Renter_HH_Income'].astype(float)\n",
    "final_no_emp['HPI'] = final_no_emp['HPI'].replace({'.': np.nan})\n",
    "final_no_emp['HPI'] = final_no_emp['HPI'].astype(float)\n",
    "# Drop zip codes with fewer than 2000 people\n",
    "final_no_emp = final_no_emp[final_no_emp['total_pop'] >= 2000]"
   ]
  },
  {
   "cell_type": "code",
   "execution_count": 2877,
   "metadata": {},
   "outputs": [],
   "source": [
    "final_no_emp.dropna(axis=0, how='any', inplace=True)"
   ]
  },
  {
   "cell_type": "code",
   "execution_count": 2878,
   "metadata": {},
   "outputs": [],
   "source": [
    "scaler = StandardScaler()\n",
    "scaled = scaler.fit_transform(final_no_emp)\n",
    "scaled = pd.DataFrame(scaled, index=final_no_emp.index, columns=final_no_emp.columns)\n",
    "cosine_matrix = cosine_similarity(scaled, scaled)\n",
    "mapping = pd.Series(scaled.reset_index().index, index = scaled.index)"
   ]
  },
  {
   "cell_type": "code",
   "execution_count": 2879,
   "metadata": {},
   "outputs": [],
   "source": [
    "def cosine_recommend_zip(zip_input, num=10, city=None, state=None):\n",
    "    zip_location = pd.read_csv('data/us-zip-code-latitude-and-longitude.csv', sep = ';')\n",
    "    zip_index = int(mapping[zip_input])\n",
    "    #get similarity values with other zip codes\n",
    "    #similarity_score is the list of index and similarity matrix\n",
    "    similarity_score = list(enumerate(cosine_matrix[zip_index]))\n",
    "    #sort in descending order the similarity score of zip inputted with all the other zip codes\n",
    "    similarity_score = sorted(similarity_score, key=lambda x: x[1], reverse=True)\n",
    "    # Get the scores of the 15 most similar zip codes. Ignore the first zip code.\n",
    "    #return zip codes using the mapping series\n",
    "    zip_indices = [i[0] for i in similarity_score]\n",
    "    #similarity_score = similarity_score[1:num+1]\n",
    "    best = []\n",
    "    for i in zip_indices:\n",
    "        best.append(int(final_no_emp.reset_index().iloc[i][0]))\n",
    "    df = pd.DataFrame(data = best, columns = ['Zip'])\n",
    "    merged = pd.merge(df,zip_location,on='Zip',how='inner')\n",
    "    merged = merged[['Zip', 'City', 'State']]\n",
    "    if city==None:\n",
    "        if state==None:\n",
    "            return merged[1:num+1]\n",
    "        else:\n",
    "            merged = merged[merged['State']==state]\n",
    "            return merged[0:num]\n",
    "    else:\n",
    "        if state==None:\n",
    "            print('You must enter a state with a city.')\n",
    "        else:\n",
    "            merged = merged[merged['State']==state]\n",
    "            merged = merged[merged['City']==city]\n",
    "            return merged[0:num]"
   ]
  },
  {
   "cell_type": "code",
   "execution_count": 2880,
   "metadata": {},
   "outputs": [
    {
     "data": {
      "text/html": [
       "<div>\n",
       "<style scoped>\n",
       "    .dataframe tbody tr th:only-of-type {\n",
       "        vertical-align: middle;\n",
       "    }\n",
       "\n",
       "    .dataframe tbody tr th {\n",
       "        vertical-align: top;\n",
       "    }\n",
       "\n",
       "    .dataframe thead th {\n",
       "        text-align: right;\n",
       "    }\n",
       "</style>\n",
       "<table border=\"1\" class=\"dataframe\">\n",
       "  <thead>\n",
       "    <tr style=\"text-align: right;\">\n",
       "      <th></th>\n",
       "      <th>Zip</th>\n",
       "      <th>City</th>\n",
       "      <th>State</th>\n",
       "    </tr>\n",
       "  </thead>\n",
       "  <tbody>\n",
       "    <tr>\n",
       "      <th>46</th>\n",
       "      <td>78752</td>\n",
       "      <td>Austin</td>\n",
       "      <td>TX</td>\n",
       "    </tr>\n",
       "    <tr>\n",
       "      <th>83</th>\n",
       "      <td>78758</td>\n",
       "      <td>Austin</td>\n",
       "      <td>TX</td>\n",
       "    </tr>\n",
       "    <tr>\n",
       "      <th>144</th>\n",
       "      <td>78753</td>\n",
       "      <td>Austin</td>\n",
       "      <td>TX</td>\n",
       "    </tr>\n",
       "    <tr>\n",
       "      <th>251</th>\n",
       "      <td>78741</td>\n",
       "      <td>Austin</td>\n",
       "      <td>TX</td>\n",
       "    </tr>\n",
       "    <tr>\n",
       "      <th>324</th>\n",
       "      <td>78723</td>\n",
       "      <td>Austin</td>\n",
       "      <td>TX</td>\n",
       "    </tr>\n",
       "    <tr>\n",
       "      <th>639</th>\n",
       "      <td>78744</td>\n",
       "      <td>Austin</td>\n",
       "      <td>TX</td>\n",
       "    </tr>\n",
       "    <tr>\n",
       "      <th>695</th>\n",
       "      <td>78702</td>\n",
       "      <td>Austin</td>\n",
       "      <td>TX</td>\n",
       "    </tr>\n",
       "    <tr>\n",
       "      <th>715</th>\n",
       "      <td>78745</td>\n",
       "      <td>Austin</td>\n",
       "      <td>TX</td>\n",
       "    </tr>\n",
       "    <tr>\n",
       "      <th>758</th>\n",
       "      <td>78721</td>\n",
       "      <td>Austin</td>\n",
       "      <td>TX</td>\n",
       "    </tr>\n",
       "    <tr>\n",
       "      <th>810</th>\n",
       "      <td>78704</td>\n",
       "      <td>Austin</td>\n",
       "      <td>TX</td>\n",
       "    </tr>\n",
       "  </tbody>\n",
       "</table>\n",
       "</div>"
      ],
      "text/plain": [
       "       Zip    City State\n",
       "46   78752  Austin  TX  \n",
       "83   78758  Austin  TX  \n",
       "144  78753  Austin  TX  \n",
       "251  78741  Austin  TX  \n",
       "324  78723  Austin  TX  \n",
       "639  78744  Austin  TX  \n",
       "695  78702  Austin  TX  \n",
       "715  78745  Austin  TX  \n",
       "758  78721  Austin  TX  \n",
       "810  78704  Austin  TX  "
      ]
     },
     "execution_count": 2880,
     "metadata": {},
     "output_type": "execute_result"
    }
   ],
   "source": [
    "cosine_recommend_zip('01702', 10, city='Austin', state='TX')"
   ]
  },
  {
   "cell_type": "markdown",
   "metadata": {},
   "source": [
    "Removing employment features pushed Wayne PA up to 3 for 75205 Dallas. Andover, MA and Davidson, NC are now in the top 10. Lakewood, CO and Birmingham, MI are removed. Woodinville 98072 was not impacted too significantly, although the top spot in the original recommender (Newbury Park, CA) is now the 10th spot. 40006 Bedford KY was impacted significantly by removing employment features. Only 1 of the top 10 from the original recommender remained after removing employment. 02130 was moderately impacted with several recommendations switching spots and a few new recommendations in the top 10."
   ]
  },
  {
   "cell_type": "markdown",
   "metadata": {},
   "source": [
    "#### Remove Density"
   ]
  },
  {
   "cell_type": "code",
   "execution_count": 2881,
   "metadata": {},
   "outputs": [],
   "source": [
    "\n",
    "final_no_density = pd.concat([data_percents, education_percents, employment_percents, language_percents, veteran_percents, transportation_percents, financial_percents, marital_percents, real_estate_2019, housing_char_percents, dem_char_percents], axis=1)"
   ]
  },
  {
   "cell_type": "code",
   "execution_count": 2882,
   "metadata": {},
   "outputs": [],
   "source": [
    "final_no_density['Median_HH_Income'] = final_no_density['Median_HH_Income'].replace({'-': np.nan})\n",
    "final_no_density['Median_HH_Income'] = final_no_density['Median_HH_Income'].replace({'2,500-': 2500.0})\n",
    "final_no_density['Median_HH_Income'] = final_no_density['Median_HH_Income'].replace({'250,000+': 250000.0})\n",
    "final_no_density['Median_HH_Income'] = final_no_density['Median_HH_Income'].astype(float)\n",
    "final_no_density['Median_Owner_HH_Income'] = final_no_density['Median_Owner_HH_Income'].replace({'-': np.nan})\n",
    "final_no_density['Median_Owner_HH_Income'] = final_no_density['Median_Owner_HH_Income'].replace({'2,500-': 2500.0})\n",
    "final_no_density['Median_Owner_HH_Income'] = final_no_density['Median_Owner_HH_Income'].replace({'250,000+': 250000.0})\n",
    "final_no_density['Median_Owner_HH_Income'] = final_no_density['Median_Owner_HH_Income'].astype(float)\n",
    "final_no_density['HPI_%_Annual_Change'] = final_no_density['HPI_%_Annual_Change'].replace({'.': np.nan})\n",
    "final_no_density['HPI_%_Annual_Change'] = final_no_density['HPI_%_Annual_Change'].astype(float)\n",
    "final_no_density['Median_Renter_HH_Income'] = final_no_density['Median_Renter_HH_Income'].replace({'-': np.nan})\n",
    "final_no_density['Median_Renter_HH_Income'] = final_no_density['Median_Renter_HH_Income'].replace({'2,500-': 2500.0})\n",
    "final_no_density['Median_Renter_HH_Income'] = final_no_density['Median_Renter_HH_Income'].replace({'250,000+': 250000.0})\n",
    "final_no_density['Median_Renter_HH_Income'] = final_no_density['Median_Renter_HH_Income'].astype(float)\n",
    "final_no_density['HPI'] = final_no_density['HPI'].replace({'.': np.nan})\n",
    "final_no_density['HPI'] = final_no_density['HPI'].astype(float)\n",
    "# Drop zip codes with fewer than 2000 people\n",
    "final_no_density = final_no_density[final_no_density['total_pop'] >= 2000]"
   ]
  },
  {
   "cell_type": "code",
   "execution_count": 2883,
   "metadata": {},
   "outputs": [],
   "source": [
    "final_no_density.dropna(axis=0, how='any', inplace=True)"
   ]
  },
  {
   "cell_type": "code",
   "execution_count": 2884,
   "metadata": {},
   "outputs": [],
   "source": [
    "scaler = StandardScaler()\n",
    "scaled = scaler.fit_transform(final_no_density)\n",
    "scaled = pd.DataFrame(scaled, index=final_no_density.index, columns=final_no_density.columns)\n",
    "cosine_matrix = cosine_similarity(scaled, scaled)\n",
    "mapping = pd.Series(scaled.reset_index().index, index = scaled.index)"
   ]
  },
  {
   "cell_type": "code",
   "execution_count": 2885,
   "metadata": {},
   "outputs": [],
   "source": [
    "def cosine_recommend_zip(zip_input, num=10, city=None, state=None):\n",
    "    zip_location = pd.read_csv('data/us-zip-code-latitude-and-longitude.csv', sep = ';')\n",
    "    zip_index = int(mapping[zip_input])\n",
    "    #get similarity values with other zip codes\n",
    "    #similarity_score is the list of index and similarity matrix\n",
    "    similarity_score = list(enumerate(cosine_matrix[zip_index]))\n",
    "    #sort in descending order the similarity score of zip inputted with all the other zip codes\n",
    "    similarity_score = sorted(similarity_score, key=lambda x: x[1], reverse=True)\n",
    "    # Get the scores of the 15 most similar zip codes. Ignore the first zip code.\n",
    "    #return zip codes using the mapping series\n",
    "    zip_indices = [i[0] for i in similarity_score]\n",
    "    #similarity_score = similarity_score[1:num+1]\n",
    "    best = []\n",
    "    for i in zip_indices:\n",
    "        best.append(int(final_no_density.reset_index().iloc[i][0]))\n",
    "    df = pd.DataFrame(data = best, columns = ['Zip'])\n",
    "    merged = pd.merge(df,zip_location,on='Zip',how='inner')\n",
    "    merged = merged[['Zip', 'City', 'State']]\n",
    "    if city==None:\n",
    "        if state==None:\n",
    "            return merged[1:num+1]\n",
    "        else:\n",
    "            merged = merged[merged['State']==state]\n",
    "            return merged[0:num]\n",
    "    else:\n",
    "        if state==None:\n",
    "            print('You must enter a state with a city.')\n",
    "        else:\n",
    "            merged = merged[merged['State']==state]\n",
    "            merged = merged[merged['City']==city]\n",
    "            return merged[0:num]"
   ]
  },
  {
   "cell_type": "code",
   "execution_count": 2886,
   "metadata": {},
   "outputs": [
    {
     "data": {
      "text/html": [
       "<div>\n",
       "<style scoped>\n",
       "    .dataframe tbody tr th:only-of-type {\n",
       "        vertical-align: middle;\n",
       "    }\n",
       "\n",
       "    .dataframe tbody tr th {\n",
       "        vertical-align: top;\n",
       "    }\n",
       "\n",
       "    .dataframe thead th {\n",
       "        text-align: right;\n",
       "    }\n",
       "</style>\n",
       "<table border=\"1\" class=\"dataframe\">\n",
       "  <thead>\n",
       "    <tr style=\"text-align: right;\">\n",
       "      <th></th>\n",
       "      <th>Zip</th>\n",
       "      <th>City</th>\n",
       "      <th>State</th>\n",
       "    </tr>\n",
       "  </thead>\n",
       "  <tbody>\n",
       "    <tr>\n",
       "      <th>52</th>\n",
       "      <td>78758</td>\n",
       "      <td>Austin</td>\n",
       "      <td>TX</td>\n",
       "    </tr>\n",
       "    <tr>\n",
       "      <th>82</th>\n",
       "      <td>78752</td>\n",
       "      <td>Austin</td>\n",
       "      <td>TX</td>\n",
       "    </tr>\n",
       "    <tr>\n",
       "      <th>225</th>\n",
       "      <td>78753</td>\n",
       "      <td>Austin</td>\n",
       "      <td>TX</td>\n",
       "    </tr>\n",
       "    <tr>\n",
       "      <th>237</th>\n",
       "      <td>78723</td>\n",
       "      <td>Austin</td>\n",
       "      <td>TX</td>\n",
       "    </tr>\n",
       "    <tr>\n",
       "      <th>252</th>\n",
       "      <td>78741</td>\n",
       "      <td>Austin</td>\n",
       "      <td>TX</td>\n",
       "    </tr>\n",
       "    <tr>\n",
       "      <th>552</th>\n",
       "      <td>78744</td>\n",
       "      <td>Austin</td>\n",
       "      <td>TX</td>\n",
       "    </tr>\n",
       "    <tr>\n",
       "      <th>578</th>\n",
       "      <td>78704</td>\n",
       "      <td>Austin</td>\n",
       "      <td>TX</td>\n",
       "    </tr>\n",
       "    <tr>\n",
       "      <th>581</th>\n",
       "      <td>78757</td>\n",
       "      <td>Austin</td>\n",
       "      <td>TX</td>\n",
       "    </tr>\n",
       "    <tr>\n",
       "      <th>689</th>\n",
       "      <td>78728</td>\n",
       "      <td>Austin</td>\n",
       "      <td>TX</td>\n",
       "    </tr>\n",
       "    <tr>\n",
       "      <th>738</th>\n",
       "      <td>78702</td>\n",
       "      <td>Austin</td>\n",
       "      <td>TX</td>\n",
       "    </tr>\n",
       "  </tbody>\n",
       "</table>\n",
       "</div>"
      ],
      "text/plain": [
       "       Zip    City State\n",
       "52   78758  Austin  TX  \n",
       "82   78752  Austin  TX  \n",
       "225  78753  Austin  TX  \n",
       "237  78723  Austin  TX  \n",
       "252  78741  Austin  TX  \n",
       "552  78744  Austin  TX  \n",
       "578  78704  Austin  TX  \n",
       "581  78757  Austin  TX  \n",
       "689  78728  Austin  TX  \n",
       "738  78702  Austin  TX  "
      ]
     },
     "execution_count": 2886,
     "metadata": {},
     "output_type": "execute_result"
    }
   ],
   "source": [
    "cosine_recommend_zip('01702', 10, city='Austin', state='TX')"
   ]
  },
  {
   "cell_type": "code",
   "execution_count": 2271,
   "metadata": {},
   "outputs": [],
   "source": [
    "# TO DO: Come up with several scenarios and what you expect results to be then test them out with various features removed"
   ]
  },
  {
   "cell_type": "code",
   "execution_count": null,
   "metadata": {},
   "outputs": [],
   "source": [
    "# TO DO: I think the housing characteristics hurt my model. \n",
    "#Maybe take out the age built columns because that will impact the results.\n",
    "# But first come up with scenarios, leave as is for now and test the scenarios.\n",
    "# Maybe need to come up with filter first"
   ]
  },
  {
   "cell_type": "code",
   "execution_count": null,
   "metadata": {},
   "outputs": [],
   "source": [
    "# SCENARIO 1: Highland Park, TX to Boston, MA, Highland Park, TX to Seattle, WA\n",
    "# Boston towns: Wellesley, Newton, Lexington\n",
    "# Seattle towns: Magnolia? Mercer Island, Bellevue"
   ]
  },
  {
   "cell_type": "markdown",
   "metadata": {},
   "source": [
    "#### Remove language"
   ]
  },
  {
   "cell_type": "code",
   "execution_count": 2979,
   "metadata": {},
   "outputs": [],
   "source": [
    "final_no_language = pd.concat([data_percents, education_percents, employment_percents, veteran_percents, transportation_percents, financial_percents, marital_percents, real_estate_2019, density, housing_char_percents, dem_char_percents], axis=1)"
   ]
  },
  {
   "cell_type": "code",
   "execution_count": 2980,
   "metadata": {},
   "outputs": [
    {
     "ename": "TypeError",
     "evalue": "Cannot compare types 'ndarray(dtype=float64)' and 'str'",
     "output_type": "error",
     "traceback": [
      "\u001b[0;31m---------------------------------------------------------------------------\u001b[0m",
      "\u001b[0;31mTypeError\u001b[0m                                 Traceback (most recent call last)",
      "\u001b[0;32m<ipython-input-2980-eb955ef6437e>\u001b[0m in \u001b[0;36m<module>\u001b[0;34m\u001b[0m\n\u001b[1;32m      7\u001b[0m \u001b[0mfinal_no_language\u001b[0m\u001b[0;34m[\u001b[0m\u001b[0;34m'Median_Owner_HH_Income'\u001b[0m\u001b[0;34m]\u001b[0m \u001b[0;34m=\u001b[0m \u001b[0mfinal_no_language\u001b[0m\u001b[0;34m[\u001b[0m\u001b[0;34m'Median_Owner_HH_Income'\u001b[0m\u001b[0;34m]\u001b[0m\u001b[0;34m.\u001b[0m\u001b[0mreplace\u001b[0m\u001b[0;34m(\u001b[0m\u001b[0;34m{\u001b[0m\u001b[0;34m'250,000+'\u001b[0m\u001b[0;34m:\u001b[0m \u001b[0;36m250000.0\u001b[0m\u001b[0;34m}\u001b[0m\u001b[0;34m)\u001b[0m\u001b[0;34m\u001b[0m\u001b[0;34m\u001b[0m\u001b[0m\n\u001b[1;32m      8\u001b[0m \u001b[0mfinal_no_language\u001b[0m\u001b[0;34m[\u001b[0m\u001b[0;34m'Median_Owner_HH_Income'\u001b[0m\u001b[0;34m]\u001b[0m \u001b[0;34m=\u001b[0m \u001b[0mfinal_no_language\u001b[0m\u001b[0;34m[\u001b[0m\u001b[0;34m'Median_Owner_HH_Income'\u001b[0m\u001b[0;34m]\u001b[0m\u001b[0;34m.\u001b[0m\u001b[0mastype\u001b[0m\u001b[0;34m(\u001b[0m\u001b[0mfloat\u001b[0m\u001b[0;34m)\u001b[0m\u001b[0;34m\u001b[0m\u001b[0;34m\u001b[0m\u001b[0m\n\u001b[0;32m----> 9\u001b[0;31m \u001b[0mfinal_no_language\u001b[0m\u001b[0;34m[\u001b[0m\u001b[0;34m'HPI_%_Annual_Change'\u001b[0m\u001b[0;34m]\u001b[0m \u001b[0;34m=\u001b[0m \u001b[0mfinal_no_language\u001b[0m\u001b[0;34m[\u001b[0m\u001b[0;34m'HPI_%_Annual_Change'\u001b[0m\u001b[0;34m]\u001b[0m\u001b[0;34m.\u001b[0m\u001b[0mreplace\u001b[0m\u001b[0;34m(\u001b[0m\u001b[0;34m{\u001b[0m\u001b[0;34m'.'\u001b[0m\u001b[0;34m:\u001b[0m \u001b[0mnp\u001b[0m\u001b[0;34m.\u001b[0m\u001b[0mnan\u001b[0m\u001b[0;34m}\u001b[0m\u001b[0;34m)\u001b[0m\u001b[0;34m\u001b[0m\u001b[0;34m\u001b[0m\u001b[0m\n\u001b[0m\u001b[1;32m     10\u001b[0m \u001b[0mfinal_no_language\u001b[0m\u001b[0;34m[\u001b[0m\u001b[0;34m'HPI_%_Annual_Change'\u001b[0m\u001b[0;34m]\u001b[0m \u001b[0;34m=\u001b[0m \u001b[0mfinal_no_language\u001b[0m\u001b[0;34m[\u001b[0m\u001b[0;34m'HPI_%_Annual_Change'\u001b[0m\u001b[0;34m]\u001b[0m\u001b[0;34m.\u001b[0m\u001b[0mastype\u001b[0m\u001b[0;34m(\u001b[0m\u001b[0mfloat\u001b[0m\u001b[0;34m)\u001b[0m\u001b[0;34m\u001b[0m\u001b[0;34m\u001b[0m\u001b[0m\n\u001b[1;32m     11\u001b[0m \u001b[0mfinal_no_language\u001b[0m\u001b[0;34m[\u001b[0m\u001b[0;34m'Median_Renter_HH_Income'\u001b[0m\u001b[0;34m]\u001b[0m \u001b[0;34m=\u001b[0m \u001b[0mfinal_no_language\u001b[0m\u001b[0;34m[\u001b[0m\u001b[0;34m'Median_Renter_HH_Income'\u001b[0m\u001b[0;34m]\u001b[0m\u001b[0;34m.\u001b[0m\u001b[0mreplace\u001b[0m\u001b[0;34m(\u001b[0m\u001b[0;34m{\u001b[0m\u001b[0;34m'-'\u001b[0m\u001b[0;34m:\u001b[0m \u001b[0mnp\u001b[0m\u001b[0;34m.\u001b[0m\u001b[0mnan\u001b[0m\u001b[0;34m}\u001b[0m\u001b[0;34m)\u001b[0m\u001b[0;34m\u001b[0m\u001b[0;34m\u001b[0m\u001b[0m\n",
      "\u001b[0;32m/opt/anaconda3/lib/python3.7/site-packages/pandas/core/series.py\u001b[0m in \u001b[0;36mreplace\u001b[0;34m(self, to_replace, value, inplace, limit, regex, method)\u001b[0m\n\u001b[1;32m   4176\u001b[0m             \u001b[0mlimit\u001b[0m\u001b[0;34m=\u001b[0m\u001b[0mlimit\u001b[0m\u001b[0;34m,\u001b[0m\u001b[0;34m\u001b[0m\u001b[0;34m\u001b[0m\u001b[0m\n\u001b[1;32m   4177\u001b[0m             \u001b[0mregex\u001b[0m\u001b[0;34m=\u001b[0m\u001b[0mregex\u001b[0m\u001b[0;34m,\u001b[0m\u001b[0;34m\u001b[0m\u001b[0;34m\u001b[0m\u001b[0m\n\u001b[0;32m-> 4178\u001b[0;31m             \u001b[0mmethod\u001b[0m\u001b[0;34m=\u001b[0m\u001b[0mmethod\u001b[0m\u001b[0;34m,\u001b[0m\u001b[0;34m\u001b[0m\u001b[0;34m\u001b[0m\u001b[0m\n\u001b[0m\u001b[1;32m   4179\u001b[0m         )\n\u001b[1;32m   4180\u001b[0m \u001b[0;34m\u001b[0m\u001b[0m\n",
      "\u001b[0;32m/opt/anaconda3/lib/python3.7/site-packages/pandas/core/generic.py\u001b[0m in \u001b[0;36mreplace\u001b[0;34m(self, to_replace, value, inplace, limit, regex, method)\u001b[0m\n\u001b[1;32m   6644\u001b[0m \u001b[0;34m\u001b[0m\u001b[0m\n\u001b[1;32m   6645\u001b[0m             return self.replace(\n\u001b[0;32m-> 6646\u001b[0;31m                 \u001b[0mto_replace\u001b[0m\u001b[0;34m,\u001b[0m \u001b[0mvalue\u001b[0m\u001b[0;34m,\u001b[0m \u001b[0minplace\u001b[0m\u001b[0;34m=\u001b[0m\u001b[0minplace\u001b[0m\u001b[0;34m,\u001b[0m \u001b[0mlimit\u001b[0m\u001b[0;34m=\u001b[0m\u001b[0mlimit\u001b[0m\u001b[0;34m,\u001b[0m \u001b[0mregex\u001b[0m\u001b[0;34m=\u001b[0m\u001b[0mregex\u001b[0m\u001b[0;34m\u001b[0m\u001b[0;34m\u001b[0m\u001b[0m\n\u001b[0m\u001b[1;32m   6647\u001b[0m             )\n\u001b[1;32m   6648\u001b[0m         \u001b[0;32melse\u001b[0m\u001b[0;34m:\u001b[0m\u001b[0;34m\u001b[0m\u001b[0;34m\u001b[0m\u001b[0m\n",
      "\u001b[0;32m/opt/anaconda3/lib/python3.7/site-packages/pandas/core/series.py\u001b[0m in \u001b[0;36mreplace\u001b[0;34m(self, to_replace, value, inplace, limit, regex, method)\u001b[0m\n\u001b[1;32m   4176\u001b[0m             \u001b[0mlimit\u001b[0m\u001b[0;34m=\u001b[0m\u001b[0mlimit\u001b[0m\u001b[0;34m,\u001b[0m\u001b[0;34m\u001b[0m\u001b[0;34m\u001b[0m\u001b[0m\n\u001b[1;32m   4177\u001b[0m             \u001b[0mregex\u001b[0m\u001b[0;34m=\u001b[0m\u001b[0mregex\u001b[0m\u001b[0;34m,\u001b[0m\u001b[0;34m\u001b[0m\u001b[0;34m\u001b[0m\u001b[0m\n\u001b[0;32m-> 4178\u001b[0;31m             \u001b[0mmethod\u001b[0m\u001b[0;34m=\u001b[0m\u001b[0mmethod\u001b[0m\u001b[0;34m,\u001b[0m\u001b[0;34m\u001b[0m\u001b[0;34m\u001b[0m\u001b[0m\n\u001b[0m\u001b[1;32m   4179\u001b[0m         )\n\u001b[1;32m   4180\u001b[0m \u001b[0;34m\u001b[0m\u001b[0m\n",
      "\u001b[0;32m/opt/anaconda3/lib/python3.7/site-packages/pandas/core/generic.py\u001b[0m in \u001b[0;36mreplace\u001b[0;34m(self, to_replace, value, inplace, limit, regex, method)\u001b[0m\n\u001b[1;32m   6697\u001b[0m                         \u001b[0mdest_list\u001b[0m\u001b[0;34m=\u001b[0m\u001b[0mvalue\u001b[0m\u001b[0;34m,\u001b[0m\u001b[0;34m\u001b[0m\u001b[0;34m\u001b[0m\u001b[0m\n\u001b[1;32m   6698\u001b[0m                         \u001b[0minplace\u001b[0m\u001b[0;34m=\u001b[0m\u001b[0minplace\u001b[0m\u001b[0;34m,\u001b[0m\u001b[0;34m\u001b[0m\u001b[0;34m\u001b[0m\u001b[0m\n\u001b[0;32m-> 6699\u001b[0;31m                         \u001b[0mregex\u001b[0m\u001b[0;34m=\u001b[0m\u001b[0mregex\u001b[0m\u001b[0;34m,\u001b[0m\u001b[0;34m\u001b[0m\u001b[0;34m\u001b[0m\u001b[0m\n\u001b[0m\u001b[1;32m   6700\u001b[0m                     )\n\u001b[1;32m   6701\u001b[0m \u001b[0;34m\u001b[0m\u001b[0m\n",
      "\u001b[0;32m/opt/anaconda3/lib/python3.7/site-packages/pandas/core/internals/managers.py\u001b[0m in \u001b[0;36mreplace_list\u001b[0;34m(self, src_list, dest_list, inplace, regex)\u001b[0m\n\u001b[1;32m    611\u001b[0m             \u001b[0;32mreturn\u001b[0m \u001b[0m_compare_or_regex_search\u001b[0m\u001b[0;34m(\u001b[0m\u001b[0mvalues\u001b[0m\u001b[0;34m,\u001b[0m \u001b[0ms\u001b[0m\u001b[0;34m,\u001b[0m \u001b[0mregex\u001b[0m\u001b[0;34m)\u001b[0m\u001b[0;34m\u001b[0m\u001b[0;34m\u001b[0m\u001b[0m\n\u001b[1;32m    612\u001b[0m \u001b[0;34m\u001b[0m\u001b[0m\n\u001b[0;32m--> 613\u001b[0;31m         \u001b[0mmasks\u001b[0m \u001b[0;34m=\u001b[0m \u001b[0;34m[\u001b[0m\u001b[0mcomp\u001b[0m\u001b[0;34m(\u001b[0m\u001b[0ms\u001b[0m\u001b[0;34m,\u001b[0m \u001b[0mregex\u001b[0m\u001b[0;34m)\u001b[0m \u001b[0;32mfor\u001b[0m \u001b[0mi\u001b[0m\u001b[0;34m,\u001b[0m \u001b[0ms\u001b[0m \u001b[0;32min\u001b[0m \u001b[0menumerate\u001b[0m\u001b[0;34m(\u001b[0m\u001b[0msrc_list\u001b[0m\u001b[0;34m)\u001b[0m\u001b[0;34m]\u001b[0m\u001b[0;34m\u001b[0m\u001b[0;34m\u001b[0m\u001b[0m\n\u001b[0m\u001b[1;32m    614\u001b[0m \u001b[0;34m\u001b[0m\u001b[0m\n\u001b[1;32m    615\u001b[0m         \u001b[0mresult_blocks\u001b[0m \u001b[0;34m=\u001b[0m \u001b[0;34m[\u001b[0m\u001b[0;34m]\u001b[0m\u001b[0;34m\u001b[0m\u001b[0;34m\u001b[0m\u001b[0m\n",
      "\u001b[0;32m/opt/anaconda3/lib/python3.7/site-packages/pandas/core/internals/managers.py\u001b[0m in \u001b[0;36m<listcomp>\u001b[0;34m(.0)\u001b[0m\n\u001b[1;32m    611\u001b[0m             \u001b[0;32mreturn\u001b[0m \u001b[0m_compare_or_regex_search\u001b[0m\u001b[0;34m(\u001b[0m\u001b[0mvalues\u001b[0m\u001b[0;34m,\u001b[0m \u001b[0ms\u001b[0m\u001b[0;34m,\u001b[0m \u001b[0mregex\u001b[0m\u001b[0;34m)\u001b[0m\u001b[0;34m\u001b[0m\u001b[0;34m\u001b[0m\u001b[0m\n\u001b[1;32m    612\u001b[0m \u001b[0;34m\u001b[0m\u001b[0m\n\u001b[0;32m--> 613\u001b[0;31m         \u001b[0mmasks\u001b[0m \u001b[0;34m=\u001b[0m \u001b[0;34m[\u001b[0m\u001b[0mcomp\u001b[0m\u001b[0;34m(\u001b[0m\u001b[0ms\u001b[0m\u001b[0;34m,\u001b[0m \u001b[0mregex\u001b[0m\u001b[0;34m)\u001b[0m \u001b[0;32mfor\u001b[0m \u001b[0mi\u001b[0m\u001b[0;34m,\u001b[0m \u001b[0ms\u001b[0m \u001b[0;32min\u001b[0m \u001b[0menumerate\u001b[0m\u001b[0;34m(\u001b[0m\u001b[0msrc_list\u001b[0m\u001b[0;34m)\u001b[0m\u001b[0;34m]\u001b[0m\u001b[0;34m\u001b[0m\u001b[0;34m\u001b[0m\u001b[0m\n\u001b[0m\u001b[1;32m    614\u001b[0m \u001b[0;34m\u001b[0m\u001b[0m\n\u001b[1;32m    615\u001b[0m         \u001b[0mresult_blocks\u001b[0m \u001b[0;34m=\u001b[0m \u001b[0;34m[\u001b[0m\u001b[0;34m]\u001b[0m\u001b[0;34m\u001b[0m\u001b[0;34m\u001b[0m\u001b[0m\n",
      "\u001b[0;32m/opt/anaconda3/lib/python3.7/site-packages/pandas/core/internals/managers.py\u001b[0m in \u001b[0;36mcomp\u001b[0;34m(s, regex)\u001b[0m\n\u001b[1;32m    609\u001b[0m                     \u001b[0mmaybe_convert_objects\u001b[0m\u001b[0;34m(\u001b[0m\u001b[0mvalues\u001b[0m\u001b[0;34m)\u001b[0m\u001b[0;34m,\u001b[0m \u001b[0ms\u001b[0m\u001b[0;34m.\u001b[0m\u001b[0masm8\u001b[0m\u001b[0;34m,\u001b[0m \u001b[0mregex\u001b[0m\u001b[0;34m\u001b[0m\u001b[0;34m\u001b[0m\u001b[0m\n\u001b[1;32m    610\u001b[0m                 )\n\u001b[0;32m--> 611\u001b[0;31m             \u001b[0;32mreturn\u001b[0m \u001b[0m_compare_or_regex_search\u001b[0m\u001b[0;34m(\u001b[0m\u001b[0mvalues\u001b[0m\u001b[0;34m,\u001b[0m \u001b[0ms\u001b[0m\u001b[0;34m,\u001b[0m \u001b[0mregex\u001b[0m\u001b[0;34m)\u001b[0m\u001b[0;34m\u001b[0m\u001b[0;34m\u001b[0m\u001b[0m\n\u001b[0m\u001b[1;32m    612\u001b[0m \u001b[0;34m\u001b[0m\u001b[0m\n\u001b[1;32m    613\u001b[0m         \u001b[0mmasks\u001b[0m \u001b[0;34m=\u001b[0m \u001b[0;34m[\u001b[0m\u001b[0mcomp\u001b[0m\u001b[0;34m(\u001b[0m\u001b[0ms\u001b[0m\u001b[0;34m,\u001b[0m \u001b[0mregex\u001b[0m\u001b[0;34m)\u001b[0m \u001b[0;32mfor\u001b[0m \u001b[0mi\u001b[0m\u001b[0;34m,\u001b[0m \u001b[0ms\u001b[0m \u001b[0;32min\u001b[0m \u001b[0menumerate\u001b[0m\u001b[0;34m(\u001b[0m\u001b[0msrc_list\u001b[0m\u001b[0;34m)\u001b[0m\u001b[0;34m]\u001b[0m\u001b[0;34m\u001b[0m\u001b[0;34m\u001b[0m\u001b[0m\n",
      "\u001b[0;32m/opt/anaconda3/lib/python3.7/site-packages/pandas/core/internals/managers.py\u001b[0m in \u001b[0;36m_compare_or_regex_search\u001b[0;34m(a, b, regex)\u001b[0m\n\u001b[1;32m   1934\u001b[0m \u001b[0;34m\u001b[0m\u001b[0m\n\u001b[1;32m   1935\u001b[0m         raise TypeError(\n\u001b[0;32m-> 1936\u001b[0;31m             \u001b[0;34mf\"Cannot compare types {repr(type_names[0])} and {repr(type_names[1])}\"\u001b[0m\u001b[0;34m\u001b[0m\u001b[0;34m\u001b[0m\u001b[0m\n\u001b[0m\u001b[1;32m   1937\u001b[0m         )\n\u001b[1;32m   1938\u001b[0m     \u001b[0;32mreturn\u001b[0m \u001b[0mresult\u001b[0m\u001b[0;34m\u001b[0m\u001b[0;34m\u001b[0m\u001b[0m\n",
      "\u001b[0;31mTypeError\u001b[0m: Cannot compare types 'ndarray(dtype=float64)' and 'str'"
     ]
    }
   ],
   "source": [
    "final_no_language['Median_HH_Income'] = final_no_language['Median_HH_Income'].replace({'-': np.nan})\n",
    "final_no_language['Median_HH_Income'] = final_no_language['Median_HH_Income'].replace({'2,500-': 2500.0})\n",
    "final_no_language['Median_HH_Income'] = final_no_language['Median_HH_Income'].replace({'250,000+': 250000.0})\n",
    "final_no_language['Median_HH_Income'] = final_no_language['Median_HH_Income'].astype(float)\n",
    "final_no_language['Median_Owner_HH_Income'] = final_no_language['Median_Owner_HH_Income'].replace({'-': np.nan})\n",
    "final_no_language['Median_Owner_HH_Income'] = final_no_language['Median_Owner_HH_Income'].replace({'2,500-': 2500.0})\n",
    "final_no_language['Median_Owner_HH_Income'] = final_no_language['Median_Owner_HH_Income'].replace({'250,000+': 250000.0})\n",
    "final_no_language['Median_Owner_HH_Income'] = final_no_language['Median_Owner_HH_Income'].astype(float)\n",
    "final_no_language['HPI_%_Annual_Change'] = final_no_language['HPI_%_Annual_Change'].replace({'.': np.nan})\n",
    "final_no_language['HPI_%_Annual_Change'] = final_no_language['HPI_%_Annual_Change'].astype(float)\n",
    "final_no_language['Median_Renter_HH_Income'] = final_no_language['Median_Renter_HH_Income'].replace({'-': np.nan})\n",
    "final_no_language['Median_Renter_HH_Income'] = final_no_language['Median_Renter_HH_Income'].replace({'2,500-': 2500.0})\n",
    "final_no_language['Median_Renter_HH_Income'] = final_no_language['Median_Renter_HH_Income'].replace({'250,000+': 250000.0})\n",
    "final_no_language['Median_Renter_HH_Income'] = final_no_language['Median_Renter_HH_Income'].astype(float)\n",
    "final_no_language['HPI'] = final_no_language['HPI'].replace({'.': np.nan})\n",
    "final_no_language['HPI'] = final_no_language['HPI'].astype(float)\n",
    "# Drop zip codes with fewer than 2000 people\n",
    "final_no_language = final_no_language[final_no_language['total_pop'] >= 2000]"
   ]
  },
  {
   "cell_type": "code",
   "execution_count": 2889,
   "metadata": {},
   "outputs": [],
   "source": [
    "final_no_language.dropna(axis=0, how='any', inplace=True)"
   ]
  },
  {
   "cell_type": "code",
   "execution_count": 2890,
   "metadata": {},
   "outputs": [],
   "source": [
    "scaler = StandardScaler()\n",
    "scaled = scaler.fit_transform(final_no_language)\n",
    "scaled = pd.DataFrame(scaled, index=final_no_language.index, columns=final_no_language.columns)\n",
    "cosine_matrix = cosine_similarity(scaled, scaled)\n",
    "mapping = pd.Series(scaled.reset_index().index, index = scaled.index)"
   ]
  },
  {
   "cell_type": "code",
   "execution_count": 2891,
   "metadata": {},
   "outputs": [],
   "source": [
    "def cosine_recommend_zip(zip_input, num=10, city=None, state=None):\n",
    "    zip_location = pd.read_csv('data/us-zip-code-latitude-and-longitude.csv', sep = ';')\n",
    "    zip_index = int(mapping[zip_input])\n",
    "    #get similarity values with other zip codes\n",
    "    #similarity_score is the list of index and similarity matrix\n",
    "    similarity_score = list(enumerate(cosine_matrix[zip_index]))\n",
    "    #sort in descending order the similarity score of zip inputted with all the other zip codes\n",
    "    similarity_score = sorted(similarity_score, key=lambda x: x[1], reverse=True)\n",
    "    # Get the scores of the 15 most similar zip codes. Ignore the first zip code.\n",
    "    #return zip codes using the mapping series\n",
    "    zip_indices = [i[0] for i in similarity_score]\n",
    "    #similarity_score = similarity_score[1:num+1]\n",
    "    best = []\n",
    "    for i in zip_indices:\n",
    "        best.append(int(final_no_language.reset_index().iloc[i][0]))\n",
    "    df = pd.DataFrame(data = best, columns = ['Zip'])\n",
    "    merged = pd.merge(df,zip_location,on='Zip',how='inner')\n",
    "    merged = merged[['Zip', 'City', 'State']]\n",
    "    if city==None:\n",
    "        if state==None:\n",
    "            return merged[1:num+1]\n",
    "        else:\n",
    "            merged = merged[merged['State']==state]\n",
    "            return merged[0:num]\n",
    "    else:\n",
    "        if state==None:\n",
    "            print('You must enter a state with a city.')\n",
    "        else:\n",
    "            merged = merged[merged['State']==state]\n",
    "            merged = merged[merged['City']==city]\n",
    "            return merged[0:num]"
   ]
  },
  {
   "cell_type": "code",
   "execution_count": 2892,
   "metadata": {},
   "outputs": [
    {
     "data": {
      "text/html": [
       "<div>\n",
       "<style scoped>\n",
       "    .dataframe tbody tr th:only-of-type {\n",
       "        vertical-align: middle;\n",
       "    }\n",
       "\n",
       "    .dataframe tbody tr th {\n",
       "        vertical-align: top;\n",
       "    }\n",
       "\n",
       "    .dataframe thead th {\n",
       "        text-align: right;\n",
       "    }\n",
       "</style>\n",
       "<table border=\"1\" class=\"dataframe\">\n",
       "  <thead>\n",
       "    <tr style=\"text-align: right;\">\n",
       "      <th></th>\n",
       "      <th>Zip</th>\n",
       "      <th>City</th>\n",
       "      <th>State</th>\n",
       "    </tr>\n",
       "  </thead>\n",
       "  <tbody>\n",
       "    <tr>\n",
       "      <th>38</th>\n",
       "      <td>78758</td>\n",
       "      <td>Austin</td>\n",
       "      <td>TX</td>\n",
       "    </tr>\n",
       "    <tr>\n",
       "      <th>80</th>\n",
       "      <td>78752</td>\n",
       "      <td>Austin</td>\n",
       "      <td>TX</td>\n",
       "    </tr>\n",
       "    <tr>\n",
       "      <th>219</th>\n",
       "      <td>78741</td>\n",
       "      <td>Austin</td>\n",
       "      <td>TX</td>\n",
       "    </tr>\n",
       "    <tr>\n",
       "      <th>220</th>\n",
       "      <td>78723</td>\n",
       "      <td>Austin</td>\n",
       "      <td>TX</td>\n",
       "    </tr>\n",
       "    <tr>\n",
       "      <th>240</th>\n",
       "      <td>78704</td>\n",
       "      <td>Austin</td>\n",
       "      <td>TX</td>\n",
       "    </tr>\n",
       "    <tr>\n",
       "      <th>319</th>\n",
       "      <td>78757</td>\n",
       "      <td>Austin</td>\n",
       "      <td>TX</td>\n",
       "    </tr>\n",
       "    <tr>\n",
       "      <th>498</th>\n",
       "      <td>78753</td>\n",
       "      <td>Austin</td>\n",
       "      <td>TX</td>\n",
       "    </tr>\n",
       "    <tr>\n",
       "      <th>627</th>\n",
       "      <td>78702</td>\n",
       "      <td>Austin</td>\n",
       "      <td>TX</td>\n",
       "    </tr>\n",
       "    <tr>\n",
       "      <th>633</th>\n",
       "      <td>78728</td>\n",
       "      <td>Austin</td>\n",
       "      <td>TX</td>\n",
       "    </tr>\n",
       "    <tr>\n",
       "      <th>678</th>\n",
       "      <td>78745</td>\n",
       "      <td>Austin</td>\n",
       "      <td>TX</td>\n",
       "    </tr>\n",
       "  </tbody>\n",
       "</table>\n",
       "</div>"
      ],
      "text/plain": [
       "       Zip    City State\n",
       "38   78758  Austin  TX  \n",
       "80   78752  Austin  TX  \n",
       "219  78741  Austin  TX  \n",
       "220  78723  Austin  TX  \n",
       "240  78704  Austin  TX  \n",
       "319  78757  Austin  TX  \n",
       "498  78753  Austin  TX  \n",
       "627  78702  Austin  TX  \n",
       "633  78728  Austin  TX  \n",
       "678  78745  Austin  TX  "
      ]
     },
     "execution_count": 2892,
     "metadata": {},
     "output_type": "execute_result"
    }
   ],
   "source": [
    "cosine_recommend_zip('01702', 10, city='Austin', state='TX')"
   ]
  },
  {
   "cell_type": "markdown",
   "metadata": {},
   "source": [
    "#### Remove Age"
   ]
  },
  {
   "cell_type": "code",
   "execution_count": 3180,
   "metadata": {},
   "outputs": [],
   "source": [
    "\n",
    "final_no_age = pd.concat([data_percents[['total_pop']], education_percents, employment_percents, language_percents, veteran_percents, transportation_percents, financial_percents, marital_percents, real_estate_2019, housing_char_percents, density, dem_char_percents], axis=1)"
   ]
  },
  {
   "cell_type": "code",
   "execution_count": 3181,
   "metadata": {},
   "outputs": [],
   "source": [
    "final_no_age['Median_HH_Income'] = final_no_age['Median_HH_Income'].replace({'-': np.nan})\n",
    "final_no_age['Median_HH_Income'] = final_no_age['Median_HH_Income'].replace({'2,500-': 2500.0})\n",
    "final_no_age['Median_HH_Income'] = final_no_age['Median_HH_Income'].replace({'250,000+': 250000.0})\n",
    "final_no_age['Median_HH_Income'] = final_no_age['Median_HH_Income'].astype(float)\n",
    "final_no_age['Median_Owner_HH_Income'] = final_no_age['Median_Owner_HH_Income'].replace({'-': np.nan})\n",
    "final_no_age['Median_Owner_HH_Income'] = final_no_age['Median_Owner_HH_Income'].replace({'2,500-': 2500.0})\n",
    "final_no_age['Median_Owner_HH_Income'] = final_no_age['Median_Owner_HH_Income'].replace({'250,000+': 250000.0})\n",
    "final_no_age['Median_Owner_HH_Income'] = final_no_age['Median_Owner_HH_Income'].astype(float)\n",
    "final_no_age['HPI_%_Annual_Change'] = final_no_age['HPI_%_Annual_Change'].replace({'.': np.nan})\n",
    "final_no_age['HPI_%_Annual_Change'] = final_no_age['HPI_%_Annual_Change'].astype(float)\n",
    "final_no_age['Median_Renter_HH_Income'] = final_no_age['Median_Renter_HH_Income'].replace({'-': np.nan})\n",
    "final_no_age['Median_Renter_HH_Income'] = final_no_age['Median_Renter_HH_Income'].replace({'2,500-': 2500.0})\n",
    "final_no_age['Median_Renter_HH_Income'] = final_no_age['Median_Renter_HH_Income'].replace({'250,000+': 250000.0})\n",
    "final_no_age['Median_Renter_HH_Income'] = final_no_age['Median_Renter_HH_Income'].astype(float)\n",
    "final_no_age['HPI'] = final_no_age['HPI'].replace({'.': np.nan})\n",
    "final_no_age['HPI'] = final_no_age['HPI'].astype(float)\n",
    "# Drop zip codes with fewer than 2000 people\n",
    "final_no_age = final_no_age[final_no_age['total_pop'] >= 2000]"
   ]
  },
  {
   "cell_type": "code",
   "execution_count": 3182,
   "metadata": {},
   "outputs": [],
   "source": [
    "\n",
    "# Drop zip codes with fewer than 2000 people\n",
    "final_no_age = final_no_age[final_no_age['total_pop'] >= 2000]"
   ]
  },
  {
   "cell_type": "code",
   "execution_count": 3183,
   "metadata": {},
   "outputs": [],
   "source": [
    "final_no_age.dropna(axis=0, how='any', inplace=True)"
   ]
  },
  {
   "cell_type": "code",
   "execution_count": 3184,
   "metadata": {},
   "outputs": [],
   "source": [
    "scaler = StandardScaler()\n",
    "scaled = scaler.fit_transform(final_no_age)\n",
    "scaled = pd.DataFrame(scaled, index=final_no_age.index, columns=final_no_age.columns)\n",
    "cosine_matrix = cosine_similarity(scaled, scaled)\n",
    "mapping = pd.Series(scaled.reset_index().index, index = scaled.index)"
   ]
  },
  {
   "cell_type": "code",
   "execution_count": 3185,
   "metadata": {},
   "outputs": [],
   "source": [
    "def cosine_recommend_zip(zip_input, num=10, city=None, state=None):\n",
    "    zip_location = pd.read_csv('data/us-zip-code-latitude-and-longitude.csv', sep = ';')\n",
    "    zip_index = int(mapping[zip_input])\n",
    "    #get similarity values with other zip codes\n",
    "    #similarity_score is the list of index and similarity matrix\n",
    "    similarity_score = list(enumerate(cosine_matrix[zip_index]))\n",
    "    #sort in descending order the similarity score of zip inputted with all the other zip codes\n",
    "    similarity_score = sorted(similarity_score, key=lambda x: x[1], reverse=True)\n",
    "    # Get the scores of the 15 most similar zip codes. Ignore the first zip code.\n",
    "    #return zip codes using the mapping series\n",
    "    zip_indices = [i[0] for i in similarity_score]\n",
    "    #similarity_score = similarity_score[1:num+1]\n",
    "    best = []\n",
    "    for i in zip_indices:\n",
    "        best.append(int(final_no_age.reset_index().iloc[i][0]))\n",
    "    df = pd.DataFrame(data = best, columns = ['Zip'])\n",
    "    merged = pd.merge(df,zip_location,on='Zip',how='inner')\n",
    "    merged = merged[['Zip', 'City', 'State']]\n",
    "    if city==None:\n",
    "        if state==None:\n",
    "            return merged[1:num+1]\n",
    "        else:\n",
    "            merged = merged[merged['State']==state]\n",
    "            return merged[0:num]\n",
    "    else:\n",
    "        if state==None:\n",
    "            print('You must enter a state with a city.')\n",
    "        else:\n",
    "            merged = merged[merged['State']==state]\n",
    "            merged = merged[merged['City']==city]\n",
    "            return merged[0:num]"
   ]
  },
  {
   "cell_type": "code",
   "execution_count": 3192,
   "metadata": {},
   "outputs": [
    {
     "data": {
      "text/html": [
       "<div>\n",
       "<style scoped>\n",
       "    .dataframe tbody tr th:only-of-type {\n",
       "        vertical-align: middle;\n",
       "    }\n",
       "\n",
       "    .dataframe tbody tr th {\n",
       "        vertical-align: top;\n",
       "    }\n",
       "\n",
       "    .dataframe thead th {\n",
       "        text-align: right;\n",
       "    }\n",
       "</style>\n",
       "<table border=\"1\" class=\"dataframe\">\n",
       "  <thead>\n",
       "    <tr style=\"text-align: right;\">\n",
       "      <th></th>\n",
       "      <th>Zip</th>\n",
       "      <th>City</th>\n",
       "      <th>State</th>\n",
       "    </tr>\n",
       "  </thead>\n",
       "  <tbody>\n",
       "    <tr>\n",
       "      <th>725</th>\n",
       "      <td>78704</td>\n",
       "      <td>Austin</td>\n",
       "      <td>TX</td>\n",
       "    </tr>\n",
       "    <tr>\n",
       "      <th>771</th>\n",
       "      <td>78756</td>\n",
       "      <td>Austin</td>\n",
       "      <td>TX</td>\n",
       "    </tr>\n",
       "    <tr>\n",
       "      <th>815</th>\n",
       "      <td>78757</td>\n",
       "      <td>Austin</td>\n",
       "      <td>TX</td>\n",
       "    </tr>\n",
       "    <tr>\n",
       "      <th>842</th>\n",
       "      <td>78751</td>\n",
       "      <td>Austin</td>\n",
       "      <td>TX</td>\n",
       "    </tr>\n",
       "    <tr>\n",
       "      <th>914</th>\n",
       "      <td>78703</td>\n",
       "      <td>Austin</td>\n",
       "      <td>TX</td>\n",
       "    </tr>\n",
       "    <tr>\n",
       "      <th>1035</th>\n",
       "      <td>78731</td>\n",
       "      <td>Austin</td>\n",
       "      <td>TX</td>\n",
       "    </tr>\n",
       "    <tr>\n",
       "      <th>1137</th>\n",
       "      <td>78705</td>\n",
       "      <td>Austin</td>\n",
       "      <td>TX</td>\n",
       "    </tr>\n",
       "    <tr>\n",
       "      <th>1160</th>\n",
       "      <td>78759</td>\n",
       "      <td>Austin</td>\n",
       "      <td>TX</td>\n",
       "    </tr>\n",
       "    <tr>\n",
       "      <th>1167</th>\n",
       "      <td>78722</td>\n",
       "      <td>Austin</td>\n",
       "      <td>TX</td>\n",
       "    </tr>\n",
       "    <tr>\n",
       "      <th>1351</th>\n",
       "      <td>78702</td>\n",
       "      <td>Austin</td>\n",
       "      <td>TX</td>\n",
       "    </tr>\n",
       "  </tbody>\n",
       "</table>\n",
       "</div>"
      ],
      "text/plain": [
       "        Zip    City State\n",
       "725   78704  Austin  TX  \n",
       "771   78756  Austin  TX  \n",
       "815   78757  Austin  TX  \n",
       "842   78751  Austin  TX  \n",
       "914   78703  Austin  TX  \n",
       "1035  78731  Austin  TX  \n",
       "1137  78705  Austin  TX  \n",
       "1160  78759  Austin  TX  \n",
       "1167  78722  Austin  TX  \n",
       "1351  78702  Austin  TX  "
      ]
     },
     "execution_count": 3192,
     "metadata": {},
     "output_type": "execute_result"
    }
   ],
   "source": [
    "cosine_recommend_zip('02130', 10, city='Austin', state='TX')"
   ]
  },
  {
   "cell_type": "markdown",
   "metadata": {},
   "source": [
    "#### ADDING IN FEATURES: HPI Only"
   ]
  },
  {
   "cell_type": "code",
   "execution_count": 2894,
   "metadata": {},
   "outputs": [
    {
     "data": {
      "text/html": [
       "<div>\n",
       "<style scoped>\n",
       "    .dataframe tbody tr th:only-of-type {\n",
       "        vertical-align: middle;\n",
       "    }\n",
       "\n",
       "    .dataframe tbody tr th {\n",
       "        vertical-align: top;\n",
       "    }\n",
       "\n",
       "    .dataframe thead th {\n",
       "        text-align: right;\n",
       "    }\n",
       "</style>\n",
       "<table border=\"1\" class=\"dataframe\">\n",
       "  <thead>\n",
       "    <tr style=\"text-align: right;\">\n",
       "      <th></th>\n",
       "      <th>HPI_%_Annual_Change</th>\n",
       "      <th>HPI</th>\n",
       "    </tr>\n",
       "    <tr>\n",
       "      <th>zip</th>\n",
       "      <th></th>\n",
       "      <th></th>\n",
       "    </tr>\n",
       "  </thead>\n",
       "  <tbody>\n",
       "    <tr>\n",
       "      <th>01001</th>\n",
       "      <td>4.39</td>\n",
       "      <td>285.09</td>\n",
       "    </tr>\n",
       "    <tr>\n",
       "      <th>01002</th>\n",
       "      <td>7.71</td>\n",
       "      <td>408.00</td>\n",
       "    </tr>\n",
       "    <tr>\n",
       "      <th>01005</th>\n",
       "      <td>6.85</td>\n",
       "      <td>191.23</td>\n",
       "    </tr>\n",
       "    <tr>\n",
       "      <th>01007</th>\n",
       "      <td>5.35</td>\n",
       "      <td>302.99</td>\n",
       "    </tr>\n",
       "    <tr>\n",
       "      <th>01008</th>\n",
       "      <td>4.63</td>\n",
       "      <td>133.45</td>\n",
       "    </tr>\n",
       "  </tbody>\n",
       "</table>\n",
       "</div>"
      ],
      "text/plain": [
       "      HPI_%_Annual_Change     HPI\n",
       "zip                              \n",
       "01001  4.39                285.09\n",
       "01002  7.71                408.00\n",
       "01005  6.85                191.23\n",
       "01007  5.35                302.99\n",
       "01008  4.63                133.45"
      ]
     },
     "execution_count": 2894,
     "metadata": {},
     "output_type": "execute_result"
    }
   ],
   "source": [
    "real_estate_2019.head()"
   ]
  },
  {
   "cell_type": "code",
   "execution_count": 2918,
   "metadata": {},
   "outputs": [],
   "source": [
    "HPI_only = final_del_nans[['HPI']]"
   ]
  },
  {
   "cell_type": "code",
   "execution_count": 2930,
   "metadata": {},
   "outputs": [],
   "source": [
    "scaler = StandardScaler()\n",
    "scaled = scaler.fit_transform(HPI_only)\n",
    "scaled = pd.DataFrame(scaled, index=HPI_only.index, columns=HPI_only.columns)\n",
    "cosine_matrix = cosine_similarity(scaled, scaled)\n",
    "mapping = pd.Series(scaled.reset_index().index, index = scaled.index)"
   ]
  },
  {
   "cell_type": "code",
   "execution_count": 2931,
   "metadata": {},
   "outputs": [],
   "source": [
    "def cosine_recommend_zip(zip_input, num=10, city=None, state=None):\n",
    "    zip_location = pd.read_csv('data/us-zip-code-latitude-and-longitude.csv', sep = ';')\n",
    "    zip_index = int(mapping[zip_input])\n",
    "    #get similarity values with other zip codes\n",
    "    #similarity_score is the list of index and similarity matrix\n",
    "    similarity_score = list(enumerate(cosine_matrix[zip_index]))\n",
    "    #sort in descending order the similarity score of zip inputted with all the other zip codes\n",
    "    similarity_score = sorted(similarity_score, key=lambda x: x[1], reverse=True)\n",
    "    # Get the scores of the 15 most similar zip codes. Ignore the first zip code.\n",
    "    #return zip codes using the mapping series\n",
    "    zip_indices = [i[0] for i in similarity_score]\n",
    "    #similarity_score = similarity_score[1:num+1]\n",
    "    best = []\n",
    "    for i in zip_indices:\n",
    "        best.append(int(HPI_only.reset_index().iloc[i][0]))\n",
    "    df = pd.DataFrame(data = best, columns = ['Zip'])\n",
    "    merged = pd.merge(df,zip_location,on='Zip',how='inner')\n",
    "    merged = merged[['Zip', 'City', 'State']]\n",
    "    if city==None:\n",
    "        if state==None:\n",
    "            return merged[1:num+1]\n",
    "        else:\n",
    "            merged = merged[merged['State']==state]\n",
    "            return merged[0:num]\n",
    "    else:\n",
    "        if state==None:\n",
    "            print('You must enter a state with a city.')\n",
    "        else:\n",
    "            merged = merged[merged['State']==state]\n",
    "            merged = merged[merged['City']==city]\n",
    "            return merged[0:num]"
   ]
  },
  {
   "cell_type": "code",
   "execution_count": 2932,
   "metadata": {},
   "outputs": [
    {
     "data": {
      "text/html": [
       "<div>\n",
       "<style scoped>\n",
       "    .dataframe tbody tr th:only-of-type {\n",
       "        vertical-align: middle;\n",
       "    }\n",
       "\n",
       "    .dataframe tbody tr th {\n",
       "        vertical-align: top;\n",
       "    }\n",
       "\n",
       "    .dataframe thead th {\n",
       "        text-align: right;\n",
       "    }\n",
       "</style>\n",
       "<table border=\"1\" class=\"dataframe\">\n",
       "  <thead>\n",
       "    <tr style=\"text-align: right;\">\n",
       "      <th></th>\n",
       "      <th>Zip</th>\n",
       "      <th>City</th>\n",
       "      <th>State</th>\n",
       "    </tr>\n",
       "  </thead>\n",
       "  <tbody>\n",
       "    <tr>\n",
       "      <th>0</th>\n",
       "      <td>1002</td>\n",
       "      <td>Amherst</td>\n",
       "      <td>MA</td>\n",
       "    </tr>\n",
       "    <tr>\n",
       "      <th>1</th>\n",
       "      <td>1027</td>\n",
       "      <td>Easthampton</td>\n",
       "      <td>MA</td>\n",
       "    </tr>\n",
       "    <tr>\n",
       "      <th>2</th>\n",
       "      <td>1060</td>\n",
       "      <td>Northampton</td>\n",
       "      <td>MA</td>\n",
       "    </tr>\n",
       "    <tr>\n",
       "      <th>3</th>\n",
       "      <td>1062</td>\n",
       "      <td>Florence</td>\n",
       "      <td>MA</td>\n",
       "    </tr>\n",
       "    <tr>\n",
       "      <th>4</th>\n",
       "      <td>1085</td>\n",
       "      <td>Westfield</td>\n",
       "      <td>MA</td>\n",
       "    </tr>\n",
       "    <tr>\n",
       "      <th>5</th>\n",
       "      <td>1089</td>\n",
       "      <td>West Springfield</td>\n",
       "      <td>MA</td>\n",
       "    </tr>\n",
       "    <tr>\n",
       "      <th>6</th>\n",
       "      <td>1106</td>\n",
       "      <td>Longmeadow</td>\n",
       "      <td>MA</td>\n",
       "    </tr>\n",
       "    <tr>\n",
       "      <th>7</th>\n",
       "      <td>1201</td>\n",
       "      <td>Pittsfield</td>\n",
       "      <td>MA</td>\n",
       "    </tr>\n",
       "    <tr>\n",
       "      <th>8</th>\n",
       "      <td>1453</td>\n",
       "      <td>Leominster</td>\n",
       "      <td>MA</td>\n",
       "    </tr>\n",
       "    <tr>\n",
       "      <th>9</th>\n",
       "      <td>1460</td>\n",
       "      <td>Littleton</td>\n",
       "      <td>MA</td>\n",
       "    </tr>\n",
       "  </tbody>\n",
       "</table>\n",
       "</div>"
      ],
      "text/plain": [
       "    Zip              City State\n",
       "0  1002  Amherst           MA  \n",
       "1  1027  Easthampton       MA  \n",
       "2  1060  Northampton       MA  \n",
       "3  1062  Florence          MA  \n",
       "4  1085  Westfield         MA  \n",
       "5  1089  West Springfield  MA  \n",
       "6  1106  Longmeadow        MA  \n",
       "7  1201  Pittsfield        MA  \n",
       "8  1453  Leominster        MA  \n",
       "9  1460  Littleton         MA  "
      ]
     },
     "execution_count": 2932,
     "metadata": {},
     "output_type": "execute_result"
    }
   ],
   "source": [
    "cosine_recommend_zip('75205', 10, city=None, state='MA')"
   ]
  },
  {
   "cell_type": "code",
   "execution_count": 2933,
   "metadata": {},
   "outputs": [],
   "source": [
    "scaler = StandardScaler()\n",
    "scaled = scaler.fit_transform(HPI_only)\n",
    "scaled = pd.DataFrame(scaled, index=HPI_only.index, columns=HPI_only.columns)\n",
    "euclidean_matrix = euclidean_distances(scaled, scaled)\n",
    "mapping = pd.Series(scaled.reset_index().index, index = scaled.index)"
   ]
  },
  {
   "cell_type": "code",
   "execution_count": 2943,
   "metadata": {},
   "outputs": [],
   "source": [
    "def euclidean_recommend_zip(zip_input, num=10, city=None, state=None):\n",
    "    zip_location = pd.read_csv('data/us-zip-code-latitude-and-longitude.csv', sep = ';')\n",
    "    zip_index = int(mapping[zip_input])\n",
    "    #get similarity values with other zip codes\n",
    "    #similarity_score is the list of index and similarity matrix\n",
    "    similarity_score = list(enumerate(euclidean_matrix[zip_index]))\n",
    "    #sort in descending order the similarity score of zip inputted with all the other zip codes\n",
    "    similarity_score = sorted(similarity_score, key=lambda x: x[1], reverse=False)\n",
    "    # Get the scores of the 15 most similar zip codes. Ignore the first zip code.\n",
    "    #return zip codes using the mapping series\n",
    "    zip_indices = [i[0] for i in similarity_score]\n",
    "    #similarity_score = similarity_score[1:num+1]\n",
    "    best = []\n",
    "    for i in zip_indices:\n",
    "        best.append(int(HPI_only.reset_index().iloc[i][0]))\n",
    "    df = pd.DataFrame(data = best, columns = ['Zip'])\n",
    "    merged = pd.merge(df,zip_location,on='Zip',how='inner')\n",
    "    merged = merged[['Zip', 'City', 'State']]\n",
    "    if city==None:\n",
    "        if state==None:\n",
    "            return merged[1:num+1]\n",
    "        else:\n",
    "            merged = merged[merged['State']==state]\n",
    "            return merged[0:num]\n",
    "    else:\n",
    "        if state==None:\n",
    "            print('You must enter a state with a city.')\n",
    "        else:\n",
    "            merged = merged[merged['State']==state]\n",
    "            merged = merged[merged['City']==city]\n",
    "            return merged[0:num]"
   ]
  },
  {
   "cell_type": "code",
   "execution_count": 2944,
   "metadata": {},
   "outputs": [
    {
     "data": {
      "text/html": [
       "<div>\n",
       "<style scoped>\n",
       "    .dataframe tbody tr th:only-of-type {\n",
       "        vertical-align: middle;\n",
       "    }\n",
       "\n",
       "    .dataframe tbody tr th {\n",
       "        vertical-align: top;\n",
       "    }\n",
       "\n",
       "    .dataframe thead th {\n",
       "        text-align: right;\n",
       "    }\n",
       "</style>\n",
       "<table border=\"1\" class=\"dataframe\">\n",
       "  <thead>\n",
       "    <tr style=\"text-align: right;\">\n",
       "      <th></th>\n",
       "      <th>Zip</th>\n",
       "      <th>City</th>\n",
       "      <th>State</th>\n",
       "    </tr>\n",
       "  </thead>\n",
       "  <tbody>\n",
       "    <tr>\n",
       "      <th>62</th>\n",
       "      <td>1810</td>\n",
       "      <td>Andover</td>\n",
       "      <td>MA</td>\n",
       "    </tr>\n",
       "    <tr>\n",
       "      <th>91</th>\n",
       "      <td>2132</td>\n",
       "      <td>West Roxbury</td>\n",
       "      <td>MA</td>\n",
       "    </tr>\n",
       "    <tr>\n",
       "      <th>130</th>\n",
       "      <td>2170</td>\n",
       "      <td>Quincy</td>\n",
       "      <td>MA</td>\n",
       "    </tr>\n",
       "    <tr>\n",
       "      <th>141</th>\n",
       "      <td>2186</td>\n",
       "      <td>Milton</td>\n",
       "      <td>MA</td>\n",
       "    </tr>\n",
       "    <tr>\n",
       "      <th>163</th>\n",
       "      <td>1821</td>\n",
       "      <td>Billerica</td>\n",
       "      <td>MA</td>\n",
       "    </tr>\n",
       "    <tr>\n",
       "      <th>174</th>\n",
       "      <td>2492</td>\n",
       "      <td>Needham</td>\n",
       "      <td>MA</td>\n",
       "    </tr>\n",
       "    <tr>\n",
       "      <th>226</th>\n",
       "      <td>2421</td>\n",
       "      <td>Lexington</td>\n",
       "      <td>MA</td>\n",
       "    </tr>\n",
       "    <tr>\n",
       "      <th>234</th>\n",
       "      <td>2169</td>\n",
       "      <td>Quincy</td>\n",
       "      <td>MA</td>\n",
       "    </tr>\n",
       "    <tr>\n",
       "      <th>264</th>\n",
       "      <td>1701</td>\n",
       "      <td>Framingham</td>\n",
       "      <td>MA</td>\n",
       "    </tr>\n",
       "    <tr>\n",
       "      <th>316</th>\n",
       "      <td>2459</td>\n",
       "      <td>Newton Center</td>\n",
       "      <td>MA</td>\n",
       "    </tr>\n",
       "  </tbody>\n",
       "</table>\n",
       "</div>"
      ],
      "text/plain": [
       "      Zip           City State\n",
       "62   1810  Andover        MA  \n",
       "91   2132  West Roxbury   MA  \n",
       "130  2170  Quincy         MA  \n",
       "141  2186  Milton         MA  \n",
       "163  1821  Billerica      MA  \n",
       "174  2492  Needham        MA  \n",
       "226  2421  Lexington      MA  \n",
       "234  2169  Quincy         MA  \n",
       "264  1701  Framingham     MA  \n",
       "316  2459  Newton Center  MA  "
      ]
     },
     "execution_count": 2944,
     "metadata": {},
     "output_type": "execute_result"
    }
   ],
   "source": [
    "euclidean_recommend_zip('75205', 10, city=None, state='MA')"
   ]
  },
  {
   "cell_type": "code",
   "execution_count": null,
   "metadata": {},
   "outputs": [],
   "source": []
  },
  {
   "cell_type": "code",
   "execution_count": null,
   "metadata": {},
   "outputs": [],
   "source": []
  },
  {
   "cell_type": "code",
   "execution_count": 3260,
   "metadata": {},
   "outputs": [
    {
     "data": {
      "text/html": [
       "<div>\n",
       "<style scoped>\n",
       "    .dataframe tbody tr th:only-of-type {\n",
       "        vertical-align: middle;\n",
       "    }\n",
       "\n",
       "    .dataframe tbody tr th {\n",
       "        vertical-align: top;\n",
       "    }\n",
       "\n",
       "    .dataframe thead th {\n",
       "        text-align: right;\n",
       "    }\n",
       "</style>\n",
       "<table border=\"1\" class=\"dataframe\">\n",
       "  <thead>\n",
       "    <tr style=\"text-align: right;\">\n",
       "      <th></th>\n",
       "      <th>index</th>\n",
       "      <th>total_pop</th>\n",
       "      <th>Percent_Under_5</th>\n",
       "      <th>Percent_5_to_9</th>\n",
       "      <th>Percent_10_to_14</th>\n",
       "      <th>Percent_15_to_19</th>\n",
       "      <th>Percent_20_to_24</th>\n",
       "      <th>Percent_25_to_29</th>\n",
       "      <th>Percent_30_to_34</th>\n",
       "      <th>Percent_35_to_39</th>\n",
       "      <th>Percent_40_to_44</th>\n",
       "      <th>Percent_45_to_49</th>\n",
       "      <th>Percent_50_to_54</th>\n",
       "      <th>Percent_55_to_59</th>\n",
       "      <th>Percent_60_to_64</th>\n",
       "      <th>Percent_65_to_69</th>\n",
       "      <th>Percent_70_to_74</th>\n",
       "      <th>Percent_75_to_79</th>\n",
       "      <th>Percent_80_to_84</th>\n",
       "      <th>Percent_85_Plus</th>\n",
       "      <th>Estimate!!Percent!!Population 25 years and over!!Bachelor's degree</th>\n",
       "      <th>Estimate!!Percent!!Population 25 years and over!!Graduate or professional degree</th>\n",
       "      <th>Estimate!!Percent!!Population 25 years and over!!High school graduate or higher</th>\n",
       "      <th>Estimate!!Percent!!Population 25 years and over!!Some college, no degree</th>\n",
       "      <th>Estimate!!Percent Male!!Population 25 years and over!!Bachelor's degree</th>\n",
       "      <th>Estimate!!Percent Female!!Population 25 years and over!!Bachelor's degree</th>\n",
       "      <th>Estimate!!Percent Male!!Population 25 years and over!!Graduate or professional degree</th>\n",
       "      <th>Estimate!!Percent Female!!Population 25 years and over!!Graduate or professional degree</th>\n",
       "      <th>Estimate!!Percent Male!!Population 25 years and over!!High school graduate or higher</th>\n",
       "      <th>Estimate!!Percent Female!!Population 25 years and over!!High school graduate or higher</th>\n",
       "      <th>Percent_Families_With_Children</th>\n",
       "      <th>Estimate!!Percent!!Families!!EMPLOYMENT STATUS CHARACTERISTICS!!Married-couple families!!Husband in labor force, wife not in labor force</th>\n",
       "      <th>Estimate!!Percent Families with own children under 18 years!!Families!!EMPLOYMENT STATUS CHARACTERISTICS!!Married-couple families!!Husband in labor force, wife not in labor force</th>\n",
       "      <th>Estimate!!Percent!!Families!!EMPLOYMENT STATUS CHARACTERISTICS!!Married-couple families!!Wife in labor force, husband not in labor force</th>\n",
       "      <th>Estimate!!Percent Families with own children under 18 years!!Families!!EMPLOYMENT STATUS CHARACTERISTICS!!Married-couple families!!Wife in labor force, husband not in labor force</th>\n",
       "      <th>Estimate!!Percent!!Families!!EMPLOYMENT STATUS CHARACTERISTICS!!Married-couple families!!Both husband and wife not in labor force</th>\n",
       "      <th>Estimate!!Percent Families with own children under 18 years!!Families!!EMPLOYMENT STATUS CHARACTERISTICS!!Married-couple families!!Both husband and wife not in labor force</th>\n",
       "      <th>Estimate!!Percent!!Families!!EMPLOYMENT STATUS CHARACTERISTICS!!Other families!!Female householder, no husband present</th>\n",
       "      <th>Estimate!!Percent Families with own children under 18 years!!Families!!EMPLOYMENT STATUS CHARACTERISTICS!!Other families!!Female householder, no husband present</th>\n",
       "      <th>Estimate!!Percent!!Families!!EMPLOYMENT STATUS CHARACTERISTICS!!Other families!!Female householder, no husband present!!In labor force</th>\n",
       "      <th>Estimate!!Percent Families with own children under 18 years!!Families!!EMPLOYMENT STATUS CHARACTERISTICS!!Other families!!Female householder, no husband present!!In labor force</th>\n",
       "      <th>Estimate!!Percent!!Families!!EMPLOYMENT STATUS CHARACTERISTICS!!Other families!!Male householder, no wife present</th>\n",
       "      <th>Estimate!!Percent Families with own children under 18 years!!Families!!EMPLOYMENT STATUS CHARACTERISTICS!!Other families!!Male householder, no wife present</th>\n",
       "      <th>Estimate!!Percent!!Families!!EMPLOYMENT STATUS CHARACTERISTICS!!Other families!!Male householder, no wife present!!In labor force</th>\n",
       "      <th>Estimate!!Percent Families with own children under 18 years!!Families!!EMPLOYMENT STATUS CHARACTERISTICS!!Other families!!Male householder, no wife present!!In labor force</th>\n",
       "      <th>Estimate!!Percent!!Families!!EMPLOYMENT STATUS CHARACTERISTICS!!Other families!!Male householder, no wife present!!Not in labor force</th>\n",
       "      <th>Estimate!!Percent!!WORK STATUS CHARACTERISTICS!!Families!!1 worker in the past 12 months</th>\n",
       "      <th>Estimate!!Percent!!WORK STATUS CHARACTERISTICS!!Families!!2 or more workers in the past 12 months</th>\n",
       "      <th>Estimate!!Percent Families with own children under 18 years!!WORK STATUS CHARACTERISTICS!!Families!!No workers in the past 12 months</th>\n",
       "      <th>Estimate!!Percent Families with own children under 18 years!!WORK STATUS CHARACTERISTICS!!Families!!1 worker in the past 12 months</th>\n",
       "      <th>Estimate!!Percent!!WORK STATUS CHARACTERISTICS!!Families!!No workers in the past 12 months</th>\n",
       "      <th>Speaks_Spanish</th>\n",
       "      <th>Speaks_Other_Language</th>\n",
       "      <th>Speak_Only_English</th>\n",
       "      <th>Poor_English_Speaking</th>\n",
       "      <th>Percent_Veterans</th>\n",
       "      <th>Percent_Private_Vehicle</th>\n",
       "      <th>Percent_Public_Trans</th>\n",
       "      <th>Percent_Walked</th>\n",
       "      <th>Percent_Remote_Work</th>\n",
       "      <th>Mean_Commute_Time</th>\n",
       "      <th>Percent_Owner_Occupied</th>\n",
       "      <th>Median_HH_Income</th>\n",
       "      <th>Median_Owner_HH_Income</th>\n",
       "      <th>Median_Renter_HH_Income</th>\n",
       "      <th>Estimate!!Now married (except separated)!!Population 15 years and over</th>\n",
       "      <th>Estimate!!Widowed!!Population 15 years and over</th>\n",
       "      <th>Estimate!!Divorced!!Population 15 years and over</th>\n",
       "      <th>Estimate!!Separated!!Population 15 years and over</th>\n",
       "      <th>Estimate!!Never married!!Population 15 years and over</th>\n",
       "      <th>HPI_%_Annual_Change</th>\n",
       "      <th>HPI</th>\n",
       "      <th>density</th>\n",
       "      <th>Percent_SF_Houses_Det</th>\n",
       "      <th>Percent_SF_Houses_Att</th>\n",
       "      <th>Percent_2F_Apts</th>\n",
       "      <th>Percent_3_4F_Apts</th>\n",
       "      <th>Percent_5_9F_Apts</th>\n",
       "      <th>Percent_10_PlusF_Apts</th>\n",
       "      <th>Percent_Mobile_Home</th>\n",
       "      <th>Percent_Yr_Built_2014_Plus</th>\n",
       "      <th>Percent_Yr_Built_2010_2013</th>\n",
       "      <th>Percent_Yr_Built_2000_2009</th>\n",
       "      <th>Percent_Yr_Built_1980_1999</th>\n",
       "      <th>Percent_Yr_Built_1960_1979</th>\n",
       "      <th>Percent_Yr_Built_1940_1959</th>\n",
       "      <th>Percent_Yr_Built_1939_Prior</th>\n",
       "      <th>Percent_Moved_In_2017_Plus</th>\n",
       "      <th>Percent_Moved_In_2015_2016</th>\n",
       "      <th>Percent_Moved_In_2010_2014</th>\n",
       "      <th>Percent_Moved_In_2000_2009</th>\n",
       "      <th>Percent_Moved_In_1990_1999</th>\n",
       "      <th>Percent_Moved_In_1989_Prior</th>\n",
       "    </tr>\n",
       "  </thead>\n",
       "  <tbody>\n",
       "    <tr>\n",
       "      <th>14437</th>\n",
       "      <td>75205</td>\n",
       "      <td>24879.0</td>\n",
       "      <td>4.1</td>\n",
       "      <td>6.7</td>\n",
       "      <td>7.5</td>\n",
       "      <td>11.5</td>\n",
       "      <td>10.0</td>\n",
       "      <td>5.2</td>\n",
       "      <td>4.5</td>\n",
       "      <td>5.2</td>\n",
       "      <td>6.4</td>\n",
       "      <td>8.0</td>\n",
       "      <td>6.5</td>\n",
       "      <td>6.3</td>\n",
       "      <td>5.9</td>\n",
       "      <td>4.1</td>\n",
       "      <td>2.9</td>\n",
       "      <td>2.1</td>\n",
       "      <td>1.6</td>\n",
       "      <td>1.4</td>\n",
       "      <td>44.4</td>\n",
       "      <td>38.1</td>\n",
       "      <td>98.9</td>\n",
       "      <td>9.4</td>\n",
       "      <td>37.5</td>\n",
       "      <td>50.5</td>\n",
       "      <td>47.9</td>\n",
       "      <td>29.4</td>\n",
       "      <td>99.0</td>\n",
       "      <td>98.9</td>\n",
       "      <td>52.558783</td>\n",
       "      <td>44.6</td>\n",
       "      <td>50.0</td>\n",
       "      <td>3.7</td>\n",
       "      <td>1.8</td>\n",
       "      <td>10.2</td>\n",
       "      <td>1.7</td>\n",
       "      <td>65.2</td>\n",
       "      <td>65.5</td>\n",
       "      <td>40.2</td>\n",
       "      <td>42.4</td>\n",
       "      <td>34.8</td>\n",
       "      <td>34.5</td>\n",
       "      <td>33.1</td>\n",
       "      <td>34.5</td>\n",
       "      <td>1.7</td>\n",
       "      <td>43.3</td>\n",
       "      <td>46.4</td>\n",
       "      <td>4.7</td>\n",
       "      <td>45.4</td>\n",
       "      <td>10.2</td>\n",
       "      <td>4.7</td>\n",
       "      <td>11.3</td>\n",
       "      <td>88.7</td>\n",
       "      <td>2.6</td>\n",
       "      <td>3.7</td>\n",
       "      <td>83.5</td>\n",
       "      <td>0.8</td>\n",
       "      <td>5.6</td>\n",
       "      <td>8.5</td>\n",
       "      <td>19.8</td>\n",
       "      <td>64.45118</td>\n",
       "      <td>146902.0</td>\n",
       "      <td>230395.0</td>\n",
       "      <td>66786.0</td>\n",
       "      <td>50.8</td>\n",
       "      <td>2.6</td>\n",
       "      <td>7.8</td>\n",
       "      <td>0.6</td>\n",
       "      <td>38.1</td>\n",
       "      <td>10.9</td>\n",
       "      <td>1106.12</td>\n",
       "      <td>2046.3</td>\n",
       "      <td>52.9</td>\n",
       "      <td>12.9</td>\n",
       "      <td>2.2</td>\n",
       "      <td>4.0</td>\n",
       "      <td>7.9</td>\n",
       "      <td>20.0</td>\n",
       "      <td>0.0</td>\n",
       "      <td>5.3</td>\n",
       "      <td>2.4</td>\n",
       "      <td>17.4</td>\n",
       "      <td>26.5</td>\n",
       "      <td>12.4</td>\n",
       "      <td>14.1</td>\n",
       "      <td>22.0</td>\n",
       "      <td>7.7</td>\n",
       "      <td>16.4</td>\n",
       "      <td>31.7</td>\n",
       "      <td>24.3</td>\n",
       "      <td>11.4</td>\n",
       "      <td>8.5</td>\n",
       "    </tr>\n",
       "  </tbody>\n",
       "</table>\n",
       "</div>"
      ],
      "text/plain": [
       "       index  total_pop  Percent_Under_5  Percent_5_to_9  Percent_10_to_14  \\\n",
       "14437  75205  24879.0    4.1              6.7             7.5                \n",
       "\n",
       "       Percent_15_to_19  Percent_20_to_24  Percent_25_to_29  Percent_30_to_34  \\\n",
       "14437  11.5              10.0              5.2               4.5                \n",
       "\n",
       "       Percent_35_to_39  Percent_40_to_44  Percent_45_to_49  Percent_50_to_54  \\\n",
       "14437  5.2               6.4               8.0               6.5                \n",
       "\n",
       "       Percent_55_to_59  Percent_60_to_64  Percent_65_to_69  Percent_70_to_74  \\\n",
       "14437  6.3               5.9               4.1               2.9                \n",
       "\n",
       "       Percent_75_to_79  Percent_80_to_84  Percent_85_Plus  \\\n",
       "14437  2.1               1.6               1.4               \n",
       "\n",
       "       Estimate!!Percent!!Population 25 years and over!!Bachelor's degree  \\\n",
       "14437  44.4                                                                 \n",
       "\n",
       "       Estimate!!Percent!!Population 25 years and over!!Graduate or professional degree  \\\n",
       "14437  38.1                                                                               \n",
       "\n",
       "       Estimate!!Percent!!Population 25 years and over!!High school graduate or higher  \\\n",
       "14437  98.9                                                                              \n",
       "\n",
       "       Estimate!!Percent!!Population 25 years and over!!Some college, no degree  \\\n",
       "14437  9.4                                                                        \n",
       "\n",
       "       Estimate!!Percent Male!!Population 25 years and over!!Bachelor's degree  \\\n",
       "14437  37.5                                                                      \n",
       "\n",
       "       Estimate!!Percent Female!!Population 25 years and over!!Bachelor's degree  \\\n",
       "14437  50.5                                                                        \n",
       "\n",
       "       Estimate!!Percent Male!!Population 25 years and over!!Graduate or professional degree  \\\n",
       "14437  47.9                                                                                    \n",
       "\n",
       "       Estimate!!Percent Female!!Population 25 years and over!!Graduate or professional degree  \\\n",
       "14437  29.4                                                                                      \n",
       "\n",
       "       Estimate!!Percent Male!!Population 25 years and over!!High school graduate or higher  \\\n",
       "14437  99.0                                                                                   \n",
       "\n",
       "       Estimate!!Percent Female!!Population 25 years and over!!High school graduate or higher  \\\n",
       "14437  98.9                                                                                     \n",
       "\n",
       "       Percent_Families_With_Children  \\\n",
       "14437  52.558783                        \n",
       "\n",
       "       Estimate!!Percent!!Families!!EMPLOYMENT STATUS CHARACTERISTICS!!Married-couple families!!Husband in labor force, wife not in labor force  \\\n",
       "14437  44.6                                                                                                                                       \n",
       "\n",
       "       Estimate!!Percent Families with own children under 18 years!!Families!!EMPLOYMENT STATUS CHARACTERISTICS!!Married-couple families!!Husband in labor force, wife not in labor force  \\\n",
       "14437  50.0                                                                                                                                                                                 \n",
       "\n",
       "       Estimate!!Percent!!Families!!EMPLOYMENT STATUS CHARACTERISTICS!!Married-couple families!!Wife in labor force, husband not in labor force  \\\n",
       "14437  3.7                                                                                                                                        \n",
       "\n",
       "       Estimate!!Percent Families with own children under 18 years!!Families!!EMPLOYMENT STATUS CHARACTERISTICS!!Married-couple families!!Wife in labor force, husband not in labor force  \\\n",
       "14437  1.8                                                                                                                                                                                  \n",
       "\n",
       "       Estimate!!Percent!!Families!!EMPLOYMENT STATUS CHARACTERISTICS!!Married-couple families!!Both husband and wife not in labor force  \\\n",
       "14437  10.2                                                                                                                                \n",
       "\n",
       "       Estimate!!Percent Families with own children under 18 years!!Families!!EMPLOYMENT STATUS CHARACTERISTICS!!Married-couple families!!Both husband and wife not in labor force  \\\n",
       "14437  1.7                                                                                                                                                                           \n",
       "\n",
       "       Estimate!!Percent!!Families!!EMPLOYMENT STATUS CHARACTERISTICS!!Other families!!Female householder, no husband present  \\\n",
       "14437  65.2                                                                                                                     \n",
       "\n",
       "       Estimate!!Percent Families with own children under 18 years!!Families!!EMPLOYMENT STATUS CHARACTERISTICS!!Other families!!Female householder, no husband present  \\\n",
       "14437  65.5                                                                                                                                                               \n",
       "\n",
       "       Estimate!!Percent!!Families!!EMPLOYMENT STATUS CHARACTERISTICS!!Other families!!Female householder, no husband present!!In labor force  \\\n",
       "14437  40.2                                                                                                                                     \n",
       "\n",
       "       Estimate!!Percent Families with own children under 18 years!!Families!!EMPLOYMENT STATUS CHARACTERISTICS!!Other families!!Female householder, no husband present!!In labor force  \\\n",
       "14437  42.4                                                                                                                                                                               \n",
       "\n",
       "       Estimate!!Percent!!Families!!EMPLOYMENT STATUS CHARACTERISTICS!!Other families!!Male householder, no wife present  \\\n",
       "14437  34.8                                                                                                                \n",
       "\n",
       "       Estimate!!Percent Families with own children under 18 years!!Families!!EMPLOYMENT STATUS CHARACTERISTICS!!Other families!!Male householder, no wife present  \\\n",
       "14437  34.5                                                                                                                                                          \n",
       "\n",
       "       Estimate!!Percent!!Families!!EMPLOYMENT STATUS CHARACTERISTICS!!Other families!!Male householder, no wife present!!In labor force  \\\n",
       "14437  33.1                                                                                                                                \n",
       "\n",
       "       Estimate!!Percent Families with own children under 18 years!!Families!!EMPLOYMENT STATUS CHARACTERISTICS!!Other families!!Male householder, no wife present!!In labor force  \\\n",
       "14437  34.5                                                                                                                                                                          \n",
       "\n",
       "       Estimate!!Percent!!Families!!EMPLOYMENT STATUS CHARACTERISTICS!!Other families!!Male householder, no wife present!!Not in labor force  \\\n",
       "14437  1.7                                                                                                                                     \n",
       "\n",
       "       Estimate!!Percent!!WORK STATUS CHARACTERISTICS!!Families!!1 worker in the past 12 months  \\\n",
       "14437  43.3                                                                                       \n",
       "\n",
       "       Estimate!!Percent!!WORK STATUS CHARACTERISTICS!!Families!!2 or more workers in the past 12 months  \\\n",
       "14437  46.4                                                                                                \n",
       "\n",
       "       Estimate!!Percent Families with own children under 18 years!!WORK STATUS CHARACTERISTICS!!Families!!No workers in the past 12 months  \\\n",
       "14437  4.7                                                                                                                                    \n",
       "\n",
       "       Estimate!!Percent Families with own children under 18 years!!WORK STATUS CHARACTERISTICS!!Families!!1 worker in the past 12 months  \\\n",
       "14437  45.4                                                                                                                                 \n",
       "\n",
       "       Estimate!!Percent!!WORK STATUS CHARACTERISTICS!!Families!!No workers in the past 12 months  \\\n",
       "14437  10.2                                                                                         \n",
       "\n",
       "       Speaks_Spanish  Speaks_Other_Language  Speak_Only_English  \\\n",
       "14437  4.7             11.3                   88.7                 \n",
       "\n",
       "       Poor_English_Speaking  Percent_Veterans  Percent_Private_Vehicle  \\\n",
       "14437  2.6                    3.7               83.5                      \n",
       "\n",
       "       Percent_Public_Trans  Percent_Walked  Percent_Remote_Work  \\\n",
       "14437  0.8                   5.6             8.5                   \n",
       "\n",
       "       Mean_Commute_Time  Percent_Owner_Occupied  Median_HH_Income  \\\n",
       "14437  19.8               64.45118                146902.0           \n",
       "\n",
       "       Median_Owner_HH_Income  Median_Renter_HH_Income  \\\n",
       "14437  230395.0                66786.0                   \n",
       "\n",
       "       Estimate!!Now married (except separated)!!Population 15 years and over  \\\n",
       "14437  50.8                                                                     \n",
       "\n",
       "       Estimate!!Widowed!!Population 15 years and over  \\\n",
       "14437  2.6                                               \n",
       "\n",
       "       Estimate!!Divorced!!Population 15 years and over  \\\n",
       "14437  7.8                                                \n",
       "\n",
       "       Estimate!!Separated!!Population 15 years and over  \\\n",
       "14437  0.6                                                 \n",
       "\n",
       "       Estimate!!Never married!!Population 15 years and over  \\\n",
       "14437  38.1                                                    \n",
       "\n",
       "       HPI_%_Annual_Change      HPI  density  Percent_SF_Houses_Det  \\\n",
       "14437  10.9                 1106.12  2046.3   52.9                    \n",
       "\n",
       "       Percent_SF_Houses_Att  Percent_2F_Apts  Percent_3_4F_Apts  \\\n",
       "14437  12.9                   2.2              4.0                 \n",
       "\n",
       "       Percent_5_9F_Apts  Percent_10_PlusF_Apts  Percent_Mobile_Home  \\\n",
       "14437  7.9                20.0                   0.0                   \n",
       "\n",
       "       Percent_Yr_Built_2014_Plus  Percent_Yr_Built_2010_2013  \\\n",
       "14437  5.3                         2.4                          \n",
       "\n",
       "       Percent_Yr_Built_2000_2009  Percent_Yr_Built_1980_1999  \\\n",
       "14437  17.4                        26.5                         \n",
       "\n",
       "       Percent_Yr_Built_1960_1979  Percent_Yr_Built_1940_1959  \\\n",
       "14437  12.4                        14.1                         \n",
       "\n",
       "       Percent_Yr_Built_1939_Prior  Percent_Moved_In_2017_Plus  \\\n",
       "14437  22.0                         7.7                          \n",
       "\n",
       "       Percent_Moved_In_2015_2016  Percent_Moved_In_2010_2014  \\\n",
       "14437  16.4                        31.7                         \n",
       "\n",
       "       Percent_Moved_In_2000_2009  Percent_Moved_In_1990_1999  \\\n",
       "14437  24.3                        11.4                         \n",
       "\n",
       "       Percent_Moved_In_1989_Prior  \n",
       "14437  8.5                          "
      ]
     },
     "execution_count": 3260,
     "metadata": {},
     "output_type": "execute_result"
    }
   ],
   "source": [
    "final.reset_index()[final.reset_index()['index'] == '75205']"
   ]
  },
  {
   "cell_type": "code",
   "execution_count": 3261,
   "metadata": {},
   "outputs": [
    {
     "data": {
      "text/html": [
       "<div>\n",
       "<style scoped>\n",
       "    .dataframe tbody tr th:only-of-type {\n",
       "        vertical-align: middle;\n",
       "    }\n",
       "\n",
       "    .dataframe tbody tr th {\n",
       "        vertical-align: top;\n",
       "    }\n",
       "\n",
       "    .dataframe thead th {\n",
       "        text-align: right;\n",
       "    }\n",
       "</style>\n",
       "<table border=\"1\" class=\"dataframe\">\n",
       "  <thead>\n",
       "    <tr style=\"text-align: right;\">\n",
       "      <th></th>\n",
       "      <th>index</th>\n",
       "      <th>total_pop</th>\n",
       "      <th>Percent_Under_5</th>\n",
       "      <th>Percent_5_to_9</th>\n",
       "      <th>Percent_10_to_14</th>\n",
       "      <th>Percent_15_to_19</th>\n",
       "      <th>Percent_20_to_24</th>\n",
       "      <th>Percent_25_to_29</th>\n",
       "      <th>Percent_30_to_34</th>\n",
       "      <th>Percent_35_to_39</th>\n",
       "      <th>Percent_40_to_44</th>\n",
       "      <th>Percent_45_to_49</th>\n",
       "      <th>Percent_50_to_54</th>\n",
       "      <th>Percent_55_to_59</th>\n",
       "      <th>Percent_60_to_64</th>\n",
       "      <th>Percent_65_to_69</th>\n",
       "      <th>Percent_70_to_74</th>\n",
       "      <th>Percent_75_to_79</th>\n",
       "      <th>Percent_80_to_84</th>\n",
       "      <th>Percent_85_Plus</th>\n",
       "      <th>Estimate!!Percent!!Population 25 years and over!!Bachelor's degree</th>\n",
       "      <th>Estimate!!Percent!!Population 25 years and over!!Graduate or professional degree</th>\n",
       "      <th>Estimate!!Percent!!Population 25 years and over!!High school graduate or higher</th>\n",
       "      <th>Estimate!!Percent!!Population 25 years and over!!Some college, no degree</th>\n",
       "      <th>Estimate!!Percent Male!!Population 25 years and over!!Bachelor's degree</th>\n",
       "      <th>Estimate!!Percent Female!!Population 25 years and over!!Bachelor's degree</th>\n",
       "      <th>Estimate!!Percent Male!!Population 25 years and over!!Graduate or professional degree</th>\n",
       "      <th>Estimate!!Percent Female!!Population 25 years and over!!Graduate or professional degree</th>\n",
       "      <th>Estimate!!Percent Male!!Population 25 years and over!!High school graduate or higher</th>\n",
       "      <th>Estimate!!Percent Female!!Population 25 years and over!!High school graduate or higher</th>\n",
       "      <th>Percent_Families_With_Children</th>\n",
       "      <th>Estimate!!Percent!!Families!!EMPLOYMENT STATUS CHARACTERISTICS!!Married-couple families!!Husband in labor force, wife not in labor force</th>\n",
       "      <th>Estimate!!Percent Families with own children under 18 years!!Families!!EMPLOYMENT STATUS CHARACTERISTICS!!Married-couple families!!Husband in labor force, wife not in labor force</th>\n",
       "      <th>Estimate!!Percent!!Families!!EMPLOYMENT STATUS CHARACTERISTICS!!Married-couple families!!Wife in labor force, husband not in labor force</th>\n",
       "      <th>Estimate!!Percent Families with own children under 18 years!!Families!!EMPLOYMENT STATUS CHARACTERISTICS!!Married-couple families!!Wife in labor force, husband not in labor force</th>\n",
       "      <th>Estimate!!Percent!!Families!!EMPLOYMENT STATUS CHARACTERISTICS!!Married-couple families!!Both husband and wife not in labor force</th>\n",
       "      <th>Estimate!!Percent Families with own children under 18 years!!Families!!EMPLOYMENT STATUS CHARACTERISTICS!!Married-couple families!!Both husband and wife not in labor force</th>\n",
       "      <th>Estimate!!Percent!!Families!!EMPLOYMENT STATUS CHARACTERISTICS!!Other families!!Female householder, no husband present</th>\n",
       "      <th>Estimate!!Percent Families with own children under 18 years!!Families!!EMPLOYMENT STATUS CHARACTERISTICS!!Other families!!Female householder, no husband present</th>\n",
       "      <th>Estimate!!Percent!!Families!!EMPLOYMENT STATUS CHARACTERISTICS!!Other families!!Female householder, no husband present!!In labor force</th>\n",
       "      <th>Estimate!!Percent Families with own children under 18 years!!Families!!EMPLOYMENT STATUS CHARACTERISTICS!!Other families!!Female householder, no husband present!!In labor force</th>\n",
       "      <th>Estimate!!Percent!!Families!!EMPLOYMENT STATUS CHARACTERISTICS!!Other families!!Male householder, no wife present</th>\n",
       "      <th>Estimate!!Percent Families with own children under 18 years!!Families!!EMPLOYMENT STATUS CHARACTERISTICS!!Other families!!Male householder, no wife present</th>\n",
       "      <th>Estimate!!Percent!!Families!!EMPLOYMENT STATUS CHARACTERISTICS!!Other families!!Male householder, no wife present!!In labor force</th>\n",
       "      <th>Estimate!!Percent Families with own children under 18 years!!Families!!EMPLOYMENT STATUS CHARACTERISTICS!!Other families!!Male householder, no wife present!!In labor force</th>\n",
       "      <th>Estimate!!Percent!!Families!!EMPLOYMENT STATUS CHARACTERISTICS!!Other families!!Male householder, no wife present!!Not in labor force</th>\n",
       "      <th>Estimate!!Percent!!WORK STATUS CHARACTERISTICS!!Families!!1 worker in the past 12 months</th>\n",
       "      <th>Estimate!!Percent!!WORK STATUS CHARACTERISTICS!!Families!!2 or more workers in the past 12 months</th>\n",
       "      <th>Estimate!!Percent Families with own children under 18 years!!WORK STATUS CHARACTERISTICS!!Families!!No workers in the past 12 months</th>\n",
       "      <th>Estimate!!Percent Families with own children under 18 years!!WORK STATUS CHARACTERISTICS!!Families!!1 worker in the past 12 months</th>\n",
       "      <th>Estimate!!Percent!!WORK STATUS CHARACTERISTICS!!Families!!No workers in the past 12 months</th>\n",
       "      <th>Speaks_Spanish</th>\n",
       "      <th>Speaks_Other_Language</th>\n",
       "      <th>Speak_Only_English</th>\n",
       "      <th>Poor_English_Speaking</th>\n",
       "      <th>Percent_Veterans</th>\n",
       "      <th>Percent_Private_Vehicle</th>\n",
       "      <th>Percent_Public_Trans</th>\n",
       "      <th>Percent_Walked</th>\n",
       "      <th>Percent_Remote_Work</th>\n",
       "      <th>Mean_Commute_Time</th>\n",
       "      <th>Percent_Owner_Occupied</th>\n",
       "      <th>Median_HH_Income</th>\n",
       "      <th>Median_Owner_HH_Income</th>\n",
       "      <th>Median_Renter_HH_Income</th>\n",
       "      <th>Estimate!!Now married (except separated)!!Population 15 years and over</th>\n",
       "      <th>Estimate!!Widowed!!Population 15 years and over</th>\n",
       "      <th>Estimate!!Divorced!!Population 15 years and over</th>\n",
       "      <th>Estimate!!Separated!!Population 15 years and over</th>\n",
       "      <th>Estimate!!Never married!!Population 15 years and over</th>\n",
       "      <th>HPI_%_Annual_Change</th>\n",
       "      <th>HPI</th>\n",
       "      <th>density</th>\n",
       "      <th>Percent_SF_Houses_Det</th>\n",
       "      <th>Percent_SF_Houses_Att</th>\n",
       "      <th>Percent_2F_Apts</th>\n",
       "      <th>Percent_3_4F_Apts</th>\n",
       "      <th>Percent_5_9F_Apts</th>\n",
       "      <th>Percent_10_PlusF_Apts</th>\n",
       "      <th>Percent_Mobile_Home</th>\n",
       "      <th>Percent_Yr_Built_2014_Plus</th>\n",
       "      <th>Percent_Yr_Built_2010_2013</th>\n",
       "      <th>Percent_Yr_Built_2000_2009</th>\n",
       "      <th>Percent_Yr_Built_1980_1999</th>\n",
       "      <th>Percent_Yr_Built_1960_1979</th>\n",
       "      <th>Percent_Yr_Built_1940_1959</th>\n",
       "      <th>Percent_Yr_Built_1939_Prior</th>\n",
       "      <th>Percent_Moved_In_2017_Plus</th>\n",
       "      <th>Percent_Moved_In_2015_2016</th>\n",
       "      <th>Percent_Moved_In_2010_2014</th>\n",
       "      <th>Percent_Moved_In_2000_2009</th>\n",
       "      <th>Percent_Moved_In_1990_1999</th>\n",
       "      <th>Percent_Moved_In_1989_Prior</th>\n",
       "    </tr>\n",
       "  </thead>\n",
       "  <tbody>\n",
       "    <tr>\n",
       "      <th>468</th>\n",
       "      <td>02481</td>\n",
       "      <td>16447.0</td>\n",
       "      <td>6.4</td>\n",
       "      <td>7.8</td>\n",
       "      <td>9.4</td>\n",
       "      <td>12.9</td>\n",
       "      <td>7.9</td>\n",
       "      <td>2.6</td>\n",
       "      <td>1.9</td>\n",
       "      <td>5.1</td>\n",
       "      <td>6.0</td>\n",
       "      <td>7.7</td>\n",
       "      <td>8.3</td>\n",
       "      <td>5.7</td>\n",
       "      <td>4.8</td>\n",
       "      <td>4.6</td>\n",
       "      <td>2.8</td>\n",
       "      <td>2.4</td>\n",
       "      <td>1.9</td>\n",
       "      <td>2.0</td>\n",
       "      <td>35.7</td>\n",
       "      <td>50.3</td>\n",
       "      <td>98.3</td>\n",
       "      <td>5.7</td>\n",
       "      <td>33.2</td>\n",
       "      <td>38.0</td>\n",
       "      <td>57.2</td>\n",
       "      <td>44.1</td>\n",
       "      <td>98.6</td>\n",
       "      <td>98.0</td>\n",
       "      <td>57.533553</td>\n",
       "      <td>38.6</td>\n",
       "      <td>45.4</td>\n",
       "      <td>3.6</td>\n",
       "      <td>3.5</td>\n",
       "      <td>11.4</td>\n",
       "      <td>2.6</td>\n",
       "      <td>77.4</td>\n",
       "      <td>83.8</td>\n",
       "      <td>54.4</td>\n",
       "      <td>66.1</td>\n",
       "      <td>22.6</td>\n",
       "      <td>16.2</td>\n",
       "      <td>13.5</td>\n",
       "      <td>13.0</td>\n",
       "      <td>9.1</td>\n",
       "      <td>36.8</td>\n",
       "      <td>51.9</td>\n",
       "      <td>7.0</td>\n",
       "      <td>41.0</td>\n",
       "      <td>11.2</td>\n",
       "      <td>2.7</td>\n",
       "      <td>18.2</td>\n",
       "      <td>81.8</td>\n",
       "      <td>3.7</td>\n",
       "      <td>4.0</td>\n",
       "      <td>66.2</td>\n",
       "      <td>11.0</td>\n",
       "      <td>11.4</td>\n",
       "      <td>9.7</td>\n",
       "      <td>29.0</td>\n",
       "      <td>83.997483</td>\n",
       "      <td>204695.0</td>\n",
       "      <td>233266.0</td>\n",
       "      <td>84563.0</td>\n",
       "      <td>57.6</td>\n",
       "      <td>3.5</td>\n",
       "      <td>4.6</td>\n",
       "      <td>0.9</td>\n",
       "      <td>33.4</td>\n",
       "      <td>1.83</td>\n",
       "      <td>910.76</td>\n",
       "      <td>1111.8</td>\n",
       "      <td>86.7</td>\n",
       "      <td>3.5</td>\n",
       "      <td>0.8</td>\n",
       "      <td>0.8</td>\n",
       "      <td>1.0</td>\n",
       "      <td>7.2</td>\n",
       "      <td>0.0</td>\n",
       "      <td>2.4</td>\n",
       "      <td>3.7</td>\n",
       "      <td>8.7</td>\n",
       "      <td>5.2</td>\n",
       "      <td>13.6</td>\n",
       "      <td>28.5</td>\n",
       "      <td>37.8</td>\n",
       "      <td>2.8</td>\n",
       "      <td>9.5</td>\n",
       "      <td>25.1</td>\n",
       "      <td>25.3</td>\n",
       "      <td>19.1</td>\n",
       "      <td>18.2</td>\n",
       "    </tr>\n",
       "  </tbody>\n",
       "</table>\n",
       "</div>"
      ],
      "text/plain": [
       "     index  total_pop  Percent_Under_5  Percent_5_to_9  Percent_10_to_14  \\\n",
       "468  02481  16447.0    6.4              7.8             9.4                \n",
       "\n",
       "     Percent_15_to_19  Percent_20_to_24  Percent_25_to_29  Percent_30_to_34  \\\n",
       "468  12.9              7.9               2.6               1.9                \n",
       "\n",
       "     Percent_35_to_39  Percent_40_to_44  Percent_45_to_49  Percent_50_to_54  \\\n",
       "468  5.1               6.0               7.7               8.3                \n",
       "\n",
       "     Percent_55_to_59  Percent_60_to_64  Percent_65_to_69  Percent_70_to_74  \\\n",
       "468  5.7               4.8               4.6               2.8                \n",
       "\n",
       "     Percent_75_to_79  Percent_80_to_84  Percent_85_Plus  \\\n",
       "468  2.4               1.9               2.0               \n",
       "\n",
       "     Estimate!!Percent!!Population 25 years and over!!Bachelor's degree  \\\n",
       "468  35.7                                                                 \n",
       "\n",
       "     Estimate!!Percent!!Population 25 years and over!!Graduate or professional degree  \\\n",
       "468  50.3                                                                               \n",
       "\n",
       "     Estimate!!Percent!!Population 25 years and over!!High school graduate or higher  \\\n",
       "468  98.3                                                                              \n",
       "\n",
       "     Estimate!!Percent!!Population 25 years and over!!Some college, no degree  \\\n",
       "468  5.7                                                                        \n",
       "\n",
       "     Estimate!!Percent Male!!Population 25 years and over!!Bachelor's degree  \\\n",
       "468  33.2                                                                      \n",
       "\n",
       "     Estimate!!Percent Female!!Population 25 years and over!!Bachelor's degree  \\\n",
       "468  38.0                                                                        \n",
       "\n",
       "     Estimate!!Percent Male!!Population 25 years and over!!Graduate or professional degree  \\\n",
       "468  57.2                                                                                    \n",
       "\n",
       "     Estimate!!Percent Female!!Population 25 years and over!!Graduate or professional degree  \\\n",
       "468  44.1                                                                                      \n",
       "\n",
       "     Estimate!!Percent Male!!Population 25 years and over!!High school graduate or higher  \\\n",
       "468  98.6                                                                                   \n",
       "\n",
       "     Estimate!!Percent Female!!Population 25 years and over!!High school graduate or higher  \\\n",
       "468  98.0                                                                                     \n",
       "\n",
       "     Percent_Families_With_Children  \\\n",
       "468  57.533553                        \n",
       "\n",
       "     Estimate!!Percent!!Families!!EMPLOYMENT STATUS CHARACTERISTICS!!Married-couple families!!Husband in labor force, wife not in labor force  \\\n",
       "468  38.6                                                                                                                                       \n",
       "\n",
       "     Estimate!!Percent Families with own children under 18 years!!Families!!EMPLOYMENT STATUS CHARACTERISTICS!!Married-couple families!!Husband in labor force, wife not in labor force  \\\n",
       "468  45.4                                                                                                                                                                                 \n",
       "\n",
       "     Estimate!!Percent!!Families!!EMPLOYMENT STATUS CHARACTERISTICS!!Married-couple families!!Wife in labor force, husband not in labor force  \\\n",
       "468  3.6                                                                                                                                        \n",
       "\n",
       "     Estimate!!Percent Families with own children under 18 years!!Families!!EMPLOYMENT STATUS CHARACTERISTICS!!Married-couple families!!Wife in labor force, husband not in labor force  \\\n",
       "468  3.5                                                                                                                                                                                  \n",
       "\n",
       "     Estimate!!Percent!!Families!!EMPLOYMENT STATUS CHARACTERISTICS!!Married-couple families!!Both husband and wife not in labor force  \\\n",
       "468  11.4                                                                                                                                \n",
       "\n",
       "     Estimate!!Percent Families with own children under 18 years!!Families!!EMPLOYMENT STATUS CHARACTERISTICS!!Married-couple families!!Both husband and wife not in labor force  \\\n",
       "468  2.6                                                                                                                                                                           \n",
       "\n",
       "     Estimate!!Percent!!Families!!EMPLOYMENT STATUS CHARACTERISTICS!!Other families!!Female householder, no husband present  \\\n",
       "468  77.4                                                                                                                     \n",
       "\n",
       "     Estimate!!Percent Families with own children under 18 years!!Families!!EMPLOYMENT STATUS CHARACTERISTICS!!Other families!!Female householder, no husband present  \\\n",
       "468  83.8                                                                                                                                                               \n",
       "\n",
       "     Estimate!!Percent!!Families!!EMPLOYMENT STATUS CHARACTERISTICS!!Other families!!Female householder, no husband present!!In labor force  \\\n",
       "468  54.4                                                                                                                                     \n",
       "\n",
       "     Estimate!!Percent Families with own children under 18 years!!Families!!EMPLOYMENT STATUS CHARACTERISTICS!!Other families!!Female householder, no husband present!!In labor force  \\\n",
       "468  66.1                                                                                                                                                                               \n",
       "\n",
       "     Estimate!!Percent!!Families!!EMPLOYMENT STATUS CHARACTERISTICS!!Other families!!Male householder, no wife present  \\\n",
       "468  22.6                                                                                                                \n",
       "\n",
       "     Estimate!!Percent Families with own children under 18 years!!Families!!EMPLOYMENT STATUS CHARACTERISTICS!!Other families!!Male householder, no wife present  \\\n",
       "468  16.2                                                                                                                                                          \n",
       "\n",
       "     Estimate!!Percent!!Families!!EMPLOYMENT STATUS CHARACTERISTICS!!Other families!!Male householder, no wife present!!In labor force  \\\n",
       "468  13.5                                                                                                                                \n",
       "\n",
       "     Estimate!!Percent Families with own children under 18 years!!Families!!EMPLOYMENT STATUS CHARACTERISTICS!!Other families!!Male householder, no wife present!!In labor force  \\\n",
       "468  13.0                                                                                                                                                                          \n",
       "\n",
       "     Estimate!!Percent!!Families!!EMPLOYMENT STATUS CHARACTERISTICS!!Other families!!Male householder, no wife present!!Not in labor force  \\\n",
       "468  9.1                                                                                                                                     \n",
       "\n",
       "     Estimate!!Percent!!WORK STATUS CHARACTERISTICS!!Families!!1 worker in the past 12 months  \\\n",
       "468  36.8                                                                                       \n",
       "\n",
       "     Estimate!!Percent!!WORK STATUS CHARACTERISTICS!!Families!!2 or more workers in the past 12 months  \\\n",
       "468  51.9                                                                                                \n",
       "\n",
       "     Estimate!!Percent Families with own children under 18 years!!WORK STATUS CHARACTERISTICS!!Families!!No workers in the past 12 months  \\\n",
       "468  7.0                                                                                                                                    \n",
       "\n",
       "     Estimate!!Percent Families with own children under 18 years!!WORK STATUS CHARACTERISTICS!!Families!!1 worker in the past 12 months  \\\n",
       "468  41.0                                                                                                                                 \n",
       "\n",
       "     Estimate!!Percent!!WORK STATUS CHARACTERISTICS!!Families!!No workers in the past 12 months  \\\n",
       "468  11.2                                                                                         \n",
       "\n",
       "     Speaks_Spanish  Speaks_Other_Language  Speak_Only_English  \\\n",
       "468  2.7             18.2                   81.8                 \n",
       "\n",
       "     Poor_English_Speaking  Percent_Veterans  Percent_Private_Vehicle  \\\n",
       "468  3.7                    4.0               66.2                      \n",
       "\n",
       "     Percent_Public_Trans  Percent_Walked  Percent_Remote_Work  \\\n",
       "468  11.0                  11.4            9.7                   \n",
       "\n",
       "     Mean_Commute_Time  Percent_Owner_Occupied  Median_HH_Income  \\\n",
       "468  29.0               83.997483               204695.0           \n",
       "\n",
       "     Median_Owner_HH_Income  Median_Renter_HH_Income  \\\n",
       "468  233266.0                84563.0                   \n",
       "\n",
       "     Estimate!!Now married (except separated)!!Population 15 years and over  \\\n",
       "468  57.6                                                                     \n",
       "\n",
       "     Estimate!!Widowed!!Population 15 years and over  \\\n",
       "468  3.5                                               \n",
       "\n",
       "     Estimate!!Divorced!!Population 15 years and over  \\\n",
       "468  4.6                                                \n",
       "\n",
       "     Estimate!!Separated!!Population 15 years and over  \\\n",
       "468  0.9                                                 \n",
       "\n",
       "     Estimate!!Never married!!Population 15 years and over  \\\n",
       "468  33.4                                                    \n",
       "\n",
       "     HPI_%_Annual_Change     HPI  density  Percent_SF_Houses_Det  \\\n",
       "468  1.83                 910.76  1111.8   86.7                    \n",
       "\n",
       "     Percent_SF_Houses_Att  Percent_2F_Apts  Percent_3_4F_Apts  \\\n",
       "468  3.5                    0.8              0.8                 \n",
       "\n",
       "     Percent_5_9F_Apts  Percent_10_PlusF_Apts  Percent_Mobile_Home  \\\n",
       "468  1.0                7.2                    0.0                   \n",
       "\n",
       "     Percent_Yr_Built_2014_Plus  Percent_Yr_Built_2010_2013  \\\n",
       "468  2.4                         3.7                          \n",
       "\n",
       "     Percent_Yr_Built_2000_2009  Percent_Yr_Built_1980_1999  \\\n",
       "468  8.7                         5.2                          \n",
       "\n",
       "     Percent_Yr_Built_1960_1979  Percent_Yr_Built_1940_1959  \\\n",
       "468  13.6                        28.5                         \n",
       "\n",
       "     Percent_Yr_Built_1939_Prior  Percent_Moved_In_2017_Plus  \\\n",
       "468  37.8                         2.8                          \n",
       "\n",
       "     Percent_Moved_In_2015_2016  Percent_Moved_In_2010_2014  \\\n",
       "468  9.5                         25.1                         \n",
       "\n",
       "     Percent_Moved_In_2000_2009  Percent_Moved_In_1990_1999  \\\n",
       "468  25.3                        19.1                         \n",
       "\n",
       "     Percent_Moved_In_1989_Prior  \n",
       "468  18.2                         "
      ]
     },
     "execution_count": 3261,
     "metadata": {},
     "output_type": "execute_result"
    }
   ],
   "source": [
    "final.reset_index()[final.reset_index()['index'] == '02481']"
   ]
  },
  {
   "cell_type": "code",
   "execution_count": null,
   "metadata": {},
   "outputs": [],
   "source": []
  }
 ],
 "metadata": {
  "kernelspec": {
   "display_name": "Python 3",
   "language": "python",
   "name": "python3"
  },
  "language_info": {
   "codemirror_mode": {
    "name": "ipython",
    "version": 3
   },
   "file_extension": ".py",
   "mimetype": "text/x-python",
   "name": "python",
   "nbconvert_exporter": "python",
   "pygments_lexer": "ipython3",
   "version": "3.7.7"
  }
 },
 "nbformat": 4,
 "nbformat_minor": 4
}

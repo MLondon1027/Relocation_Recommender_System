{
 "cells": [
  {
   "cell_type": "code",
   "execution_count": 1311,
   "metadata": {},
   "outputs": [],
   "source": [
    "import pandas as pd\n",
    "import numpy as np\n",
    "import matplotlib.pyplot as plt\n",
    "import seaborn as sns\n",
    "%matplotlib inline\n",
    "import re\n",
    "from sklearn.metrics.pairwise import cosine_similarity\n",
    "from sklearn.metrics.pairwise import euclidean_distances\n",
    "from sklearn.metrics.pairwise import linear_kernel\n",
    "from sklearn.preprocessing import StandardScaler\n",
    "import geopandas"
   ]
  },
  {
   "cell_type": "code",
   "execution_count": 1326,
   "metadata": {},
   "outputs": [],
   "source": [
    "data = pd.read_csv('data/ACSST5Y2018.S0101_data_with_overlays_2020-09-09T171138.csv', low_memory=False, header=1)"
   ]
  },
  {
   "cell_type": "code",
   "execution_count": 1327,
   "metadata": {},
   "outputs": [],
   "source": [
    "# Delete margin of error columns\n",
    "data = data[data.columns.drop(list(data.filter(regex='^Margin')))]"
   ]
  },
  {
   "cell_type": "code",
   "execution_count": 1328,
   "metadata": {},
   "outputs": [],
   "source": [
    "# Replace (X) with NaN values\n",
    "data = data.replace({'(X)': np.nan})"
   ]
  },
  {
   "cell_type": "code",
   "execution_count": 1329,
   "metadata": {},
   "outputs": [],
   "source": [
    "# Drop estimate percent total population because it doesn't make sense\n",
    "data.drop(['Estimate!!Percent!!Total population'], axis=1, inplace=True)"
   ]
  },
  {
   "cell_type": "code",
   "execution_count": 1330,
   "metadata": {},
   "outputs": [],
   "source": [
    "# Fill in percentage male total population\n",
    "data['Estimate!!Percent Male!!Total population'] = data['Estimate!!Male!!Total population']/data['Estimate!!Total!!Total population']"
   ]
  },
  {
   "cell_type": "code",
   "execution_count": 1331,
   "metadata": {},
   "outputs": [],
   "source": [
    "# Fill in percentage female total population\n",
    "data['Estimate!!Percent Female!!Total population'] = data['Estimate!!Female!!Total population']/data['Estimate!!Total!!Total population']\n",
    "\n"
   ]
  },
  {
   "cell_type": "code",
   "execution_count": 1332,
   "metadata": {},
   "outputs": [
    {
     "data": {
      "text/plain": [
       "1093602"
      ]
     },
     "execution_count": 1332,
     "metadata": {},
     "output_type": "execute_result"
    }
   ],
   "source": [
    "# Null data points\n",
    "data.isnull().values.sum()"
   ]
  },
  {
   "cell_type": "code",
   "execution_count": 1333,
   "metadata": {},
   "outputs": [
    {
     "data": {
      "text/plain": [
       "7584480"
      ]
     },
     "execution_count": 1333,
     "metadata": {},
     "output_type": "execute_result"
    }
   ],
   "source": [
    "# Total data points\n",
    "data.shape[0] * data.shape[1]"
   ]
  },
  {
   "cell_type": "code",
   "execution_count": 1334,
   "metadata": {},
   "outputs": [],
   "source": [
    "# Delete percent allocated columns\n",
    "data.drop(['Estimate!!Female!!PERCENT ALLOCATED!!Sex'], axis=1, inplace=True)\n",
    "data.drop(['Estimate!!Percent Female!!PERCENT ALLOCATED!!Sex'], axis=1, inplace=True)\n",
    "data.drop(['Estimate!!Total!!PERCENT ALLOCATED!!Age'], axis=1, inplace=True)\n",
    "data.drop(['Estimate!!Percent!!PERCENT ALLOCATED!!Age'], axis=1, inplace=True)\n",
    "data.drop(['Estimate!!Male!!PERCENT ALLOCATED!!Age'], axis=1, inplace=True)\n",
    "data.drop(['Estimate!!Percent Male!!PERCENT ALLOCATED!!Age'], axis=1, inplace=True)\n",
    "data.drop(['Estimate!!Female!!PERCENT ALLOCATED!!Age'], axis=1, inplace=True)\n",
    "data.drop(['Estimate!!Percent Female!!PERCENT ALLOCATED!!Age'], axis=1, inplace=True)"
   ]
  },
  {
   "cell_type": "code",
   "execution_count": 1335,
   "metadata": {},
   "outputs": [],
   "source": [
    "data.drop('Estimate!!Total!!PERCENT ALLOCATED!!Sex', axis=1, inplace=True)"
   ]
  },
  {
   "cell_type": "code",
   "execution_count": 1336,
   "metadata": {},
   "outputs": [],
   "source": [
    "data['zip'] = data['Geographic Area Name'].str[-5:]\n"
   ]
  },
  {
   "cell_type": "code",
   "execution_count": 1337,
   "metadata": {},
   "outputs": [
    {
     "data": {
      "text/plain": [
       "33120"
      ]
     },
     "execution_count": 1337,
     "metadata": {},
     "output_type": "execute_result"
    }
   ],
   "source": [
    "data['zip'].nunique()"
   ]
  },
  {
   "cell_type": "markdown",
   "metadata": {},
   "source": [
    "### Density - if I have time to add"
   ]
  },
  {
   "cell_type": "code",
   "execution_count": 1016,
   "metadata": {},
   "outputs": [],
   "source": [
    "uszips = pd.read_csv('data/uszips.csv')"
   ]
  },
  {
   "cell_type": "code",
   "execution_count": 1017,
   "metadata": {},
   "outputs": [],
   "source": [
    "density = uszips[['zip', 'density']]"
   ]
  },
  {
   "cell_type": "code",
   "execution_count": 1018,
   "metadata": {},
   "outputs": [],
   "source": [
    "density['zip'] = density['zip'].astype(str)"
   ]
  },
  {
   "cell_type": "code",
   "execution_count": 1479,
   "metadata": {},
   "outputs": [],
   "source": [
    "density.set_index('zip', inplace=True)"
   ]
  },
  {
   "cell_type": "code",
   "execution_count": 1480,
   "metadata": {},
   "outputs": [
    {
     "data": {
      "text/html": [
       "<div>\n",
       "<style scoped>\n",
       "    .dataframe tbody tr th:only-of-type {\n",
       "        vertical-align: middle;\n",
       "    }\n",
       "\n",
       "    .dataframe tbody tr th {\n",
       "        vertical-align: top;\n",
       "    }\n",
       "\n",
       "    .dataframe thead th {\n",
       "        text-align: right;\n",
       "    }\n",
       "</style>\n",
       "<table border=\"1\" class=\"dataframe\">\n",
       "  <thead>\n",
       "    <tr style=\"text-align: right;\">\n",
       "      <th></th>\n",
       "      <th>density</th>\n",
       "    </tr>\n",
       "    <tr>\n",
       "      <th>zip</th>\n",
       "      <th></th>\n",
       "    </tr>\n",
       "  </thead>\n",
       "  <tbody>\n",
       "    <tr>\n",
       "      <th>601</th>\n",
       "      <td>111.4</td>\n",
       "    </tr>\n",
       "    <tr>\n",
       "      <th>602</th>\n",
       "      <td>523.5</td>\n",
       "    </tr>\n",
       "    <tr>\n",
       "      <th>603</th>\n",
       "      <td>667.9</td>\n",
       "    </tr>\n",
       "    <tr>\n",
       "      <th>606</th>\n",
       "      <td>60.4</td>\n",
       "    </tr>\n",
       "    <tr>\n",
       "      <th>610</th>\n",
       "      <td>312.0</td>\n",
       "    </tr>\n",
       "  </tbody>\n",
       "</table>\n",
       "</div>"
      ],
      "text/plain": [
       "     density\n",
       "zip         \n",
       "601    111.4\n",
       "602    523.5\n",
       "603    667.9\n",
       "606     60.4\n",
       "610    312.0"
      ]
     },
     "execution_count": 1480,
     "metadata": {},
     "output_type": "execute_result"
    }
   ],
   "source": [
    "density.head()"
   ]
  },
  {
   "cell_type": "markdown",
   "metadata": {},
   "source": [
    "#### Real estate"
   ]
  },
  {
   "cell_type": "code",
   "execution_count": 1165,
   "metadata": {},
   "outputs": [],
   "source": [
    "real_estate = pd.read_excel('data/HPI_AT_BDL_ZIP5.xlsx')"
   ]
  },
  {
   "cell_type": "code",
   "execution_count": 1166,
   "metadata": {},
   "outputs": [],
   "source": [
    "# Drop first 5 rows\n",
    "real_estate = real_estate.iloc[5:]"
   ]
  },
  {
   "cell_type": "code",
   "execution_count": 1167,
   "metadata": {},
   "outputs": [],
   "source": [
    "# Make first row the header\n",
    "real_estate.rename(columns=real_estate.iloc[0], inplace = True)"
   ]
  },
  {
   "cell_type": "code",
   "execution_count": 1168,
   "metadata": {},
   "outputs": [],
   "source": [
    "# Delete repeating row\n",
    "real_estate = real_estate.iloc[1:]"
   ]
  },
  {
   "cell_type": "code",
   "execution_count": 1169,
   "metadata": {},
   "outputs": [],
   "source": [
    "# Select rows that are Year 2019t\n",
    "real_estate_2019 = real_estate[real_estate['Year']=='2019']"
   ]
  },
  {
   "cell_type": "code",
   "execution_count": null,
   "metadata": {},
   "outputs": [],
   "source": []
  },
  {
   "cell_type": "markdown",
   "metadata": {},
   "source": [
    "### Veteran Status\n"
   ]
  },
  {
   "cell_type": "code",
   "execution_count": 1338,
   "metadata": {},
   "outputs": [],
   "source": [
    "veteran = pd.read_csv('data/ACSST5Y2018.S2101_data_with_overlays_2020-09-14T113935.csv', low_memory=False, header=1)"
   ]
  },
  {
   "cell_type": "code",
   "execution_count": 1339,
   "metadata": {},
   "outputs": [],
   "source": [
    "veteran['zip'] = veteran['Geographic Area Name'].str[-5:]"
   ]
  },
  {
   "cell_type": "code",
   "execution_count": 1340,
   "metadata": {},
   "outputs": [],
   "source": [
    "# Delete margin of error columns\n",
    "veteran = veteran[veteran.columns.drop(list(veteran.filter(regex='^Margin')))]"
   ]
  },
  {
   "cell_type": "markdown",
   "metadata": {},
   "source": [
    "### Transportation"
   ]
  },
  {
   "cell_type": "code",
   "execution_count": 1341,
   "metadata": {},
   "outputs": [],
   "source": [
    "transportation = pd.read_csv('data/ACSST5Y2018.S0801_data_with_overlays_2020-09-05T010054.csv', low_memory=False, header=1)"
   ]
  },
  {
   "cell_type": "code",
   "execution_count": 1342,
   "metadata": {},
   "outputs": [],
   "source": [
    "transportation['zip'] = transportation['Geographic Area Name'].str[-5:]"
   ]
  },
  {
   "cell_type": "code",
   "execution_count": 1343,
   "metadata": {},
   "outputs": [],
   "source": [
    "# Delete margin of error columns\n",
    "transportation = transportation[transportation.columns.drop(list(transportation.filter(regex='MOE')))]"
   ]
  },
  {
   "cell_type": "markdown",
   "metadata": {},
   "source": [
    "### Housing and Income\n"
   ]
  },
  {
   "cell_type": "code",
   "execution_count": 1344,
   "metadata": {},
   "outputs": [],
   "source": [
    "financial_char = pd.read_csv('data/ACSST5Y2018.S2503_data_with_overlays_2020-09-08T115524.csv', low_memory=False, header=1)"
   ]
  },
  {
   "cell_type": "code",
   "execution_count": 1345,
   "metadata": {},
   "outputs": [],
   "source": [
    "financial_char['zip'] = financial_char['Geographic Area Name'].str[-5:]"
   ]
  },
  {
   "cell_type": "code",
   "execution_count": 1346,
   "metadata": {},
   "outputs": [],
   "source": [
    "# Delete margin of error columns\n",
    "financial_char = financial_char[financial_char.columns.drop(list(financial_char.filter(regex='^Margin')))]"
   ]
  },
  {
   "cell_type": "markdown",
   "metadata": {},
   "source": [
    "### Education"
   ]
  },
  {
   "cell_type": "code",
   "execution_count": 1347,
   "metadata": {},
   "outputs": [],
   "source": [
    "education = pd.read_csv('data/Education.csv', low_memory=False, header=1)"
   ]
  },
  {
   "cell_type": "code",
   "execution_count": 1348,
   "metadata": {},
   "outputs": [],
   "source": [
    "education['zip'] = education['Geographic Area Name'].str[-5:]"
   ]
  },
  {
   "cell_type": "code",
   "execution_count": 1349,
   "metadata": {},
   "outputs": [],
   "source": [
    "# Delete margin of error columns\n",
    "education = education[education.columns.drop(list(education.filter(regex='^Margin')))]"
   ]
  },
  {
   "cell_type": "markdown",
   "metadata": {},
   "source": [
    "### Employment\n"
   ]
  },
  {
   "cell_type": "code",
   "execution_count": 1350,
   "metadata": {},
   "outputs": [],
   "source": [
    "employment = pd.read_csv('data/ACSST5Y2018.S2302_data_with_overlays_2020-09-08T190000.csv', low_memory=False, header=1)"
   ]
  },
  {
   "cell_type": "code",
   "execution_count": 1351,
   "metadata": {},
   "outputs": [],
   "source": [
    "# zip column\n",
    "employment['zip'] = employment['Geographic Area Name'].str[-5:]"
   ]
  },
  {
   "cell_type": "code",
   "execution_count": 1352,
   "metadata": {},
   "outputs": [],
   "source": [
    "# Delete margin of error columns\n",
    "employment = employment[employment.columns.drop(list(employment.filter(regex='^Margin')))]"
   ]
  },
  {
   "cell_type": "markdown",
   "metadata": {},
   "source": [
    "### Marital status\n"
   ]
  },
  {
   "cell_type": "code",
   "execution_count": 1353,
   "metadata": {},
   "outputs": [],
   "source": [
    "marital = pd.read_csv('data/ACSST5Y2018.S1201_data_with_overlays_2020-09-14T121102.csv', low_memory=False, header=1)"
   ]
  },
  {
   "cell_type": "code",
   "execution_count": 1354,
   "metadata": {},
   "outputs": [],
   "source": [
    "# zip column\n",
    "marital['zip'] = marital['Geographic Area Name'].str[-5:]"
   ]
  },
  {
   "cell_type": "code",
   "execution_count": 1355,
   "metadata": {},
   "outputs": [],
   "source": [
    "# Delete margin of error columns\n",
    "marital = marital[marital.columns.drop(list(marital.filter(regex='^Margin')))]"
   ]
  },
  {
   "cell_type": "markdown",
   "metadata": {},
   "source": [
    "### Language spoken at home"
   ]
  },
  {
   "cell_type": "code",
   "execution_count": 1356,
   "metadata": {},
   "outputs": [],
   "source": [
    "language = pd.read_csv('data/ACSST5Y2018.S1601_data_with_overlays_2020-09-14T123248.csv', low_memory=False, header=1)"
   ]
  },
  {
   "cell_type": "code",
   "execution_count": 1357,
   "metadata": {},
   "outputs": [],
   "source": [
    "# zip column\n",
    "language['zip'] = language['Geographic Area Name'].str[-5:]"
   ]
  },
  {
   "cell_type": "code",
   "execution_count": 1358,
   "metadata": {},
   "outputs": [],
   "source": [
    "# Delete margin of error columns\n",
    "language = language[language.columns.drop(list(language.filter(regex='^Margin')))]"
   ]
  },
  {
   "cell_type": "code",
   "execution_count": 1359,
   "metadata": {},
   "outputs": [],
   "source": [
    "# Drop Estimated Percent Pop 5 Years and over - no data\n",
    "language.drop('Estimate!!Percent!!Population 5 years and over', axis=1, inplace=True)"
   ]
  },
  {
   "cell_type": "markdown",
   "metadata": {},
   "source": [
    "### Drop id and Geographic Area Name"
   ]
  },
  {
   "cell_type": "code",
   "execution_count": 1360,
   "metadata": {},
   "outputs": [],
   "source": [
    "\n",
    "employment.drop('id', axis=1, inplace=True)\n",
    "employment.drop('Geographic Area Name', axis=1, inplace=True)\n",
    "education.drop('id', axis=1, inplace=True)\n",
    "education.drop('Geographic Area Name', axis=1, inplace=True)\n",
    "financial_char.drop('id', axis=1, inplace=True)\n",
    "financial_char.drop('Geographic Area Name', axis=1, inplace=True)\n",
    "language.drop('id', axis=1, inplace=True)\n",
    "language.drop('Geographic Area Name', axis=1, inplace=True)\n",
    "data.drop('id', axis=1, inplace=True)\n",
    "data.drop('Geographic Area Name', axis=1, inplace=True)\n",
    "veteran.drop('id', axis=1, inplace=True)\n",
    "veteran.drop('Geographic Area Name', axis=1, inplace=True)\n",
    "marital.drop('id', axis=1, inplace=True)\n",
    "marital.drop('Geographic Area Name', axis=1, inplace=True)\n",
    "transportation.drop('id', axis=1, inplace=True)\n",
    "transportation.drop('Geographic Area Name', axis=1, inplace=True)"
   ]
  },
  {
   "cell_type": "code",
   "execution_count": 1361,
   "metadata": {},
   "outputs": [],
   "source": [
    "# Make zip column the index\n",
    "\n",
    "employment.set_index('zip', inplace=True)\n",
    "education.set_index('zip', inplace=True)\n",
    "financial_char.set_index('zip', inplace=True)\n",
    "language.set_index('zip', inplace=True)\n",
    "data.set_index('zip', inplace=True)\n",
    "marital.set_index('zip', inplace=True)\n",
    "veteran.set_index('zip', inplace=True)\n",
    "transportation.set_index('zip', inplace=True)"
   ]
  },
  {
   "cell_type": "code",
   "execution_count": 1362,
   "metadata": {},
   "outputs": [],
   "source": [
    "# Drop empty columns- marital\n",
    "marital.drop('Estimate!!Now married (except separated)!!PERCENT ALLOCATED!!Marital status', axis=1, inplace=True)\n",
    "marital.drop('Estimate!!Widowed!!PERCENT ALLOCATED!!Marital status', axis=1, inplace=True)\n",
    "marital.drop('Estimate!!Divorced!!PERCENT ALLOCATED!!Marital status', axis=1, inplace=True)\n",
    "marital.drop('Estimate!!Separated!!PERCENT ALLOCATED!!Marital status', axis=1, inplace=True)\n",
    "marital.drop('Estimate!!Never married!!PERCENT ALLOCATED!!Marital status', axis=1, inplace=True)"
   ]
  },
  {
   "cell_type": "code",
   "execution_count": 1363,
   "metadata": {},
   "outputs": [
    {
     "name": "stderr",
     "output_type": "stream",
     "text": [
      "/opt/anaconda3/lib/python3.7/site-packages/pandas/core/ops/array_ops.py:253: FutureWarning: elementwise comparison failed; returning scalar instead, but in the future will perform elementwise comparison\n",
      "  res_values = method(rvalues)\n"
     ]
    }
   ],
   "source": [
    "# Delete marital columns with (X)\n",
    "marital = marital.loc[:, ~(marital == '(X)').any()]"
   ]
  },
  {
   "cell_type": "code",
   "execution_count": 1364,
   "metadata": {},
   "outputs": [],
   "source": [
    "# Delete veterans columns with (X)\n",
    "veteran = veteran.loc[:, ~(veteran == '(X)').any()]"
   ]
  },
  {
   "cell_type": "code",
   "execution_count": 1365,
   "metadata": {},
   "outputs": [],
   "source": [
    "# Delete education columns with (X)\n",
    "education = education.loc[:, ~(education == '(X)').any()]"
   ]
  },
  {
   "cell_type": "code",
   "execution_count": 1366,
   "metadata": {},
   "outputs": [],
   "source": [
    "# Delete financial_char columns with (X)\n",
    "financial_char = financial_char.loc[:, ~(financial_char == '(X)').any()]"
   ]
  },
  {
   "cell_type": "code",
   "execution_count": 1367,
   "metadata": {},
   "outputs": [],
   "source": [
    "data = data.loc[:, ~(data == '(X)').any()]"
   ]
  },
  {
   "cell_type": "code",
   "execution_count": 1368,
   "metadata": {},
   "outputs": [],
   "source": [
    "# Delete employment columns with (X)\n",
    "employment = employment.loc[:, ~(employment == '(X)').any()]"
   ]
  },
  {
   "cell_type": "code",
   "execution_count": 1369,
   "metadata": {},
   "outputs": [],
   "source": [
    "# Delete language columns with (X)\n",
    "language = language.loc[:, ~(language == '(X)').any()]"
   ]
  },
  {
   "cell_type": "code",
   "execution_count": 1370,
   "metadata": {},
   "outputs": [],
   "source": [
    "# Delete transportation columns with (X)\n",
    "transportation = transportation.loc[:, ~(transportation == '(X)').any()]"
   ]
  },
  {
   "cell_type": "markdown",
   "metadata": {},
   "source": [
    "Most useful features idea:\n",
    "1) Household income\n",
    "2) Percent of children\n",
    "3) Percent children under 5\n",
    "4) Percent owner occupied housing\n",
    "5) Overall population size\n",
    "6) Percent veterans\n",
    "7) Percent speak English\n",
    "8) HPI\n",
    "9) HPI annual change\n",
    "10) Percent female population\n",
    "11) Percent over 65\n",
    "12) Percent population over 25 with bachelor degree\n",
    "13) Percent population over 25 with graduate degree\n",
    "14) Percent population over 25 with high school diploma\n",
    "15) Male percent population over 25 with bachelor degree\n",
    "16) Male Percent population over 25 with graduate degree\n",
    "17) Percent population over 25 with high school diploma\n",
    "18) Female percent population over 25 with bachelor degree\n",
    "19) Female Percent population over 25 with graduate degree\n",
    "20)  Female Percent population over 25 with high school diploma\n",
    "21) Percent divorced\n",
    "22) Percent separated\n",
    "23) Percent never been married\n",
    "24) Percent families - employment\n",
    "25) Percent families with own children under 18 - employment\n",
    "26) Estimate!!Percent!!Families!!EMPLOYMENT STATUS CHARACTERISTICS!!Married-couple families!!Both husband and wife in labor force \n",
    "27) Estimate!!Percent Families with own children under 18 years!!Families!!EMPLOYMENT STATUS CHARACTERISTICS!!Married-couple families!!Both husband and wife in labor force\n",
    "28) Estimate!!Percent!!Families!!EMPLOYMENT STATUS CHARACTERISTICS!!Married-couple families!!Husband in labor force, wife not in labor force\n",
    "29) Estimate!!Percent Families with own children under 18 years!!Families!!EMPLOYMENT STATUS CHARACTERISTICS!!Married-couple families!!Husband in labor force, wife not in labor force\n",
    "30) Estimate!!Percent!!Families!!EMPLOYMENT STATUS CHARACTERISTICS!!Married-couple families!!Wife in labor force, husband not in labor force\n",
    "31) Estimate!!Percent Families with own children under 18 years!!Families!!EMPLOYMENT STATUS CHARACTERISTICS!!Married-couple families!!Wife in labor force, husband not in labor force\n",
    "32) Estimate!!Percent!!Families!!EMPLOYMENT STATUS CHARACTERISTICS!!Married-couple families!!Both husband and wife not in labor force\n",
    "33) Estimate!!Percent Families with own children under 18 years!!Families!!EMPLOYMENT STATUS CHARACTERISTICS!!Married-couple families!!Both husband and wife not in labor force\n",
    "34) Estimate!!Percent!!Families!!EMPLOYMENT STATUS CHARACTERISTICS!!Other families\n",
    "35) Estimate!!Percent Families with own children under 18 years!!Families!!EMPLOYMENT STATUS CHARACTERISTICS!!Other families\n",
    "36) Estimate!!Percent!!Families!!EMPLOYMENT STATUS CHARACTERISTICS!!Other families!!Female householder, no husband present\n",
    "37) Estimate!!Percent Families with own children under 18 years!!Families!!EMPLOYMENT STATUS CHARACTERISTICS!!Other families!!Female householder, no husband present\n",
    "38) Estimate!!Percent!!Families!!EMPLOYMENT STATUS CHARACTERISTICS!!Other families!!Female householder, no husband present!!In labor force\n",
    "39) Estimate!!Percent Families with own children under 18 years!!Families!!EMPLOYMENT STATUS CHARACTERISTICS!!Other families!!Female householder, no husband present!!In labor force\n",
    "40) Estimate!!Percent!!Families!!EMPLOYMENT STATUS CHARACTERISTICS!!Other families!!Male householder, no wife present \n",
    "41) Estimate!!Percent Families with own children under 18 years!!Families!!EMPLOYMENT STATUS CHARACTERISTICS!!Other families!!Male householder, no wife present\n",
    "42) Estimate!!Percent!!Families!!EMPLOYMENT STATUS CHARACTERISTICS!!Other families!!Male householder, no wife present!!In labor force\n",
    "43) Estimate!!Percent Families with own children under 18 years!!Families!!EMPLOYMENT STATUS CHARACTERISTICS!!Other families!!Male householder, no wife present!!In labor force\n",
    "44) Estimate!!Percent!!Families!!EMPLOYMENT STATUS CHARACTERISTICS!!Other families!!Male householder, no wife present!!Not in labor force\n",
    "45) Estimate!!Percent!!WORK STATUS CHARACTERISTICS!!Families!!1 worker in the past 12 months\n",
    "46) Estimate!!Percent!!WORK STATUS CHARACTERISTICS!!Families!!2 or more workers in the past 12 months\n",
    "47) Estimate!!Percent Families with own children under 18 years!!WORK STATUS CHARACTERISTICS!!Families!!No workers in the past 12 months\n",
    "48) Estimate!!Percent Families with own children under 18 years!!WORK STATUS CHARACTERISTICS!!Families!!1 worker in the past 12 months\n",
    "49) Estimate!!Percent!!WORK STATUS CHARACTERISTICS!!Families!!No workers in the past 12 months\n",
    "50) Percent speak spanish\n",
    "51) Percent speak other language\n",
    "52) Percent drive/ride in private vehicle\n",
    "53) Percent walk\n",
    "54) Percent public transportation\n",
    "55) Percent work remote\n",
    "56) Mean commute time\n",
    "57) Median HH Income\n",
    "58) Median Renter HH Income\n",
    "59) Median Owner HH Income"
   ]
  },
  {
   "cell_type": "code",
   "execution_count": 1371,
   "metadata": {},
   "outputs": [],
   "source": [
    "employment_percents = employment.filter(regex='Percent')"
   ]
  },
  {
   "cell_type": "code",
   "execution_count": 1372,
   "metadata": {},
   "outputs": [],
   "source": [
    "veteran_percents = veteran.filter(regex='Percent')"
   ]
  },
  {
   "cell_type": "code",
   "execution_count": 1373,
   "metadata": {},
   "outputs": [],
   "source": [
    "education_percents = education.filter(regex='Percent')"
   ]
  },
  {
   "cell_type": "code",
   "execution_count": 1374,
   "metadata": {},
   "outputs": [],
   "source": [
    "marital_percents = marital.iloc[:, 1:6]"
   ]
  },
  {
   "cell_type": "code",
   "execution_count": 1375,
   "metadata": {},
   "outputs": [],
   "source": [
    "# Correct percentage columns for financial_char\n",
    "financial_char['Estimate!!Percent owner-occupied housing units!!Occupied housing units'] = financial_char['Estimate!!Owner-occupied housing units!!Occupied housing units'] / financial_char['Estimate!!Occupied housing units!!Occupied housing units']\n",
    "financial_char['Estimate!!Percent renter-occupied housing units!!Occupied housing units'] = 1 - financial_char['Estimate!!Percent owner-occupied housing units!!Occupied housing units']"
   ]
  },
  {
   "cell_type": "code",
   "execution_count": 1376,
   "metadata": {},
   "outputs": [],
   "source": [
    "financial_char_percents = financial_char.filter(regex='Percent')"
   ]
  },
  {
   "cell_type": "code",
   "execution_count": 1377,
   "metadata": {},
   "outputs": [],
   "source": [
    "language_percents = language.filter(regex='Percent')"
   ]
  },
  {
   "cell_type": "markdown",
   "metadata": {},
   "source": [
    "### Histogram of size of population by zip code"
   ]
  },
  {
   "cell_type": "code",
   "execution_count": 1378,
   "metadata": {},
   "outputs": [
    {
     "data": {
      "text/plain": [
       "<matplotlib.axes._subplots.AxesSubplot at 0x7facdacdad50>"
      ]
     },
     "execution_count": 1378,
     "metadata": {},
     "output_type": "execute_result"
    },
    {
     "data": {
      "image/png": "[encoded data removed]",
      "text/plain": [
       "<Figure size 432x288 with 1 Axes>"
      ]
     },
     "metadata": {
      "needs_background": "light"
     },
     "output_type": "display_data"
    }
   ],
   "source": [
    "sns.distplot(data['Estimate!!Total!!Total population'])"
   ]
  },
  {
   "cell_type": "code",
   "execution_count": 1379,
   "metadata": {},
   "outputs": [],
   "source": [
    "total_pop = data['Estimate!!Total!!Total population']"
   ]
  },
  {
   "cell_type": "code",
   "execution_count": 1380,
   "metadata": {},
   "outputs": [],
   "source": [
    "data_percents = data.filter(regex='Percent')"
   ]
  },
  {
   "cell_type": "code",
   "execution_count": 1381,
   "metadata": {},
   "outputs": [
    {
     "name": "stderr",
     "output_type": "stream",
     "text": [
      "/opt/anaconda3/lib/python3.7/site-packages/ipykernel_launcher.py:2: SettingWithCopyWarning: \n",
      "A value is trying to be set on a copy of a slice from a DataFrame.\n",
      "Try using .loc[row_indexer,col_indexer] = value instead\n",
      "\n",
      "See the caveats in the documentation: https://pandas.pydata.org/pandas-docs/stable/user_guide/indexing.html#returning-a-view-versus-a-copy\n",
      "  \n"
     ]
    }
   ],
   "source": [
    "# Concatenate total population back to data percents\n",
    "data_percents['total_pop'] = total_pop"
   ]
  },
  {
   "cell_type": "code",
   "execution_count": 1382,
   "metadata": {},
   "outputs": [],
   "source": [
    "# replace '-' with NaN\n",
    "data_percents = data_percents.replace({'-': np.nan})"
   ]
  },
  {
   "cell_type": "code",
   "execution_count": 1383,
   "metadata": {},
   "outputs": [],
   "source": [
    "# Drop columns with all nans\n",
    "\n",
    "data_percents.dropna(axis=1, how='all', inplace=True)"
   ]
  },
  {
   "cell_type": "code",
   "execution_count": 1384,
   "metadata": {},
   "outputs": [],
   "source": [
    "# Change all data_percents columns to floats\n",
    "for i in data_percents.columns:\n",
    "    try:\n",
    "        data_percents[i] = data_percents[i].astype(float)\n",
    "    except:\n",
    "        continue\n"
   ]
  },
  {
   "cell_type": "markdown",
   "metadata": {},
   "source": []
  },
  {
   "cell_type": "code",
   "execution_count": 1385,
   "metadata": {},
   "outputs": [],
   "source": [
    "# Delete columns in data that are not floats\n",
    "data_percents = data_percents.select_dtypes(exclude=['object'])"
   ]
  },
  {
   "cell_type": "markdown",
   "metadata": {},
   "source": [
    "#### Edit real estate dataset"
   ]
  },
  {
   "cell_type": "code",
   "execution_count": 1386,
   "metadata": {},
   "outputs": [],
   "source": [
    "real_estate_2019.rename(columns={'Five-Digit ZIP Code': 'zip'}, inplace=True)"
   ]
  },
  {
   "cell_type": "code",
   "execution_count": 1387,
   "metadata": {},
   "outputs": [
    {
     "ename": "KeyError",
     "evalue": "\"['zip', 'Annual Change (%)'] not in index\"",
     "output_type": "error",
     "traceback": [
      "\u001b[0;31m---------------------------------------------------------------------------\u001b[0m",
      "\u001b[0;31mKeyError\u001b[0m                                  Traceback (most recent call last)",
      "\u001b[0;32m<ipython-input-1387-4640863f7371>\u001b[0m in \u001b[0;36m<module>\u001b[0;34m\u001b[0m\n\u001b[0;32m----> 1\u001b[0;31m \u001b[0mreal_estate_2019\u001b[0m \u001b[0;34m=\u001b[0m \u001b[0mreal_estate_2019\u001b[0m\u001b[0;34m[\u001b[0m\u001b[0;34m[\u001b[0m\u001b[0;34m'zip'\u001b[0m\u001b[0;34m,\u001b[0m \u001b[0;34m'Annual Change (%)'\u001b[0m\u001b[0;34m,\u001b[0m \u001b[0;34m'HPI'\u001b[0m\u001b[0;34m]\u001b[0m\u001b[0;34m]\u001b[0m\u001b[0;34m\u001b[0m\u001b[0;34m\u001b[0m\u001b[0m\n\u001b[0m",
      "\u001b[0;32m/opt/anaconda3/lib/python3.7/site-packages/pandas/core/frame.py\u001b[0m in \u001b[0;36m__getitem__\u001b[0;34m(self, key)\u001b[0m\n\u001b[1;32m   2804\u001b[0m             \u001b[0;32mif\u001b[0m \u001b[0mis_iterator\u001b[0m\u001b[0;34m(\u001b[0m\u001b[0mkey\u001b[0m\u001b[0;34m)\u001b[0m\u001b[0;34m:\u001b[0m\u001b[0;34m\u001b[0m\u001b[0;34m\u001b[0m\u001b[0m\n\u001b[1;32m   2805\u001b[0m                 \u001b[0mkey\u001b[0m \u001b[0;34m=\u001b[0m \u001b[0mlist\u001b[0m\u001b[0;34m(\u001b[0m\u001b[0mkey\u001b[0m\u001b[0;34m)\u001b[0m\u001b[0;34m\u001b[0m\u001b[0;34m\u001b[0m\u001b[0m\n\u001b[0;32m-> 2806\u001b[0;31m             \u001b[0mindexer\u001b[0m \u001b[0;34m=\u001b[0m \u001b[0mself\u001b[0m\u001b[0;34m.\u001b[0m\u001b[0mloc\u001b[0m\u001b[0;34m.\u001b[0m\u001b[0m_get_listlike_indexer\u001b[0m\u001b[0;34m(\u001b[0m\u001b[0mkey\u001b[0m\u001b[0;34m,\u001b[0m \u001b[0maxis\u001b[0m\u001b[0;34m=\u001b[0m\u001b[0;36m1\u001b[0m\u001b[0;34m,\u001b[0m \u001b[0mraise_missing\u001b[0m\u001b[0;34m=\u001b[0m\u001b[0;32mTrue\u001b[0m\u001b[0;34m)\u001b[0m\u001b[0;34m[\u001b[0m\u001b[0;36m1\u001b[0m\u001b[0;34m]\u001b[0m\u001b[0;34m\u001b[0m\u001b[0;34m\u001b[0m\u001b[0m\n\u001b[0m\u001b[1;32m   2807\u001b[0m \u001b[0;34m\u001b[0m\u001b[0m\n\u001b[1;32m   2808\u001b[0m         \u001b[0;31m# take() does not accept boolean indexers\u001b[0m\u001b[0;34m\u001b[0m\u001b[0;34m\u001b[0m\u001b[0;34m\u001b[0m\u001b[0m\n",
      "\u001b[0;32m/opt/anaconda3/lib/python3.7/site-packages/pandas/core/indexing.py\u001b[0m in \u001b[0;36m_get_listlike_indexer\u001b[0;34m(self, key, axis, raise_missing)\u001b[0m\n\u001b[1;32m   1551\u001b[0m \u001b[0;34m\u001b[0m\u001b[0m\n\u001b[1;32m   1552\u001b[0m         self._validate_read_indexer(\n\u001b[0;32m-> 1553\u001b[0;31m             \u001b[0mkeyarr\u001b[0m\u001b[0;34m,\u001b[0m \u001b[0mindexer\u001b[0m\u001b[0;34m,\u001b[0m \u001b[0mo\u001b[0m\u001b[0;34m.\u001b[0m\u001b[0m_get_axis_number\u001b[0m\u001b[0;34m(\u001b[0m\u001b[0maxis\u001b[0m\u001b[0;34m)\u001b[0m\u001b[0;34m,\u001b[0m \u001b[0mraise_missing\u001b[0m\u001b[0;34m=\u001b[0m\u001b[0mraise_missing\u001b[0m\u001b[0;34m\u001b[0m\u001b[0;34m\u001b[0m\u001b[0m\n\u001b[0m\u001b[1;32m   1554\u001b[0m         )\n\u001b[1;32m   1555\u001b[0m         \u001b[0;32mreturn\u001b[0m \u001b[0mkeyarr\u001b[0m\u001b[0;34m,\u001b[0m \u001b[0mindexer\u001b[0m\u001b[0;34m\u001b[0m\u001b[0;34m\u001b[0m\u001b[0m\n",
      "\u001b[0;32m/opt/anaconda3/lib/python3.7/site-packages/pandas/core/indexing.py\u001b[0m in \u001b[0;36m_validate_read_indexer\u001b[0;34m(self, key, indexer, axis, raise_missing)\u001b[0m\n\u001b[1;32m   1644\u001b[0m             \u001b[0;32mif\u001b[0m \u001b[0;32mnot\u001b[0m \u001b[0;34m(\u001b[0m\u001b[0mself\u001b[0m\u001b[0;34m.\u001b[0m\u001b[0mname\u001b[0m \u001b[0;34m==\u001b[0m \u001b[0;34m\"loc\"\u001b[0m \u001b[0;32mand\u001b[0m \u001b[0;32mnot\u001b[0m \u001b[0mraise_missing\u001b[0m\u001b[0;34m)\u001b[0m\u001b[0;34m:\u001b[0m\u001b[0;34m\u001b[0m\u001b[0;34m\u001b[0m\u001b[0m\n\u001b[1;32m   1645\u001b[0m                 \u001b[0mnot_found\u001b[0m \u001b[0;34m=\u001b[0m \u001b[0mlist\u001b[0m\u001b[0;34m(\u001b[0m\u001b[0mset\u001b[0m\u001b[0;34m(\u001b[0m\u001b[0mkey\u001b[0m\u001b[0;34m)\u001b[0m \u001b[0;34m-\u001b[0m \u001b[0mset\u001b[0m\u001b[0;34m(\u001b[0m\u001b[0max\u001b[0m\u001b[0;34m)\u001b[0m\u001b[0;34m)\u001b[0m\u001b[0;34m\u001b[0m\u001b[0;34m\u001b[0m\u001b[0m\n\u001b[0;32m-> 1646\u001b[0;31m                 \u001b[0;32mraise\u001b[0m \u001b[0mKeyError\u001b[0m\u001b[0;34m(\u001b[0m\u001b[0;34mf\"{not_found} not in index\"\u001b[0m\u001b[0;34m)\u001b[0m\u001b[0;34m\u001b[0m\u001b[0;34m\u001b[0m\u001b[0m\n\u001b[0m\u001b[1;32m   1647\u001b[0m \u001b[0;34m\u001b[0m\u001b[0m\n\u001b[1;32m   1648\u001b[0m             \u001b[0;31m# we skip the warning on Categorical/Interval\u001b[0m\u001b[0;34m\u001b[0m\u001b[0;34m\u001b[0m\u001b[0;34m\u001b[0m\u001b[0m\n",
      "\u001b[0;31mKeyError\u001b[0m: \"['zip', 'Annual Change (%)'] not in index\""
     ]
    }
   ],
   "source": [
    "real_estate_2019 = real_estate_2019[['zip', 'Annual Change (%)', 'HPI']]"
   ]
  },
  {
   "cell_type": "code",
   "execution_count": 1219,
   "metadata": {},
   "outputs": [],
   "source": [
    "# Set zip as index\n",
    "real_estate_2019.set_index('zip', inplace=True)"
   ]
  },
  {
   "cell_type": "code",
   "execution_count": 1220,
   "metadata": {},
   "outputs": [],
   "source": [
    "# Rename Annual Change(%) \n",
    "real_estate_2019.rename(columns={'Annual Change (%)': 'HPI_%_Annual_Change'}, inplace=True)"
   ]
  },
  {
   "cell_type": "code",
   "execution_count": null,
   "metadata": {},
   "outputs": [],
   "source": []
  },
  {
   "cell_type": "markdown",
   "metadata": {},
   "source": [
    "#### Edit education percents dataset"
   ]
  },
  {
   "cell_type": "code",
   "execution_count": 1388,
   "metadata": {},
   "outputs": [],
   "source": [
    "# replace '-' with NaN\n",
    "education_percents = education_percents.replace({'-': np.nan})"
   ]
  },
  {
   "cell_type": "code",
   "execution_count": 1389,
   "metadata": {},
   "outputs": [],
   "source": [
    "# Change all education_percents columns to floats\n",
    "for i in education_percents.columns:\n",
    "    try:\n",
    "        education_percents[i] = education_percents[i].astype(float)\n",
    "    except:\n",
    "        continue"
   ]
  },
  {
   "cell_type": "code",
   "execution_count": 1390,
   "metadata": {},
   "outputs": [
    {
     "data": {
      "text/plain": [
       "['Estimate!!Percent Male!!Population 25 years and over!!Population 35 to 44 years!!High school graduate or higher',\n",
       " 'Estimate!!Percent Female!!Population 25 years and over!!Population 35 to 44 years!!High school graduate or higher',\n",
       " \"Estimate!!Percent!!Population 25 years and over!!Population 35 to 44 years!!Bachelor's degree or higher\",\n",
       " \"Estimate!!Percent Male!!Population 25 years and over!!Population 35 to 44 years!!Bachelor's degree or higher\",\n",
       " \"Estimate!!Percent Female!!Population 25 years and over!!Population 35 to 44 years!!Bachelor's degree or higher\",\n",
       " 'Estimate!!Percent!!Population 25 years and over!!Population 45 to 64 years!!High school graduate or higher',\n",
       " 'Estimate!!Percent Male!!Population 25 years and over!!Population 45 to 64 years!!High school graduate or higher',\n",
       " 'Estimate!!Percent Female!!Population 25 years and over!!Population 45 to 64 years!!High school graduate or higher',\n",
       " \"Estimate!!Percent!!Population 25 years and over!!Population 45 to 64 years!!Bachelor's degree or higher\",\n",
       " \"Estimate!!Percent Male!!Population 25 years and over!!Population 45 to 64 years!!Bachelor's degree or higher\",\n",
       " \"Estimate!!Percent Female!!Population 25 years and over!!Population 45 to 64 years!!Bachelor's degree or higher\",\n",
       " 'Estimate!!Percent!!Population 25 years and over!!Population 65 years and over!!High school graduate or higher',\n",
       " 'Estimate!!Percent Male!!Population 25 years and over!!Population 65 years and over!!High school graduate or higher',\n",
       " 'Estimate!!Percent Female!!Population 25 years and over!!Population 65 years and over!!High school graduate or higher',\n",
       " \"Estimate!!Percent!!Population 25 years and over!!Population 65 years and over!!Bachelor's degree or higher\",\n",
       " \"Estimate!!Percent Male!!Population 25 years and over!!Population 65 years and over!!Bachelor's degree or higher\",\n",
       " \"Estimate!!Percent Female!!Population 25 years and over!!Population 65 years and over!!Bachelor's degree or higher\",\n",
       " 'Estimate!!Percent!!RACE AND HISPANIC OR LATINO ORIGIN BY EDUCATIONAL ATTAINMENT!!White alone!!High school graduate or higher',\n",
       " 'Estimate!!Percent Male!!RACE AND HISPANIC OR LATINO ORIGIN BY EDUCATIONAL ATTAINMENT!!White alone!!High school graduate or higher',\n",
       " 'Estimate!!Percent Female!!RACE AND HISPANIC OR LATINO ORIGIN BY EDUCATIONAL ATTAINMENT!!White alone!!High school graduate or higher',\n",
       " \"Estimate!!Percent!!RACE AND HISPANIC OR LATINO ORIGIN BY EDUCATIONAL ATTAINMENT!!White alone!!Bachelor's degree or higher\",\n",
       " \"Estimate!!Percent Male!!RACE AND HISPANIC OR LATINO ORIGIN BY EDUCATIONAL ATTAINMENT!!White alone!!Bachelor's degree or higher\",\n",
       " \"Estimate!!Percent Female!!RACE AND HISPANIC OR LATINO ORIGIN BY EDUCATIONAL ATTAINMENT!!White alone!!Bachelor's degree or higher\",\n",
       " 'Estimate!!Percent!!RACE AND HISPANIC OR LATINO ORIGIN BY EDUCATIONAL ATTAINMENT!!White alone, not Hispanic or Latino!!High school graduate or higher',\n",
       " 'Estimate!!Percent Male!!RACE AND HISPANIC OR LATINO ORIGIN BY EDUCATIONAL ATTAINMENT!!White alone, not Hispanic or Latino!!High school graduate or higher',\n",
       " 'Estimate!!Percent Female!!RACE AND HISPANIC OR LATINO ORIGIN BY EDUCATIONAL ATTAINMENT!!White alone, not Hispanic or Latino!!High school graduate or higher',\n",
       " \"Estimate!!Percent!!RACE AND HISPANIC OR LATINO ORIGIN BY EDUCATIONAL ATTAINMENT!!White alone, not Hispanic or Latino!!Bachelor's degree or higher\",\n",
       " \"Estimate!!Percent Male!!RACE AND HISPANIC OR LATINO ORIGIN BY EDUCATIONAL ATTAINMENT!!White alone, not Hispanic or Latino!!Bachelor's degree or higher\",\n",
       " \"Estimate!!Percent Female!!RACE AND HISPANIC OR LATINO ORIGIN BY EDUCATIONAL ATTAINMENT!!White alone, not Hispanic or Latino!!Bachelor's degree or higher\",\n",
       " 'Estimate!!Percent!!RACE AND HISPANIC OR LATINO ORIGIN BY EDUCATIONAL ATTAINMENT!!Black alone!!High school graduate or higher',\n",
       " 'Estimate!!Percent Male!!RACE AND HISPANIC OR LATINO ORIGIN BY EDUCATIONAL ATTAINMENT!!Black alone!!High school graduate or higher',\n",
       " 'Estimate!!Percent Female!!RACE AND HISPANIC OR LATINO ORIGIN BY EDUCATIONAL ATTAINMENT!!Black alone!!High school graduate or higher',\n",
       " \"Estimate!!Percent!!RACE AND HISPANIC OR LATINO ORIGIN BY EDUCATIONAL ATTAINMENT!!Black alone!!Bachelor's degree or higher\",\n",
       " \"Estimate!!Percent Male!!RACE AND HISPANIC OR LATINO ORIGIN BY EDUCATIONAL ATTAINMENT!!Black alone!!Bachelor's degree or higher\",\n",
       " \"Estimate!!Percent Female!!RACE AND HISPANIC OR LATINO ORIGIN BY EDUCATIONAL ATTAINMENT!!Black alone!!Bachelor's degree or higher\",\n",
       " 'Estimate!!Percent!!RACE AND HISPANIC OR LATINO ORIGIN BY EDUCATIONAL ATTAINMENT!!American Indian or Alaska Native alone!!High school graduate or higher',\n",
       " 'Estimate!!Percent Male!!RACE AND HISPANIC OR LATINO ORIGIN BY EDUCATIONAL ATTAINMENT!!American Indian or Alaska Native alone!!High school graduate or higher',\n",
       " 'Estimate!!Percent Female!!RACE AND HISPANIC OR LATINO ORIGIN BY EDUCATIONAL ATTAINMENT!!American Indian or Alaska Native alone!!High school graduate or higher',\n",
       " \"Estimate!!Percent!!RACE AND HISPANIC OR LATINO ORIGIN BY EDUCATIONAL ATTAINMENT!!American Indian or Alaska Native alone!!Bachelor's degree or higher\",\n",
       " \"Estimate!!Percent Male!!RACE AND HISPANIC OR LATINO ORIGIN BY EDUCATIONAL ATTAINMENT!!American Indian or Alaska Native alone!!Bachelor's degree or higher\",\n",
       " \"Estimate!!Percent Female!!RACE AND HISPANIC OR LATINO ORIGIN BY EDUCATIONAL ATTAINMENT!!American Indian or Alaska Native alone!!Bachelor's degree or higher\",\n",
       " 'Estimate!!Percent!!RACE AND HISPANIC OR LATINO ORIGIN BY EDUCATIONAL ATTAINMENT!!Asian alone!!High school graduate or higher',\n",
       " 'Estimate!!Percent Male!!RACE AND HISPANIC OR LATINO ORIGIN BY EDUCATIONAL ATTAINMENT!!Asian alone!!High school graduate or higher',\n",
       " 'Estimate!!Percent Female!!RACE AND HISPANIC OR LATINO ORIGIN BY EDUCATIONAL ATTAINMENT!!Asian alone!!High school graduate or higher',\n",
       " \"Estimate!!Percent!!RACE AND HISPANIC OR LATINO ORIGIN BY EDUCATIONAL ATTAINMENT!!Asian alone!!Bachelor's degree or higher\",\n",
       " \"Estimate!!Percent Male!!RACE AND HISPANIC OR LATINO ORIGIN BY EDUCATIONAL ATTAINMENT!!Asian alone!!Bachelor's degree or higher\",\n",
       " \"Estimate!!Percent Female!!RACE AND HISPANIC OR LATINO ORIGIN BY EDUCATIONAL ATTAINMENT!!Asian alone!!Bachelor's degree or higher\",\n",
       " 'Estimate!!Percent!!RACE AND HISPANIC OR LATINO ORIGIN BY EDUCATIONAL ATTAINMENT!!Native Hawaiian and Other Pacific Islander alone!!High school graduate or higher',\n",
       " 'Estimate!!Percent Male!!RACE AND HISPANIC OR LATINO ORIGIN BY EDUCATIONAL ATTAINMENT!!Native Hawaiian and Other Pacific Islander alone!!High school graduate or higher',\n",
       " 'Estimate!!Percent Female!!RACE AND HISPANIC OR LATINO ORIGIN BY EDUCATIONAL ATTAINMENT!!Native Hawaiian and Other Pacific Islander alone!!High school graduate or higher',\n",
       " \"Estimate!!Percent!!RACE AND HISPANIC OR LATINO ORIGIN BY EDUCATIONAL ATTAINMENT!!Native Hawaiian and Other Pacific Islander alone!!Bachelor's degree or higher\",\n",
       " \"Estimate!!Percent Male!!RACE AND HISPANIC OR LATINO ORIGIN BY EDUCATIONAL ATTAINMENT!!Native Hawaiian and Other Pacific Islander alone!!Bachelor's degree or higher\",\n",
       " \"Estimate!!Percent Female!!RACE AND HISPANIC OR LATINO ORIGIN BY EDUCATIONAL ATTAINMENT!!Native Hawaiian and Other Pacific Islander alone!!Bachelor's degree or higher\",\n",
       " 'Estimate!!Percent!!RACE AND HISPANIC OR LATINO ORIGIN BY EDUCATIONAL ATTAINMENT!!Some other race alone!!High school graduate or higher',\n",
       " 'Estimate!!Percent Male!!RACE AND HISPANIC OR LATINO ORIGIN BY EDUCATIONAL ATTAINMENT!!Some other race alone!!High school graduate or higher',\n",
       " 'Estimate!!Percent Female!!RACE AND HISPANIC OR LATINO ORIGIN BY EDUCATIONAL ATTAINMENT!!Some other race alone!!High school graduate or higher',\n",
       " \"Estimate!!Percent!!RACE AND HISPANIC OR LATINO ORIGIN BY EDUCATIONAL ATTAINMENT!!Some other race alone!!Bachelor's degree or higher\",\n",
       " \"Estimate!!Percent Male!!RACE AND HISPANIC OR LATINO ORIGIN BY EDUCATIONAL ATTAINMENT!!Some other race alone!!Bachelor's degree or higher\",\n",
       " \"Estimate!!Percent Female!!RACE AND HISPANIC OR LATINO ORIGIN BY EDUCATIONAL ATTAINMENT!!Some other race alone!!Bachelor's degree or higher\",\n",
       " 'Estimate!!Percent!!RACE AND HISPANIC OR LATINO ORIGIN BY EDUCATIONAL ATTAINMENT!!Two or more races!!High school graduate or higher',\n",
       " 'Estimate!!Percent Male!!RACE AND HISPANIC OR LATINO ORIGIN BY EDUCATIONAL ATTAINMENT!!Two or more races!!High school graduate or higher',\n",
       " 'Estimate!!Percent Female!!RACE AND HISPANIC OR LATINO ORIGIN BY EDUCATIONAL ATTAINMENT!!Two or more races!!High school graduate or higher',\n",
       " \"Estimate!!Percent!!RACE AND HISPANIC OR LATINO ORIGIN BY EDUCATIONAL ATTAINMENT!!Two or more races!!Bachelor's degree or higher\",\n",
       " \"Estimate!!Percent Male!!RACE AND HISPANIC OR LATINO ORIGIN BY EDUCATIONAL ATTAINMENT!!Two or more races!!Bachelor's degree or higher\",\n",
       " \"Estimate!!Percent Female!!RACE AND HISPANIC OR LATINO ORIGIN BY EDUCATIONAL ATTAINMENT!!Two or more races!!Bachelor's degree or higher\",\n",
       " 'Estimate!!Percent!!RACE AND HISPANIC OR LATINO ORIGIN BY EDUCATIONAL ATTAINMENT!!Hispanic or Latino Origin!!High school graduate or higher',\n",
       " 'Estimate!!Percent Male!!RACE AND HISPANIC OR LATINO ORIGIN BY EDUCATIONAL ATTAINMENT!!Hispanic or Latino Origin!!High school graduate or higher',\n",
       " 'Estimate!!Percent Female!!RACE AND HISPANIC OR LATINO ORIGIN BY EDUCATIONAL ATTAINMENT!!Hispanic or Latino Origin!!High school graduate or higher',\n",
       " \"Estimate!!Percent!!RACE AND HISPANIC OR LATINO ORIGIN BY EDUCATIONAL ATTAINMENT!!Hispanic or Latino Origin!!Bachelor's degree or higher\",\n",
       " \"Estimate!!Percent Male!!RACE AND HISPANIC OR LATINO ORIGIN BY EDUCATIONAL ATTAINMENT!!Hispanic or Latino Origin!!Bachelor's degree or higher\",\n",
       " \"Estimate!!Percent Female!!RACE AND HISPANIC OR LATINO ORIGIN BY EDUCATIONAL ATTAINMENT!!Hispanic or Latino Origin!!Bachelor's degree or higher\",\n",
       " 'Estimate!!Percent!!Population 18 to 24 years!!Less than high school graduate',\n",
       " 'Estimate!!Percent Male!!Population 18 to 24 years!!Less than high school graduate',\n",
       " 'Estimate!!Percent Female!!Population 18 to 24 years!!Less than high school graduate',\n",
       " 'Estimate!!Percent!!Population 18 to 24 years!!High school graduate (includes equivalency)',\n",
       " 'Estimate!!Percent Male!!Population 18 to 24 years!!High school graduate (includes equivalency)',\n",
       " 'Estimate!!Percent Female!!Population 18 to 24 years!!High school graduate (includes equivalency)',\n",
       " \"Estimate!!Percent!!Population 18 to 24 years!!Some college or associate's degree\",\n",
       " \"Estimate!!Percent Male!!Population 18 to 24 years!!Some college or associate's degree\",\n",
       " \"Estimate!!Percent Female!!Population 18 to 24 years!!Some college or associate's degree\",\n",
       " \"Estimate!!Percent!!Population 18 to 24 years!!Bachelor's degree or higher\",\n",
       " \"Estimate!!Percent Male!!Population 18 to 24 years!!Bachelor's degree or higher\",\n",
       " \"Estimate!!Percent Female!!Population 18 to 24 years!!Bachelor's degree or higher\",\n",
       " 'Estimate!!Percent!!Population 25 years and over!!Less than 9th grade',\n",
       " 'Estimate!!Percent Male!!Population 25 years and over!!Less than 9th grade',\n",
       " 'Estimate!!Percent Female!!Population 25 years and over!!Less than 9th grade',\n",
       " 'Estimate!!Percent!!Population 25 years and over!!9th to 12th grade, no diploma',\n",
       " 'Estimate!!Percent Male!!Population 25 years and over!!9th to 12th grade, no diploma',\n",
       " 'Estimate!!Percent Female!!Population 25 years and over!!9th to 12th grade, no diploma',\n",
       " 'Estimate!!Percent!!Population 25 years and over!!High school graduate (includes equivalency)',\n",
       " 'Estimate!!Percent Male!!Population 25 years and over!!High school graduate (includes equivalency)',\n",
       " 'Estimate!!Percent Female!!Population 25 years and over!!High school graduate (includes equivalency)',\n",
       " 'Estimate!!Percent!!Population 25 years and over!!Some college, no degree',\n",
       " 'Estimate!!Percent Male!!Population 25 years and over!!Some college, no degree',\n",
       " 'Estimate!!Percent Female!!Population 25 years and over!!Some college, no degree',\n",
       " \"Estimate!!Percent!!Population 25 years and over!!Associate's degree\",\n",
       " \"Estimate!!Percent Male!!Population 25 years and over!!Associate's degree\",\n",
       " \"Estimate!!Percent Female!!Population 25 years and over!!Associate's degree\",\n",
       " \"Estimate!!Percent!!Population 25 years and over!!Bachelor's degree\",\n",
       " \"Estimate!!Percent Male!!Population 25 years and over!!Bachelor's degree\",\n",
       " \"Estimate!!Percent Female!!Population 25 years and over!!Bachelor's degree\",\n",
       " 'Estimate!!Percent!!Population 25 years and over!!Graduate or professional degree',\n",
       " 'Estimate!!Percent Male!!Population 25 years and over!!Graduate or professional degree',\n",
       " 'Estimate!!Percent Female!!Population 25 years and over!!Graduate or professional degree',\n",
       " 'Estimate!!Percent!!Population 25 years and over!!High school graduate or higher',\n",
       " 'Estimate!!Percent Male!!Population 25 years and over!!High school graduate or higher',\n",
       " 'Estimate!!Percent Female!!Population 25 years and over!!High school graduate or higher',\n",
       " \"Estimate!!Percent!!Population 25 years and over!!Bachelor's degree or higher\",\n",
       " \"Estimate!!Percent Male!!Population 25 years and over!!Bachelor's degree or higher\",\n",
       " \"Estimate!!Percent Female!!Population 25 years and over!!Bachelor's degree or higher\",\n",
       " 'Estimate!!Percent!!Population 25 years and over!!Population 25 to 34 years!!High school graduate or higher',\n",
       " 'Estimate!!Percent Male!!Population 25 years and over!!Population 25 to 34 years!!High school graduate or higher',\n",
       " 'Estimate!!Percent Female!!Population 25 years and over!!Population 25 to 34 years!!High school graduate or higher',\n",
       " \"Estimate!!Percent!!Population 25 years and over!!Population 25 to 34 years!!Bachelor's degree or higher\",\n",
       " \"Estimate!!Percent Male!!Population 25 years and over!!Population 25 to 34 years!!Bachelor's degree or higher\",\n",
       " \"Estimate!!Percent Female!!Population 25 years and over!!Population 25 to 34 years!!Bachelor's degree or higher\",\n",
       " 'Estimate!!Percent!!Population 25 years and over!!Population 35 to 44 years!!High school graduate or higher']"
      ]
     },
     "execution_count": 1390,
     "metadata": {},
     "output_type": "execute_result"
    }
   ],
   "source": [
    "list(education_percents.columns)"
   ]
  },
  {
   "cell_type": "code",
   "execution_count": 1391,
   "metadata": {},
   "outputs": [],
   "source": [
    "education_percents = education_percents[[\"Estimate!!Percent!!Population 25 years and over!!Bachelor's degree\", \n",
    "                                         \"Estimate!!Percent!!Population 25 years and over!!Graduate or professional degree\", \n",
    "                                         \"Estimate!!Percent!!Population 25 years and over!!High school graduate or higher\", \n",
    "                                         \"Estimate!!Percent!!Population 25 years and over!!Some college, no degree\", \n",
    "                                         \"Estimate!!Percent Male!!Population 25 years and over!!Bachelor's degree\", \n",
    "                                         \"Estimate!!Percent Female!!Population 25 years and over!!Bachelor's degree\", \n",
    "                                         \"Estimate!!Percent Male!!Population 25 years and over!!Graduate or professional degree\", \n",
    "                                         \"Estimate!!Percent Female!!Population 25 years and over!!Graduate or professional degree\", \n",
    "                                         \"Estimate!!Percent Male!!Population 25 years and over!!High school graduate or higher\", \n",
    "                                         \"Estimate!!Percent Female!!Population 25 years and over!!High school graduate or higher\"]]"
   ]
  },
  {
   "cell_type": "code",
   "execution_count": 1392,
   "metadata": {},
   "outputs": [
    {
     "name": "stdout",
     "output_type": "stream",
     "text": [
      "<class 'pandas.core.frame.DataFrame'>\n",
      "Index: 33120 entries, 00601 to 99929\n",
      "Data columns (total 10 columns):\n",
      " #   Column                                                                                   Non-Null Count  Dtype  \n",
      "---  ------                                                                                   --------------  -----  \n",
      " 0   Estimate!!Percent!!Population 25 years and over!!Bachelor's degree                       32763 non-null  float64\n",
      " 1   Estimate!!Percent!!Population 25 years and over!!Graduate or professional degree         32763 non-null  float64\n",
      " 2   Estimate!!Percent!!Population 25 years and over!!High school graduate or higher          32763 non-null  float64\n",
      " 3   Estimate!!Percent!!Population 25 years and over!!Some college, no degree                 32763 non-null  float64\n",
      " 4   Estimate!!Percent Male!!Population 25 years and over!!Bachelor's degree                  32664 non-null  float64\n",
      " 5   Estimate!!Percent Female!!Population 25 years and over!!Bachelor's degree                32609 non-null  float64\n",
      " 6   Estimate!!Percent Male!!Population 25 years and over!!Graduate or professional degree    32664 non-null  float64\n",
      " 7   Estimate!!Percent Female!!Population 25 years and over!!Graduate or professional degree  32609 non-null  float64\n",
      " 8   Estimate!!Percent Male!!Population 25 years and over!!High school graduate or higher     32664 non-null  float64\n",
      " 9   Estimate!!Percent Female!!Population 25 years and over!!High school graduate or higher   32609 non-null  float64\n",
      "dtypes: float64(10)\n",
      "memory usage: 2.8+ MB\n"
     ]
    }
   ],
   "source": [
    "education_percents.info(verbose=True)"
   ]
  },
  {
   "cell_type": "markdown",
   "metadata": {},
   "source": [
    "#### Edit employment percents dataset"
   ]
  },
  {
   "cell_type": "code",
   "execution_count": 1393,
   "metadata": {},
   "outputs": [],
   "source": [
    "employment_percents = employment_percents.replace({'-': np.nan})"
   ]
  },
  {
   "cell_type": "code",
   "execution_count": 1394,
   "metadata": {},
   "outputs": [],
   "source": [
    "# Change all employment_percent columns to floats\n",
    "for i in employment_percents.columns:\n",
    "    try:\n",
    "        employment_percents[i] = employment_percents[i].astype(float)\n",
    "    except:\n",
    "        continue"
   ]
  },
  {
   "cell_type": "code",
   "execution_count": 1395,
   "metadata": {},
   "outputs": [],
   "source": [
    "employment_percents.rename(columns={'Estimate!!Percent Families with own children under 18 years!!Families' : 'Percent_Families_With_Children'}, inplace=True)\n"
   ]
  },
  {
   "cell_type": "code",
   "execution_count": 1396,
   "metadata": {},
   "outputs": [],
   "source": [
    "employment_percents['Percent_Families_With_Children'] = employment_percents['Percent_Families_With_Children']/employment_percents['Estimate!!Percent!!Families']*100"
   ]
  },
  {
   "cell_type": "code",
   "execution_count": 1397,
   "metadata": {},
   "outputs": [],
   "source": [
    "employment_percents = employment_percents[['Percent_Families_With_Children','Estimate!!Percent!!Families!!EMPLOYMENT STATUS CHARACTERISTICS!!Married-couple families!!Husband in labor force, wife not in labor force', \n",
    "'Estimate!!Percent Families with own children under 18 years!!Families!!EMPLOYMENT STATUS CHARACTERISTICS!!Married-couple families!!Husband in labor force, wife not in labor force', \n",
    "'Estimate!!Percent!!Families!!EMPLOYMENT STATUS CHARACTERISTICS!!Married-couple families!!Wife in labor force, husband not in labor force', \n",
    "'Estimate!!Percent Families with own children under 18 years!!Families!!EMPLOYMENT STATUS CHARACTERISTICS!!Married-couple families!!Wife in labor force, husband not in labor force', \n",
    "'Estimate!!Percent!!Families!!EMPLOYMENT STATUS CHARACTERISTICS!!Married-couple families!!Both husband and wife not in labor force',\n",
    "'Estimate!!Percent Families with own children under 18 years!!Families!!EMPLOYMENT STATUS CHARACTERISTICS!!Married-couple families!!Both husband and wife not in labor force',\n",
    "'Estimate!!Percent!!Families!!EMPLOYMENT STATUS CHARACTERISTICS!!Other families', 'Estimate!!Percent Families with own children under 18 years!!Families!!EMPLOYMENT STATUS CHARACTERISTICS!!Other families',\n",
    "'Estimate!!Percent!!Families!!EMPLOYMENT STATUS CHARACTERISTICS!!Other families!!Female householder, no husband present', \n",
    "'Estimate!!Percent Families with own children under 18 years!!Families!!EMPLOYMENT STATUS CHARACTERISTICS!!Other families!!Female householder, no husband present',\n",
    "'Estimate!!Percent!!Families!!EMPLOYMENT STATUS CHARACTERISTICS!!Other families!!Female householder, no husband present!!In labor force', \n",
    "'Estimate!!Percent Families with own children under 18 years!!Families!!EMPLOYMENT STATUS CHARACTERISTICS!!Other families!!Female householder, no husband present!!In labor force', \n",
    "'Estimate!!Percent!!Families!!EMPLOYMENT STATUS CHARACTERISTICS!!Other families!!Male householder, no wife present',  \n",
    "'Estimate!!Percent Families with own children under 18 years!!Families!!EMPLOYMENT STATUS CHARACTERISTICS!!Other families!!Male householder, no wife present', \n",
    "'Estimate!!Percent!!Families!!EMPLOYMENT STATUS CHARACTERISTICS!!Other families!!Male householder, no wife present!!In labor force', \n",
    "'Estimate!!Percent Families with own children under 18 years!!Families!!EMPLOYMENT STATUS CHARACTERISTICS!!Other families!!Male householder, no wife present!!In labor force', \n",
    "'Estimate!!Percent!!Families!!EMPLOYMENT STATUS CHARACTERISTICS!!Other families!!Male householder, no wife present!!Not in labor force', \n",
    "'Estimate!!Percent!!WORK STATUS CHARACTERISTICS!!Families!!1 worker in the past 12 months', \n",
    "'Estimate!!Percent!!WORK STATUS CHARACTERISTICS!!Families!!2 or more workers in the past 12 months',\n",
    "'Estimate!!Percent Families with own children under 18 years!!WORK STATUS CHARACTERISTICS!!Families!!No workers in the past 12 months', \n",
    "'Estimate!!Percent Families with own children under 18 years!!WORK STATUS CHARACTERISTICS!!Families!!1 worker in the past 12 months', \n",
    "'Estimate!!Percent!!WORK STATUS CHARACTERISTICS!!Families!!No workers in the past 12 months']]\n"
   ]
  },
  {
   "cell_type": "markdown",
   "metadata": {},
   "source": [
    "#### Edit veteran percents dataset"
   ]
  },
  {
   "cell_type": "code",
   "execution_count": 1398,
   "metadata": {},
   "outputs": [],
   "source": [
    "veteran_percents = veteran_percents.replace({'-': np.nan})"
   ]
  },
  {
   "cell_type": "code",
   "execution_count": 1399,
   "metadata": {},
   "outputs": [],
   "source": [
    "# Change all veteran_percent columns to floats\n",
    "for i in veteran_percents.columns:\n",
    "    try:\n",
    "        veteran_percents[i] = veteran_percents[i].astype(float)\n",
    "    except:\n",
    "        continue"
   ]
  },
  {
   "cell_type": "code",
   "execution_count": 1400,
   "metadata": {},
   "outputs": [],
   "source": [
    "veteran_percents.rename(columns = {'Estimate!!Percent Veterans!!Civilian population 18 years and over' : 'Percent_Veterans'}, inplace=True)"
   ]
  },
  {
   "cell_type": "code",
   "execution_count": 1401,
   "metadata": {},
   "outputs": [],
   "source": [
    "veteran_percents = veteran_percents[['Percent_Veterans']]"
   ]
  },
  {
   "cell_type": "markdown",
   "metadata": {},
   "source": [
    "#### Edit marital percents dataset\n"
   ]
  },
  {
   "cell_type": "code",
   "execution_count": 1402,
   "metadata": {},
   "outputs": [],
   "source": [
    "marital_percents = marital_percents.replace({'-': np.nan})"
   ]
  },
  {
   "cell_type": "code",
   "execution_count": 1403,
   "metadata": {},
   "outputs": [],
   "source": [
    "# Change all marital_percent columns to floats\n",
    "for i in marital_percents.columns:\n",
    "    try:\n",
    "        marital_percents[i] = marital_percents[i].astype(float)\n",
    "    except:\n",
    "        continue"
   ]
  },
  {
   "cell_type": "markdown",
   "metadata": {},
   "source": [
    "####  Edit financial char percents dataset"
   ]
  },
  {
   "cell_type": "code",
   "execution_count": 1404,
   "metadata": {},
   "outputs": [],
   "source": [
    "financial_char_percents = financial_char_percents.replace({'-': np.nan})"
   ]
  },
  {
   "cell_type": "code",
   "execution_count": 1405,
   "metadata": {},
   "outputs": [],
   "source": [
    "# Change all financial_char_percent columns to floats\n",
    "for i in financial_char_percents.columns:\n",
    "    try:\n",
    "        financial_char_percents[i] = financial_char_percents[i].astype(float)\n",
    "    except:\n",
    "        continue"
   ]
  },
  {
   "cell_type": "code",
   "execution_count": 1406,
   "metadata": {},
   "outputs": [],
   "source": [
    "financial_char.rename(columns = {'Estimate!!Percent owner-occupied housing units!!Occupied housing units': 'Percent_Owner_Occupied'}, inplace=True)"
   ]
  },
  {
   "cell_type": "code",
   "execution_count": 1407,
   "metadata": {},
   "outputs": [],
   "source": [
    "financial_char.rename(columns = {'Estimate!!Percent occupied housing units!!Occupied housing units!!HOUSEHOLD INCOME IN THE PAST 12 MONTHS (IN 2018 INFLATION-ADJUSTED DOLLARS)!!Median household income (dollars)' : 'Median_HH_Income'}, inplace=True)"
   ]
  },
  {
   "cell_type": "code",
   "execution_count": 1408,
   "metadata": {},
   "outputs": [],
   "source": [
    "financial_char.rename(columns = {'Estimate!!Percent owner-occupied housing units!!Occupied housing units!!HOUSEHOLD INCOME IN THE PAST 12 MONTHS (IN 2018 INFLATION-ADJUSTED DOLLARS)!!Median household income (dollars)' : 'Median_Owner_HH_Income'}, inplace=True)"
   ]
  },
  {
   "cell_type": "code",
   "execution_count": 1409,
   "metadata": {},
   "outputs": [],
   "source": [
    "financial_char.rename(columns = { 'Estimate!!Percent renter-occupied housing units!!Occupied housing units!!HOUSEHOLD INCOME IN THE PAST 12 MONTHS (IN 2018 INFLATION-ADJUSTED DOLLARS)!!Median household income (dollars)' : 'Median_Renter_HH_Income'}, inplace=True)"
   ]
  },
  {
   "cell_type": "code",
   "execution_count": 1410,
   "metadata": {},
   "outputs": [],
   "source": [
    "financial_percents = financial_char[['Percent_Owner_Occupied', 'Median_HH_Income', 'Median_Owner_HH_Income', 'Median_Renter_HH_Income']]"
   ]
  },
  {
   "cell_type": "code",
   "execution_count": 1411,
   "metadata": {},
   "outputs": [
    {
     "name": "stderr",
     "output_type": "stream",
     "text": [
      "/opt/anaconda3/lib/python3.7/site-packages/ipykernel_launcher.py:1: SettingWithCopyWarning: \n",
      "A value is trying to be set on a copy of a slice from a DataFrame.\n",
      "Try using .loc[row_indexer,col_indexer] = value instead\n",
      "\n",
      "See the caveats in the documentation: https://pandas.pydata.org/pandas-docs/stable/user_guide/indexing.html#returning-a-view-versus-a-copy\n",
      "  \"\"\"Entry point for launching an IPython kernel.\n"
     ]
    }
   ],
   "source": [
    "financial_percents['Percent_Owner_Occupied'] = financial_percents['Percent_Owner_Occupied']*100"
   ]
  },
  {
   "cell_type": "markdown",
   "metadata": {},
   "source": [
    "#### Edit language percents dataset"
   ]
  },
  {
   "cell_type": "code",
   "execution_count": 1412,
   "metadata": {},
   "outputs": [
    {
     "data": {
      "text/html": [
       "<div>\n",
       "<style scoped>\n",
       "    .dataframe tbody tr th:only-of-type {\n",
       "        vertical-align: middle;\n",
       "    }\n",
       "\n",
       "    .dataframe tbody tr th {\n",
       "        vertical-align: top;\n",
       "    }\n",
       "\n",
       "    .dataframe thead th {\n",
       "        text-align: right;\n",
       "    }\n",
       "</style>\n",
       "<table border=\"1\" class=\"dataframe\">\n",
       "  <thead>\n",
       "    <tr style=\"text-align: right;\">\n",
       "      <th></th>\n",
       "      <th>Estimate!!Percent of specified language speakers!!Speak English only or speak English very well\"!!Population 5 years and over\"</th>\n",
       "      <th>Estimate!!Percent of specified language speakers!!Percent speak English only or speak English very well\"!!Population 5 years and over\"</th>\n",
       "      <th>Estimate!!Percent of specified language speakers!!Speak English less than very well\"!!Population 5 years and over\"</th>\n",
       "      <th>Estimate!!Percent of specified language speakers!!Percent speak English less than very well\"!!Population 5 years and over\"</th>\n",
       "      <th>Estimate!!Percent!!Population 5 years and over!!Speak only English</th>\n",
       "      <th>Estimate!!Percent!!Population 5 years and over!!Speak a language other than English</th>\n",
       "      <th>Estimate!!Percent of specified language speakers!!Speak English only or speak English very well\"!!Population 5 years and over!!Speak a language other than English\"</th>\n",
       "      <th>Estimate!!Percent of specified language speakers!!Percent speak English only or speak English very well\"!!Population 5 years and over!!Speak a language other than English\"</th>\n",
       "      <th>Estimate!!Percent of specified language speakers!!Speak English less than very well\"!!Population 5 years and over!!Speak a language other than English\"</th>\n",
       "      <th>Estimate!!Percent of specified language speakers!!Percent speak English less than very well\"!!Population 5 years and over!!Speak a language other than English\"</th>\n",
       "      <th>...</th>\n",
       "      <th>Estimate!!Percent!!Population 5 years and over!!All citizens 18 years old and over!!Speak a language other than English!!Spanish</th>\n",
       "      <th>Estimate!!Percent of specified language speakers!!Speak English only or speak English very well\"!!Population 5 years and over!!All citizens 18 years old and over!!Speak a language other than English!!Spanish\"</th>\n",
       "      <th>Estimate!!Percent of specified language speakers!!Percent speak English only or speak English very well\"!!Population 5 years and over!!All citizens 18 years old and over!!Speak a language other than English!!Spanish\"</th>\n",
       "      <th>Estimate!!Percent of specified language speakers!!Speak English less than very well\"!!Population 5 years and over!!All citizens 18 years old and over!!Speak a language other than English!!Spanish\"</th>\n",
       "      <th>Estimate!!Percent of specified language speakers!!Percent speak English less than very well\"!!Population 5 years and over!!All citizens 18 years old and over!!Speak a language other than English!!Spanish\"</th>\n",
       "      <th>Estimate!!Percent!!Population 5 years and over!!All citizens 18 years old and over!!Speak a language other than English!!Other languages</th>\n",
       "      <th>Estimate!!Percent of specified language speakers!!Speak English only or speak English very well\"!!Population 5 years and over!!All citizens 18 years old and over!!Speak a language other than English!!Other languages\"</th>\n",
       "      <th>Estimate!!Percent of specified language speakers!!Percent speak English only or speak English very well\"!!Population 5 years and over!!All citizens 18 years old and over!!Speak a language other than English!!Other languages\"</th>\n",
       "      <th>Estimate!!Percent of specified language speakers!!Speak English less than very well\"!!Population 5 years and over!!All citizens 18 years old and over!!Speak a language other than English!!Other languages\"</th>\n",
       "      <th>Estimate!!Percent of specified language speakers!!Percent speak English less than very well\"!!Population 5 years and over!!All citizens 18 years old and over!!Speak a language other than English!!Other languages\"</th>\n",
       "    </tr>\n",
       "    <tr>\n",
       "      <th>zip</th>\n",
       "      <th></th>\n",
       "      <th></th>\n",
       "      <th></th>\n",
       "      <th></th>\n",
       "      <th></th>\n",
       "      <th></th>\n",
       "      <th></th>\n",
       "      <th></th>\n",
       "      <th></th>\n",
       "      <th></th>\n",
       "      <th></th>\n",
       "      <th></th>\n",
       "      <th></th>\n",
       "      <th></th>\n",
       "      <th></th>\n",
       "      <th></th>\n",
       "      <th></th>\n",
       "      <th></th>\n",
       "      <th></th>\n",
       "      <th></th>\n",
       "      <th></th>\n",
       "    </tr>\n",
       "  </thead>\n",
       "  <tbody>\n",
       "    <tr>\n",
       "      <th>00601</th>\n",
       "      <td>2236</td>\n",
       "      <td>13.7</td>\n",
       "      <td>14138</td>\n",
       "      <td>86.3</td>\n",
       "      <td>5.3</td>\n",
       "      <td>94.7</td>\n",
       "      <td>1363</td>\n",
       "      <td>8.8</td>\n",
       "      <td>14138</td>\n",
       "      <td>91.2</td>\n",
       "      <td>...</td>\n",
       "      <td>94.4</td>\n",
       "      <td>1158</td>\n",
       "      <td>9.1</td>\n",
       "      <td>11529</td>\n",
       "      <td>90.9</td>\n",
       "      <td>0.0</td>\n",
       "      <td>0</td>\n",
       "      <td>-</td>\n",
       "      <td>0</td>\n",
       "      <td>-</td>\n",
       "    </tr>\n",
       "  </tbody>\n",
       "</table>\n",
       "<p>1 rows × 110 columns</p>\n",
       "</div>"
      ],
      "text/plain": [
       "       Estimate!!Percent of specified language speakers!!Speak English only or speak English very well\"!!Population 5 years and over\"  \\\n",
       "zip                                                                                                                                     \n",
       "00601                                               2236                                                                                \n",
       "\n",
       "      Estimate!!Percent of specified language speakers!!Percent speak English only or speak English very well\"!!Population 5 years and over\"  \\\n",
       "zip                                                                                                                                            \n",
       "00601                                               13.7                                                                                       \n",
       "\n",
       "       Estimate!!Percent of specified language speakers!!Speak English less than very well\"!!Population 5 years and over\"  \\\n",
       "zip                                                                                                                         \n",
       "00601                                              14138                                                                    \n",
       "\n",
       "      Estimate!!Percent of specified language speakers!!Percent speak English less than very well\"!!Population 5 years and over\"  \\\n",
       "zip                                                                                                                                \n",
       "00601                                               86.3                                                                           \n",
       "\n",
       "      Estimate!!Percent!!Population 5 years and over!!Speak only English  \\\n",
       "zip                                                                        \n",
       "00601                                                5.3                   \n",
       "\n",
       "      Estimate!!Percent!!Population 5 years and over!!Speak a language other than English  \\\n",
       "zip                                                                                         \n",
       "00601                                               94.7                                    \n",
       "\n",
       "       Estimate!!Percent of specified language speakers!!Speak English only or speak English very well\"!!Population 5 years and over!!Speak a language other than English\"  \\\n",
       "zip                                                                                                                                                                          \n",
       "00601                                               1363                                                                                                                     \n",
       "\n",
       "      Estimate!!Percent of specified language speakers!!Percent speak English only or speak English very well\"!!Population 5 years and over!!Speak a language other than English\"  \\\n",
       "zip                                                                                                                                                                                 \n",
       "00601                                                8.8                                                                                                                            \n",
       "\n",
       "       Estimate!!Percent of specified language speakers!!Speak English less than very well\"!!Population 5 years and over!!Speak a language other than English\"  \\\n",
       "zip                                                                                                                                                              \n",
       "00601                                              14138                                                                                                         \n",
       "\n",
       "      Estimate!!Percent of specified language speakers!!Percent speak English less than very well\"!!Population 5 years and over!!Speak a language other than English\"  \\\n",
       "zip                                                                                                                                                                     \n",
       "00601                                               91.2                                                                                                                \n",
       "\n",
       "       ...  \\\n",
       "zip    ...   \n",
       "00601  ...   \n",
       "\n",
       "      Estimate!!Percent!!Population 5 years and over!!All citizens 18 years old and over!!Speak a language other than English!!Spanish  \\\n",
       "zip                                                                                                                                      \n",
       "00601                                               94.4                                                                                 \n",
       "\n",
       "       Estimate!!Percent of specified language speakers!!Speak English only or speak English very well\"!!Population 5 years and over!!All citizens 18 years old and over!!Speak a language other than English!!Spanish\"  \\\n",
       "zip                                                                                                                                                                                                                       \n",
       "00601                                               1158                                                                                                                                                                  \n",
       "\n",
       "      Estimate!!Percent of specified language speakers!!Percent speak English only or speak English very well\"!!Population 5 years and over!!All citizens 18 years old and over!!Speak a language other than English!!Spanish\"  \\\n",
       "zip                                                                                                                                                                                                                              \n",
       "00601                                                9.1                                                                                                                                                                         \n",
       "\n",
       "       Estimate!!Percent of specified language speakers!!Speak English less than very well\"!!Population 5 years and over!!All citizens 18 years old and over!!Speak a language other than English!!Spanish\"  \\\n",
       "zip                                                                                                                                                                                                           \n",
       "00601                                              11529                                                                                                                                                      \n",
       "\n",
       "      Estimate!!Percent of specified language speakers!!Percent speak English less than very well\"!!Population 5 years and over!!All citizens 18 years old and over!!Speak a language other than English!!Spanish\"  \\\n",
       "zip                                                                                                                                                                                                                  \n",
       "00601                                               90.9                                                                                                                                                             \n",
       "\n",
       "      Estimate!!Percent!!Population 5 years and over!!All citizens 18 years old and over!!Speak a language other than English!!Other languages  \\\n",
       "zip                                                                                                                                              \n",
       "00601                                                0.0                                                                                         \n",
       "\n",
       "       Estimate!!Percent of specified language speakers!!Speak English only or speak English very well\"!!Population 5 years and over!!All citizens 18 years old and over!!Speak a language other than English!!Other languages\"  \\\n",
       "zip                                                                                                                                                                                                                               \n",
       "00601                                                  0                                                                                                                                                                          \n",
       "\n",
       "      Estimate!!Percent of specified language speakers!!Percent speak English only or speak English very well\"!!Population 5 years and over!!All citizens 18 years old and over!!Speak a language other than English!!Other languages\"  \\\n",
       "zip                                                                                                                                                                                                                                      \n",
       "00601                                                  -                                                                                                                                                                                 \n",
       "\n",
       "       Estimate!!Percent of specified language speakers!!Speak English less than very well\"!!Population 5 years and over!!All citizens 18 years old and over!!Speak a language other than English!!Other languages\"  \\\n",
       "zip                                                                                                                                                                                                                   \n",
       "00601                                                  0                                                                                                                                                              \n",
       "\n",
       "      Estimate!!Percent of specified language speakers!!Percent speak English less than very well\"!!Population 5 years and over!!All citizens 18 years old and over!!Speak a language other than English!!Other languages\"  \n",
       "zip                                                                                                                                                                                                                         \n",
       "00601                                                  -                                                                                                                                                                    \n",
       "\n",
       "[1 rows x 110 columns]"
      ]
     },
     "execution_count": 1412,
     "metadata": {},
     "output_type": "execute_result"
    }
   ],
   "source": [
    "language_percents.head(1)"
   ]
  },
  {
   "cell_type": "code",
   "execution_count": 1413,
   "metadata": {
    "scrolled": true
   },
   "outputs": [
    {
     "name": "stderr",
     "output_type": "stream",
     "text": [
      "/opt/anaconda3/lib/python3.7/site-packages/pandas/core/frame.py:4133: SettingWithCopyWarning: \n",
      "A value is trying to be set on a copy of a slice from a DataFrame\n",
      "\n",
      "See the caveats in the documentation: https://pandas.pydata.org/pandas-docs/stable/user_guide/indexing.html#returning-a-view-versus-a-copy\n",
      "  errors=errors,\n"
     ]
    }
   ],
   "source": [
    "\n",
    "language_percents.rename(columns = {'Estimate!!Percent!!Population 5 years and over!!All citizens 18 years old and over!!Speak a language other than English!!Spanish' : \"Speaks_Spanish\"}, inplace=True)"
   ]
  },
  {
   "cell_type": "code",
   "execution_count": 1414,
   "metadata": {},
   "outputs": [],
   "source": [
    "language_percents.rename(columns = {'Estimate!!Percent!!Population 5 years and over!!Speak only English' : \"Speak_Only_English\"}, inplace=True)\n"
   ]
  },
  {
   "cell_type": "code",
   "execution_count": 1415,
   "metadata": {},
   "outputs": [],
   "source": [
    "language_percents.rename(columns = {'Estimate!!Percent!!Population 5 years and over!!Speak a language other than English' : \"Speaks_Other_Language\"}, inplace=True)"
   ]
  },
  {
   "cell_type": "code",
   "execution_count": 1416,
   "metadata": {},
   "outputs": [],
   "source": [
    "language_percents.rename(columns = {'Estimate!!Percent of specified language speakers!!Percent speak English less than very well\"!!Population 5 years and over\"' : \"Poor_English_Speaking\"}, inplace=True)"
   ]
  },
  {
   "cell_type": "code",
   "execution_count": 1417,
   "metadata": {},
   "outputs": [
    {
     "name": "stdout",
     "output_type": "stream",
     "text": [
      "<class 'pandas.core.frame.DataFrame'>\n",
      "Index: 33120 entries, 00601 to 99929\n",
      "Data columns (total 110 columns):\n",
      " #   Column                                                                                                                                                                                                                                  Dtype \n",
      "---  ------                                                                                                                                                                                                                                  ----- \n",
      " 0   Estimate!!Percent of specified language speakers!!Speak English only or speak English very well\"!!Population 5 years and over\"                                                                                                          int64 \n",
      " 1   Estimate!!Percent of specified language speakers!!Percent speak English only or speak English very well\"!!Population 5 years and over\"                                                                                                  object\n",
      " 2   Estimate!!Percent of specified language speakers!!Speak English less than very well\"!!Population 5 years and over\"                                                                                                                      int64 \n",
      " 3   Poor_English_Speaking                                                                                                                                                                                                                   object\n",
      " 4   Speak_Only_English                                                                                                                                                                                                                      object\n",
      " 5   Speaks_Other_Language                                                                                                                                                                                                                   object\n",
      " 6   Estimate!!Percent of specified language speakers!!Speak English only or speak English very well\"!!Population 5 years and over!!Speak a language other than English\"                                                                     int64 \n",
      " 7   Estimate!!Percent of specified language speakers!!Percent speak English only or speak English very well\"!!Population 5 years and over!!Speak a language other than English\"                                                             object\n",
      " 8   Estimate!!Percent of specified language speakers!!Speak English less than very well\"!!Population 5 years and over!!Speak a language other than English\"                                                                                 int64 \n",
      " 9   Estimate!!Percent of specified language speakers!!Percent speak English less than very well\"!!Population 5 years and over!!Speak a language other than English\"                                                                         object\n",
      " 10  Estimate!!Percent!!Population 5 years and over!!SPEAK A LANGUAGE OTHER THAN ENGLISH!!Spanish                                                                                                                                            object\n",
      " 11  Estimate!!Percent of specified language speakers!!Speak English only or speak English very well\"!!Population 5 years and over!!SPEAK A LANGUAGE OTHER THAN ENGLISH!!Spanish\"                                                            int64 \n",
      " 12  Estimate!!Percent of specified language speakers!!Percent speak English only or speak English very well\"!!Population 5 years and over!!SPEAK A LANGUAGE OTHER THAN ENGLISH!!Spanish\"                                                    object\n",
      " 13  Estimate!!Percent of specified language speakers!!Speak English less than very well\"!!Population 5 years and over!!SPEAK A LANGUAGE OTHER THAN ENGLISH!!Spanish\"                                                                        int64 \n",
      " 14  Estimate!!Percent of specified language speakers!!Percent speak English less than very well\"!!Population 5 years and over!!SPEAK A LANGUAGE OTHER THAN ENGLISH!!Spanish\"                                                                object\n",
      " 15  Estimate!!Percent!!Population 5 years and over!!SPEAK A LANGUAGE OTHER THAN ENGLISH!!Spanish!!5 to 17 years old                                                                                                                         object\n",
      " 16  Estimate!!Percent of specified language speakers!!Speak English only or speak English very well\"!!Population 5 years and over!!SPEAK A LANGUAGE OTHER THAN ENGLISH!!Spanish!!5 to 17 years old\"                                         int64 \n",
      " 17  Estimate!!Percent of specified language speakers!!Percent speak English only or speak English very well\"!!Population 5 years and over!!SPEAK A LANGUAGE OTHER THAN ENGLISH!!Spanish!!5 to 17 years old\"                                 object\n",
      " 18  Estimate!!Percent of specified language speakers!!Speak English less than very well\"!!Population 5 years and over!!SPEAK A LANGUAGE OTHER THAN ENGLISH!!Spanish!!5 to 17 years old\"                                                     int64 \n",
      " 19  Estimate!!Percent of specified language speakers!!Percent speak English less than very well\"!!Population 5 years and over!!SPEAK A LANGUAGE OTHER THAN ENGLISH!!Spanish!!5 to 17 years old\"                                             object\n",
      " 20  Estimate!!Percent!!Population 5 years and over!!SPEAK A LANGUAGE OTHER THAN ENGLISH!!Spanish!!18 to 64 years old                                                                                                                        object\n",
      " 21  Estimate!!Percent of specified language speakers!!Speak English only or speak English very well\"!!Population 5 years and over!!SPEAK A LANGUAGE OTHER THAN ENGLISH!!Spanish!!18 to 64 years old\"                                        int64 \n",
      " 22  Estimate!!Percent of specified language speakers!!Percent speak English only or speak English very well\"!!Population 5 years and over!!SPEAK A LANGUAGE OTHER THAN ENGLISH!!Spanish!!18 to 64 years old\"                                object\n",
      " 23  Estimate!!Percent of specified language speakers!!Speak English less than very well\"!!Population 5 years and over!!SPEAK A LANGUAGE OTHER THAN ENGLISH!!Spanish!!18 to 64 years old\"                                                    int64 \n",
      " 24  Estimate!!Percent of specified language speakers!!Percent speak English less than very well\"!!Population 5 years and over!!SPEAK A LANGUAGE OTHER THAN ENGLISH!!Spanish!!18 to 64 years old\"                                            object\n",
      " 25  Estimate!!Percent!!Population 5 years and over!!SPEAK A LANGUAGE OTHER THAN ENGLISH!!Spanish!!65 years old and over                                                                                                                     object\n",
      " 26  Estimate!!Percent of specified language speakers!!Speak English only or speak English very well\"!!Population 5 years and over!!SPEAK A LANGUAGE OTHER THAN ENGLISH!!Spanish!!65 years old and over\"                                     int64 \n",
      " 27  Estimate!!Percent of specified language speakers!!Percent speak English only or speak English very well\"!!Population 5 years and over!!SPEAK A LANGUAGE OTHER THAN ENGLISH!!Spanish!!65 years old and over\"                             object\n",
      " 28  Estimate!!Percent of specified language speakers!!Speak English less than very well\"!!Population 5 years and over!!SPEAK A LANGUAGE OTHER THAN ENGLISH!!Spanish!!65 years old and over\"                                                 int64 \n",
      " 29  Estimate!!Percent of specified language speakers!!Percent speak English less than very well\"!!Population 5 years and over!!SPEAK A LANGUAGE OTHER THAN ENGLISH!!Spanish!!65 years old and over\"                                         object\n",
      " 30  Estimate!!Percent!!Population 5 years and over!!SPEAK A LANGUAGE OTHER THAN ENGLISH!!Other Indo-European languages                                                                                                                      object\n",
      " 31  Estimate!!Percent of specified language speakers!!Speak English only or speak English very well\"!!Population 5 years and over!!SPEAK A LANGUAGE OTHER THAN ENGLISH!!Other Indo-European languages\"                                      int64 \n",
      " 32  Estimate!!Percent of specified language speakers!!Percent speak English only or speak English very well\"!!Population 5 years and over!!SPEAK A LANGUAGE OTHER THAN ENGLISH!!Other Indo-European languages\"                              object\n",
      " 33  Estimate!!Percent of specified language speakers!!Speak English less than very well\"!!Population 5 years and over!!SPEAK A LANGUAGE OTHER THAN ENGLISH!!Other Indo-European languages\"                                                  int64 \n",
      " 34  Estimate!!Percent of specified language speakers!!Percent speak English less than very well\"!!Population 5 years and over!!SPEAK A LANGUAGE OTHER THAN ENGLISH!!Other Indo-European languages\"                                          object\n",
      " 35  Estimate!!Percent!!Population 5 years and over!!SPEAK A LANGUAGE OTHER THAN ENGLISH!!Other Indo-European languages!!5 to 17 years old                                                                                                   object\n",
      " 36  Estimate!!Percent of specified language speakers!!Speak English only or speak English very well\"!!Population 5 years and over!!SPEAK A LANGUAGE OTHER THAN ENGLISH!!Other Indo-European languages!!5 to 17 years old\"                   int64 \n",
      " 37  Estimate!!Percent of specified language speakers!!Percent speak English only or speak English very well\"!!Population 5 years and over!!SPEAK A LANGUAGE OTHER THAN ENGLISH!!Other Indo-European languages!!5 to 17 years old\"           object\n",
      " 38  Estimate!!Percent of specified language speakers!!Speak English less than very well\"!!Population 5 years and over!!SPEAK A LANGUAGE OTHER THAN ENGLISH!!Other Indo-European languages!!5 to 17 years old\"                               int64 \n",
      " 39  Estimate!!Percent of specified language speakers!!Percent speak English less than very well\"!!Population 5 years and over!!SPEAK A LANGUAGE OTHER THAN ENGLISH!!Other Indo-European languages!!5 to 17 years old\"                       object\n",
      " 40  Estimate!!Percent!!Population 5 years and over!!SPEAK A LANGUAGE OTHER THAN ENGLISH!!Other Indo-European languages!!18 to 64 years old                                                                                                  object\n",
      " 41  Estimate!!Percent of specified language speakers!!Speak English only or speak English very well\"!!Population 5 years and over!!SPEAK A LANGUAGE OTHER THAN ENGLISH!!Other Indo-European languages!!18 to 64 years old\"                  int64 \n",
      " 42  Estimate!!Percent of specified language speakers!!Percent speak English only or speak English very well\"!!Population 5 years and over!!SPEAK A LANGUAGE OTHER THAN ENGLISH!!Other Indo-European languages!!18 to 64 years old\"          object\n",
      " 43  Estimate!!Percent of specified language speakers!!Speak English less than very well\"!!Population 5 years and over!!SPEAK A LANGUAGE OTHER THAN ENGLISH!!Other Indo-European languages!!18 to 64 years old\"                              int64 \n",
      " 44  Estimate!!Percent of specified language speakers!!Percent speak English less than very well\"!!Population 5 years and over!!SPEAK A LANGUAGE OTHER THAN ENGLISH!!Other Indo-European languages!!18 to 64 years old\"                      object\n",
      " 45  Estimate!!Percent!!Population 5 years and over!!SPEAK A LANGUAGE OTHER THAN ENGLISH!!Other Indo-European languages!!65 years old and over                                                                                               object\n",
      " 46  Estimate!!Percent of specified language speakers!!Speak English only or speak English very well\"!!Population 5 years and over!!SPEAK A LANGUAGE OTHER THAN ENGLISH!!Other Indo-European languages!!65 years old and over\"               int64 \n",
      " 47  Estimate!!Percent of specified language speakers!!Percent speak English only or speak English very well\"!!Population 5 years and over!!SPEAK A LANGUAGE OTHER THAN ENGLISH!!Other Indo-European languages!!65 years old and over\"       object\n",
      " 48  Estimate!!Percent of specified language speakers!!Speak English less than very well\"!!Population 5 years and over!!SPEAK A LANGUAGE OTHER THAN ENGLISH!!Other Indo-European languages!!65 years old and over\"                           int64 \n",
      " 49  Estimate!!Percent of specified language speakers!!Percent speak English less than very well\"!!Population 5 years and over!!SPEAK A LANGUAGE OTHER THAN ENGLISH!!Other Indo-European languages!!65 years old and over\"                   object\n",
      " 50  Estimate!!Percent!!Population 5 years and over!!SPEAK A LANGUAGE OTHER THAN ENGLISH!!Asian and Pacific Island languages                                                                                                                 object\n",
      " 51  Estimate!!Percent of specified language speakers!!Speak English only or speak English very well\"!!Population 5 years and over!!SPEAK A LANGUAGE OTHER THAN ENGLISH!!Asian and Pacific Island languages\"                                 int64 \n",
      " 52  Estimate!!Percent of specified language speakers!!Percent speak English only or speak English very well\"!!Population 5 years and over!!SPEAK A LANGUAGE OTHER THAN ENGLISH!!Asian and Pacific Island languages\"                         object\n",
      " 53  Estimate!!Percent of specified language speakers!!Speak English less than very well\"!!Population 5 years and over!!SPEAK A LANGUAGE OTHER THAN ENGLISH!!Asian and Pacific Island languages\"                                             int64 \n",
      " 54  Estimate!!Percent of specified language speakers!!Percent speak English less than very well\"!!Population 5 years and over!!SPEAK A LANGUAGE OTHER THAN ENGLISH!!Asian and Pacific Island languages\"                                     object\n",
      " 55  Estimate!!Percent!!Population 5 years and over!!SPEAK A LANGUAGE OTHER THAN ENGLISH!!Asian and Pacific Island languages!!5 to 17 years old                                                                                              object\n",
      " 56  Estimate!!Percent of specified language speakers!!Speak English only or speak English very well\"!!Population 5 years and over!!SPEAK A LANGUAGE OTHER THAN ENGLISH!!Asian and Pacific Island languages!!5 to 17 years old\"              int64 \n",
      " 57  Estimate!!Percent of specified language speakers!!Percent speak English only or speak English very well\"!!Population 5 years and over!!SPEAK A LANGUAGE OTHER THAN ENGLISH!!Asian and Pacific Island languages!!5 to 17 years old\"      object\n",
      " 58  Estimate!!Percent of specified language speakers!!Speak English less than very well\"!!Population 5 years and over!!SPEAK A LANGUAGE OTHER THAN ENGLISH!!Asian and Pacific Island languages!!5 to 17 years old\"                          int64 \n",
      " 59  Estimate!!Percent of specified language speakers!!Percent speak English less than very well\"!!Population 5 years and over!!SPEAK A LANGUAGE OTHER THAN ENGLISH!!Asian and Pacific Island languages!!5 to 17 years old\"                  object\n",
      " 60  Estimate!!Percent!!Population 5 years and over!!SPEAK A LANGUAGE OTHER THAN ENGLISH!!Asian and Pacific Island languages!!18 to 64 years old                                                                                             object\n",
      " 61  Estimate!!Percent of specified language speakers!!Speak English only or speak English very well\"!!Population 5 years and over!!SPEAK A LANGUAGE OTHER THAN ENGLISH!!Asian and Pacific Island languages!!18 to 64 years old\"             int64 \n",
      " 62  Estimate!!Percent of specified language speakers!!Percent speak English only or speak English very well\"!!Population 5 years and over!!SPEAK A LANGUAGE OTHER THAN ENGLISH!!Asian and Pacific Island languages!!18 to 64 years old\"     object\n",
      " 63  Estimate!!Percent of specified language speakers!!Speak English less than very well\"!!Population 5 years and over!!SPEAK A LANGUAGE OTHER THAN ENGLISH!!Asian and Pacific Island languages!!18 to 64 years old\"                         int64 \n",
      " 64  Estimate!!Percent of specified language speakers!!Percent speak English less than very well\"!!Population 5 years and over!!SPEAK A LANGUAGE OTHER THAN ENGLISH!!Asian and Pacific Island languages!!18 to 64 years old\"                 object\n",
      " 65  Estimate!!Percent!!Population 5 years and over!!SPEAK A LANGUAGE OTHER THAN ENGLISH!!Asian and Pacific Island languages!!65 years old and over                                                                                          object\n",
      " 66  Estimate!!Percent of specified language speakers!!Speak English only or speak English very well\"!!Population 5 years and over!!SPEAK A LANGUAGE OTHER THAN ENGLISH!!Asian and Pacific Island languages!!65 years old and over\"          int64 \n",
      " 67  Estimate!!Percent of specified language speakers!!Percent speak English only or speak English very well\"!!Population 5 years and over!!SPEAK A LANGUAGE OTHER THAN ENGLISH!!Asian and Pacific Island languages!!65 years old and over\"  object\n",
      " 68  Estimate!!Percent of specified language speakers!!Speak English less than very well\"!!Population 5 years and over!!SPEAK A LANGUAGE OTHER THAN ENGLISH!!Asian and Pacific Island languages!!65 years old and over\"                      int64 \n",
      " 69  Estimate!!Percent of specified language speakers!!Percent speak English less than very well\"!!Population 5 years and over!!SPEAK A LANGUAGE OTHER THAN ENGLISH!!Asian and Pacific Island languages!!65 years old and over\"              object\n",
      " 70  Estimate!!Percent!!Population 5 years and over!!SPEAK A LANGUAGE OTHER THAN ENGLISH!!Other languages                                                                                                                                    object\n",
      " 71  Estimate!!Percent of specified language speakers!!Speak English only or speak English very well\"!!Population 5 years and over!!SPEAK A LANGUAGE OTHER THAN ENGLISH!!Other languages\"                                                    int64 \n",
      " 72  Estimate!!Percent of specified language speakers!!Percent speak English only or speak English very well\"!!Population 5 years and over!!SPEAK A LANGUAGE OTHER THAN ENGLISH!!Other languages\"                                            object\n",
      " 73  Estimate!!Percent of specified language speakers!!Speak English less than very well\"!!Population 5 years and over!!SPEAK A LANGUAGE OTHER THAN ENGLISH!!Other languages\"                                                                int64 \n",
      " 74  Estimate!!Percent of specified language speakers!!Percent speak English less than very well\"!!Population 5 years and over!!SPEAK A LANGUAGE OTHER THAN ENGLISH!!Other languages\"                                                        object\n",
      " 75  Estimate!!Percent!!Population 5 years and over!!SPEAK A LANGUAGE OTHER THAN ENGLISH!!Other languages!!5 to 17 years old                                                                                                                 object\n",
      " 76  Estimate!!Percent of specified language speakers!!Speak English only or speak English very well\"!!Population 5 years and over!!SPEAK A LANGUAGE OTHER THAN ENGLISH!!Other languages!!5 to 17 years old\"                                 int64 \n",
      " 77  Estimate!!Percent of specified language speakers!!Percent speak English only or speak English very well\"!!Population 5 years and over!!SPEAK A LANGUAGE OTHER THAN ENGLISH!!Other languages!!5 to 17 years old\"                         object\n",
      " 78  Estimate!!Percent of specified language speakers!!Speak English less than very well\"!!Population 5 years and over!!SPEAK A LANGUAGE OTHER THAN ENGLISH!!Other languages!!5 to 17 years old\"                                             int64 \n",
      " 79  Estimate!!Percent of specified language speakers!!Percent speak English less than very well\"!!Population 5 years and over!!SPEAK A LANGUAGE OTHER THAN ENGLISH!!Other languages!!5 to 17 years old\"                                     object\n",
      " 80  Estimate!!Percent!!Population 5 years and over!!SPEAK A LANGUAGE OTHER THAN ENGLISH!!Other languages!!18 to 64 years old                                                                                                                object\n",
      " 81  Estimate!!Percent of specified language speakers!!Speak English only or speak English very well\"!!Population 5 years and over!!SPEAK A LANGUAGE OTHER THAN ENGLISH!!Other languages!!18 to 64 years old\"                                int64 \n",
      " 82  Estimate!!Percent of specified language speakers!!Percent speak English only or speak English very well\"!!Population 5 years and over!!SPEAK A LANGUAGE OTHER THAN ENGLISH!!Other languages!!18 to 64 years old\"                        object\n",
      " 83  Estimate!!Percent of specified language speakers!!Speak English less than very well\"!!Population 5 years and over!!SPEAK A LANGUAGE OTHER THAN ENGLISH!!Other languages!!18 to 64 years old\"                                            int64 \n",
      " 84  Estimate!!Percent of specified language speakers!!Percent speak English less than very well\"!!Population 5 years and over!!SPEAK A LANGUAGE OTHER THAN ENGLISH!!Other languages!!18 to 64 years old\"                                    object\n",
      " 85  Estimate!!Percent!!Population 5 years and over!!SPEAK A LANGUAGE OTHER THAN ENGLISH!!Other languages!!65 years old and over                                                                                                             object\n",
      " 86  Estimate!!Percent of specified language speakers!!Speak English only or speak English very well\"!!Population 5 years and over!!SPEAK A LANGUAGE OTHER THAN ENGLISH!!Other languages!!65 years old and over\"                             int64 \n",
      " 87  Estimate!!Percent of specified language speakers!!Percent speak English only or speak English very well\"!!Population 5 years and over!!SPEAK A LANGUAGE OTHER THAN ENGLISH!!Other languages!!65 years old and over\"                     object\n",
      " 88  Estimate!!Percent of specified language speakers!!Speak English less than very well\"!!Population 5 years and over!!SPEAK A LANGUAGE OTHER THAN ENGLISH!!Other languages!!65 years old and over\"                                         int64 \n",
      " 89  Estimate!!Percent of specified language speakers!!Percent speak English less than very well\"!!Population 5 years and over!!SPEAK A LANGUAGE OTHER THAN ENGLISH!!Other languages!!65 years old and over\"                                 object\n",
      " 90  Estimate!!Percent of specified language speakers!!Speak English only or speak English very well\"!!Population 5 years and over!!All citizens 18 years old and over\"                                                                      int64 \n",
      " 91  Estimate!!Percent of specified language speakers!!Percent speak English only or speak English very well\"!!Population 5 years and over!!All citizens 18 years old and over\"                                                              object\n",
      " 92  Estimate!!Percent of specified language speakers!!Speak English less than very well\"!!Population 5 years and over!!All citizens 18 years old and over\"                                                                                  int64 \n",
      " 93  Estimate!!Percent of specified language speakers!!Percent speak English less than very well\"!!Population 5 years and over!!All citizens 18 years old and over\"                                                                          object\n",
      " 94  Estimate!!Percent!!Population 5 years and over!!All citizens 18 years old and over!!Speak only English                                                                                                                                  object\n",
      " 95  Estimate!!Percent!!Population 5 years and over!!All citizens 18 years old and over!!Speak a language other than English                                                                                                                 object\n",
      " 96  Estimate!!Percent of specified language speakers!!Speak English only or speak English very well\"!!Population 5 years and over!!All citizens 18 years old and over!!Speak a language other than English\"                                 int64 \n",
      " 97  Estimate!!Percent of specified language speakers!!Percent speak English only or speak English very well\"!!Population 5 years and over!!All citizens 18 years old and over!!Speak a language other than English\"                         object\n",
      " 98  Estimate!!Percent of specified language speakers!!Speak English less than very well\"!!Population 5 years and over!!All citizens 18 years old and over!!Speak a language other than English\"                                             int64 \n",
      " 99  Estimate!!Percent of specified language speakers!!Percent speak English less than very well\"!!Population 5 years and over!!All citizens 18 years old and over!!Speak a language other than English\"                                     object\n",
      " 100 Speaks_Spanish                                                                                                                                                                                                                          object\n",
      " 101 Estimate!!Percent of specified language speakers!!Speak English only or speak English very well\"!!Population 5 years and over!!All citizens 18 years old and over!!Speak a language other than English!!Spanish\"                        int64 \n",
      " 102 Estimate!!Percent of specified language speakers!!Percent speak English only or speak English very well\"!!Population 5 years and over!!All citizens 18 years old and over!!Speak a language other than English!!Spanish\"                object\n",
      " 103 Estimate!!Percent of specified language speakers!!Speak English less than very well\"!!Population 5 years and over!!All citizens 18 years old and over!!Speak a language other than English!!Spanish\"                                    int64 \n",
      " 104 Estimate!!Percent of specified language speakers!!Percent speak English less than very well\"!!Population 5 years and over!!All citizens 18 years old and over!!Speak a language other than English!!Spanish\"                            object\n",
      " 105 Estimate!!Percent!!Population 5 years and over!!All citizens 18 years old and over!!Speak a language other than English!!Other languages                                                                                                object\n",
      " 106 Estimate!!Percent of specified language speakers!!Speak English only or speak English very well\"!!Population 5 years and over!!All citizens 18 years old and over!!Speak a language other than English!!Other languages\"                int64 \n",
      " 107 Estimate!!Percent of specified language speakers!!Percent speak English only or speak English very well\"!!Population 5 years and over!!All citizens 18 years old and over!!Speak a language other than English!!Other languages\"        object\n",
      " 108 Estimate!!Percent of specified language speakers!!Speak English less than very well\"!!Population 5 years and over!!All citizens 18 years old and over!!Speak a language other than English!!Other languages\"                            int64 \n",
      " 109 Estimate!!Percent of specified language speakers!!Percent speak English less than very well\"!!Population 5 years and over!!All citizens 18 years old and over!!Speak a language other than English!!Other languages\"                    object\n",
      "dtypes: int64(44), object(66)\n",
      "memory usage: 28.0+ MB\n"
     ]
    }
   ],
   "source": [
    "language_percents.info(verbose=True)"
   ]
  },
  {
   "cell_type": "code",
   "execution_count": 1418,
   "metadata": {},
   "outputs": [],
   "source": [
    "# Select just three columns\n",
    "\n",
    "language_percents = language_percents[['Speaks_Spanish', 'Speaks_Other_Language', 'Speak_Only_English', 'Poor_English_Speaking']]"
   ]
  },
  {
   "cell_type": "code",
   "execution_count": 1419,
   "metadata": {},
   "outputs": [],
   "source": [
    "language_percents = language_percents.replace({'-': np.nan})"
   ]
  },
  {
   "cell_type": "code",
   "execution_count": 1420,
   "metadata": {},
   "outputs": [],
   "source": [
    "# Change all languagepercent columns to floats\n",
    "for i in language_percents.columns:\n",
    "    try:\n",
    "        language_percents[i] = language_percents[i].astype(float)\n",
    "    except:\n",
    "        continue"
   ]
  },
  {
   "cell_type": "markdown",
   "metadata": {},
   "source": [
    "#### Edit transportation dataset"
   ]
  },
  {
   "cell_type": "code",
   "execution_count": 1421,
   "metadata": {},
   "outputs": [],
   "source": [
    "# Rename columns\n",
    "\n",
    "transportation.rename(columns = {'Estimate!!Total!!Workers 16 years and over!!MEANS OF TRANSPORTATION TO WORK!!Car, truck, or van' : 'Percent_Private_Vehicle'}, inplace=True)"
   ]
  },
  {
   "cell_type": "code",
   "execution_count": 1422,
   "metadata": {},
   "outputs": [],
   "source": [
    "transportation.rename(columns = {'Estimate!!Total!!Workers 16 years and over!!MEANS OF TRANSPORTATION TO WORK!!Public transportation (excluding taxicab)' : 'Percent_Public_Trans'}, inplace=True)"
   ]
  },
  {
   "cell_type": "code",
   "execution_count": 1423,
   "metadata": {},
   "outputs": [],
   "source": [
    "transportation.rename(columns = {'Estimate!!Total!!Workers 16 years and over!!MEANS OF TRANSPORTATION TO WORK!!Walked' : 'Percent_Walked'}, inplace=True)"
   ]
  },
  {
   "cell_type": "code",
   "execution_count": 1424,
   "metadata": {},
   "outputs": [],
   "source": [
    "transportation.rename(columns = {'Estimate!!Total!!Workers 16 years and over!!MEANS OF TRANSPORTATION TO WORK!!Worked at home' :'Percent_Remote_Work'}, inplace=True)"
   ]
  },
  {
   "cell_type": "code",
   "execution_count": 1425,
   "metadata": {},
   "outputs": [],
   "source": [
    "transportation.rename(columns = {'Estimate!!Total!!Workers 16 years and over who did not work at home!!TRAVEL TIME TO WORK!!Mean travel time to work (minutes)': 'Mean_Commute_Time'}, inplace=True)\n",
    "                                 "
   ]
  },
  {
   "cell_type": "code",
   "execution_count": 1426,
   "metadata": {},
   "outputs": [],
   "source": [
    "transportation_percents = transportation[['Percent_Private_Vehicle', 'Percent_Public_Trans', 'Percent_Walked', 'Percent_Remote_Work', 'Mean_Commute_Time']]"
   ]
  },
  {
   "cell_type": "code",
   "execution_count": 1427,
   "metadata": {},
   "outputs": [],
   "source": [
    "transportation_percents = transportation_percents.replace({'-': np.nan})"
   ]
  },
  {
   "cell_type": "code",
   "execution_count": 1428,
   "metadata": {},
   "outputs": [],
   "source": [
    "transportation_percents = transportation_percents.replace({'N': np.nan})"
   ]
  },
  {
   "cell_type": "code",
   "execution_count": 1429,
   "metadata": {},
   "outputs": [],
   "source": [
    "# Change all transportation_percent columns to floats\n",
    "for i in transportation_percents.columns:\n",
    "    try:\n",
    "        transportation_percents[i] = transportation_percents[i].astype(float)\n",
    "    except:\n",
    "        continue"
   ]
  },
  {
   "cell_type": "markdown",
   "metadata": {},
   "source": [
    "#### Edit Data Percents"
   ]
  },
  {
   "cell_type": "code",
   "execution_count": 1430,
   "metadata": {},
   "outputs": [],
   "source": [
    "data_percents.rename(columns={'Estimate!!Percent!!Total population!!AGE!!Under 5 years' : 'Percent_Under_5'}, inplace=True)"
   ]
  },
  {
   "cell_type": "code",
   "execution_count": 1431,
   "metadata": {},
   "outputs": [],
   "source": [
    "data_percents.rename(columns=  {'Estimate!!Percent!!Total population!!AGE!!5 to 9 years': 'Percent_5_to_9'}, inplace=True)\n",
    "data_percents.rename(columns = {'Estimate!!Percent!!Total population!!AGE!!10 to 14 years': 'Percent_10_to_14'}, inplace=True)\n",
    "data_percents.rename(columns = {'Estimate!!Percent!!Total population!!AGE!!15 to 19 years': 'Percent_15_to_19'}, inplace=True)\n",
    "data_percents.rename(columns = {'Estimate!!Percent!!Total population!!AGE!!20 to 24 years': 'Percent_20_to_24'}, inplace=True)\n",
    "data_percents.rename(columns = {'Estimate!!Percent!!Total population!!AGE!!25 to 29 years': 'Percent_25_to_29'}, inplace=True)\n",
    "data_percents.rename(columns = {'Estimate!!Percent!!Total population!!AGE!!30 to 34 years': 'Percent_30_to_34'}, inplace=True)\n",
    "data_percents.rename(columns = {'Estimate!!Percent!!Total population!!AGE!!35 to 39 years': 'Percent_35_to_39'}, inplace=True)\n",
    "data_percents.rename(columns = {'Estimate!!Percent!!Total population!!AGE!!40 to 44 years': 'Percent_40_to_44'}, inplace=True)\n",
    "data_percents.rename(columns = {'Estimate!!Percent!!Total population!!AGE!!45 to 49 years': 'Percent_45_to_49'}, inplace=True)\n",
    "data_percents.rename(columns = {'Estimate!!Percent!!Total population!!AGE!!50 to 54 years': 'Percent_50_to_54'}, inplace=True)\n",
    "data_percents.rename(columns = {'Estimate!!Percent!!Total population!!AGE!!55 to 59 years': 'Percent_55_to_59'}, inplace=True)\n",
    "data_percents.rename(columns = {'Estimate!!Percent!!Total population!!AGE!!60 to 64 years': 'Percent_60_to_64'}, inplace=True)\n",
    "data_percents.rename(columns = {'Estimate!!Percent!!Total population!!AGE!!65 to 69 years': 'Percent_65_to_69'}, inplace=True)\n",
    "data_percents.rename(columns = {'Estimate!!Percent!!Total population!!AGE!!70 to 74 years': 'Percent_70_to_74'}, inplace=True)\n",
    "data_percents.rename(columns = {'Estimate!!Percent!!Total population!!AGE!!75 to 79 years': 'Percent_75_to_79'}, inplace=True)\n",
    "data_percents.rename(columns = {'Estimate!!Percent!!Total population!!AGE!!80 to 84 years': 'Percent_80_to_84'}, inplace=True)\n",
    "data_percents.rename(columns = {'Estimate!!Percent!!Total population!!AGE!!85 years and over': 'Percent_85_Plus'}, inplace=True)\n"
   ]
  },
  {
   "cell_type": "code",
   "execution_count": 1432,
   "metadata": {},
   "outputs": [],
   "source": [
    "data_percents = data_percents[['total_pop', 'Percent_Under_5', 'Percent_5_to_9', \n",
    "                               'Percent_10_to_14', 'Percent_15_to_19', 'Percent_20_to_24', \n",
    "                               'Percent_25_to_29', 'Percent_30_to_34', 'Percent_35_to_39', \n",
    "                               'Percent_40_to_44', 'Percent_45_to_49', 'Percent_50_to_54', \n",
    "                               'Percent_55_to_59', 'Percent_60_to_64', 'Percent_65_to_69', \n",
    "                               'Percent_70_to_74', 'Percent_75_to_79', 'Percent_80_to_84', 'Percent_85_Plus']]"
   ]
  },
  {
   "cell_type": "markdown",
   "metadata": {},
   "source": [
    "#### Concatenate columns together based on \n"
   ]
  },
  {
   "cell_type": "code",
   "execution_count": 1536,
   "metadata": {},
   "outputs": [],
   "source": [
    "# Merge columns together\n",
    "# Add density if you want later\n",
    "\n",
    "final = pd.concat([data_percents, education_percents, employment_percents, language_percents, veteran_percents, transportation_percents, financial_percents, marital_percents, real_estate_2019], axis=1)"
   ]
  },
  {
   "cell_type": "code",
   "execution_count": 1537,
   "metadata": {},
   "outputs": [],
   "source": [
    "# Fix the remaining object datatypes in the final. Cut down zip codes less than 2000\n",
    "final['Mean_Commute_Time'] = final['Mean_Commute_Time'].astype(float)"
   ]
  },
  {
   "cell_type": "code",
   "execution_count": 1538,
   "metadata": {},
   "outputs": [],
   "source": [
    "final['Median_HH_Income'] = final['Median_HH_Income'].replace({'-': np.nan})\n"
   ]
  },
  {
   "cell_type": "code",
   "execution_count": 1539,
   "metadata": {},
   "outputs": [],
   "source": [
    "final['Median_HH_Income'] = final['Median_HH_Income'].replace({'2,500-': 2500.0})"
   ]
  },
  {
   "cell_type": "code",
   "execution_count": 1540,
   "metadata": {},
   "outputs": [],
   "source": [
    "final['Median_HH_Income'] = final['Median_HH_Income'].replace({'250,000+': 250000.0})"
   ]
  },
  {
   "cell_type": "code",
   "execution_count": 1541,
   "metadata": {},
   "outputs": [],
   "source": [
    "final['Median_HH_Income'] = final['Median_HH_Income'].astype(float)"
   ]
  },
  {
   "cell_type": "code",
   "execution_count": 1542,
   "metadata": {},
   "outputs": [],
   "source": [
    "final['Median_Owner_HH_Income'] = final['Median_Owner_HH_Income'].replace({'-': np.nan})\n",
    "final['Median_Owner_HH_Income'] = final['Median_Owner_HH_Income'].replace({'2,500-': 2500.0})\n",
    "final['Median_Owner_HH_Income'] = final['Median_Owner_HH_Income'].replace({'250,000+': 250000.0})"
   ]
  },
  {
   "cell_type": "code",
   "execution_count": 1543,
   "metadata": {},
   "outputs": [],
   "source": [
    "final['Median_Owner_HH_Income'] = final['Median_Owner_HH_Income'].astype(float)"
   ]
  },
  {
   "cell_type": "code",
   "execution_count": 1544,
   "metadata": {},
   "outputs": [],
   "source": [
    "final['HPI_%_Annual_Change'] = final['HPI_%_Annual_Change'].replace({'.': np.nan})"
   ]
  },
  {
   "cell_type": "code",
   "execution_count": 1545,
   "metadata": {},
   "outputs": [],
   "source": [
    "final['HPI_%_Annual_Change'] = final['HPI_%_Annual_Change'].astype(float)"
   ]
  },
  {
   "cell_type": "code",
   "execution_count": 1546,
   "metadata": {},
   "outputs": [],
   "source": [
    "final['Median_Renter_HH_Income'] = final['Median_Renter_HH_Income'].replace({'-': np.nan})\n",
    "final['Median_Renter_HH_Income'] = final['Median_Renter_HH_Income'].replace({'2,500-': 2500.0})\n",
    "final['Median_Renter_HH_Income'] = final['Median_Renter_HH_Income'].replace({'250,000+': 250000.0})\n",
    "final['Median_Renter_HH_Income'] = final['Median_Renter_HH_Income'].astype(float)"
   ]
  },
  {
   "cell_type": "code",
   "execution_count": 1547,
   "metadata": {},
   "outputs": [],
   "source": [
    "final['HPI'] = final['HPI'].replace({'.': np.nan})\n",
    "final['HPI'] = final['HPI'].astype(float)"
   ]
  },
  {
   "cell_type": "code",
   "execution_count": 1548,
   "metadata": {},
   "outputs": [],
   "source": [
    "# Drop zip codes with fewer than 2000 people\n",
    "final = final[final['total_pop'] >= 2000]"
   ]
  },
  {
   "cell_type": "code",
   "execution_count": 1549,
   "metadata": {},
   "outputs": [
    {
     "data": {
      "text/html": [
       "<div>\n",
       "<style scoped>\n",
       "    .dataframe tbody tr th:only-of-type {\n",
       "        vertical-align: middle;\n",
       "    }\n",
       "\n",
       "    .dataframe tbody tr th {\n",
       "        vertical-align: top;\n",
       "    }\n",
       "\n",
       "    .dataframe thead th {\n",
       "        text-align: right;\n",
       "    }\n",
       "</style>\n",
       "<table border=\"1\" class=\"dataframe\">\n",
       "  <thead>\n",
       "    <tr style=\"text-align: right;\">\n",
       "      <th></th>\n",
       "      <th>total_pop</th>\n",
       "      <th>Percent_Under_5</th>\n",
       "      <th>Percent_5_to_9</th>\n",
       "      <th>Percent_10_to_14</th>\n",
       "      <th>Percent_15_to_19</th>\n",
       "      <th>Percent_20_to_24</th>\n",
       "      <th>Percent_25_to_29</th>\n",
       "      <th>Percent_30_to_34</th>\n",
       "      <th>Percent_35_to_39</th>\n",
       "      <th>Percent_40_to_44</th>\n",
       "      <th>...</th>\n",
       "      <th>Median_HH_Income</th>\n",
       "      <th>Median_Owner_HH_Income</th>\n",
       "      <th>Median_Renter_HH_Income</th>\n",
       "      <th>Estimate!!Now married (except separated)!!Population 15 years and over</th>\n",
       "      <th>Estimate!!Widowed!!Population 15 years and over</th>\n",
       "      <th>Estimate!!Divorced!!Population 15 years and over</th>\n",
       "      <th>Estimate!!Separated!!Population 15 years and over</th>\n",
       "      <th>Estimate!!Never married!!Population 15 years and over</th>\n",
       "      <th>HPI_%_Annual_Change</th>\n",
       "      <th>HPI</th>\n",
       "    </tr>\n",
       "  </thead>\n",
       "  <tbody>\n",
       "    <tr>\n",
       "      <th>00601</th>\n",
       "      <td>17242.0</td>\n",
       "      <td>5.0</td>\n",
       "      <td>6.0</td>\n",
       "      <td>6.8</td>\n",
       "      <td>6.3</td>\n",
       "      <td>7.2</td>\n",
       "      <td>6.6</td>\n",
       "      <td>5.9</td>\n",
       "      <td>5.5</td>\n",
       "      <td>5.8</td>\n",
       "      <td>...</td>\n",
       "      <td>13092.0</td>\n",
       "      <td>16298.0</td>\n",
       "      <td>9046.0</td>\n",
       "      <td>36.7</td>\n",
       "      <td>6.1</td>\n",
       "      <td>13.2</td>\n",
       "      <td>2.6</td>\n",
       "      <td>41.4</td>\n",
       "      <td>NaN</td>\n",
       "      <td>NaN</td>\n",
       "    </tr>\n",
       "    <tr>\n",
       "      <th>00602</th>\n",
       "      <td>38442.0</td>\n",
       "      <td>4.2</td>\n",
       "      <td>5.8</td>\n",
       "      <td>5.1</td>\n",
       "      <td>6.6</td>\n",
       "      <td>6.9</td>\n",
       "      <td>6.5</td>\n",
       "      <td>5.8</td>\n",
       "      <td>6.4</td>\n",
       "      <td>6.1</td>\n",
       "      <td>...</td>\n",
       "      <td>16358.0</td>\n",
       "      <td>19472.0</td>\n",
       "      <td>9551.0</td>\n",
       "      <td>40.8</td>\n",
       "      <td>6.3</td>\n",
       "      <td>12.2</td>\n",
       "      <td>3.7</td>\n",
       "      <td>37.1</td>\n",
       "      <td>NaN</td>\n",
       "      <td>NaN</td>\n",
       "    </tr>\n",
       "    <tr>\n",
       "      <th>00603</th>\n",
       "      <td>48814.0</td>\n",
       "      <td>4.7</td>\n",
       "      <td>5.3</td>\n",
       "      <td>6.7</td>\n",
       "      <td>6.8</td>\n",
       "      <td>6.4</td>\n",
       "      <td>6.5</td>\n",
       "      <td>5.8</td>\n",
       "      <td>6.4</td>\n",
       "      <td>6.5</td>\n",
       "      <td>...</td>\n",
       "      <td>16603.0</td>\n",
       "      <td>24486.0</td>\n",
       "      <td>9079.0</td>\n",
       "      <td>39.9</td>\n",
       "      <td>6.9</td>\n",
       "      <td>14.3</td>\n",
       "      <td>3.2</td>\n",
       "      <td>35.7</td>\n",
       "      <td>NaN</td>\n",
       "      <td>NaN</td>\n",
       "    </tr>\n",
       "    <tr>\n",
       "      <th>00606</th>\n",
       "      <td>6437.0</td>\n",
       "      <td>4.5</td>\n",
       "      <td>4.3</td>\n",
       "      <td>6.5</td>\n",
       "      <td>6.9</td>\n",
       "      <td>7.6</td>\n",
       "      <td>4.9</td>\n",
       "      <td>5.3</td>\n",
       "      <td>4.5</td>\n",
       "      <td>8.8</td>\n",
       "      <td>...</td>\n",
       "      <td>12832.0</td>\n",
       "      <td>15746.0</td>\n",
       "      <td>6519.0</td>\n",
       "      <td>30.6</td>\n",
       "      <td>9.8</td>\n",
       "      <td>10.6</td>\n",
       "      <td>1.6</td>\n",
       "      <td>47.3</td>\n",
       "      <td>NaN</td>\n",
       "      <td>NaN</td>\n",
       "    </tr>\n",
       "    <tr>\n",
       "      <th>00610</th>\n",
       "      <td>27073.0</td>\n",
       "      <td>4.2</td>\n",
       "      <td>4.6</td>\n",
       "      <td>6.7</td>\n",
       "      <td>6.7</td>\n",
       "      <td>6.9</td>\n",
       "      <td>6.0</td>\n",
       "      <td>5.5</td>\n",
       "      <td>6.3</td>\n",
       "      <td>6.6</td>\n",
       "      <td>...</td>\n",
       "      <td>19309.0</td>\n",
       "      <td>22865.0</td>\n",
       "      <td>11983.0</td>\n",
       "      <td>40.5</td>\n",
       "      <td>6.7</td>\n",
       "      <td>12.3</td>\n",
       "      <td>4.3</td>\n",
       "      <td>36.1</td>\n",
       "      <td>NaN</td>\n",
       "      <td>NaN</td>\n",
       "    </tr>\n",
       "  </tbody>\n",
       "</table>\n",
       "<p>5 rows × 73 columns</p>\n",
       "</div>"
      ],
      "text/plain": [
       "       total_pop  Percent_Under_5  Percent_5_to_9  Percent_10_to_14  \\\n",
       "00601    17242.0              5.0             6.0               6.8   \n",
       "00602    38442.0              4.2             5.8               5.1   \n",
       "00603    48814.0              4.7             5.3               6.7   \n",
       "00606     6437.0              4.5             4.3               6.5   \n",
       "00610    27073.0              4.2             4.6               6.7   \n",
       "\n",
       "       Percent_15_to_19  Percent_20_to_24  Percent_25_to_29  Percent_30_to_34  \\\n",
       "00601               6.3               7.2               6.6               5.9   \n",
       "00602               6.6               6.9               6.5               5.8   \n",
       "00603               6.8               6.4               6.5               5.8   \n",
       "00606               6.9               7.6               4.9               5.3   \n",
       "00610               6.7               6.9               6.0               5.5   \n",
       "\n",
       "       Percent_35_to_39  Percent_40_to_44  ...  Median_HH_Income  \\\n",
       "00601               5.5               5.8  ...           13092.0   \n",
       "00602               6.4               6.1  ...           16358.0   \n",
       "00603               6.4               6.5  ...           16603.0   \n",
       "00606               4.5               8.8  ...           12832.0   \n",
       "00610               6.3               6.6  ...           19309.0   \n",
       "\n",
       "       Median_Owner_HH_Income  Median_Renter_HH_Income  \\\n",
       "00601                 16298.0                   9046.0   \n",
       "00602                 19472.0                   9551.0   \n",
       "00603                 24486.0                   9079.0   \n",
       "00606                 15746.0                   6519.0   \n",
       "00610                 22865.0                  11983.0   \n",
       "\n",
       "       Estimate!!Now married (except separated)!!Population 15 years and over  \\\n",
       "00601                                               36.7                        \n",
       "00602                                               40.8                        \n",
       "00603                                               39.9                        \n",
       "00606                                               30.6                        \n",
       "00610                                               40.5                        \n",
       "\n",
       "       Estimate!!Widowed!!Population 15 years and over  \\\n",
       "00601                                              6.1   \n",
       "00602                                              6.3   \n",
       "00603                                              6.9   \n",
       "00606                                              9.8   \n",
       "00610                                              6.7   \n",
       "\n",
       "       Estimate!!Divorced!!Population 15 years and over  \\\n",
       "00601                                              13.2   \n",
       "00602                                              12.2   \n",
       "00603                                              14.3   \n",
       "00606                                              10.6   \n",
       "00610                                              12.3   \n",
       "\n",
       "       Estimate!!Separated!!Population 15 years and over  \\\n",
       "00601                                                2.6   \n",
       "00602                                                3.7   \n",
       "00603                                                3.2   \n",
       "00606                                                1.6   \n",
       "00610                                                4.3   \n",
       "\n",
       "       Estimate!!Never married!!Population 15 years and over  \\\n",
       "00601                                               41.4       \n",
       "00602                                               37.1       \n",
       "00603                                               35.7       \n",
       "00606                                               47.3       \n",
       "00610                                               36.1       \n",
       "\n",
       "       HPI_%_Annual_Change  HPI  \n",
       "00601                  NaN  NaN  \n",
       "00602                  NaN  NaN  \n",
       "00603                  NaN  NaN  \n",
       "00606                  NaN  NaN  \n",
       "00610                  NaN  NaN  \n",
       "\n",
       "[5 rows x 73 columns]"
      ]
     },
     "execution_count": 1549,
     "metadata": {},
     "output_type": "execute_result"
    }
   ],
   "source": [
    "final.head()"
   ]
  },
  {
   "cell_type": "code",
   "execution_count": 1550,
   "metadata": {},
   "outputs": [],
   "source": [
    "# Save to csv\n",
    "\n",
    "final.to_csv('data/final.csv', index=False)"
   ]
  },
  {
   "cell_type": "markdown",
   "metadata": {},
   "source": [
    "## EDA"
   ]
  },
  {
   "cell_type": "code",
   "execution_count": 1551,
   "metadata": {},
   "outputs": [
    {
     "data": {
      "image/png": "[encoded data removed]",
      "text/plain": [
       "<Figure size 432x288 with 1 Axes>"
      ]
     },
     "metadata": {},
     "output_type": "display_data"
    }
   ],
   "source": [
    "ax = sns.distplot(final['Mean_Commute_Time'])\n",
    "ax.set_title(\"Distribution: Mean Commute Time\");"
   ]
  },
  {
   "cell_type": "code",
   "execution_count": 1552,
   "metadata": {},
   "outputs": [
    {
     "data": {
      "text/plain": [
       "count    18633.000000\n",
       "mean        26.208571\n",
       "std          6.567243\n",
       "min          1.000000\n",
       "25%         21.700000\n",
       "50%         25.700000\n",
       "75%         30.300000\n",
       "max         64.200000\n",
       "Name: Mean_Commute_Time, dtype: float64"
      ]
     },
     "execution_count": 1552,
     "metadata": {},
     "output_type": "execute_result"
    }
   ],
   "source": [
    "final['Mean_Commute_Time'].describe()"
   ]
  },
  {
   "cell_type": "code",
   "execution_count": 1553,
   "metadata": {},
   "outputs": [
    {
     "data": {
      "image/png": "[encoded data removed]",
      "text/plain": [
       "<Figure size 432x288 with 1 Axes>"
      ]
     },
     "metadata": {},
     "output_type": "display_data"
    }
   ],
   "source": [
    "ax = sns.distplot(final['total_pop'])\n",
    "ax.set_title(\"Distribution: Total Population\");"
   ]
  },
  {
   "cell_type": "code",
   "execution_count": 1554,
   "metadata": {},
   "outputs": [
    {
     "data": {
      "image/png": "[encoded data removed]",
      "text/plain": [
       "<Figure size 432x288 with 1 Axes>"
      ]
     },
     "metadata": {},
     "output_type": "display_data"
    }
   ],
   "source": [
    "sns.set_palette(\"Dark2\")\n",
    "sns.set_style(\"dark\")\n",
    "ax = sns.regplot(x='Mean_Commute_Time', \n",
    "                 y='Median_HH_Income', data=final, line_kws= {\"color\": 'black'})\n",
    "ax.set_title(\"Mean Commute Time vs. Median Household Income\")\n",
    "ax.set_xlabel('Mean Commute Time')\n",
    "ax.set_ylabel('Median Household Income');"
   ]
  },
  {
   "cell_type": "code",
   "execution_count": 1555,
   "metadata": {},
   "outputs": [
    {
     "data": {
      "image/png": "[encoded data removed]",
      "text/plain": [
       "<Figure size 432x288 with 1 Axes>"
      ]
     },
     "metadata": {},
     "output_type": "display_data"
    }
   ],
   "source": [
    "ax = sns.regplot(x='Estimate!!Percent!!Population 25 years and over!!Graduate or professional degree', \n",
    "                 y='Median_HH_Income', data=final, line_kws= {\"color\": 'black'})\n",
    "ax.set_title(\"% with Graduate Degrees vs. Median Household Income\")\n",
    "ax.set_xlabel('Percent of Population 25+ with a Graduate or Professional Degree')\n",
    "ax.set_ylabel('Median Household Income');"
   ]
  },
  {
   "cell_type": "code",
   "execution_count": 1556,
   "metadata": {},
   "outputs": [
    {
     "data": {
      "image/png": "[encoded data removed]",
      "text/plain": [
       "<Figure size 432x288 with 1 Axes>"
      ]
     },
     "metadata": {},
     "output_type": "display_data"
    }
   ],
   "source": [
    "ax = sns.regplot(x = 'Estimate!!Divorced!!Population 15 years and over', y='Median_HH_Income', data=final, line_kws= {\"color\": 'black'})\n"
   ]
  },
  {
   "cell_type": "markdown",
   "metadata": {},
   "source": [
    "It appears that there is a negative correlation between Divorced Population and median household income"
   ]
  },
  {
   "cell_type": "code",
   "execution_count": 1557,
   "metadata": {},
   "outputs": [
    {
     "name": "stderr",
     "output_type": "stream",
     "text": [
      "*c* argument looks like a single numeric RGB or RGBA sequence, which should be avoided as value-mapping will have precedence in case its length matches with *x* & *y*.  Please use the *color* keyword-argument or provide a 2-D array with a single row if you intend to specify the same RGB or RGBA value for all points.\n"
     ]
    },
    {
     "data": {
      "image/png": "[encoded data removed]",
      "text/plain": [
       "<Figure size 432x288 with 1 Axes>"
      ]
     },
     "metadata": {},
     "output_type": "display_data"
    }
   ],
   "source": [
    "\n",
    "ax = final.plot.scatter(x='Poor_English_Speaking', y= 'Median_HH_Income')\n"
   ]
  },
  {
   "cell_type": "code",
   "execution_count": 1558,
   "metadata": {},
   "outputs": [
    {
     "name": "stderr",
     "output_type": "stream",
     "text": [
      "*c* argument looks like a single numeric RGB or RGBA sequence, which should be avoided as value-mapping will have precedence in case its length matches with *x* & *y*.  Please use the *color* keyword-argument or provide a 2-D array with a single row if you intend to specify the same RGB or RGBA value for all points.\n"
     ]
    },
    {
     "data": {
      "image/png": "[encoded data removed]",
      "text/plain": [
       "<Figure size 432x288 with 1 Axes>"
      ]
     },
     "metadata": {},
     "output_type": "display_data"
    }
   ],
   "source": [
    "ax = final.plot.scatter(x='HPI', y= 'HPI_%_Annual_Change')"
   ]
  },
  {
   "cell_type": "markdown",
   "metadata": {},
   "source": [
    "### Deal with NaNs"
   ]
  },
  {
   "cell_type": "markdown",
   "metadata": {},
   "source": [
    "Two options 1. Delete rows with missing values, 2. Impute values with missing values"
   ]
  },
  {
   "cell_type": "code",
   "execution_count": null,
   "metadata": {},
   "outputs": [],
   "source": []
  },
  {
   "cell_type": "code",
   "execution_count": 1596,
   "metadata": {},
   "outputs": [],
   "source": [
    "final_del_nans = final.copy()"
   ]
  },
  {
   "cell_type": "code",
   "execution_count": 1597,
   "metadata": {},
   "outputs": [
    {
     "data": {
      "text/plain": [
       "(18654, 73)"
      ]
     },
     "execution_count": 1597,
     "metadata": {},
     "output_type": "execute_result"
    }
   ],
   "source": [
    "final_del_nans.shape"
   ]
  },
  {
   "cell_type": "code",
   "execution_count": 1598,
   "metadata": {},
   "outputs": [],
   "source": [
    "#HPI_change = final_del_nans['HPI_%_Annual_Change']"
   ]
  },
  {
   "cell_type": "code",
   "execution_count": 1599,
   "metadata": {},
   "outputs": [],
   "source": [
    "#final_del_nans.drop('HPI_%_Annual_Change', axis=1, inplace=True)"
   ]
  },
  {
   "cell_type": "code",
   "execution_count": 1600,
   "metadata": {},
   "outputs": [],
   "source": [
    "final_del_nans.dropna(axis=0, how='any', inplace=True)"
   ]
  },
  {
   "cell_type": "code",
   "execution_count": 1601,
   "metadata": {},
   "outputs": [
    {
     "data": {
      "text/plain": [
       "(14633, 73)"
      ]
     },
     "execution_count": 1601,
     "metadata": {},
     "output_type": "execute_result"
    }
   ],
   "source": [
    "final_del_nans.shape"
   ]
  },
  {
   "cell_type": "code",
   "execution_count": 1783,
   "metadata": {},
   "outputs": [],
   "source": [
    "scaler = StandardScaler()\n",
    "scaled = scaler.fit_transform(final_del_nans)"
   ]
  },
  {
   "cell_type": "code",
   "execution_count": 1784,
   "metadata": {},
   "outputs": [],
   "source": [
    "scaled = pd.DataFrame(scaled, index=final_del_nans.index, columns=final_del_nans.columns)"
   ]
  },
  {
   "cell_type": "code",
   "execution_count": 1785,
   "metadata": {},
   "outputs": [],
   "source": [
    "#similarity_matrix = linear_kernel(scaled, scaled)"
   ]
  },
  {
   "cell_type": "code",
   "execution_count": 1786,
   "metadata": {},
   "outputs": [],
   "source": [
    "cosine_matrix = cosine_similarity(scaled, scaled)"
   ]
  },
  {
   "cell_type": "code",
   "execution_count": 1787,
   "metadata": {},
   "outputs": [],
   "source": [
    "#euclidean_matrix = euclidean_distances(scaled, scaled)"
   ]
  },
  {
   "cell_type": "code",
   "execution_count": 1788,
   "metadata": {},
   "outputs": [],
   "source": [
    "\n",
    "mapping = pd.Series(scaled.reset_index().index, index = scaled.index)"
   ]
  },
  {
   "cell_type": "code",
   "execution_count": 1789,
   "metadata": {},
   "outputs": [],
   "source": [
    "# def recommend_zip_based_on_prev_zip(zip_input):\n",
    "#     zip_index = int(mapping[zip_input])\n",
    "#     #get similarity values with other zip codes\n",
    "#     #similarity_score is the list of index and similarity matrix\n",
    "#     similarity_score = list(enumerate(similarity_matrix[zip_index]))\n",
    "#     #sort in descending order the similarity score of zip inputted with all the other zip codes\n",
    "#     similarity_score = sorted(similarity_score, key=lambda x: x[1], reverse=True)\n",
    "#     # Get the scores of the 15 most similar zip codes. Ignore the first zip code.\n",
    "#     similarity_score = similarity_score[0:15]\n",
    "#     #return zip codes using the mapping series\n",
    "#     zip_indices = [i[0] for i in similarity_score]\n",
    "#     best = []\n",
    "#     for i in zip_indices:\n",
    "#         best.append(final_del_nans.reset_index().iloc[i][0])\n",
    "#     print(similarity_score)\n",
    "#     return best"
   ]
  },
  {
   "cell_type": "code",
   "execution_count": 1790,
   "metadata": {},
   "outputs": [],
   "source": [
    "def cosine_recommend_zip(zip_input):\n",
    "    zip_location = pd.read_csv('data/us-zip-code-latitude-and-longitude.csv', sep = ';')\n",
    "    zip_index = int(mapping[zip_input])\n",
    "    #get similarity values with other zip codes\n",
    "    #similarity_score is the list of index and similarity matrix\n",
    "    similarity_score = list(enumerate(cosine_matrix[zip_index]))\n",
    "    #sort in descending order the similarity score of zip inputted with all the other zip codes\n",
    "    similarity_score = sorted(similarity_score, key=lambda x: x[1], reverse=True)\n",
    "    # Get the scores of the 15 most similar zip codes. Ignore the first zip code.\n",
    "    similarity_score = similarity_score[1:11]\n",
    "    #return zip codes using the mapping series\n",
    "    zip_indices = [i[0] for i in similarity_score]\n",
    "    best = []\n",
    "    for i in zip_indices:\n",
    "        best.append(int(final_del_nans.reset_index().iloc[i][0]))\n",
    "    df = pd.DataFrame(data = best, columns = ['Zip'])\n",
    "    merged = pd.merge(df,zip_location,on='Zip',how='inner')\n",
    "    merged = merged[['Zip', 'City', 'State']]\n",
    "    return merged\n",
    "    #gdf = geopandas.GeoDataFrame(merged, geometry=geopandas.points_from_xy(merged.Longitude, merged.Latitude))\n"
   ]
  },
  {
   "cell_type": "code",
   "execution_count": 1791,
   "metadata": {},
   "outputs": [],
   "source": [
    "# def euclidean_recommend_zip(zip_input):\n",
    "#     zip_location = pd.read_csv('data/us-zip-code-latitude-and-longitude.csv', sep = ';')\n",
    "#     zip_index = int(mapping[zip_input])\n",
    "#     #get similarity values with other zip codes\n",
    "#     #similarity_score is the list of index and similarity matrix\n",
    "#     similarity_score = list(enumerate(euclidean_matrix[zip_index]))\n",
    "#     #sort in descending order the similarity score of zip inputted with all the other zip codes\n",
    "#     similarity_score = sorted(similarity_score, key=lambda x: x[1], reverse=True)\n",
    "#     # Get the scores of the 15 most similar zip codes. Ignore the first zip code.\n",
    "#     similarity_score = similarity_score[1:20]\n",
    "#     #return zip codes using the mapping series\n",
    "#     zip_indices = [i[0] for i in similarity_score]\n",
    "#     best = []\n",
    "#     for i in zip_indices:\n",
    "#         best.append(int(final_del_nans.reset_index().iloc[i][0]))\n",
    "#     df = pd.DataFrame(data = best, columns = ['Zip'])\n",
    "#     merged = pd.merge(df,zip_location,on='Zip',how='inner')\n",
    "#     merged = merged[['Zip', 'City', 'State']]\n",
    "#     return merged"
   ]
  },
  {
   "cell_type": "code",
   "execution_count": 1792,
   "metadata": {
    "scrolled": true
   },
   "outputs": [
    {
     "data": {
      "text/html": [
       "<div>\n",
       "<style scoped>\n",
       "    .dataframe tbody tr th:only-of-type {\n",
       "        vertical-align: middle;\n",
       "    }\n",
       "\n",
       "    .dataframe tbody tr th {\n",
       "        vertical-align: top;\n",
       "    }\n",
       "\n",
       "    .dataframe thead th {\n",
       "        text-align: right;\n",
       "    }\n",
       "</style>\n",
       "<table border=\"1\" class=\"dataframe\">\n",
       "  <thead>\n",
       "    <tr style=\"text-align: right;\">\n",
       "      <th></th>\n",
       "      <th>Zip</th>\n",
       "      <th>City</th>\n",
       "      <th>State</th>\n",
       "    </tr>\n",
       "  </thead>\n",
       "  <tbody>\n",
       "    <tr>\n",
       "      <th>0</th>\n",
       "      <td>2140</td>\n",
       "      <td>Cambridge</td>\n",
       "      <td>MA</td>\n",
       "    </tr>\n",
       "    <tr>\n",
       "      <th>1</th>\n",
       "      <td>20010</td>\n",
       "      <td>Washington</td>\n",
       "      <td>DC</td>\n",
       "    </tr>\n",
       "    <tr>\n",
       "      <th>2</th>\n",
       "      <td>7302</td>\n",
       "      <td>Jersey City</td>\n",
       "      <td>NJ</td>\n",
       "    </tr>\n",
       "    <tr>\n",
       "      <th>3</th>\n",
       "      <td>20009</td>\n",
       "      <td>Washington</td>\n",
       "      <td>DC</td>\n",
       "    </tr>\n",
       "    <tr>\n",
       "      <th>4</th>\n",
       "      <td>20002</td>\n",
       "      <td>Washington</td>\n",
       "      <td>DC</td>\n",
       "    </tr>\n",
       "    <tr>\n",
       "      <th>5</th>\n",
       "      <td>60622</td>\n",
       "      <td>Chicago</td>\n",
       "      <td>IL</td>\n",
       "    </tr>\n",
       "    <tr>\n",
       "      <th>6</th>\n",
       "      <td>60640</td>\n",
       "      <td>Chicago</td>\n",
       "      <td>IL</td>\n",
       "    </tr>\n",
       "    <tr>\n",
       "      <th>7</th>\n",
       "      <td>60614</td>\n",
       "      <td>Chicago</td>\n",
       "      <td>IL</td>\n",
       "    </tr>\n",
       "    <tr>\n",
       "      <th>8</th>\n",
       "      <td>2144</td>\n",
       "      <td>Somerville</td>\n",
       "      <td>MA</td>\n",
       "    </tr>\n",
       "    <tr>\n",
       "      <th>9</th>\n",
       "      <td>7086</td>\n",
       "      <td>Union City</td>\n",
       "      <td>NJ</td>\n",
       "    </tr>\n",
       "  </tbody>\n",
       "</table>\n",
       "</div>"
      ],
      "text/plain": [
       "     Zip         City State\n",
       "0   2140    Cambridge    MA\n",
       "1  20010   Washington    DC\n",
       "2   7302  Jersey City    NJ\n",
       "3  20009   Washington    DC\n",
       "4  20002   Washington    DC\n",
       "5  60622      Chicago    IL\n",
       "6  60640      Chicago    IL\n",
       "7  60614      Chicago    IL\n",
       "8   2144   Somerville    MA\n",
       "9   7086   Union City    NJ"
      ]
     },
     "execution_count": 1792,
     "metadata": {},
     "output_type": "execute_result"
    }
   ],
   "source": [
    "cosine_recommend_zip('02130')"
   ]
  },
  {
   "cell_type": "markdown",
   "metadata": {},
   "source": [
    "#### Map zip codes to cities"
   ]
  },
  {
   "cell_type": "code",
   "execution_count": 1161,
   "metadata": {},
   "outputs": [],
   "source": [
    "zip_location = pd.read_csv('data/us-zip-code-latitude-and-longitude.csv', sep = ';')"
   ]
  },
  {
   "cell_type": "markdown",
   "metadata": {},
   "source": [
    "#### What happens to the model if we remove features?"
   ]
  },
  {
   "cell_type": "markdown",
   "metadata": {},
   "source": [
    "#### Remove total population"
   ]
  },
  {
   "cell_type": "code",
   "execution_count": 1793,
   "metadata": {},
   "outputs": [],
   "source": [
    "final_no_pop = final_del_nans.drop('total_pop', axis=1)"
   ]
  },
  {
   "cell_type": "code",
   "execution_count": 1794,
   "metadata": {},
   "outputs": [],
   "source": [
    "scaler = StandardScaler()\n",
    "scaled = scaler.fit_transform(final_no_pop)\n"
   ]
  },
  {
   "cell_type": "code",
   "execution_count": 1795,
   "metadata": {},
   "outputs": [],
   "source": [
    "scaled = pd.DataFrame(scaled, index=final_no_pop.index, columns=final_no_pop.columns)"
   ]
  },
  {
   "cell_type": "code",
   "execution_count": 1796,
   "metadata": {},
   "outputs": [],
   "source": [
    "cosine_matrix = cosine_similarity(scaled, scaled)\n",
    "mapping = pd.Series(scaled.reset_index().index, index = scaled.index)"
   ]
  },
  {
   "cell_type": "code",
   "execution_count": 1797,
   "metadata": {},
   "outputs": [],
   "source": [
    "def cosine_recommend_zip(zip_input):\n",
    "    zip_location = pd.read_csv('data/us-zip-code-latitude-and-longitude.csv', sep = ';')\n",
    "    zip_index = int(mapping[zip_input])\n",
    "    #get similarity values with other zip codes\n",
    "    #similarity_score is the list of index and similarity matrix\n",
    "    similarity_score = list(enumerate(cosine_matrix[zip_index]))\n",
    "    #sort in descending order the similarity score of zip inputted with all the other zip codes\n",
    "    similarity_score = sorted(similarity_score, key=lambda x: x[1], reverse=True)\n",
    "    # Get the scores of the 15 most similar zip codes. Ignore the first zip code.\n",
    "    similarity_score = similarity_score[1:11]\n",
    "    #return zip codes using the mapping series\n",
    "    zip_indices = [i[0] for i in similarity_score]\n",
    "    best = []\n",
    "    for i in zip_indices:\n",
    "        best.append(int(final_no_pop.reset_index().iloc[i][0]))\n",
    "    df = pd.DataFrame(data = best, columns = ['Zip'])\n",
    "    merged = pd.merge(df,zip_location,on='Zip',how='inner')\n",
    "    merged = merged[['Zip', 'City', 'State']]\n",
    "    return merged"
   ]
  },
  {
   "cell_type": "code",
   "execution_count": 1798,
   "metadata": {},
   "outputs": [
    {
     "data": {
      "text/html": [
       "<div>\n",
       "<style scoped>\n",
       "    .dataframe tbody tr th:only-of-type {\n",
       "        vertical-align: middle;\n",
       "    }\n",
       "\n",
       "    .dataframe tbody tr th {\n",
       "        vertical-align: top;\n",
       "    }\n",
       "\n",
       "    .dataframe thead th {\n",
       "        text-align: right;\n",
       "    }\n",
       "</style>\n",
       "<table border=\"1\" class=\"dataframe\">\n",
       "  <thead>\n",
       "    <tr style=\"text-align: right;\">\n",
       "      <th></th>\n",
       "      <th>Zip</th>\n",
       "      <th>City</th>\n",
       "      <th>State</th>\n",
       "    </tr>\n",
       "  </thead>\n",
       "  <tbody>\n",
       "    <tr>\n",
       "      <th>0</th>\n",
       "      <td>2140</td>\n",
       "      <td>Cambridge</td>\n",
       "      <td>MA</td>\n",
       "    </tr>\n",
       "    <tr>\n",
       "      <th>1</th>\n",
       "      <td>20010</td>\n",
       "      <td>Washington</td>\n",
       "      <td>DC</td>\n",
       "    </tr>\n",
       "    <tr>\n",
       "      <th>2</th>\n",
       "      <td>7302</td>\n",
       "      <td>Jersey City</td>\n",
       "      <td>NJ</td>\n",
       "    </tr>\n",
       "    <tr>\n",
       "      <th>3</th>\n",
       "      <td>20009</td>\n",
       "      <td>Washington</td>\n",
       "      <td>DC</td>\n",
       "    </tr>\n",
       "    <tr>\n",
       "      <th>4</th>\n",
       "      <td>20002</td>\n",
       "      <td>Washington</td>\n",
       "      <td>DC</td>\n",
       "    </tr>\n",
       "    <tr>\n",
       "      <th>5</th>\n",
       "      <td>60622</td>\n",
       "      <td>Chicago</td>\n",
       "      <td>IL</td>\n",
       "    </tr>\n",
       "    <tr>\n",
       "      <th>6</th>\n",
       "      <td>60640</td>\n",
       "      <td>Chicago</td>\n",
       "      <td>IL</td>\n",
       "    </tr>\n",
       "    <tr>\n",
       "      <th>7</th>\n",
       "      <td>2144</td>\n",
       "      <td>Somerville</td>\n",
       "      <td>MA</td>\n",
       "    </tr>\n",
       "    <tr>\n",
       "      <th>8</th>\n",
       "      <td>7086</td>\n",
       "      <td>Union City</td>\n",
       "      <td>NJ</td>\n",
       "    </tr>\n",
       "    <tr>\n",
       "      <th>9</th>\n",
       "      <td>60614</td>\n",
       "      <td>Chicago</td>\n",
       "      <td>IL</td>\n",
       "    </tr>\n",
       "  </tbody>\n",
       "</table>\n",
       "</div>"
      ],
      "text/plain": [
       "     Zip         City State\n",
       "0   2140    Cambridge    MA\n",
       "1  20010   Washington    DC\n",
       "2   7302  Jersey City    NJ\n",
       "3  20009   Washington    DC\n",
       "4  20002   Washington    DC\n",
       "5  60622      Chicago    IL\n",
       "6  60640      Chicago    IL\n",
       "7   2144   Somerville    MA\n",
       "8   7086   Union City    NJ\n",
       "9  60614      Chicago    IL"
      ]
     },
     "execution_count": 1798,
     "metadata": {},
     "output_type": "execute_result"
    }
   ],
   "source": [
    "cosine_recommend_zip('02130')"
   ]
  },
  {
   "cell_type": "markdown",
   "metadata": {},
   "source": [
    "There was no change in the top 10 for Needham, MA 02492. For Dallas, 75205, there was no change in the top 4. The order of recommendations changes slightly after that, but the top 10 still consists of the same recommendations. For Woodinville, WA 98072 there was a slight change in order between the last two in the top 10, but otherwise the recommendations stayed the same. By including 40006, a smaller, less affluent town in Kentucky, we see that the impacts are also minimal. 02130 Jamaica Plain Boston just had a slight shift on the lower part of the top 10 recommendations."
   ]
  },
  {
   "cell_type": "markdown",
   "metadata": {},
   "source": [
    "### How does HH income impact? Remove median HH income (overall) and median HH income for owners and renters "
   ]
  },
  {
   "cell_type": "code",
   "execution_count": 1799,
   "metadata": {},
   "outputs": [],
   "source": [
    "final_no_income = final_del_nans.drop('Median_HH_Income', axis=1)\n",
    "final_no_income = final_no_income.drop('Median_Owner_HH_Income', axis=1)\n",
    "final_no_income = final_no_income.drop('Median_Renter_HH_Income', axis=1)"
   ]
  },
  {
   "cell_type": "code",
   "execution_count": 1800,
   "metadata": {},
   "outputs": [],
   "source": [
    "scaler = StandardScaler()\n",
    "scaled = scaler.fit_transform(final_no_income)\n",
    "scaled = pd.DataFrame(scaled, index=final_no_income.index, columns=final_no_income.columns)\n",
    "cosine_matrix = cosine_similarity(scaled, scaled)\n",
    "mapping = pd.Series(scaled.reset_index().index, index = scaled.index)"
   ]
  },
  {
   "cell_type": "code",
   "execution_count": 1801,
   "metadata": {},
   "outputs": [],
   "source": [
    "def cosine_recommend_zip(zip_input):\n",
    "    zip_location = pd.read_csv('data/us-zip-code-latitude-and-longitude.csv', sep = ';')\n",
    "    zip_index = int(mapping[zip_input])\n",
    "    #get similarity values with other zip codes\n",
    "    #similarity_score is the list of index and similarity matrix\n",
    "    similarity_score = list(enumerate(cosine_matrix[zip_index]))\n",
    "    #sort in descending order the similarity score of zip inputted with all the other zip codes\n",
    "    similarity_score = sorted(similarity_score, key=lambda x: x[1], reverse=True)\n",
    "    # Get the scores of the 15 most similar zip codes. Ignore the first zip code.\n",
    "    similarity_score = similarity_score[1:11]\n",
    "    #return zip codes using the mapping series\n",
    "    zip_indices = [i[0] for i in similarity_score]\n",
    "    best = []\n",
    "    for i in zip_indices:\n",
    "        best.append(int(final_no_income.reset_index().iloc[i][0]))\n",
    "    df = pd.DataFrame(data = best, columns = ['Zip'])\n",
    "    merged = pd.merge(df,zip_location,on='Zip',how='inner')\n",
    "    merged = merged[['Zip', 'City', 'State']]\n",
    "    return merged"
   ]
  },
  {
   "cell_type": "code",
   "execution_count": 1802,
   "metadata": {},
   "outputs": [
    {
     "data": {
      "text/html": [
       "<div>\n",
       "<style scoped>\n",
       "    .dataframe tbody tr th:only-of-type {\n",
       "        vertical-align: middle;\n",
       "    }\n",
       "\n",
       "    .dataframe tbody tr th {\n",
       "        vertical-align: top;\n",
       "    }\n",
       "\n",
       "    .dataframe thead th {\n",
       "        text-align: right;\n",
       "    }\n",
       "</style>\n",
       "<table border=\"1\" class=\"dataframe\">\n",
       "  <thead>\n",
       "    <tr style=\"text-align: right;\">\n",
       "      <th></th>\n",
       "      <th>Zip</th>\n",
       "      <th>City</th>\n",
       "      <th>State</th>\n",
       "    </tr>\n",
       "  </thead>\n",
       "  <tbody>\n",
       "    <tr>\n",
       "      <th>0</th>\n",
       "      <td>2140</td>\n",
       "      <td>Cambridge</td>\n",
       "      <td>MA</td>\n",
       "    </tr>\n",
       "    <tr>\n",
       "      <th>1</th>\n",
       "      <td>7302</td>\n",
       "      <td>Jersey City</td>\n",
       "      <td>NJ</td>\n",
       "    </tr>\n",
       "    <tr>\n",
       "      <th>2</th>\n",
       "      <td>20010</td>\n",
       "      <td>Washington</td>\n",
       "      <td>DC</td>\n",
       "    </tr>\n",
       "    <tr>\n",
       "      <th>3</th>\n",
       "      <td>20009</td>\n",
       "      <td>Washington</td>\n",
       "      <td>DC</td>\n",
       "    </tr>\n",
       "    <tr>\n",
       "      <th>4</th>\n",
       "      <td>60640</td>\n",
       "      <td>Chicago</td>\n",
       "      <td>IL</td>\n",
       "    </tr>\n",
       "    <tr>\n",
       "      <th>5</th>\n",
       "      <td>20002</td>\n",
       "      <td>Washington</td>\n",
       "      <td>DC</td>\n",
       "    </tr>\n",
       "    <tr>\n",
       "      <th>6</th>\n",
       "      <td>60622</td>\n",
       "      <td>Chicago</td>\n",
       "      <td>IL</td>\n",
       "    </tr>\n",
       "    <tr>\n",
       "      <th>7</th>\n",
       "      <td>60614</td>\n",
       "      <td>Chicago</td>\n",
       "      <td>IL</td>\n",
       "    </tr>\n",
       "    <tr>\n",
       "      <th>8</th>\n",
       "      <td>2144</td>\n",
       "      <td>Somerville</td>\n",
       "      <td>MA</td>\n",
       "    </tr>\n",
       "    <tr>\n",
       "      <th>9</th>\n",
       "      <td>7086</td>\n",
       "      <td>Union City</td>\n",
       "      <td>NJ</td>\n",
       "    </tr>\n",
       "  </tbody>\n",
       "</table>\n",
       "</div>"
      ],
      "text/plain": [
       "     Zip         City State\n",
       "0   2140    Cambridge    MA\n",
       "1   7302  Jersey City    NJ\n",
       "2  20010   Washington    DC\n",
       "3  20009   Washington    DC\n",
       "4  60640      Chicago    IL\n",
       "5  20002   Washington    DC\n",
       "6  60622      Chicago    IL\n",
       "7  60614      Chicago    IL\n",
       "8   2144   Somerville    MA\n",
       "9   7086   Union City    NJ"
      ]
     },
     "execution_count": 1802,
     "metadata": {},
     "output_type": "execute_result"
    }
   ],
   "source": [
    "cosine_recommend_zip('02130')"
   ]
  },
  {
   "cell_type": "markdown",
   "metadata": {},
   "source": [
    "Like total population, removing household income from the recommender had little impact on the recommendations. For Woodinville, 98072, the top 4 remained in the same place. The top 10 had all of the same recommendations except for one; what was number 11 in the original recommender jumped up to the 7th spot after removing income. For 75205 Dallas, 1 & 2 switched places. Most notably, 5 in the original dropped to 12. Looking at 40006, Bedford, KY, we also see minimal impact. 02130 Jamaica Plain Boston just had a slight shift in order."
   ]
  },
  {
   "cell_type": "markdown",
   "metadata": {},
   "source": [
    "#### Remove HPI to see impact"
   ]
  },
  {
   "cell_type": "code",
   "execution_count": 1803,
   "metadata": {},
   "outputs": [],
   "source": [
    "final_no_HPI = final_del_nans.drop('HPI', axis=1)\n",
    "scaler = StandardScaler()\n",
    "scaled = scaler.fit_transform(final_no_HPI)\n",
    "scaled = pd.DataFrame(scaled, index=final_no_HPI.index, columns=final_no_HPI.columns)\n",
    "cosine_matrix = cosine_similarity(scaled, scaled)\n",
    "mapping = pd.Series(scaled.reset_index().index, index = scaled.index)"
   ]
  },
  {
   "cell_type": "code",
   "execution_count": 1804,
   "metadata": {},
   "outputs": [],
   "source": [
    "def cosine_recommend_zip(zip_input):\n",
    "    zip_location = pd.read_csv('data/us-zip-code-latitude-and-longitude.csv', sep = ';')\n",
    "    zip_index = int(mapping[zip_input])\n",
    "    #get similarity values with other zip codes\n",
    "    #similarity_score is the list of index and similarity matrix\n",
    "    similarity_score = list(enumerate(cosine_matrix[zip_index]))\n",
    "    #sort in descending order the similarity score of zip inputted with all the other zip codes\n",
    "    similarity_score = sorted(similarity_score, key=lambda x: x[1], reverse=True)\n",
    "    # Get the scores of the 15 most similar zip codes. Ignore the first zip code.\n",
    "    similarity_score = similarity_score[1:11]\n",
    "    #return zip codes using the mapping series\n",
    "    zip_indices = [i[0] for i in similarity_score]\n",
    "    best = []\n",
    "    for i in zip_indices:\n",
    "        best.append(int(final_no_HPI.reset_index().iloc[i][0]))\n",
    "    df = pd.DataFrame(data = best, columns = ['Zip'])\n",
    "    merged = pd.merge(df,zip_location,on='Zip',how='inner')\n",
    "    merged = merged[['Zip', 'City', 'State']]\n",
    "    return merged"
   ]
  },
  {
   "cell_type": "code",
   "execution_count": 1806,
   "metadata": {},
   "outputs": [
    {
     "name": "stdout",
     "output_type": "stream",
     "text": [
      "Recommender without HPI\n"
     ]
    },
    {
     "data": {
      "text/html": [
       "<div>\n",
       "<style scoped>\n",
       "    .dataframe tbody tr th:only-of-type {\n",
       "        vertical-align: middle;\n",
       "    }\n",
       "\n",
       "    .dataframe tbody tr th {\n",
       "        vertical-align: top;\n",
       "    }\n",
       "\n",
       "    .dataframe thead th {\n",
       "        text-align: right;\n",
       "    }\n",
       "</style>\n",
       "<table border=\"1\" class=\"dataframe\">\n",
       "  <thead>\n",
       "    <tr style=\"text-align: right;\">\n",
       "      <th></th>\n",
       "      <th>Zip</th>\n",
       "      <th>City</th>\n",
       "      <th>State</th>\n",
       "    </tr>\n",
       "  </thead>\n",
       "  <tbody>\n",
       "    <tr>\n",
       "      <th>0</th>\n",
       "      <td>2140</td>\n",
       "      <td>Cambridge</td>\n",
       "      <td>MA</td>\n",
       "    </tr>\n",
       "    <tr>\n",
       "      <th>1</th>\n",
       "      <td>20010</td>\n",
       "      <td>Washington</td>\n",
       "      <td>DC</td>\n",
       "    </tr>\n",
       "    <tr>\n",
       "      <th>2</th>\n",
       "      <td>7302</td>\n",
       "      <td>Jersey City</td>\n",
       "      <td>NJ</td>\n",
       "    </tr>\n",
       "    <tr>\n",
       "      <th>3</th>\n",
       "      <td>20002</td>\n",
       "      <td>Washington</td>\n",
       "      <td>DC</td>\n",
       "    </tr>\n",
       "    <tr>\n",
       "      <th>4</th>\n",
       "      <td>20009</td>\n",
       "      <td>Washington</td>\n",
       "      <td>DC</td>\n",
       "    </tr>\n",
       "    <tr>\n",
       "      <th>5</th>\n",
       "      <td>94703</td>\n",
       "      <td>Berkeley</td>\n",
       "      <td>CA</td>\n",
       "    </tr>\n",
       "    <tr>\n",
       "      <th>6</th>\n",
       "      <td>60622</td>\n",
       "      <td>Chicago</td>\n",
       "      <td>IL</td>\n",
       "    </tr>\n",
       "    <tr>\n",
       "      <th>7</th>\n",
       "      <td>60640</td>\n",
       "      <td>Chicago</td>\n",
       "      <td>IL</td>\n",
       "    </tr>\n",
       "    <tr>\n",
       "      <th>8</th>\n",
       "      <td>2144</td>\n",
       "      <td>Somerville</td>\n",
       "      <td>MA</td>\n",
       "    </tr>\n",
       "    <tr>\n",
       "      <th>9</th>\n",
       "      <td>60614</td>\n",
       "      <td>Chicago</td>\n",
       "      <td>IL</td>\n",
       "    </tr>\n",
       "  </tbody>\n",
       "</table>\n",
       "</div>"
      ],
      "text/plain": [
       "     Zip         City State\n",
       "0   2140    Cambridge    MA\n",
       "1  20010   Washington    DC\n",
       "2   7302  Jersey City    NJ\n",
       "3  20002   Washington    DC\n",
       "4  20009   Washington    DC\n",
       "5  94703     Berkeley    CA\n",
       "6  60622      Chicago    IL\n",
       "7  60640      Chicago    IL\n",
       "8   2144   Somerville    MA\n",
       "9  60614      Chicago    IL"
      ]
     },
     "execution_count": 1806,
     "metadata": {},
     "output_type": "execute_result"
    }
   ],
   "source": [
    "print('Recommender without HPI')\n",
    "cosine_recommend_zip('02130')"
   ]
  },
  {
   "cell_type": "markdown",
   "metadata": {},
   "source": [
    "For 75205 Dallas, a zip code with a very high HPI, the top 4 remained the same. 5 moved down to 6 and was replaced with Little Rock, AR, which previously was not in the top 10 (only in the top 20). This is likely because this area of Little Rock has a much lower HPI. There is nearly no impact on 40006 Bedford KY, a zip code with a low HPI. Needham 02492 had minimal impact as well. 02130 Jamaica Plain Boston had little impact as well, although Berkeley, CA now moved into the top 10 at the expense of Union City, NJ."
   ]
  },
  {
   "cell_type": "code",
   "execution_count": 1781,
   "metadata": {},
   "outputs": [
    {
     "name": "stdout",
     "output_type": "stream",
     "text": [
      "<class 'pandas.core.frame.DataFrame'>\n",
      "Index: 14633 entries, 01001 to 99901\n",
      "Data columns (total 73 columns):\n",
      " #   Column                                                                                                                                                                              Non-Null Count  Dtype  \n",
      "---  ------                                                                                                                                                                              --------------  -----  \n",
      " 0   total_pop                                                                                                                                                                           14633 non-null  float64\n",
      " 1   Percent_Under_5                                                                                                                                                                     14633 non-null  float64\n",
      " 2   Percent_5_to_9                                                                                                                                                                      14633 non-null  float64\n",
      " 3   Percent_10_to_14                                                                                                                                                                    14633 non-null  float64\n",
      " 4   Percent_15_to_19                                                                                                                                                                    14633 non-null  float64\n",
      " 5   Percent_20_to_24                                                                                                                                                                    14633 non-null  float64\n",
      " 6   Percent_25_to_29                                                                                                                                                                    14633 non-null  float64\n",
      " 7   Percent_30_to_34                                                                                                                                                                    14633 non-null  float64\n",
      " 8   Percent_35_to_39                                                                                                                                                                    14633 non-null  float64\n",
      " 9   Percent_40_to_44                                                                                                                                                                    14633 non-null  float64\n",
      " 10  Percent_45_to_49                                                                                                                                                                    14633 non-null  float64\n",
      " 11  Percent_50_to_54                                                                                                                                                                    14633 non-null  float64\n",
      " 12  Percent_55_to_59                                                                                                                                                                    14633 non-null  float64\n",
      " 13  Percent_60_to_64                                                                                                                                                                    14633 non-null  float64\n",
      " 14  Percent_65_to_69                                                                                                                                                                    14633 non-null  float64\n",
      " 15  Percent_70_to_74                                                                                                                                                                    14633 non-null  float64\n",
      " 16  Percent_75_to_79                                                                                                                                                                    14633 non-null  float64\n",
      " 17  Percent_80_to_84                                                                                                                                                                    14633 non-null  float64\n",
      " 18  Percent_85_Plus                                                                                                                                                                     14633 non-null  float64\n",
      " 19  Estimate!!Percent!!Population 25 years and over!!Bachelor's degree                                                                                                                  14633 non-null  float64\n",
      " 20  Estimate!!Percent!!Population 25 years and over!!Graduate or professional degree                                                                                                    14633 non-null  float64\n",
      " 21  Estimate!!Percent!!Population 25 years and over!!High school graduate or higher                                                                                                     14633 non-null  float64\n",
      " 22  Estimate!!Percent!!Population 25 years and over!!Some college, no degree                                                                                                            14633 non-null  float64\n",
      " 23  Estimate!!Percent Male!!Population 25 years and over!!Bachelor's degree                                                                                                             14633 non-null  float64\n",
      " 24  Estimate!!Percent Female!!Population 25 years and over!!Bachelor's degree                                                                                                           14633 non-null  float64\n",
      " 25  Estimate!!Percent Male!!Population 25 years and over!!Graduate or professional degree                                                                                               14633 non-null  float64\n",
      " 26  Estimate!!Percent Female!!Population 25 years and over!!Graduate or professional degree                                                                                             14633 non-null  float64\n",
      " 27  Estimate!!Percent Male!!Population 25 years and over!!High school graduate or higher                                                                                                14633 non-null  float64\n",
      " 28  Estimate!!Percent Female!!Population 25 years and over!!High school graduate or higher                                                                                              14633 non-null  float64\n",
      " 29  Percent_Families_With_Children                                                                                                                                                      14633 non-null  float64\n",
      " 30  Estimate!!Percent!!Families!!EMPLOYMENT STATUS CHARACTERISTICS!!Married-couple families!!Husband in labor force, wife not in labor force                                            14633 non-null  float64\n",
      " 31  Estimate!!Percent Families with own children under 18 years!!Families!!EMPLOYMENT STATUS CHARACTERISTICS!!Married-couple families!!Husband in labor force, wife not in labor force  14633 non-null  float64\n",
      " 32  Estimate!!Percent!!Families!!EMPLOYMENT STATUS CHARACTERISTICS!!Married-couple families!!Wife in labor force, husband not in labor force                                            14633 non-null  float64\n",
      " 33  Estimate!!Percent Families with own children under 18 years!!Families!!EMPLOYMENT STATUS CHARACTERISTICS!!Married-couple families!!Wife in labor force, husband not in labor force  14633 non-null  float64\n",
      " 34  Estimate!!Percent!!Families!!EMPLOYMENT STATUS CHARACTERISTICS!!Married-couple families!!Both husband and wife not in labor force                                                   14633 non-null  float64\n",
      " 35  Estimate!!Percent Families with own children under 18 years!!Families!!EMPLOYMENT STATUS CHARACTERISTICS!!Married-couple families!!Both husband and wife not in labor force         14633 non-null  float64\n",
      " 36  Estimate!!Percent!!Families!!EMPLOYMENT STATUS CHARACTERISTICS!!Other families                                                                                                      14633 non-null  float64\n",
      " 37  Estimate!!Percent Families with own children under 18 years!!Families!!EMPLOYMENT STATUS CHARACTERISTICS!!Other families                                                            14633 non-null  float64\n",
      " 38  Estimate!!Percent!!Families!!EMPLOYMENT STATUS CHARACTERISTICS!!Other families!!Female householder, no husband present                                                              14633 non-null  float64\n",
      " 39  Estimate!!Percent Families with own children under 18 years!!Families!!EMPLOYMENT STATUS CHARACTERISTICS!!Other families!!Female householder, no husband present                    14633 non-null  float64\n",
      " 40  Estimate!!Percent!!Families!!EMPLOYMENT STATUS CHARACTERISTICS!!Other families!!Female householder, no husband present!!In labor force                                              14633 non-null  float64\n",
      " 41  Estimate!!Percent Families with own children under 18 years!!Families!!EMPLOYMENT STATUS CHARACTERISTICS!!Other families!!Female householder, no husband present!!In labor force    14633 non-null  float64\n",
      " 42  Estimate!!Percent!!Families!!EMPLOYMENT STATUS CHARACTERISTICS!!Other families!!Male householder, no wife present                                                                   14633 non-null  float64\n",
      " 43  Estimate!!Percent Families with own children under 18 years!!Families!!EMPLOYMENT STATUS CHARACTERISTICS!!Other families!!Male householder, no wife present                         14633 non-null  float64\n",
      " 44  Estimate!!Percent!!Families!!EMPLOYMENT STATUS CHARACTERISTICS!!Other families!!Male householder, no wife present!!In labor force                                                   14633 non-null  float64\n",
      " 45  Estimate!!Percent Families with own children under 18 years!!Families!!EMPLOYMENT STATUS CHARACTERISTICS!!Other families!!Male householder, no wife present!!In labor force         14633 non-null  float64\n",
      " 46  Estimate!!Percent!!Families!!EMPLOYMENT STATUS CHARACTERISTICS!!Other families!!Male householder, no wife present!!Not in labor force                                               14633 non-null  float64\n",
      " 47  Estimate!!Percent!!WORK STATUS CHARACTERISTICS!!Families!!1 worker in the past 12 months                                                                                            14633 non-null  float64\n",
      " 48  Estimate!!Percent!!WORK STATUS CHARACTERISTICS!!Families!!2 or more workers in the past 12 months                                                                                   14633 non-null  float64\n",
      " 49  Estimate!!Percent Families with own children under 18 years!!WORK STATUS CHARACTERISTICS!!Families!!No workers in the past 12 months                                                14633 non-null  float64\n",
      " 50  Estimate!!Percent Families with own children under 18 years!!WORK STATUS CHARACTERISTICS!!Families!!1 worker in the past 12 months                                                  14633 non-null  float64\n",
      " 51  Estimate!!Percent!!WORK STATUS CHARACTERISTICS!!Families!!No workers in the past 12 months                                                                                          14633 non-null  float64\n",
      " 52  Speaks_Spanish                                                                                                                                                                      14633 non-null  float64\n",
      " 53  Speaks_Other_Language                                                                                                                                                               14633 non-null  float64\n",
      " 54  Speak_Only_English                                                                                                                                                                  14633 non-null  float64\n",
      " 55  Poor_English_Speaking                                                                                                                                                               14633 non-null  float64\n",
      " 56  Percent_Veterans                                                                                                                                                                    14633 non-null  float64\n",
      " 57  Percent_Private_Vehicle                                                                                                                                                             14633 non-null  float64\n",
      " 58  Percent_Public_Trans                                                                                                                                                                14633 non-null  float64\n",
      " 59  Percent_Walked                                                                                                                                                                      14633 non-null  float64\n",
      " 60  Percent_Remote_Work                                                                                                                                                                 14633 non-null  float64\n",
      " 61  Mean_Commute_Time                                                                                                                                                                   14633 non-null  float64\n",
      " 62  Percent_Owner_Occupied                                                                                                                                                              14633 non-null  float64\n",
      " 63  Median_HH_Income                                                                                                                                                                    14633 non-null  float64\n",
      " 64  Median_Owner_HH_Income                                                                                                                                                              14633 non-null  float64\n",
      " 65  Median_Renter_HH_Income                                                                                                                                                             14633 non-null  float64\n",
      " 66  Estimate!!Now married (except separated)!!Population 15 years and over                                                                                                              14633 non-null  float64\n",
      " 67  Estimate!!Widowed!!Population 15 years and over                                                                                                                                     14633 non-null  float64\n",
      " 68  Estimate!!Divorced!!Population 15 years and over                                                                                                                                    14633 non-null  float64\n",
      " 69  Estimate!!Separated!!Population 15 years and over                                                                                                                                   14633 non-null  float64\n",
      " 70  Estimate!!Never married!!Population 15 years and over                                                                                                                               14633 non-null  float64\n",
      " 71  HPI_%_Annual_Change                                                                                                                                                                 14633 non-null  float64\n",
      " 72  HPI                                                                                                                                                                                 14633 non-null  float64\n",
      "dtypes: float64(73)\n",
      "memory usage: 8.9+ MB\n"
     ]
    }
   ],
   "source": [
    "final_del_nans.info(verbose=True)"
   ]
  },
  {
   "cell_type": "code",
   "execution_count": null,
   "metadata": {},
   "outputs": [],
   "source": []
  }
 ],
 "metadata": {
  "kernelspec": {
   "display_name": "Python 3",
   "language": "python",
   "name": "python3"
  },
  "language_info": {
   "codemirror_mode": {
    "name": "ipython",
    "version": 3
   },
   "file_extension": ".py",
   "mimetype": "text/x-python",
   "name": "python",
   "nbconvert_exporter": "python",
   "pygments_lexer": "ipython3",
   "version": "3.7.7"
  }
 },
 "nbformat": 4,
 "nbformat_minor": 4
}

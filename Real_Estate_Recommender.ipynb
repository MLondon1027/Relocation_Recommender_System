{
 "cells": [
  {
   "cell_type": "code",
   "execution_count": 192,
   "metadata": {},
   "outputs": [],
   "source": [
    "import pandas as pd\n",
    "import numpy as np\n",
    "import matplotlib.pyplot as plt\n",
    "import seaborn as sns\n",
    "%matplotlib inline\n",
    "import re\n",
    "from sklearn.metrics.pairwise import cosine_similarity\n",
    "from sklearn.metrics.pairwise import linear_kernel\n",
    "from sklearn.preprocessing import StandardScaler "
   ]
  },
  {
   "cell_type": "code",
   "execution_count": 6,
   "metadata": {},
   "outputs": [],
   "source": [
    "data = pd.read_csv('data/ACSST5Y2018.S0101_data_with_overlays_2020-09-09T171138.csv', low_memory=False, header=1)"
   ]
  },
  {
   "cell_type": "code",
   "execution_count": 7,
   "metadata": {},
   "outputs": [],
   "source": [
    "# Delete margin of error columns\n",
    "data = data[data.columns.drop(list(data.filter(regex='^Margin')))]"
   ]
  },
  {
   "cell_type": "code",
   "execution_count": 8,
   "metadata": {},
   "outputs": [],
   "source": [
    "# Replace (X) with NaN values\n",
    "data = data.replace({'(X)': np.nan})"
   ]
  },
  {
   "cell_type": "code",
   "execution_count": 9,
   "metadata": {},
   "outputs": [],
   "source": [
    "# Drop estimate percent total population because it doesn't make sense\n",
    "data.drop(['Estimate!!Percent!!Total population'], axis=1, inplace=True)"
   ]
  },
  {
   "cell_type": "code",
   "execution_count": 10,
   "metadata": {},
   "outputs": [],
   "source": [
    "# Fill in percentage male total population\n",
    "data['Estimate!!Percent Male!!Total population'] = data['Estimate!!Male!!Total population']/data['Estimate!!Total!!Total population']"
   ]
  },
  {
   "cell_type": "code",
   "execution_count": 11,
   "metadata": {},
   "outputs": [],
   "source": [
    "# Fill in percentage female total population\n",
    "data['Estimate!!Percent Female!!Total population'] = data['Estimate!!Female!!Total population']/data['Estimate!!Total!!Total population']\n",
    "\n"
   ]
  },
  {
   "cell_type": "code",
   "execution_count": 12,
   "metadata": {},
   "outputs": [
    {
     "data": {
      "text/plain": [
       "1093602"
      ]
     },
     "execution_count": 12,
     "metadata": {},
     "output_type": "execute_result"
    }
   ],
   "source": [
    "# Null data points\n",
    "data.isnull().values.sum()"
   ]
  },
  {
   "cell_type": "code",
   "execution_count": 13,
   "metadata": {},
   "outputs": [
    {
     "data": {
      "text/plain": [
       "7584480"
      ]
     },
     "execution_count": 13,
     "metadata": {},
     "output_type": "execute_result"
    }
   ],
   "source": [
    "# Total data points\n",
    "data.shape[0] * data.shape[1]"
   ]
  },
  {
   "cell_type": "code",
   "execution_count": 14,
   "metadata": {},
   "outputs": [],
   "source": [
    "# Delete percent allocated columns\n",
    "data.drop(['Estimate!!Female!!PERCENT ALLOCATED!!Sex'], axis=1, inplace=True)\n",
    "data.drop(['Estimate!!Percent Female!!PERCENT ALLOCATED!!Sex'], axis=1, inplace=True)\n",
    "data.drop(['Estimate!!Total!!PERCENT ALLOCATED!!Age'], axis=1, inplace=True)\n",
    "data.drop(['Estimate!!Percent!!PERCENT ALLOCATED!!Age'], axis=1, inplace=True)\n",
    "data.drop(['Estimate!!Male!!PERCENT ALLOCATED!!Age'], axis=1, inplace=True)\n",
    "data.drop(['Estimate!!Percent Male!!PERCENT ALLOCATED!!Age'], axis=1, inplace=True)\n",
    "data.drop(['Estimate!!Female!!PERCENT ALLOCATED!!Age'], axis=1, inplace=True)\n",
    "data.drop(['Estimate!!Percent Female!!PERCENT ALLOCATED!!Age'], axis=1, inplace=True)"
   ]
  },
  {
   "cell_type": "code",
   "execution_count": 15,
   "metadata": {},
   "outputs": [],
   "source": [
    "data.drop('Estimate!!Total!!PERCENT ALLOCATED!!Sex', axis=1, inplace=True)"
   ]
  },
  {
   "cell_type": "code",
   "execution_count": 16,
   "metadata": {},
   "outputs": [],
   "source": [
    "data['zip'] = data['Geographic Area Name'].str[-5:]\n"
   ]
  },
  {
   "cell_type": "code",
   "execution_count": 17,
   "metadata": {},
   "outputs": [
    {
     "data": {
      "text/plain": [
       "33120"
      ]
     },
     "execution_count": 17,
     "metadata": {},
     "output_type": "execute_result"
    }
   ],
   "source": [
    "data['zip'].nunique()"
   ]
  },
  {
   "cell_type": "markdown",
   "metadata": {},
   "source": [
    "#### Real estate"
   ]
  },
  {
   "cell_type": "code",
   "execution_count": 19,
   "metadata": {},
   "outputs": [],
   "source": [
    "real_estate = pd.read_excel('data/HPI_AT_BDL_ZIP5.xlsx')"
   ]
  },
  {
   "cell_type": "code",
   "execution_count": 20,
   "metadata": {},
   "outputs": [],
   "source": [
    "# Drop first 5 rows\n",
    "real_estate = real_estate.iloc[5:]"
   ]
  },
  {
   "cell_type": "code",
   "execution_count": 21,
   "metadata": {},
   "outputs": [],
   "source": [
    "# Make first row the header\n",
    "real_estate.rename(columns=real_estate.iloc[0], inplace = True)"
   ]
  },
  {
   "cell_type": "code",
   "execution_count": 22,
   "metadata": {},
   "outputs": [],
   "source": [
    "# Delete repeating row\n",
    "real_estate = real_estate.iloc[1:]"
   ]
  },
  {
   "cell_type": "code",
   "execution_count": 23,
   "metadata": {},
   "outputs": [],
   "source": [
    "# Select rows that are Year 2019t\n",
    "real_estate_2019 = real_estate[real_estate['Year']=='2019']"
   ]
  },
  {
   "cell_type": "markdown",
   "metadata": {},
   "source": [
    "### Veteran Status\n"
   ]
  },
  {
   "cell_type": "code",
   "execution_count": 25,
   "metadata": {},
   "outputs": [],
   "source": [
    "veteran = pd.read_csv('data/ACSST5Y2018.S2101_data_with_overlays_2020-09-14T113935.csv', low_memory=False, header=1)"
   ]
  },
  {
   "cell_type": "code",
   "execution_count": 26,
   "metadata": {},
   "outputs": [],
   "source": [
    "veteran['zip'] = veteran['Geographic Area Name'].str[-5:]"
   ]
  },
  {
   "cell_type": "code",
   "execution_count": 27,
   "metadata": {},
   "outputs": [],
   "source": [
    "# Delete margin of error columns\n",
    "veteran = veteran[veteran.columns.drop(list(veteran.filter(regex='^Margin')))]"
   ]
  },
  {
   "cell_type": "markdown",
   "metadata": {},
   "source": [
    "### Transportation"
   ]
  },
  {
   "cell_type": "code",
   "execution_count": 29,
   "metadata": {},
   "outputs": [],
   "source": [
    "transportation = pd.read_csv('data/ACSST5Y2018.S0801_data_with_overlays_2020-09-05T010054.csv', low_memory=False, header=1)"
   ]
  },
  {
   "cell_type": "code",
   "execution_count": 30,
   "metadata": {},
   "outputs": [],
   "source": [
    "transportation['zip'] = transportation['Geographic Area Name'].str[-5:]"
   ]
  },
  {
   "cell_type": "code",
   "execution_count": 31,
   "metadata": {},
   "outputs": [],
   "source": [
    "# Delete margin of error columns\n",
    "transportation = transportation[transportation.columns.drop(list(transportation.filter(regex='MOE')))]"
   ]
  },
  {
   "cell_type": "markdown",
   "metadata": {},
   "source": [
    "### Housing and Income\n"
   ]
  },
  {
   "cell_type": "code",
   "execution_count": 32,
   "metadata": {},
   "outputs": [],
   "source": [
    "financial_char = pd.read_csv('data/ACSST5Y2018.S2503_data_with_overlays_2020-09-08T115524.csv', low_memory=False, header=1)"
   ]
  },
  {
   "cell_type": "code",
   "execution_count": 33,
   "metadata": {},
   "outputs": [],
   "source": [
    "financial_char['zip'] = financial_char['Geographic Area Name'].str[-5:]"
   ]
  },
  {
   "cell_type": "code",
   "execution_count": 34,
   "metadata": {},
   "outputs": [],
   "source": [
    "# Delete margin of error columns\n",
    "financial_char = financial_char[financial_char.columns.drop(list(financial_char.filter(regex='^Margin')))]"
   ]
  },
  {
   "cell_type": "markdown",
   "metadata": {},
   "source": [
    "### Education"
   ]
  },
  {
   "cell_type": "code",
   "execution_count": 35,
   "metadata": {},
   "outputs": [],
   "source": [
    "education = pd.read_csv('data/Education.csv', low_memory=False, header=1)"
   ]
  },
  {
   "cell_type": "code",
   "execution_count": 36,
   "metadata": {},
   "outputs": [],
   "source": [
    "education['zip'] = education['Geographic Area Name'].str[-5:]"
   ]
  },
  {
   "cell_type": "code",
   "execution_count": 37,
   "metadata": {},
   "outputs": [],
   "source": [
    "# Delete margin of error columns\n",
    "education = education[education.columns.drop(list(education.filter(regex='^Margin')))]"
   ]
  },
  {
   "cell_type": "markdown",
   "metadata": {},
   "source": [
    "### Employment\n"
   ]
  },
  {
   "cell_type": "code",
   "execution_count": 38,
   "metadata": {},
   "outputs": [],
   "source": [
    "employment = pd.read_csv('data/ACSST5Y2018.S2302_data_with_overlays_2020-09-08T190000.csv', low_memory=False, header=1)"
   ]
  },
  {
   "cell_type": "code",
   "execution_count": 39,
   "metadata": {},
   "outputs": [],
   "source": [
    "# zip column\n",
    "employment['zip'] = employment['Geographic Area Name'].str[-5:]"
   ]
  },
  {
   "cell_type": "code",
   "execution_count": 40,
   "metadata": {},
   "outputs": [],
   "source": [
    "# Delete margin of error columns\n",
    "employment = employment[employment.columns.drop(list(employment.filter(regex='^Margin')))]"
   ]
  },
  {
   "cell_type": "markdown",
   "metadata": {},
   "source": [
    "### Marital status\n"
   ]
  },
  {
   "cell_type": "code",
   "execution_count": 41,
   "metadata": {},
   "outputs": [],
   "source": [
    "marital = pd.read_csv('data/ACSST5Y2018.S1201_data_with_overlays_2020-09-14T121102.csv', low_memory=False, header=1)"
   ]
  },
  {
   "cell_type": "code",
   "execution_count": 42,
   "metadata": {},
   "outputs": [],
   "source": [
    "# zip column\n",
    "marital['zip'] = marital['Geographic Area Name'].str[-5:]"
   ]
  },
  {
   "cell_type": "code",
   "execution_count": 43,
   "metadata": {},
   "outputs": [],
   "source": [
    "# Delete margin of error columns\n",
    "marital = marital[marital.columns.drop(list(marital.filter(regex='^Margin')))]"
   ]
  },
  {
   "cell_type": "markdown",
   "metadata": {},
   "source": [
    "### Language spoken at home"
   ]
  },
  {
   "cell_type": "code",
   "execution_count": 44,
   "metadata": {},
   "outputs": [],
   "source": [
    "language = pd.read_csv('data/ACSST5Y2018.S1601_data_with_overlays_2020-09-14T123248.csv', low_memory=False, header=1)"
   ]
  },
  {
   "cell_type": "code",
   "execution_count": 45,
   "metadata": {},
   "outputs": [],
   "source": [
    "# zip column\n",
    "language['zip'] = language['Geographic Area Name'].str[-5:]"
   ]
  },
  {
   "cell_type": "code",
   "execution_count": 46,
   "metadata": {},
   "outputs": [],
   "source": [
    "# Delete margin of error columns\n",
    "language = language[language.columns.drop(list(language.filter(regex='^Margin')))]"
   ]
  },
  {
   "cell_type": "code",
   "execution_count": 47,
   "metadata": {},
   "outputs": [],
   "source": [
    "# Drop Estimated Percent Pop 5 Years and over - no data\n",
    "language.drop('Estimate!!Percent!!Population 5 years and over', axis=1, inplace=True)"
   ]
  },
  {
   "cell_type": "markdown",
   "metadata": {},
   "source": [
    "### Save smaller csvs"
   ]
  },
  {
   "cell_type": "code",
   "execution_count": null,
   "metadata": {},
   "outputs": [],
   "source": [
    "#marital.to_csv('marital.csv', index=False)"
   ]
  },
  {
   "cell_type": "code",
   "execution_count": null,
   "metadata": {},
   "outputs": [],
   "source": [
    "#employment.to_csv('employment.csv', index=False)"
   ]
  },
  {
   "cell_type": "code",
   "execution_count": null,
   "metadata": {},
   "outputs": [],
   "source": [
    "#education.to_csv('education.csv', index=False)"
   ]
  },
  {
   "cell_type": "code",
   "execution_count": null,
   "metadata": {},
   "outputs": [],
   "source": [
    "#financial_char.to_csv('financial.csv', index=False)"
   ]
  },
  {
   "cell_type": "code",
   "execution_count": null,
   "metadata": {},
   "outputs": [],
   "source": [
    "#language.to_csv('language.csv', index=False)"
   ]
  },
  {
   "cell_type": "code",
   "execution_count": null,
   "metadata": {},
   "outputs": [],
   "source": []
  },
  {
   "cell_type": "markdown",
   "metadata": {},
   "source": [
    "### Drop id and Geographic Area Name"
   ]
  },
  {
   "cell_type": "code",
   "execution_count": 48,
   "metadata": {},
   "outputs": [],
   "source": [
    "\n",
    "employment.drop('id', axis=1, inplace=True)\n",
    "employment.drop('Geographic Area Name', axis=1, inplace=True)\n",
    "education.drop('id', axis=1, inplace=True)\n",
    "education.drop('Geographic Area Name', axis=1, inplace=True)\n",
    "financial_char.drop('id', axis=1, inplace=True)\n",
    "financial_char.drop('Geographic Area Name', axis=1, inplace=True)\n",
    "language.drop('id', axis=1, inplace=True)\n",
    "language.drop('Geographic Area Name', axis=1, inplace=True)\n",
    "data.drop('id', axis=1, inplace=True)\n",
    "data.drop('Geographic Area Name', axis=1, inplace=True)\n",
    "veteran.drop('id', axis=1, inplace=True)\n",
    "veteran.drop('Geographic Area Name', axis=1, inplace=True)\n",
    "marital.drop('id', axis=1, inplace=True)\n",
    "marital.drop('Geographic Area Name', axis=1, inplace=True)\n",
    "transportation.drop('id', axis=1, inplace=True)\n",
    "transportation.drop('Geographic Area Name', axis=1, inplace=True)"
   ]
  },
  {
   "cell_type": "code",
   "execution_count": 49,
   "metadata": {},
   "outputs": [],
   "source": [
    "# Make zip column the index\n",
    "\n",
    "employment.set_index('zip', inplace=True)\n",
    "education.set_index('zip', inplace=True)\n",
    "financial_char.set_index('zip', inplace=True)\n",
    "language.set_index('zip', inplace=True)\n",
    "data.set_index('zip', inplace=True)\n",
    "marital.set_index('zip', inplace=True)\n",
    "veteran.set_index('zip', inplace=True)\n",
    "transportation.set_index('zip', inplace=True)"
   ]
  },
  {
   "cell_type": "code",
   "execution_count": 50,
   "metadata": {},
   "outputs": [],
   "source": [
    "# Drop empty columns- marital\n",
    "marital.drop('Estimate!!Now married (except separated)!!PERCENT ALLOCATED!!Marital status', axis=1, inplace=True)\n",
    "marital.drop('Estimate!!Widowed!!PERCENT ALLOCATED!!Marital status', axis=1, inplace=True)\n",
    "marital.drop('Estimate!!Divorced!!PERCENT ALLOCATED!!Marital status', axis=1, inplace=True)\n",
    "marital.drop('Estimate!!Separated!!PERCENT ALLOCATED!!Marital status', axis=1, inplace=True)\n",
    "marital.drop('Estimate!!Never married!!PERCENT ALLOCATED!!Marital status', axis=1, inplace=True)"
   ]
  },
  {
   "cell_type": "code",
   "execution_count": 51,
   "metadata": {},
   "outputs": [
    {
     "name": "stderr",
     "output_type": "stream",
     "text": [
      "/opt/anaconda3/lib/python3.7/site-packages/pandas/core/ops/array_ops.py:253: FutureWarning: elementwise comparison failed; returning scalar instead, but in the future will perform elementwise comparison\n",
      "  res_values = method(rvalues)\n"
     ]
    }
   ],
   "source": [
    "# Delete marital columns with (X)\n",
    "marital = marital.loc[:, ~(marital == '(X)').any()]"
   ]
  },
  {
   "cell_type": "code",
   "execution_count": 52,
   "metadata": {},
   "outputs": [],
   "source": [
    "# Delete veterans columns with (X)\n",
    "veteran = veteran.loc[:, ~(veteran == '(X)').any()]"
   ]
  },
  {
   "cell_type": "code",
   "execution_count": 53,
   "metadata": {},
   "outputs": [],
   "source": [
    "# Delete education columns with (X)\n",
    "education = education.loc[:, ~(education == '(X)').any()]"
   ]
  },
  {
   "cell_type": "code",
   "execution_count": 54,
   "metadata": {},
   "outputs": [],
   "source": [
    "# Delete financial_char columns with (X)\n",
    "financial_char = financial_char.loc[:, ~(financial_char == '(X)').any()]"
   ]
  },
  {
   "cell_type": "code",
   "execution_count": 55,
   "metadata": {},
   "outputs": [],
   "source": [
    "data = data.loc[:, ~(data == '(X)').any()]"
   ]
  },
  {
   "cell_type": "code",
   "execution_count": 56,
   "metadata": {},
   "outputs": [],
   "source": [
    "# Delete employment columns with (X)\n",
    "employment = employment.loc[:, ~(employment == '(X)').any()]"
   ]
  },
  {
   "cell_type": "code",
   "execution_count": 57,
   "metadata": {},
   "outputs": [],
   "source": [
    "# Delete language columns with (X)\n",
    "language = language.loc[:, ~(language == '(X)').any()]"
   ]
  },
  {
   "cell_type": "code",
   "execution_count": 58,
   "metadata": {},
   "outputs": [],
   "source": [
    "# Delete transportation columns with (X)\n",
    "transportation = transportation.loc[:, ~(transportation == '(X)').any()]"
   ]
  },
  {
   "cell_type": "markdown",
   "metadata": {},
   "source": [
    "Most useful features idea:\n",
    "1) Household income\n",
    "2) Percent of children\n",
    "3) Percent children under 5\n",
    "4) Percent owner occupied housing\n",
    "5) Overall population size\n",
    "6) Percent veterans\n",
    "7) Percent speak English\n",
    "8) HPI\n",
    "9) HPI annual change\n",
    "10) Percent female population\n",
    "11) Percent over 65\n",
    "12) Percent population over 25 with bachelor degree\n",
    "13) Percent population over 25 with graduate degree\n",
    "14) Percent population over 25 with high school diploma\n",
    "15) Male percent population over 25 with bachelor degree\n",
    "16) Male Percent population over 25 with graduate degree\n",
    "17) Percent population over 25 with high school diploma\n",
    "18) Female percent population over 25 with bachelor degree\n",
    "19) Female Percent population over 25 with graduate degree\n",
    "20)  Female Percent population over 25 with high school diploma\n",
    "21) Percent divorced\n",
    "22) Percent separated\n",
    "23) Percent never been married\n",
    "24) Percent families - employment\n",
    "25) Percent families with own children under 18 - employment\n",
    "26) Estimate!!Percent!!Families!!EMPLOYMENT STATUS CHARACTERISTICS!!Married-couple families!!Both husband and wife in labor force \n",
    "27) Estimate!!Percent Families with own children under 18 years!!Families!!EMPLOYMENT STATUS CHARACTERISTICS!!Married-couple families!!Both husband and wife in labor force\n",
    "28) Estimate!!Percent!!Families!!EMPLOYMENT STATUS CHARACTERISTICS!!Married-couple families!!Husband in labor force, wife not in labor force\n",
    "29) Estimate!!Percent Families with own children under 18 years!!Families!!EMPLOYMENT STATUS CHARACTERISTICS!!Married-couple families!!Husband in labor force, wife not in labor force\n",
    "30) Estimate!!Percent!!Families!!EMPLOYMENT STATUS CHARACTERISTICS!!Married-couple families!!Wife in labor force, husband not in labor force\n",
    "31) Estimate!!Percent Families with own children under 18 years!!Families!!EMPLOYMENT STATUS CHARACTERISTICS!!Married-couple families!!Wife in labor force, husband not in labor force\n",
    "32) Estimate!!Percent!!Families!!EMPLOYMENT STATUS CHARACTERISTICS!!Married-couple families!!Both husband and wife not in labor force\n",
    "33) Estimate!!Percent Families with own children under 18 years!!Families!!EMPLOYMENT STATUS CHARACTERISTICS!!Married-couple families!!Both husband and wife not in labor force\n",
    "34) Estimate!!Percent!!Families!!EMPLOYMENT STATUS CHARACTERISTICS!!Other families\n",
    "35) Estimate!!Percent Families with own children under 18 years!!Families!!EMPLOYMENT STATUS CHARACTERISTICS!!Other families\n",
    "36) Estimate!!Percent!!Families!!EMPLOYMENT STATUS CHARACTERISTICS!!Other families!!Female householder, no husband present\n",
    "37) Estimate!!Percent Families with own children under 18 years!!Families!!EMPLOYMENT STATUS CHARACTERISTICS!!Other families!!Female householder, no husband present\n",
    "38) Estimate!!Percent!!Families!!EMPLOYMENT STATUS CHARACTERISTICS!!Other families!!Female householder, no husband present!!In labor force\n",
    "39) Estimate!!Percent Families with own children under 18 years!!Families!!EMPLOYMENT STATUS CHARACTERISTICS!!Other families!!Female householder, no husband present!!In labor force\n",
    "40) Estimate!!Percent!!Families!!EMPLOYMENT STATUS CHARACTERISTICS!!Other families!!Male householder, no wife present \n",
    "41) Estimate!!Percent Families with own children under 18 years!!Families!!EMPLOYMENT STATUS CHARACTERISTICS!!Other families!!Male householder, no wife present\n",
    "42) Estimate!!Percent!!Families!!EMPLOYMENT STATUS CHARACTERISTICS!!Other families!!Male householder, no wife present!!In labor force\n",
    "43) Estimate!!Percent Families with own children under 18 years!!Families!!EMPLOYMENT STATUS CHARACTERISTICS!!Other families!!Male householder, no wife present!!In labor force\n",
    "44) Estimate!!Percent!!Families!!EMPLOYMENT STATUS CHARACTERISTICS!!Other families!!Male householder, no wife present!!Not in labor force\n",
    "45) Estimate!!Percent!!WORK STATUS CHARACTERISTICS!!Families!!1 worker in the past 12 months\n",
    "46) Estimate!!Percent!!WORK STATUS CHARACTERISTICS!!Families!!2 or more workers in the past 12 months\n",
    "47) Estimate!!Percent Families with own children under 18 years!!WORK STATUS CHARACTERISTICS!!Families!!No workers in the past 12 months\n",
    "48) Estimate!!Percent Families with own children under 18 years!!WORK STATUS CHARACTERISTICS!!Families!!1 worker in the past 12 months\n",
    "49) Estimate!!Percent!!WORK STATUS CHARACTERISTICS!!Families!!No workers in the past 12 months\n",
    "50) Percent speak spanish\n",
    "51) Percent speak other language\n",
    "52) Percent drive/ride in private vehicle\n",
    "53) Percent walk\n",
    "54) Percent public transportation\n",
    "55) Percent work remote\n",
    "56) Mean commute time\n",
    "57) Median HH Income\n",
    "58) Median Renter HH Income\n",
    "59) Median Owner HH Income"
   ]
  },
  {
   "cell_type": "code",
   "execution_count": 59,
   "metadata": {},
   "outputs": [],
   "source": [
    "employment_percents = employment.filter(regex='Percent')"
   ]
  },
  {
   "cell_type": "code",
   "execution_count": 60,
   "metadata": {},
   "outputs": [],
   "source": [
    "veteran_percents = veteran.filter(regex='Percent')"
   ]
  },
  {
   "cell_type": "code",
   "execution_count": 61,
   "metadata": {},
   "outputs": [],
   "source": [
    "education_percents = education.filter(regex='Percent')"
   ]
  },
  {
   "cell_type": "code",
   "execution_count": 62,
   "metadata": {},
   "outputs": [],
   "source": [
    "marital_percents = marital.iloc[:, 1:6]"
   ]
  },
  {
   "cell_type": "code",
   "execution_count": 63,
   "metadata": {},
   "outputs": [],
   "source": [
    "# Correct percentage columns for financial_char\n",
    "financial_char['Estimate!!Percent owner-occupied housing units!!Occupied housing units'] = financial_char['Estimate!!Owner-occupied housing units!!Occupied housing units'] / financial_char['Estimate!!Occupied housing units!!Occupied housing units']\n",
    "financial_char['Estimate!!Percent renter-occupied housing units!!Occupied housing units'] = 1 - financial_char['Estimate!!Percent owner-occupied housing units!!Occupied housing units']"
   ]
  },
  {
   "cell_type": "code",
   "execution_count": 64,
   "metadata": {},
   "outputs": [],
   "source": [
    "financial_char_percents = financial_char.filter(regex='Percent')"
   ]
  },
  {
   "cell_type": "code",
   "execution_count": 121,
   "metadata": {},
   "outputs": [],
   "source": [
    "language_percents = language.filter(regex='Percent')"
   ]
  },
  {
   "cell_type": "markdown",
   "metadata": {},
   "source": [
    "### Histogram of size of population by zip code"
   ]
  },
  {
   "cell_type": "code",
   "execution_count": 66,
   "metadata": {},
   "outputs": [
    {
     "data": {
      "text/plain": [
       "<matplotlib.axes._subplots.AxesSubplot at 0x7faf45071950>"
      ]
     },
     "execution_count": 66,
     "metadata": {},
     "output_type": "execute_result"
    },
    {
     "data": {
      "image/png": "[encoded data removed]",
      "text/plain": [
       "<Figure size 432x288 with 1 Axes>"
      ]
     },
     "metadata": {
      "needs_background": "light"
     },
     "output_type": "display_data"
    }
   ],
   "source": [
    "sns.distplot(data['Estimate!!Total!!Total population'])"
   ]
  },
  {
   "cell_type": "code",
   "execution_count": 67,
   "metadata": {},
   "outputs": [],
   "source": [
    "total_pop = data['Estimate!!Total!!Total population']"
   ]
  },
  {
   "cell_type": "code",
   "execution_count": 68,
   "metadata": {},
   "outputs": [],
   "source": [
    "data_percents = data.filter(regex='Percent')"
   ]
  },
  {
   "cell_type": "code",
   "execution_count": 69,
   "metadata": {},
   "outputs": [
    {
     "name": "stderr",
     "output_type": "stream",
     "text": [
      "/opt/anaconda3/lib/python3.7/site-packages/ipykernel_launcher.py:2: SettingWithCopyWarning: \n",
      "A value is trying to be set on a copy of a slice from a DataFrame.\n",
      "Try using .loc[row_indexer,col_indexer] = value instead\n",
      "\n",
      "See the caveats in the documentation: https://pandas.pydata.org/pandas-docs/stable/user_guide/indexing.html#returning-a-view-versus-a-copy\n",
      "  \n"
     ]
    }
   ],
   "source": [
    "# Concatenate total population back to data percents\n",
    "data_percents['total_pop'] = total_pop"
   ]
  },
  {
   "cell_type": "code",
   "execution_count": 70,
   "metadata": {},
   "outputs": [],
   "source": [
    "# replace '-' with NaN\n",
    "data_percents = data_percents.replace({'-': np.nan})"
   ]
  },
  {
   "cell_type": "code",
   "execution_count": 71,
   "metadata": {},
   "outputs": [],
   "source": [
    "# Drop columns with all nans\n",
    "\n",
    "data_percents.dropna(axis=1, how='all', inplace=True)"
   ]
  },
  {
   "cell_type": "code",
   "execution_count": 72,
   "metadata": {},
   "outputs": [],
   "source": [
    "# Change all data_percents columns to floats\n",
    "for i in data_percents.columns:\n",
    "    try:\n",
    "        data_percents[i] = data_percents[i].astype(float)\n",
    "    except:\n",
    "        continue\n"
   ]
  },
  {
   "cell_type": "markdown",
   "metadata": {},
   "source": []
  },
  {
   "cell_type": "code",
   "execution_count": 73,
   "metadata": {},
   "outputs": [],
   "source": [
    "# Delete columns in data that are not floats\n",
    "data_percents = data_percents.select_dtypes(exclude=['object'])"
   ]
  },
  {
   "cell_type": "markdown",
   "metadata": {},
   "source": [
    "#### Edit real estate dataset"
   ]
  },
  {
   "cell_type": "code",
   "execution_count": 74,
   "metadata": {},
   "outputs": [
    {
     "name": "stderr",
     "output_type": "stream",
     "text": [
      "/opt/anaconda3/lib/python3.7/site-packages/pandas/core/frame.py:4133: SettingWithCopyWarning: \n",
      "A value is trying to be set on a copy of a slice from a DataFrame\n",
      "\n",
      "See the caveats in the documentation: https://pandas.pydata.org/pandas-docs/stable/user_guide/indexing.html#returning-a-view-versus-a-copy\n",
      "  errors=errors,\n"
     ]
    }
   ],
   "source": [
    "real_estate_2019.rename(columns={'Five-Digit ZIP Code': 'zip'}, inplace=True)"
   ]
  },
  {
   "cell_type": "code",
   "execution_count": 75,
   "metadata": {},
   "outputs": [],
   "source": [
    "real_estate_2019 = real_estate_2019[['zip', 'Annual Change (%)', 'HPI']]"
   ]
  },
  {
   "cell_type": "code",
   "execution_count": 76,
   "metadata": {},
   "outputs": [],
   "source": [
    "# Set zip as index\n",
    "real_estate_2019.set_index('zip', inplace=True)"
   ]
  },
  {
   "cell_type": "code",
   "execution_count": 77,
   "metadata": {},
   "outputs": [],
   "source": [
    "# Rename Annual Change(%) \n",
    "real_estate_2019.rename(columns={'Annual Change (%)': 'HPI_%_Annual_Change'}, inplace=True)"
   ]
  },
  {
   "cell_type": "code",
   "execution_count": null,
   "metadata": {},
   "outputs": [],
   "source": []
  },
  {
   "cell_type": "markdown",
   "metadata": {},
   "source": [
    "#### Edit education percents dataset"
   ]
  },
  {
   "cell_type": "code",
   "execution_count": 78,
   "metadata": {},
   "outputs": [],
   "source": [
    "# replace '-' with NaN\n",
    "education_percents = education_percents.replace({'-': np.nan})"
   ]
  },
  {
   "cell_type": "code",
   "execution_count": 79,
   "metadata": {},
   "outputs": [],
   "source": [
    "# Change all education_percents columns to floats\n",
    "for i in education_percents.columns:\n",
    "    try:\n",
    "        education_percents[i] = education_percents[i].astype(float)\n",
    "    except:\n",
    "        continue"
   ]
  },
  {
   "cell_type": "code",
   "execution_count": 80,
   "metadata": {},
   "outputs": [
    {
     "data": {
      "text/plain": [
       "['Estimate!!Percent Male!!Population 25 years and over!!Population 35 to 44 years!!High school graduate or higher',\n",
       " 'Estimate!!Percent Female!!Population 25 years and over!!Population 35 to 44 years!!High school graduate or higher',\n",
       " \"Estimate!!Percent!!Population 25 years and over!!Population 35 to 44 years!!Bachelor's degree or higher\",\n",
       " \"Estimate!!Percent Male!!Population 25 years and over!!Population 35 to 44 years!!Bachelor's degree or higher\",\n",
       " \"Estimate!!Percent Female!!Population 25 years and over!!Population 35 to 44 years!!Bachelor's degree or higher\",\n",
       " 'Estimate!!Percent!!Population 25 years and over!!Population 45 to 64 years!!High school graduate or higher',\n",
       " 'Estimate!!Percent Male!!Population 25 years and over!!Population 45 to 64 years!!High school graduate or higher',\n",
       " 'Estimate!!Percent Female!!Population 25 years and over!!Population 45 to 64 years!!High school graduate or higher',\n",
       " \"Estimate!!Percent!!Population 25 years and over!!Population 45 to 64 years!!Bachelor's degree or higher\",\n",
       " \"Estimate!!Percent Male!!Population 25 years and over!!Population 45 to 64 years!!Bachelor's degree or higher\",\n",
       " \"Estimate!!Percent Female!!Population 25 years and over!!Population 45 to 64 years!!Bachelor's degree or higher\",\n",
       " 'Estimate!!Percent!!Population 25 years and over!!Population 65 years and over!!High school graduate or higher',\n",
       " 'Estimate!!Percent Male!!Population 25 years and over!!Population 65 years and over!!High school graduate or higher',\n",
       " 'Estimate!!Percent Female!!Population 25 years and over!!Population 65 years and over!!High school graduate or higher',\n",
       " \"Estimate!!Percent!!Population 25 years and over!!Population 65 years and over!!Bachelor's degree or higher\",\n",
       " \"Estimate!!Percent Male!!Population 25 years and over!!Population 65 years and over!!Bachelor's degree or higher\",\n",
       " \"Estimate!!Percent Female!!Population 25 years and over!!Population 65 years and over!!Bachelor's degree or higher\",\n",
       " 'Estimate!!Percent!!RACE AND HISPANIC OR LATINO ORIGIN BY EDUCATIONAL ATTAINMENT!!White alone!!High school graduate or higher',\n",
       " 'Estimate!!Percent Male!!RACE AND HISPANIC OR LATINO ORIGIN BY EDUCATIONAL ATTAINMENT!!White alone!!High school graduate or higher',\n",
       " 'Estimate!!Percent Female!!RACE AND HISPANIC OR LATINO ORIGIN BY EDUCATIONAL ATTAINMENT!!White alone!!High school graduate or higher',\n",
       " \"Estimate!!Percent!!RACE AND HISPANIC OR LATINO ORIGIN BY EDUCATIONAL ATTAINMENT!!White alone!!Bachelor's degree or higher\",\n",
       " \"Estimate!!Percent Male!!RACE AND HISPANIC OR LATINO ORIGIN BY EDUCATIONAL ATTAINMENT!!White alone!!Bachelor's degree or higher\",\n",
       " \"Estimate!!Percent Female!!RACE AND HISPANIC OR LATINO ORIGIN BY EDUCATIONAL ATTAINMENT!!White alone!!Bachelor's degree or higher\",\n",
       " 'Estimate!!Percent!!RACE AND HISPANIC OR LATINO ORIGIN BY EDUCATIONAL ATTAINMENT!!White alone, not Hispanic or Latino!!High school graduate or higher',\n",
       " 'Estimate!!Percent Male!!RACE AND HISPANIC OR LATINO ORIGIN BY EDUCATIONAL ATTAINMENT!!White alone, not Hispanic or Latino!!High school graduate or higher',\n",
       " 'Estimate!!Percent Female!!RACE AND HISPANIC OR LATINO ORIGIN BY EDUCATIONAL ATTAINMENT!!White alone, not Hispanic or Latino!!High school graduate or higher',\n",
       " \"Estimate!!Percent!!RACE AND HISPANIC OR LATINO ORIGIN BY EDUCATIONAL ATTAINMENT!!White alone, not Hispanic or Latino!!Bachelor's degree or higher\",\n",
       " \"Estimate!!Percent Male!!RACE AND HISPANIC OR LATINO ORIGIN BY EDUCATIONAL ATTAINMENT!!White alone, not Hispanic or Latino!!Bachelor's degree or higher\",\n",
       " \"Estimate!!Percent Female!!RACE AND HISPANIC OR LATINO ORIGIN BY EDUCATIONAL ATTAINMENT!!White alone, not Hispanic or Latino!!Bachelor's degree or higher\",\n",
       " 'Estimate!!Percent!!RACE AND HISPANIC OR LATINO ORIGIN BY EDUCATIONAL ATTAINMENT!!Black alone!!High school graduate or higher',\n",
       " 'Estimate!!Percent Male!!RACE AND HISPANIC OR LATINO ORIGIN BY EDUCATIONAL ATTAINMENT!!Black alone!!High school graduate or higher',\n",
       " 'Estimate!!Percent Female!!RACE AND HISPANIC OR LATINO ORIGIN BY EDUCATIONAL ATTAINMENT!!Black alone!!High school graduate or higher',\n",
       " \"Estimate!!Percent!!RACE AND HISPANIC OR LATINO ORIGIN BY EDUCATIONAL ATTAINMENT!!Black alone!!Bachelor's degree or higher\",\n",
       " \"Estimate!!Percent Male!!RACE AND HISPANIC OR LATINO ORIGIN BY EDUCATIONAL ATTAINMENT!!Black alone!!Bachelor's degree or higher\",\n",
       " \"Estimate!!Percent Female!!RACE AND HISPANIC OR LATINO ORIGIN BY EDUCATIONAL ATTAINMENT!!Black alone!!Bachelor's degree or higher\",\n",
       " 'Estimate!!Percent!!RACE AND HISPANIC OR LATINO ORIGIN BY EDUCATIONAL ATTAINMENT!!American Indian or Alaska Native alone!!High school graduate or higher',\n",
       " 'Estimate!!Percent Male!!RACE AND HISPANIC OR LATINO ORIGIN BY EDUCATIONAL ATTAINMENT!!American Indian or Alaska Native alone!!High school graduate or higher',\n",
       " 'Estimate!!Percent Female!!RACE AND HISPANIC OR LATINO ORIGIN BY EDUCATIONAL ATTAINMENT!!American Indian or Alaska Native alone!!High school graduate or higher',\n",
       " \"Estimate!!Percent!!RACE AND HISPANIC OR LATINO ORIGIN BY EDUCATIONAL ATTAINMENT!!American Indian or Alaska Native alone!!Bachelor's degree or higher\",\n",
       " \"Estimate!!Percent Male!!RACE AND HISPANIC OR LATINO ORIGIN BY EDUCATIONAL ATTAINMENT!!American Indian or Alaska Native alone!!Bachelor's degree or higher\",\n",
       " \"Estimate!!Percent Female!!RACE AND HISPANIC OR LATINO ORIGIN BY EDUCATIONAL ATTAINMENT!!American Indian or Alaska Native alone!!Bachelor's degree or higher\",\n",
       " 'Estimate!!Percent!!RACE AND HISPANIC OR LATINO ORIGIN BY EDUCATIONAL ATTAINMENT!!Asian alone!!High school graduate or higher',\n",
       " 'Estimate!!Percent Male!!RACE AND HISPANIC OR LATINO ORIGIN BY EDUCATIONAL ATTAINMENT!!Asian alone!!High school graduate or higher',\n",
       " 'Estimate!!Percent Female!!RACE AND HISPANIC OR LATINO ORIGIN BY EDUCATIONAL ATTAINMENT!!Asian alone!!High school graduate or higher',\n",
       " \"Estimate!!Percent!!RACE AND HISPANIC OR LATINO ORIGIN BY EDUCATIONAL ATTAINMENT!!Asian alone!!Bachelor's degree or higher\",\n",
       " \"Estimate!!Percent Male!!RACE AND HISPANIC OR LATINO ORIGIN BY EDUCATIONAL ATTAINMENT!!Asian alone!!Bachelor's degree or higher\",\n",
       " \"Estimate!!Percent Female!!RACE AND HISPANIC OR LATINO ORIGIN BY EDUCATIONAL ATTAINMENT!!Asian alone!!Bachelor's degree or higher\",\n",
       " 'Estimate!!Percent!!RACE AND HISPANIC OR LATINO ORIGIN BY EDUCATIONAL ATTAINMENT!!Native Hawaiian and Other Pacific Islander alone!!High school graduate or higher',\n",
       " 'Estimate!!Percent Male!!RACE AND HISPANIC OR LATINO ORIGIN BY EDUCATIONAL ATTAINMENT!!Native Hawaiian and Other Pacific Islander alone!!High school graduate or higher',\n",
       " 'Estimate!!Percent Female!!RACE AND HISPANIC OR LATINO ORIGIN BY EDUCATIONAL ATTAINMENT!!Native Hawaiian and Other Pacific Islander alone!!High school graduate or higher',\n",
       " \"Estimate!!Percent!!RACE AND HISPANIC OR LATINO ORIGIN BY EDUCATIONAL ATTAINMENT!!Native Hawaiian and Other Pacific Islander alone!!Bachelor's degree or higher\",\n",
       " \"Estimate!!Percent Male!!RACE AND HISPANIC OR LATINO ORIGIN BY EDUCATIONAL ATTAINMENT!!Native Hawaiian and Other Pacific Islander alone!!Bachelor's degree or higher\",\n",
       " \"Estimate!!Percent Female!!RACE AND HISPANIC OR LATINO ORIGIN BY EDUCATIONAL ATTAINMENT!!Native Hawaiian and Other Pacific Islander alone!!Bachelor's degree or higher\",\n",
       " 'Estimate!!Percent!!RACE AND HISPANIC OR LATINO ORIGIN BY EDUCATIONAL ATTAINMENT!!Some other race alone!!High school graduate or higher',\n",
       " 'Estimate!!Percent Male!!RACE AND HISPANIC OR LATINO ORIGIN BY EDUCATIONAL ATTAINMENT!!Some other race alone!!High school graduate or higher',\n",
       " 'Estimate!!Percent Female!!RACE AND HISPANIC OR LATINO ORIGIN BY EDUCATIONAL ATTAINMENT!!Some other race alone!!High school graduate or higher',\n",
       " \"Estimate!!Percent!!RACE AND HISPANIC OR LATINO ORIGIN BY EDUCATIONAL ATTAINMENT!!Some other race alone!!Bachelor's degree or higher\",\n",
       " \"Estimate!!Percent Male!!RACE AND HISPANIC OR LATINO ORIGIN BY EDUCATIONAL ATTAINMENT!!Some other race alone!!Bachelor's degree or higher\",\n",
       " \"Estimate!!Percent Female!!RACE AND HISPANIC OR LATINO ORIGIN BY EDUCATIONAL ATTAINMENT!!Some other race alone!!Bachelor's degree or higher\",\n",
       " 'Estimate!!Percent!!RACE AND HISPANIC OR LATINO ORIGIN BY EDUCATIONAL ATTAINMENT!!Two or more races!!High school graduate or higher',\n",
       " 'Estimate!!Percent Male!!RACE AND HISPANIC OR LATINO ORIGIN BY EDUCATIONAL ATTAINMENT!!Two or more races!!High school graduate or higher',\n",
       " 'Estimate!!Percent Female!!RACE AND HISPANIC OR LATINO ORIGIN BY EDUCATIONAL ATTAINMENT!!Two or more races!!High school graduate or higher',\n",
       " \"Estimate!!Percent!!RACE AND HISPANIC OR LATINO ORIGIN BY EDUCATIONAL ATTAINMENT!!Two or more races!!Bachelor's degree or higher\",\n",
       " \"Estimate!!Percent Male!!RACE AND HISPANIC OR LATINO ORIGIN BY EDUCATIONAL ATTAINMENT!!Two or more races!!Bachelor's degree or higher\",\n",
       " \"Estimate!!Percent Female!!RACE AND HISPANIC OR LATINO ORIGIN BY EDUCATIONAL ATTAINMENT!!Two or more races!!Bachelor's degree or higher\",\n",
       " 'Estimate!!Percent!!RACE AND HISPANIC OR LATINO ORIGIN BY EDUCATIONAL ATTAINMENT!!Hispanic or Latino Origin!!High school graduate or higher',\n",
       " 'Estimate!!Percent Male!!RACE AND HISPANIC OR LATINO ORIGIN BY EDUCATIONAL ATTAINMENT!!Hispanic or Latino Origin!!High school graduate or higher',\n",
       " 'Estimate!!Percent Female!!RACE AND HISPANIC OR LATINO ORIGIN BY EDUCATIONAL ATTAINMENT!!Hispanic or Latino Origin!!High school graduate or higher',\n",
       " \"Estimate!!Percent!!RACE AND HISPANIC OR LATINO ORIGIN BY EDUCATIONAL ATTAINMENT!!Hispanic or Latino Origin!!Bachelor's degree or higher\",\n",
       " \"Estimate!!Percent Male!!RACE AND HISPANIC OR LATINO ORIGIN BY EDUCATIONAL ATTAINMENT!!Hispanic or Latino Origin!!Bachelor's degree or higher\",\n",
       " \"Estimate!!Percent Female!!RACE AND HISPANIC OR LATINO ORIGIN BY EDUCATIONAL ATTAINMENT!!Hispanic or Latino Origin!!Bachelor's degree or higher\",\n",
       " 'Estimate!!Percent!!Population 18 to 24 years!!Less than high school graduate',\n",
       " 'Estimate!!Percent Male!!Population 18 to 24 years!!Less than high school graduate',\n",
       " 'Estimate!!Percent Female!!Population 18 to 24 years!!Less than high school graduate',\n",
       " 'Estimate!!Percent!!Population 18 to 24 years!!High school graduate (includes equivalency)',\n",
       " 'Estimate!!Percent Male!!Population 18 to 24 years!!High school graduate (includes equivalency)',\n",
       " 'Estimate!!Percent Female!!Population 18 to 24 years!!High school graduate (includes equivalency)',\n",
       " \"Estimate!!Percent!!Population 18 to 24 years!!Some college or associate's degree\",\n",
       " \"Estimate!!Percent Male!!Population 18 to 24 years!!Some college or associate's degree\",\n",
       " \"Estimate!!Percent Female!!Population 18 to 24 years!!Some college or associate's degree\",\n",
       " \"Estimate!!Percent!!Population 18 to 24 years!!Bachelor's degree or higher\",\n",
       " \"Estimate!!Percent Male!!Population 18 to 24 years!!Bachelor's degree or higher\",\n",
       " \"Estimate!!Percent Female!!Population 18 to 24 years!!Bachelor's degree or higher\",\n",
       " 'Estimate!!Percent!!Population 25 years and over!!Less than 9th grade',\n",
       " 'Estimate!!Percent Male!!Population 25 years and over!!Less than 9th grade',\n",
       " 'Estimate!!Percent Female!!Population 25 years and over!!Less than 9th grade',\n",
       " 'Estimate!!Percent!!Population 25 years and over!!9th to 12th grade, no diploma',\n",
       " 'Estimate!!Percent Male!!Population 25 years and over!!9th to 12th grade, no diploma',\n",
       " 'Estimate!!Percent Female!!Population 25 years and over!!9th to 12th grade, no diploma',\n",
       " 'Estimate!!Percent!!Population 25 years and over!!High school graduate (includes equivalency)',\n",
       " 'Estimate!!Percent Male!!Population 25 years and over!!High school graduate (includes equivalency)',\n",
       " 'Estimate!!Percent Female!!Population 25 years and over!!High school graduate (includes equivalency)',\n",
       " 'Estimate!!Percent!!Population 25 years and over!!Some college, no degree',\n",
       " 'Estimate!!Percent Male!!Population 25 years and over!!Some college, no degree',\n",
       " 'Estimate!!Percent Female!!Population 25 years and over!!Some college, no degree',\n",
       " \"Estimate!!Percent!!Population 25 years and over!!Associate's degree\",\n",
       " \"Estimate!!Percent Male!!Population 25 years and over!!Associate's degree\",\n",
       " \"Estimate!!Percent Female!!Population 25 years and over!!Associate's degree\",\n",
       " \"Estimate!!Percent!!Population 25 years and over!!Bachelor's degree\",\n",
       " \"Estimate!!Percent Male!!Population 25 years and over!!Bachelor's degree\",\n",
       " \"Estimate!!Percent Female!!Population 25 years and over!!Bachelor's degree\",\n",
       " 'Estimate!!Percent!!Population 25 years and over!!Graduate or professional degree',\n",
       " 'Estimate!!Percent Male!!Population 25 years and over!!Graduate or professional degree',\n",
       " 'Estimate!!Percent Female!!Population 25 years and over!!Graduate or professional degree',\n",
       " 'Estimate!!Percent!!Population 25 years and over!!High school graduate or higher',\n",
       " 'Estimate!!Percent Male!!Population 25 years and over!!High school graduate or higher',\n",
       " 'Estimate!!Percent Female!!Population 25 years and over!!High school graduate or higher',\n",
       " \"Estimate!!Percent!!Population 25 years and over!!Bachelor's degree or higher\",\n",
       " \"Estimate!!Percent Male!!Population 25 years and over!!Bachelor's degree or higher\",\n",
       " \"Estimate!!Percent Female!!Population 25 years and over!!Bachelor's degree or higher\",\n",
       " 'Estimate!!Percent!!Population 25 years and over!!Population 25 to 34 years!!High school graduate or higher',\n",
       " 'Estimate!!Percent Male!!Population 25 years and over!!Population 25 to 34 years!!High school graduate or higher',\n",
       " 'Estimate!!Percent Female!!Population 25 years and over!!Population 25 to 34 years!!High school graduate or higher',\n",
       " \"Estimate!!Percent!!Population 25 years and over!!Population 25 to 34 years!!Bachelor's degree or higher\",\n",
       " \"Estimate!!Percent Male!!Population 25 years and over!!Population 25 to 34 years!!Bachelor's degree or higher\",\n",
       " \"Estimate!!Percent Female!!Population 25 years and over!!Population 25 to 34 years!!Bachelor's degree or higher\",\n",
       " 'Estimate!!Percent!!Population 25 years and over!!Population 35 to 44 years!!High school graduate or higher']"
      ]
     },
     "execution_count": 80,
     "metadata": {},
     "output_type": "execute_result"
    }
   ],
   "source": [
    "list(education_percents.columns)"
   ]
  },
  {
   "cell_type": "code",
   "execution_count": 81,
   "metadata": {},
   "outputs": [],
   "source": [
    "education_percents = education_percents[[\"Estimate!!Percent!!Population 25 years and over!!Bachelor's degree\", \n",
    "                                         \"Estimate!!Percent!!Population 25 years and over!!Graduate or professional degree\", \n",
    "                                         \"Estimate!!Percent!!Population 25 years and over!!High school graduate or higher\", \n",
    "                                         \"Estimate!!Percent!!Population 25 years and over!!Some college, no degree\", \n",
    "                                         \"Estimate!!Percent Male!!Population 25 years and over!!Bachelor's degree\", \n",
    "                                         \"Estimate!!Percent Female!!Population 25 years and over!!Bachelor's degree\", \n",
    "                                         \"Estimate!!Percent Male!!Population 25 years and over!!Graduate or professional degree\", \n",
    "                                         \"Estimate!!Percent Female!!Population 25 years and over!!Graduate or professional degree\", \n",
    "                                         \"Estimate!!Percent Male!!Population 25 years and over!!High school graduate or higher\", \n",
    "                                         \"Estimate!!Percent Female!!Population 25 years and over!!High school graduate or higher\"]]"
   ]
  },
  {
   "cell_type": "code",
   "execution_count": 82,
   "metadata": {},
   "outputs": [
    {
     "name": "stdout",
     "output_type": "stream",
     "text": [
      "<class 'pandas.core.frame.DataFrame'>\n",
      "Index: 33120 entries, 00601 to 99929\n",
      "Data columns (total 10 columns):\n",
      " #   Column                                                                                   Non-Null Count  Dtype  \n",
      "---  ------                                                                                   --------------  -----  \n",
      " 0   Estimate!!Percent!!Population 25 years and over!!Bachelor's degree                       32763 non-null  float64\n",
      " 1   Estimate!!Percent!!Population 25 years and over!!Graduate or professional degree         32763 non-null  float64\n",
      " 2   Estimate!!Percent!!Population 25 years and over!!High school graduate or higher          32763 non-null  float64\n",
      " 3   Estimate!!Percent!!Population 25 years and over!!Some college, no degree                 32763 non-null  float64\n",
      " 4   Estimate!!Percent Male!!Population 25 years and over!!Bachelor's degree                  32664 non-null  float64\n",
      " 5   Estimate!!Percent Female!!Population 25 years and over!!Bachelor's degree                32609 non-null  float64\n",
      " 6   Estimate!!Percent Male!!Population 25 years and over!!Graduate or professional degree    32664 non-null  float64\n",
      " 7   Estimate!!Percent Female!!Population 25 years and over!!Graduate or professional degree  32609 non-null  float64\n",
      " 8   Estimate!!Percent Male!!Population 25 years and over!!High school graduate or higher     32664 non-null  float64\n",
      " 9   Estimate!!Percent Female!!Population 25 years and over!!High school graduate or higher   32609 non-null  float64\n",
      "dtypes: float64(10)\n",
      "memory usage: 2.8+ MB\n"
     ]
    }
   ],
   "source": [
    "education_percents.info(verbose=True)"
   ]
  },
  {
   "cell_type": "markdown",
   "metadata": {},
   "source": [
    "#### Edit employment percents dataset"
   ]
  },
  {
   "cell_type": "code",
   "execution_count": 83,
   "metadata": {},
   "outputs": [],
   "source": [
    "employment_percents = employment_percents.replace({'-': np.nan})"
   ]
  },
  {
   "cell_type": "code",
   "execution_count": 84,
   "metadata": {},
   "outputs": [],
   "source": [
    "# Change all employment_percent columns to floats\n",
    "for i in employment_percents.columns:\n",
    "    try:\n",
    "        employment_percents[i] = employment_percents[i].astype(float)\n",
    "    except:\n",
    "        continue"
   ]
  },
  {
   "cell_type": "code",
   "execution_count": 85,
   "metadata": {},
   "outputs": [],
   "source": [
    "employment_percents.rename(columns={'Estimate!!Percent Families with own children under 18 years!!Families' : 'Percent_Families_With_Children'}, inplace=True)\n"
   ]
  },
  {
   "cell_type": "code",
   "execution_count": 86,
   "metadata": {},
   "outputs": [],
   "source": [
    "employment_percents['Percent_Families_With_Children'] = employment_percents['Percent_Families_With_Children']/employment_percents['Estimate!!Percent!!Families']*100"
   ]
  },
  {
   "cell_type": "code",
   "execution_count": 87,
   "metadata": {},
   "outputs": [],
   "source": [
    "employment_percents = employment_percents[['Percent_Families_With_Children','Estimate!!Percent!!Families!!EMPLOYMENT STATUS CHARACTERISTICS!!Married-couple families!!Husband in labor force, wife not in labor force', \n",
    "'Estimate!!Percent Families with own children under 18 years!!Families!!EMPLOYMENT STATUS CHARACTERISTICS!!Married-couple families!!Husband in labor force, wife not in labor force', \n",
    "'Estimate!!Percent!!Families!!EMPLOYMENT STATUS CHARACTERISTICS!!Married-couple families!!Wife in labor force, husband not in labor force', \n",
    "'Estimate!!Percent Families with own children under 18 years!!Families!!EMPLOYMENT STATUS CHARACTERISTICS!!Married-couple families!!Wife in labor force, husband not in labor force', \n",
    "'Estimate!!Percent!!Families!!EMPLOYMENT STATUS CHARACTERISTICS!!Married-couple families!!Both husband and wife not in labor force',\n",
    "'Estimate!!Percent Families with own children under 18 years!!Families!!EMPLOYMENT STATUS CHARACTERISTICS!!Married-couple families!!Both husband and wife not in labor force',\n",
    "'Estimate!!Percent!!Families!!EMPLOYMENT STATUS CHARACTERISTICS!!Other families', 'Estimate!!Percent Families with own children under 18 years!!Families!!EMPLOYMENT STATUS CHARACTERISTICS!!Other families',\n",
    "'Estimate!!Percent!!Families!!EMPLOYMENT STATUS CHARACTERISTICS!!Other families!!Female householder, no husband present', \n",
    "'Estimate!!Percent Families with own children under 18 years!!Families!!EMPLOYMENT STATUS CHARACTERISTICS!!Other families!!Female householder, no husband present',\n",
    "'Estimate!!Percent!!Families!!EMPLOYMENT STATUS CHARACTERISTICS!!Other families!!Female householder, no husband present!!In labor force', \n",
    "'Estimate!!Percent Families with own children under 18 years!!Families!!EMPLOYMENT STATUS CHARACTERISTICS!!Other families!!Female householder, no husband present!!In labor force', \n",
    "'Estimate!!Percent!!Families!!EMPLOYMENT STATUS CHARACTERISTICS!!Other families!!Male householder, no wife present',  \n",
    "'Estimate!!Percent Families with own children under 18 years!!Families!!EMPLOYMENT STATUS CHARACTERISTICS!!Other families!!Male householder, no wife present', \n",
    "'Estimate!!Percent!!Families!!EMPLOYMENT STATUS CHARACTERISTICS!!Other families!!Male householder, no wife present!!In labor force', \n",
    "'Estimate!!Percent Families with own children under 18 years!!Families!!EMPLOYMENT STATUS CHARACTERISTICS!!Other families!!Male householder, no wife present!!In labor force', \n",
    "'Estimate!!Percent!!Families!!EMPLOYMENT STATUS CHARACTERISTICS!!Other families!!Male householder, no wife present!!Not in labor force', \n",
    "'Estimate!!Percent!!WORK STATUS CHARACTERISTICS!!Families!!1 worker in the past 12 months', \n",
    "'Estimate!!Percent!!WORK STATUS CHARACTERISTICS!!Families!!2 or more workers in the past 12 months',\n",
    "'Estimate!!Percent Families with own children under 18 years!!WORK STATUS CHARACTERISTICS!!Families!!No workers in the past 12 months', \n",
    "'Estimate!!Percent Families with own children under 18 years!!WORK STATUS CHARACTERISTICS!!Families!!1 worker in the past 12 months', \n",
    "'Estimate!!Percent!!WORK STATUS CHARACTERISTICS!!Families!!No workers in the past 12 months']]\n"
   ]
  },
  {
   "cell_type": "markdown",
   "metadata": {},
   "source": [
    "#### Edit veteran percents dataset"
   ]
  },
  {
   "cell_type": "code",
   "execution_count": 88,
   "metadata": {},
   "outputs": [],
   "source": [
    "veteran_percents = veteran_percents.replace({'-': np.nan})"
   ]
  },
  {
   "cell_type": "code",
   "execution_count": 89,
   "metadata": {},
   "outputs": [],
   "source": [
    "# Change all veteran_percent columns to floats\n",
    "for i in veteran_percents.columns:\n",
    "    try:\n",
    "        veteran_percents[i] = veteran_percents[i].astype(float)\n",
    "    except:\n",
    "        continue"
   ]
  },
  {
   "cell_type": "code",
   "execution_count": 90,
   "metadata": {},
   "outputs": [],
   "source": [
    "veteran_percents.rename(columns = {'Estimate!!Percent Veterans!!Civilian population 18 years and over' : 'Percent_Veterans'}, inplace=True)"
   ]
  },
  {
   "cell_type": "code",
   "execution_count": 91,
   "metadata": {},
   "outputs": [],
   "source": [
    "veteran_percents = veteran_percents[['Percent_Veterans']]"
   ]
  },
  {
   "cell_type": "markdown",
   "metadata": {},
   "source": [
    "#### Edit marital percents dataset\n"
   ]
  },
  {
   "cell_type": "code",
   "execution_count": 92,
   "metadata": {},
   "outputs": [],
   "source": [
    "marital_percents = marital_percents.replace({'-': np.nan})"
   ]
  },
  {
   "cell_type": "code",
   "execution_count": 93,
   "metadata": {},
   "outputs": [],
   "source": [
    "# Change all marital_percent columns to floats\n",
    "for i in marital_percents.columns:\n",
    "    try:\n",
    "        marital_percents[i] = marital_percents[i].astype(float)\n",
    "    except:\n",
    "        continue"
   ]
  },
  {
   "cell_type": "markdown",
   "metadata": {},
   "source": [
    "####  Edit financial char percents dataset"
   ]
  },
  {
   "cell_type": "code",
   "execution_count": 94,
   "metadata": {},
   "outputs": [],
   "source": [
    "financial_char_percents = financial_char_percents.replace({'-': np.nan})"
   ]
  },
  {
   "cell_type": "code",
   "execution_count": 95,
   "metadata": {},
   "outputs": [],
   "source": [
    "# Change all financial_char_percent columns to floats\n",
    "for i in financial_char_percents.columns:\n",
    "    try:\n",
    "        financial_char_percents[i] = financial_char_percents[i].astype(float)\n",
    "    except:\n",
    "        continue"
   ]
  },
  {
   "cell_type": "code",
   "execution_count": 96,
   "metadata": {},
   "outputs": [],
   "source": [
    "financial_char.rename(columns = {'Estimate!!Percent owner-occupied housing units!!Occupied housing units': 'Percent_Owner_Occupied'}, inplace=True)"
   ]
  },
  {
   "cell_type": "code",
   "execution_count": 97,
   "metadata": {},
   "outputs": [],
   "source": [
    "financial_char.rename(columns = {'Estimate!!Percent occupied housing units!!Occupied housing units!!HOUSEHOLD INCOME IN THE PAST 12 MONTHS (IN 2018 INFLATION-ADJUSTED DOLLARS)!!Median household income (dollars)' : 'Median_HH_Income'}, inplace=True)"
   ]
  },
  {
   "cell_type": "code",
   "execution_count": 98,
   "metadata": {},
   "outputs": [],
   "source": [
    "financial_char.rename(columns = {'Estimate!!Percent owner-occupied housing units!!Occupied housing units!!HOUSEHOLD INCOME IN THE PAST 12 MONTHS (IN 2018 INFLATION-ADJUSTED DOLLARS)!!Median household income (dollars)' : 'Median_Owner_HH_Income'}, inplace=True)"
   ]
  },
  {
   "cell_type": "code",
   "execution_count": 99,
   "metadata": {},
   "outputs": [],
   "source": [
    "financial_char.rename(columns = { 'Estimate!!Percent renter-occupied housing units!!Occupied housing units!!HOUSEHOLD INCOME IN THE PAST 12 MONTHS (IN 2018 INFLATION-ADJUSTED DOLLARS)!!Median household income (dollars)' : 'Median_Renter_HH_Income'}, inplace=True)"
   ]
  },
  {
   "cell_type": "code",
   "execution_count": 100,
   "metadata": {},
   "outputs": [],
   "source": [
    "financial_percents = financial_char[['Percent_Owner_Occupied', 'Median_HH_Income', 'Median_Owner_HH_Income', 'Median_Renter_HH_Income']]"
   ]
  },
  {
   "cell_type": "code",
   "execution_count": 101,
   "metadata": {},
   "outputs": [
    {
     "name": "stderr",
     "output_type": "stream",
     "text": [
      "/opt/anaconda3/lib/python3.7/site-packages/ipykernel_launcher.py:1: SettingWithCopyWarning: \n",
      "A value is trying to be set on a copy of a slice from a DataFrame.\n",
      "Try using .loc[row_indexer,col_indexer] = value instead\n",
      "\n",
      "See the caveats in the documentation: https://pandas.pydata.org/pandas-docs/stable/user_guide/indexing.html#returning-a-view-versus-a-copy\n",
      "  \"\"\"Entry point for launching an IPython kernel.\n"
     ]
    }
   ],
   "source": [
    "financial_percents['Percent_Owner_Occupied'] = financial_percents['Percent_Owner_Occupied']*100"
   ]
  },
  {
   "cell_type": "markdown",
   "metadata": {},
   "source": [
    "#### Edit language percents dataset"
   ]
  },
  {
   "cell_type": "code",
   "execution_count": 126,
   "metadata": {},
   "outputs": [
    {
     "data": {
      "text/html": [
       "<div>\n",
       "<style scoped>\n",
       "    .dataframe tbody tr th:only-of-type {\n",
       "        vertical-align: middle;\n",
       "    }\n",
       "\n",
       "    .dataframe tbody tr th {\n",
       "        vertical-align: top;\n",
       "    }\n",
       "\n",
       "    .dataframe thead th {\n",
       "        text-align: right;\n",
       "    }\n",
       "</style>\n",
       "<table border=\"1\" class=\"dataframe\">\n",
       "  <thead>\n",
       "    <tr style=\"text-align: right;\">\n",
       "      <th></th>\n",
       "      <th>Estimate!!Percent of specified language speakers!!Speak English only or speak English very well\"!!Population 5 years and over\"</th>\n",
       "      <th>Estimate!!Percent of specified language speakers!!Percent speak English only or speak English very well\"!!Population 5 years and over\"</th>\n",
       "      <th>Estimate!!Percent of specified language speakers!!Speak English less than very well\"!!Population 5 years and over\"</th>\n",
       "      <th>Estimate!!Percent of specified language speakers!!Percent speak English less than very well\"!!Population 5 years and over\"</th>\n",
       "      <th>Estimate!!Percent!!Population 5 years and over!!Speak only English</th>\n",
       "      <th>Estimate!!Percent!!Population 5 years and over!!Speak a language other than English</th>\n",
       "      <th>Estimate!!Percent of specified language speakers!!Speak English only or speak English very well\"!!Population 5 years and over!!Speak a language other than English\"</th>\n",
       "      <th>Estimate!!Percent of specified language speakers!!Percent speak English only or speak English very well\"!!Population 5 years and over!!Speak a language other than English\"</th>\n",
       "      <th>Estimate!!Percent of specified language speakers!!Speak English less than very well\"!!Population 5 years and over!!Speak a language other than English\"</th>\n",
       "      <th>Estimate!!Percent of specified language speakers!!Percent speak English less than very well\"!!Population 5 years and over!!Speak a language other than English\"</th>\n",
       "      <th>...</th>\n",
       "      <th>Estimate!!Percent!!Population 5 years and over!!All citizens 18 years old and over!!Speak a language other than English!!Spanish</th>\n",
       "      <th>Estimate!!Percent of specified language speakers!!Speak English only or speak English very well\"!!Population 5 years and over!!All citizens 18 years old and over!!Speak a language other than English!!Spanish\"</th>\n",
       "      <th>Estimate!!Percent of specified language speakers!!Percent speak English only or speak English very well\"!!Population 5 years and over!!All citizens 18 years old and over!!Speak a language other than English!!Spanish\"</th>\n",
       "      <th>Estimate!!Percent of specified language speakers!!Speak English less than very well\"!!Population 5 years and over!!All citizens 18 years old and over!!Speak a language other than English!!Spanish\"</th>\n",
       "      <th>Estimate!!Percent of specified language speakers!!Percent speak English less than very well\"!!Population 5 years and over!!All citizens 18 years old and over!!Speak a language other than English!!Spanish\"</th>\n",
       "      <th>Estimate!!Percent!!Population 5 years and over!!All citizens 18 years old and over!!Speak a language other than English!!Other languages</th>\n",
       "      <th>Estimate!!Percent of specified language speakers!!Speak English only or speak English very well\"!!Population 5 years and over!!All citizens 18 years old and over!!Speak a language other than English!!Other languages\"</th>\n",
       "      <th>Estimate!!Percent of specified language speakers!!Percent speak English only or speak English very well\"!!Population 5 years and over!!All citizens 18 years old and over!!Speak a language other than English!!Other languages\"</th>\n",
       "      <th>Estimate!!Percent of specified language speakers!!Speak English less than very well\"!!Population 5 years and over!!All citizens 18 years old and over!!Speak a language other than English!!Other languages\"</th>\n",
       "      <th>Estimate!!Percent of specified language speakers!!Percent speak English less than very well\"!!Population 5 years and over!!All citizens 18 years old and over!!Speak a language other than English!!Other languages\"</th>\n",
       "    </tr>\n",
       "    <tr>\n",
       "      <th>zip</th>\n",
       "      <th></th>\n",
       "      <th></th>\n",
       "      <th></th>\n",
       "      <th></th>\n",
       "      <th></th>\n",
       "      <th></th>\n",
       "      <th></th>\n",
       "      <th></th>\n",
       "      <th></th>\n",
       "      <th></th>\n",
       "      <th></th>\n",
       "      <th></th>\n",
       "      <th></th>\n",
       "      <th></th>\n",
       "      <th></th>\n",
       "      <th></th>\n",
       "      <th></th>\n",
       "      <th></th>\n",
       "      <th></th>\n",
       "      <th></th>\n",
       "      <th></th>\n",
       "    </tr>\n",
       "  </thead>\n",
       "  <tbody>\n",
       "    <tr>\n",
       "      <th>00601</th>\n",
       "      <td>2236</td>\n",
       "      <td>13.7</td>\n",
       "      <td>14138</td>\n",
       "      <td>86.3</td>\n",
       "      <td>5.3</td>\n",
       "      <td>94.7</td>\n",
       "      <td>1363</td>\n",
       "      <td>8.8</td>\n",
       "      <td>14138</td>\n",
       "      <td>91.2</td>\n",
       "      <td>...</td>\n",
       "      <td>94.4</td>\n",
       "      <td>1158</td>\n",
       "      <td>9.1</td>\n",
       "      <td>11529</td>\n",
       "      <td>90.9</td>\n",
       "      <td>0.0</td>\n",
       "      <td>0</td>\n",
       "      <td>-</td>\n",
       "      <td>0</td>\n",
       "      <td>-</td>\n",
       "    </tr>\n",
       "  </tbody>\n",
       "</table>\n",
       "<p>1 rows × 110 columns</p>\n",
       "</div>"
      ],
      "text/plain": [
       "       Estimate!!Percent of specified language speakers!!Speak English only or speak English very well\"!!Population 5 years and over\"  \\\n",
       "zip                                                                                                                                     \n",
       "00601                                               2236                                                                                \n",
       "\n",
       "      Estimate!!Percent of specified language speakers!!Percent speak English only or speak English very well\"!!Population 5 years and over\"  \\\n",
       "zip                                                                                                                                            \n",
       "00601                                               13.7                                                                                       \n",
       "\n",
       "       Estimate!!Percent of specified language speakers!!Speak English less than very well\"!!Population 5 years and over\"  \\\n",
       "zip                                                                                                                         \n",
       "00601                                              14138                                                                    \n",
       "\n",
       "      Estimate!!Percent of specified language speakers!!Percent speak English less than very well\"!!Population 5 years and over\"  \\\n",
       "zip                                                                                                                                \n",
       "00601                                               86.3                                                                           \n",
       "\n",
       "      Estimate!!Percent!!Population 5 years and over!!Speak only English  \\\n",
       "zip                                                                        \n",
       "00601                                                5.3                   \n",
       "\n",
       "      Estimate!!Percent!!Population 5 years and over!!Speak a language other than English  \\\n",
       "zip                                                                                         \n",
       "00601                                               94.7                                    \n",
       "\n",
       "       Estimate!!Percent of specified language speakers!!Speak English only or speak English very well\"!!Population 5 years and over!!Speak a language other than English\"  \\\n",
       "zip                                                                                                                                                                          \n",
       "00601                                               1363                                                                                                                     \n",
       "\n",
       "      Estimate!!Percent of specified language speakers!!Percent speak English only or speak English very well\"!!Population 5 years and over!!Speak a language other than English\"  \\\n",
       "zip                                                                                                                                                                                 \n",
       "00601                                                8.8                                                                                                                            \n",
       "\n",
       "       Estimate!!Percent of specified language speakers!!Speak English less than very well\"!!Population 5 years and over!!Speak a language other than English\"  \\\n",
       "zip                                                                                                                                                              \n",
       "00601                                              14138                                                                                                         \n",
       "\n",
       "      Estimate!!Percent of specified language speakers!!Percent speak English less than very well\"!!Population 5 years and over!!Speak a language other than English\"  \\\n",
       "zip                                                                                                                                                                     \n",
       "00601                                               91.2                                                                                                                \n",
       "\n",
       "       ...  \\\n",
       "zip    ...   \n",
       "00601  ...   \n",
       "\n",
       "      Estimate!!Percent!!Population 5 years and over!!All citizens 18 years old and over!!Speak a language other than English!!Spanish  \\\n",
       "zip                                                                                                                                      \n",
       "00601                                               94.4                                                                                 \n",
       "\n",
       "       Estimate!!Percent of specified language speakers!!Speak English only or speak English very well\"!!Population 5 years and over!!All citizens 18 years old and over!!Speak a language other than English!!Spanish\"  \\\n",
       "zip                                                                                                                                                                                                                       \n",
       "00601                                               1158                                                                                                                                                                  \n",
       "\n",
       "      Estimate!!Percent of specified language speakers!!Percent speak English only or speak English very well\"!!Population 5 years and over!!All citizens 18 years old and over!!Speak a language other than English!!Spanish\"  \\\n",
       "zip                                                                                                                                                                                                                              \n",
       "00601                                                9.1                                                                                                                                                                         \n",
       "\n",
       "       Estimate!!Percent of specified language speakers!!Speak English less than very well\"!!Population 5 years and over!!All citizens 18 years old and over!!Speak a language other than English!!Spanish\"  \\\n",
       "zip                                                                                                                                                                                                           \n",
       "00601                                              11529                                                                                                                                                      \n",
       "\n",
       "      Estimate!!Percent of specified language speakers!!Percent speak English less than very well\"!!Population 5 years and over!!All citizens 18 years old and over!!Speak a language other than English!!Spanish\"  \\\n",
       "zip                                                                                                                                                                                                                  \n",
       "00601                                               90.9                                                                                                                                                             \n",
       "\n",
       "      Estimate!!Percent!!Population 5 years and over!!All citizens 18 years old and over!!Speak a language other than English!!Other languages  \\\n",
       "zip                                                                                                                                              \n",
       "00601                                                0.0                                                                                         \n",
       "\n",
       "       Estimate!!Percent of specified language speakers!!Speak English only or speak English very well\"!!Population 5 years and over!!All citizens 18 years old and over!!Speak a language other than English!!Other languages\"  \\\n",
       "zip                                                                                                                                                                                                                               \n",
       "00601                                                  0                                                                                                                                                                          \n",
       "\n",
       "      Estimate!!Percent of specified language speakers!!Percent speak English only or speak English very well\"!!Population 5 years and over!!All citizens 18 years old and over!!Speak a language other than English!!Other languages\"  \\\n",
       "zip                                                                                                                                                                                                                                      \n",
       "00601                                                  -                                                                                                                                                                                 \n",
       "\n",
       "       Estimate!!Percent of specified language speakers!!Speak English less than very well\"!!Population 5 years and over!!All citizens 18 years old and over!!Speak a language other than English!!Other languages\"  \\\n",
       "zip                                                                                                                                                                                                                   \n",
       "00601                                                  0                                                                                                                                                              \n",
       "\n",
       "      Estimate!!Percent of specified language speakers!!Percent speak English less than very well\"!!Population 5 years and over!!All citizens 18 years old and over!!Speak a language other than English!!Other languages\"  \n",
       "zip                                                                                                                                                                                                                         \n",
       "00601                                                  -                                                                                                                                                                    \n",
       "\n",
       "[1 rows x 110 columns]"
      ]
     },
     "execution_count": 126,
     "metadata": {},
     "output_type": "execute_result"
    }
   ],
   "source": [
    "language_percents.head(1)"
   ]
  },
  {
   "cell_type": "code",
   "execution_count": 127,
   "metadata": {
    "scrolled": true
   },
   "outputs": [
    {
     "name": "stderr",
     "output_type": "stream",
     "text": [
      "/opt/anaconda3/lib/python3.7/site-packages/pandas/core/frame.py:4133: SettingWithCopyWarning: \n",
      "A value is trying to be set on a copy of a slice from a DataFrame\n",
      "\n",
      "See the caveats in the documentation: https://pandas.pydata.org/pandas-docs/stable/user_guide/indexing.html#returning-a-view-versus-a-copy\n",
      "  errors=errors,\n"
     ]
    }
   ],
   "source": [
    "\n",
    "language_percents.rename(columns = {'Estimate!!Percent!!Population 5 years and over!!All citizens 18 years old and over!!Speak a language other than English!!Spanish' : \"Speaks_Spanish\"}, inplace=True)"
   ]
  },
  {
   "cell_type": "code",
   "execution_count": 128,
   "metadata": {},
   "outputs": [],
   "source": [
    "language_percents.rename(columns = {'Estimate!!Percent!!Population 5 years and over!!Speak only English' : \"Speak_Only_English\"}, inplace=True)\n"
   ]
  },
  {
   "cell_type": "code",
   "execution_count": 129,
   "metadata": {},
   "outputs": [],
   "source": [
    "language_percents.rename(columns = {'Estimate!!Percent!!Population 5 years and over!!Speak a language other than English' : \"Speaks_Other_Language\"}, inplace=True)"
   ]
  },
  {
   "cell_type": "code",
   "execution_count": 130,
   "metadata": {},
   "outputs": [],
   "source": [
    "language_percents.rename(columns = {'Estimate!!Percent of specified language speakers!!Percent speak English less than very well\"!!Population 5 years and over\"' : \"Poor_English_Speaking\"}, inplace=True)"
   ]
  },
  {
   "cell_type": "code",
   "execution_count": 131,
   "metadata": {},
   "outputs": [
    {
     "name": "stdout",
     "output_type": "stream",
     "text": [
      "<class 'pandas.core.frame.DataFrame'>\n",
      "Index: 33120 entries, 00601 to 99929\n",
      "Data columns (total 110 columns):\n",
      " #   Column                                                                                                                                                                                                                                  Dtype \n",
      "---  ------                                                                                                                                                                                                                                  ----- \n",
      " 0   Estimate!!Percent of specified language speakers!!Speak English only or speak English very well\"!!Population 5 years and over\"                                                                                                          int64 \n",
      " 1   Estimate!!Percent of specified language speakers!!Percent speak English only or speak English very well\"!!Population 5 years and over\"                                                                                                  object\n",
      " 2   Estimate!!Percent of specified language speakers!!Speak English less than very well\"!!Population 5 years and over\"                                                                                                                      int64 \n",
      " 3   Poor_English_Speaking                                                                                                                                                                                                                   object\n",
      " 4   Speak_Only_English                                                                                                                                                                                                                      object\n",
      " 5   Speaks_Other_Language                                                                                                                                                                                                                   object\n",
      " 6   Estimate!!Percent of specified language speakers!!Speak English only or speak English very well\"!!Population 5 years and over!!Speak a language other than English\"                                                                     int64 \n",
      " 7   Estimate!!Percent of specified language speakers!!Percent speak English only or speak English very well\"!!Population 5 years and over!!Speak a language other than English\"                                                             object\n",
      " 8   Estimate!!Percent of specified language speakers!!Speak English less than very well\"!!Population 5 years and over!!Speak a language other than English\"                                                                                 int64 \n",
      " 9   Estimate!!Percent of specified language speakers!!Percent speak English less than very well\"!!Population 5 years and over!!Speak a language other than English\"                                                                         object\n",
      " 10  Estimate!!Percent!!Population 5 years and over!!SPEAK A LANGUAGE OTHER THAN ENGLISH!!Spanish                                                                                                                                            object\n",
      " 11  Estimate!!Percent of specified language speakers!!Speak English only or speak English very well\"!!Population 5 years and over!!SPEAK A LANGUAGE OTHER THAN ENGLISH!!Spanish\"                                                            int64 \n",
      " 12  Estimate!!Percent of specified language speakers!!Percent speak English only or speak English very well\"!!Population 5 years and over!!SPEAK A LANGUAGE OTHER THAN ENGLISH!!Spanish\"                                                    object\n",
      " 13  Estimate!!Percent of specified language speakers!!Speak English less than very well\"!!Population 5 years and over!!SPEAK A LANGUAGE OTHER THAN ENGLISH!!Spanish\"                                                                        int64 \n",
      " 14  Estimate!!Percent of specified language speakers!!Percent speak English less than very well\"!!Population 5 years and over!!SPEAK A LANGUAGE OTHER THAN ENGLISH!!Spanish\"                                                                object\n",
      " 15  Estimate!!Percent!!Population 5 years and over!!SPEAK A LANGUAGE OTHER THAN ENGLISH!!Spanish!!5 to 17 years old                                                                                                                         object\n",
      " 16  Estimate!!Percent of specified language speakers!!Speak English only or speak English very well\"!!Population 5 years and over!!SPEAK A LANGUAGE OTHER THAN ENGLISH!!Spanish!!5 to 17 years old\"                                         int64 \n",
      " 17  Estimate!!Percent of specified language speakers!!Percent speak English only or speak English very well\"!!Population 5 years and over!!SPEAK A LANGUAGE OTHER THAN ENGLISH!!Spanish!!5 to 17 years old\"                                 object\n",
      " 18  Estimate!!Percent of specified language speakers!!Speak English less than very well\"!!Population 5 years and over!!SPEAK A LANGUAGE OTHER THAN ENGLISH!!Spanish!!5 to 17 years old\"                                                     int64 \n",
      " 19  Estimate!!Percent of specified language speakers!!Percent speak English less than very well\"!!Population 5 years and over!!SPEAK A LANGUAGE OTHER THAN ENGLISH!!Spanish!!5 to 17 years old\"                                             object\n",
      " 20  Estimate!!Percent!!Population 5 years and over!!SPEAK A LANGUAGE OTHER THAN ENGLISH!!Spanish!!18 to 64 years old                                                                                                                        object\n",
      " 21  Estimate!!Percent of specified language speakers!!Speak English only or speak English very well\"!!Population 5 years and over!!SPEAK A LANGUAGE OTHER THAN ENGLISH!!Spanish!!18 to 64 years old\"                                        int64 \n",
      " 22  Estimate!!Percent of specified language speakers!!Percent speak English only or speak English very well\"!!Population 5 years and over!!SPEAK A LANGUAGE OTHER THAN ENGLISH!!Spanish!!18 to 64 years old\"                                object\n",
      " 23  Estimate!!Percent of specified language speakers!!Speak English less than very well\"!!Population 5 years and over!!SPEAK A LANGUAGE OTHER THAN ENGLISH!!Spanish!!18 to 64 years old\"                                                    int64 \n",
      " 24  Estimate!!Percent of specified language speakers!!Percent speak English less than very well\"!!Population 5 years and over!!SPEAK A LANGUAGE OTHER THAN ENGLISH!!Spanish!!18 to 64 years old\"                                            object\n",
      " 25  Estimate!!Percent!!Population 5 years and over!!SPEAK A LANGUAGE OTHER THAN ENGLISH!!Spanish!!65 years old and over                                                                                                                     object\n",
      " 26  Estimate!!Percent of specified language speakers!!Speak English only or speak English very well\"!!Population 5 years and over!!SPEAK A LANGUAGE OTHER THAN ENGLISH!!Spanish!!65 years old and over\"                                     int64 \n",
      " 27  Estimate!!Percent of specified language speakers!!Percent speak English only or speak English very well\"!!Population 5 years and over!!SPEAK A LANGUAGE OTHER THAN ENGLISH!!Spanish!!65 years old and over\"                             object\n",
      " 28  Estimate!!Percent of specified language speakers!!Speak English less than very well\"!!Population 5 years and over!!SPEAK A LANGUAGE OTHER THAN ENGLISH!!Spanish!!65 years old and over\"                                                 int64 \n",
      " 29  Estimate!!Percent of specified language speakers!!Percent speak English less than very well\"!!Population 5 years and over!!SPEAK A LANGUAGE OTHER THAN ENGLISH!!Spanish!!65 years old and over\"                                         object\n",
      " 30  Estimate!!Percent!!Population 5 years and over!!SPEAK A LANGUAGE OTHER THAN ENGLISH!!Other Indo-European languages                                                                                                                      object\n",
      " 31  Estimate!!Percent of specified language speakers!!Speak English only or speak English very well\"!!Population 5 years and over!!SPEAK A LANGUAGE OTHER THAN ENGLISH!!Other Indo-European languages\"                                      int64 \n",
      " 32  Estimate!!Percent of specified language speakers!!Percent speak English only or speak English very well\"!!Population 5 years and over!!SPEAK A LANGUAGE OTHER THAN ENGLISH!!Other Indo-European languages\"                              object\n",
      " 33  Estimate!!Percent of specified language speakers!!Speak English less than very well\"!!Population 5 years and over!!SPEAK A LANGUAGE OTHER THAN ENGLISH!!Other Indo-European languages\"                                                  int64 \n",
      " 34  Estimate!!Percent of specified language speakers!!Percent speak English less than very well\"!!Population 5 years and over!!SPEAK A LANGUAGE OTHER THAN ENGLISH!!Other Indo-European languages\"                                          object\n",
      " 35  Estimate!!Percent!!Population 5 years and over!!SPEAK A LANGUAGE OTHER THAN ENGLISH!!Other Indo-European languages!!5 to 17 years old                                                                                                   object\n",
      " 36  Estimate!!Percent of specified language speakers!!Speak English only or speak English very well\"!!Population 5 years and over!!SPEAK A LANGUAGE OTHER THAN ENGLISH!!Other Indo-European languages!!5 to 17 years old\"                   int64 \n",
      " 37  Estimate!!Percent of specified language speakers!!Percent speak English only or speak English very well\"!!Population 5 years and over!!SPEAK A LANGUAGE OTHER THAN ENGLISH!!Other Indo-European languages!!5 to 17 years old\"           object\n",
      " 38  Estimate!!Percent of specified language speakers!!Speak English less than very well\"!!Population 5 years and over!!SPEAK A LANGUAGE OTHER THAN ENGLISH!!Other Indo-European languages!!5 to 17 years old\"                               int64 \n",
      " 39  Estimate!!Percent of specified language speakers!!Percent speak English less than very well\"!!Population 5 years and over!!SPEAK A LANGUAGE OTHER THAN ENGLISH!!Other Indo-European languages!!5 to 17 years old\"                       object\n",
      " 40  Estimate!!Percent!!Population 5 years and over!!SPEAK A LANGUAGE OTHER THAN ENGLISH!!Other Indo-European languages!!18 to 64 years old                                                                                                  object\n",
      " 41  Estimate!!Percent of specified language speakers!!Speak English only or speak English very well\"!!Population 5 years and over!!SPEAK A LANGUAGE OTHER THAN ENGLISH!!Other Indo-European languages!!18 to 64 years old\"                  int64 \n",
      " 42  Estimate!!Percent of specified language speakers!!Percent speak English only or speak English very well\"!!Population 5 years and over!!SPEAK A LANGUAGE OTHER THAN ENGLISH!!Other Indo-European languages!!18 to 64 years old\"          object\n",
      " 43  Estimate!!Percent of specified language speakers!!Speak English less than very well\"!!Population 5 years and over!!SPEAK A LANGUAGE OTHER THAN ENGLISH!!Other Indo-European languages!!18 to 64 years old\"                              int64 \n",
      " 44  Estimate!!Percent of specified language speakers!!Percent speak English less than very well\"!!Population 5 years and over!!SPEAK A LANGUAGE OTHER THAN ENGLISH!!Other Indo-European languages!!18 to 64 years old\"                      object\n",
      " 45  Estimate!!Percent!!Population 5 years and over!!SPEAK A LANGUAGE OTHER THAN ENGLISH!!Other Indo-European languages!!65 years old and over                                                                                               object\n",
      " 46  Estimate!!Percent of specified language speakers!!Speak English only or speak English very well\"!!Population 5 years and over!!SPEAK A LANGUAGE OTHER THAN ENGLISH!!Other Indo-European languages!!65 years old and over\"               int64 \n",
      " 47  Estimate!!Percent of specified language speakers!!Percent speak English only or speak English very well\"!!Population 5 years and over!!SPEAK A LANGUAGE OTHER THAN ENGLISH!!Other Indo-European languages!!65 years old and over\"       object\n",
      " 48  Estimate!!Percent of specified language speakers!!Speak English less than very well\"!!Population 5 years and over!!SPEAK A LANGUAGE OTHER THAN ENGLISH!!Other Indo-European languages!!65 years old and over\"                           int64 \n",
      " 49  Estimate!!Percent of specified language speakers!!Percent speak English less than very well\"!!Population 5 years and over!!SPEAK A LANGUAGE OTHER THAN ENGLISH!!Other Indo-European languages!!65 years old and over\"                   object\n",
      " 50  Estimate!!Percent!!Population 5 years and over!!SPEAK A LANGUAGE OTHER THAN ENGLISH!!Asian and Pacific Island languages                                                                                                                 object\n",
      " 51  Estimate!!Percent of specified language speakers!!Speak English only or speak English very well\"!!Population 5 years and over!!SPEAK A LANGUAGE OTHER THAN ENGLISH!!Asian and Pacific Island languages\"                                 int64 \n",
      " 52  Estimate!!Percent of specified language speakers!!Percent speak English only or speak English very well\"!!Population 5 years and over!!SPEAK A LANGUAGE OTHER THAN ENGLISH!!Asian and Pacific Island languages\"                         object\n",
      " 53  Estimate!!Percent of specified language speakers!!Speak English less than very well\"!!Population 5 years and over!!SPEAK A LANGUAGE OTHER THAN ENGLISH!!Asian and Pacific Island languages\"                                             int64 \n",
      " 54  Estimate!!Percent of specified language speakers!!Percent speak English less than very well\"!!Population 5 years and over!!SPEAK A LANGUAGE OTHER THAN ENGLISH!!Asian and Pacific Island languages\"                                     object\n",
      " 55  Estimate!!Percent!!Population 5 years and over!!SPEAK A LANGUAGE OTHER THAN ENGLISH!!Asian and Pacific Island languages!!5 to 17 years old                                                                                              object\n",
      " 56  Estimate!!Percent of specified language speakers!!Speak English only or speak English very well\"!!Population 5 years and over!!SPEAK A LANGUAGE OTHER THAN ENGLISH!!Asian and Pacific Island languages!!5 to 17 years old\"              int64 \n",
      " 57  Estimate!!Percent of specified language speakers!!Percent speak English only or speak English very well\"!!Population 5 years and over!!SPEAK A LANGUAGE OTHER THAN ENGLISH!!Asian and Pacific Island languages!!5 to 17 years old\"      object\n",
      " 58  Estimate!!Percent of specified language speakers!!Speak English less than very well\"!!Population 5 years and over!!SPEAK A LANGUAGE OTHER THAN ENGLISH!!Asian and Pacific Island languages!!5 to 17 years old\"                          int64 \n",
      " 59  Estimate!!Percent of specified language speakers!!Percent speak English less than very well\"!!Population 5 years and over!!SPEAK A LANGUAGE OTHER THAN ENGLISH!!Asian and Pacific Island languages!!5 to 17 years old\"                  object\n",
      " 60  Estimate!!Percent!!Population 5 years and over!!SPEAK A LANGUAGE OTHER THAN ENGLISH!!Asian and Pacific Island languages!!18 to 64 years old                                                                                             object\n",
      " 61  Estimate!!Percent of specified language speakers!!Speak English only or speak English very well\"!!Population 5 years and over!!SPEAK A LANGUAGE OTHER THAN ENGLISH!!Asian and Pacific Island languages!!18 to 64 years old\"             int64 \n",
      " 62  Estimate!!Percent of specified language speakers!!Percent speak English only or speak English very well\"!!Population 5 years and over!!SPEAK A LANGUAGE OTHER THAN ENGLISH!!Asian and Pacific Island languages!!18 to 64 years old\"     object\n",
      " 63  Estimate!!Percent of specified language speakers!!Speak English less than very well\"!!Population 5 years and over!!SPEAK A LANGUAGE OTHER THAN ENGLISH!!Asian and Pacific Island languages!!18 to 64 years old\"                         int64 \n",
      " 64  Estimate!!Percent of specified language speakers!!Percent speak English less than very well\"!!Population 5 years and over!!SPEAK A LANGUAGE OTHER THAN ENGLISH!!Asian and Pacific Island languages!!18 to 64 years old\"                 object\n",
      " 65  Estimate!!Percent!!Population 5 years and over!!SPEAK A LANGUAGE OTHER THAN ENGLISH!!Asian and Pacific Island languages!!65 years old and over                                                                                          object\n",
      " 66  Estimate!!Percent of specified language speakers!!Speak English only or speak English very well\"!!Population 5 years and over!!SPEAK A LANGUAGE OTHER THAN ENGLISH!!Asian and Pacific Island languages!!65 years old and over\"          int64 \n",
      " 67  Estimate!!Percent of specified language speakers!!Percent speak English only or speak English very well\"!!Population 5 years and over!!SPEAK A LANGUAGE OTHER THAN ENGLISH!!Asian and Pacific Island languages!!65 years old and over\"  object\n",
      " 68  Estimate!!Percent of specified language speakers!!Speak English less than very well\"!!Population 5 years and over!!SPEAK A LANGUAGE OTHER THAN ENGLISH!!Asian and Pacific Island languages!!65 years old and over\"                      int64 \n",
      " 69  Estimate!!Percent of specified language speakers!!Percent speak English less than very well\"!!Population 5 years and over!!SPEAK A LANGUAGE OTHER THAN ENGLISH!!Asian and Pacific Island languages!!65 years old and over\"              object\n",
      " 70  Estimate!!Percent!!Population 5 years and over!!SPEAK A LANGUAGE OTHER THAN ENGLISH!!Other languages                                                                                                                                    object\n",
      " 71  Estimate!!Percent of specified language speakers!!Speak English only or speak English very well\"!!Population 5 years and over!!SPEAK A LANGUAGE OTHER THAN ENGLISH!!Other languages\"                                                    int64 \n",
      " 72  Estimate!!Percent of specified language speakers!!Percent speak English only or speak English very well\"!!Population 5 years and over!!SPEAK A LANGUAGE OTHER THAN ENGLISH!!Other languages\"                                            object\n",
      " 73  Estimate!!Percent of specified language speakers!!Speak English less than very well\"!!Population 5 years and over!!SPEAK A LANGUAGE OTHER THAN ENGLISH!!Other languages\"                                                                int64 \n",
      " 74  Estimate!!Percent of specified language speakers!!Percent speak English less than very well\"!!Population 5 years and over!!SPEAK A LANGUAGE OTHER THAN ENGLISH!!Other languages\"                                                        object\n",
      " 75  Estimate!!Percent!!Population 5 years and over!!SPEAK A LANGUAGE OTHER THAN ENGLISH!!Other languages!!5 to 17 years old                                                                                                                 object\n",
      " 76  Estimate!!Percent of specified language speakers!!Speak English only or speak English very well\"!!Population 5 years and over!!SPEAK A LANGUAGE OTHER THAN ENGLISH!!Other languages!!5 to 17 years old\"                                 int64 \n",
      " 77  Estimate!!Percent of specified language speakers!!Percent speak English only or speak English very well\"!!Population 5 years and over!!SPEAK A LANGUAGE OTHER THAN ENGLISH!!Other languages!!5 to 17 years old\"                         object\n",
      " 78  Estimate!!Percent of specified language speakers!!Speak English less than very well\"!!Population 5 years and over!!SPEAK A LANGUAGE OTHER THAN ENGLISH!!Other languages!!5 to 17 years old\"                                             int64 \n",
      " 79  Estimate!!Percent of specified language speakers!!Percent speak English less than very well\"!!Population 5 years and over!!SPEAK A LANGUAGE OTHER THAN ENGLISH!!Other languages!!5 to 17 years old\"                                     object\n",
      " 80  Estimate!!Percent!!Population 5 years and over!!SPEAK A LANGUAGE OTHER THAN ENGLISH!!Other languages!!18 to 64 years old                                                                                                                object\n",
      " 81  Estimate!!Percent of specified language speakers!!Speak English only or speak English very well\"!!Population 5 years and over!!SPEAK A LANGUAGE OTHER THAN ENGLISH!!Other languages!!18 to 64 years old\"                                int64 \n",
      " 82  Estimate!!Percent of specified language speakers!!Percent speak English only or speak English very well\"!!Population 5 years and over!!SPEAK A LANGUAGE OTHER THAN ENGLISH!!Other languages!!18 to 64 years old\"                        object\n",
      " 83  Estimate!!Percent of specified language speakers!!Speak English less than very well\"!!Population 5 years and over!!SPEAK A LANGUAGE OTHER THAN ENGLISH!!Other languages!!18 to 64 years old\"                                            int64 \n",
      " 84  Estimate!!Percent of specified language speakers!!Percent speak English less than very well\"!!Population 5 years and over!!SPEAK A LANGUAGE OTHER THAN ENGLISH!!Other languages!!18 to 64 years old\"                                    object\n",
      " 85  Estimate!!Percent!!Population 5 years and over!!SPEAK A LANGUAGE OTHER THAN ENGLISH!!Other languages!!65 years old and over                                                                                                             object\n",
      " 86  Estimate!!Percent of specified language speakers!!Speak English only or speak English very well\"!!Population 5 years and over!!SPEAK A LANGUAGE OTHER THAN ENGLISH!!Other languages!!65 years old and over\"                             int64 \n",
      " 87  Estimate!!Percent of specified language speakers!!Percent speak English only or speak English very well\"!!Population 5 years and over!!SPEAK A LANGUAGE OTHER THAN ENGLISH!!Other languages!!65 years old and over\"                     object\n",
      " 88  Estimate!!Percent of specified language speakers!!Speak English less than very well\"!!Population 5 years and over!!SPEAK A LANGUAGE OTHER THAN ENGLISH!!Other languages!!65 years old and over\"                                         int64 \n",
      " 89  Estimate!!Percent of specified language speakers!!Percent speak English less than very well\"!!Population 5 years and over!!SPEAK A LANGUAGE OTHER THAN ENGLISH!!Other languages!!65 years old and over\"                                 object\n",
      " 90  Estimate!!Percent of specified language speakers!!Speak English only or speak English very well\"!!Population 5 years and over!!All citizens 18 years old and over\"                                                                      int64 \n",
      " 91  Estimate!!Percent of specified language speakers!!Percent speak English only or speak English very well\"!!Population 5 years and over!!All citizens 18 years old and over\"                                                              object\n",
      " 92  Estimate!!Percent of specified language speakers!!Speak English less than very well\"!!Population 5 years and over!!All citizens 18 years old and over\"                                                                                  int64 \n",
      " 93  Estimate!!Percent of specified language speakers!!Percent speak English less than very well\"!!Population 5 years and over!!All citizens 18 years old and over\"                                                                          object\n",
      " 94  Estimate!!Percent!!Population 5 years and over!!All citizens 18 years old and over!!Speak only English                                                                                                                                  object\n",
      " 95  Estimate!!Percent!!Population 5 years and over!!All citizens 18 years old and over!!Speak a language other than English                                                                                                                 object\n",
      " 96  Estimate!!Percent of specified language speakers!!Speak English only or speak English very well\"!!Population 5 years and over!!All citizens 18 years old and over!!Speak a language other than English\"                                 int64 \n",
      " 97  Estimate!!Percent of specified language speakers!!Percent speak English only or speak English very well\"!!Population 5 years and over!!All citizens 18 years old and over!!Speak a language other than English\"                         object\n",
      " 98  Estimate!!Percent of specified language speakers!!Speak English less than very well\"!!Population 5 years and over!!All citizens 18 years old and over!!Speak a language other than English\"                                             int64 \n",
      " 99  Estimate!!Percent of specified language speakers!!Percent speak English less than very well\"!!Population 5 years and over!!All citizens 18 years old and over!!Speak a language other than English\"                                     object\n",
      " 100 Speaks_Spanish                                                                                                                                                                                                                          object\n",
      " 101 Estimate!!Percent of specified language speakers!!Speak English only or speak English very well\"!!Population 5 years and over!!All citizens 18 years old and over!!Speak a language other than English!!Spanish\"                        int64 \n",
      " 102 Estimate!!Percent of specified language speakers!!Percent speak English only or speak English very well\"!!Population 5 years and over!!All citizens 18 years old and over!!Speak a language other than English!!Spanish\"                object\n",
      " 103 Estimate!!Percent of specified language speakers!!Speak English less than very well\"!!Population 5 years and over!!All citizens 18 years old and over!!Speak a language other than English!!Spanish\"                                    int64 \n",
      " 104 Estimate!!Percent of specified language speakers!!Percent speak English less than very well\"!!Population 5 years and over!!All citizens 18 years old and over!!Speak a language other than English!!Spanish\"                            object\n",
      " 105 Estimate!!Percent!!Population 5 years and over!!All citizens 18 years old and over!!Speak a language other than English!!Other languages                                                                                                object\n",
      " 106 Estimate!!Percent of specified language speakers!!Speak English only or speak English very well\"!!Population 5 years and over!!All citizens 18 years old and over!!Speak a language other than English!!Other languages\"                int64 \n",
      " 107 Estimate!!Percent of specified language speakers!!Percent speak English only or speak English very well\"!!Population 5 years and over!!All citizens 18 years old and over!!Speak a language other than English!!Other languages\"        object\n",
      " 108 Estimate!!Percent of specified language speakers!!Speak English less than very well\"!!Population 5 years and over!!All citizens 18 years old and over!!Speak a language other than English!!Other languages\"                            int64 \n",
      " 109 Estimate!!Percent of specified language speakers!!Percent speak English less than very well\"!!Population 5 years and over!!All citizens 18 years old and over!!Speak a language other than English!!Other languages\"                    object\n",
      "dtypes: int64(44), object(66)\n",
      "memory usage: 28.0+ MB\n"
     ]
    }
   ],
   "source": [
    "language_percents.info(verbose=True)"
   ]
  },
  {
   "cell_type": "code",
   "execution_count": 134,
   "metadata": {},
   "outputs": [],
   "source": [
    "# Select just three columns\n",
    "\n",
    "language_percents = language_percents[['Speaks_Spanish', 'Speaks_Other_Language', 'Speak_Only_English', 'Poor_English_Speaking']]"
   ]
  },
  {
   "cell_type": "code",
   "execution_count": 135,
   "metadata": {},
   "outputs": [],
   "source": [
    "language_percents = language_percents.replace({'-': np.nan})"
   ]
  },
  {
   "cell_type": "code",
   "execution_count": 136,
   "metadata": {},
   "outputs": [],
   "source": [
    "# Change all languagepercent columns to floats\n",
    "for i in language_percents.columns:\n",
    "    try:\n",
    "        language_percents[i] = language_percents[i].astype(float)\n",
    "    except:\n",
    "        continue"
   ]
  },
  {
   "cell_type": "markdown",
   "metadata": {},
   "source": [
    "#### Edit transportation dataset"
   ]
  },
  {
   "cell_type": "code",
   "execution_count": 137,
   "metadata": {},
   "outputs": [],
   "source": [
    "# Rename columns\n",
    "\n",
    "transportation.rename(columns = {'Estimate!!Total!!Workers 16 years and over!!MEANS OF TRANSPORTATION TO WORK!!Car, truck, or van' : 'Percent_Private_Vehicle'}, inplace=True)"
   ]
  },
  {
   "cell_type": "code",
   "execution_count": 138,
   "metadata": {},
   "outputs": [],
   "source": [
    "transportation.rename(columns = {'Estimate!!Total!!Workers 16 years and over!!MEANS OF TRANSPORTATION TO WORK!!Public transportation (excluding taxicab)' : 'Percent_Public_Trans'}, inplace=True)"
   ]
  },
  {
   "cell_type": "code",
   "execution_count": 139,
   "metadata": {},
   "outputs": [],
   "source": [
    "transportation.rename(columns = {'Estimate!!Total!!Workers 16 years and over!!MEANS OF TRANSPORTATION TO WORK!!Walked' : 'Percent_Walked'}, inplace=True)"
   ]
  },
  {
   "cell_type": "code",
   "execution_count": 140,
   "metadata": {},
   "outputs": [],
   "source": [
    "transportation.rename(columns = {'Estimate!!Total!!Workers 16 years and over!!MEANS OF TRANSPORTATION TO WORK!!Worked at home' :'Percent_Remote_Work'}, inplace=True)"
   ]
  },
  {
   "cell_type": "code",
   "execution_count": 141,
   "metadata": {},
   "outputs": [],
   "source": [
    "transportation.rename(columns = {'Estimate!!Total!!Workers 16 years and over who did not work at home!!TRAVEL TIME TO WORK!!Mean travel time to work (minutes)': 'Mean_Commute_Time'}, inplace=True)\n",
    "                                 "
   ]
  },
  {
   "cell_type": "code",
   "execution_count": 142,
   "metadata": {},
   "outputs": [],
   "source": [
    "transportation_percents = transportation[['Percent_Private_Vehicle', 'Percent_Public_Trans', 'Percent_Walked', 'Percent_Remote_Work', 'Mean_Commute_Time']]"
   ]
  },
  {
   "cell_type": "code",
   "execution_count": 143,
   "metadata": {},
   "outputs": [],
   "source": [
    "transportation_percents = transportation_percents.replace({'-': np.nan})"
   ]
  },
  {
   "cell_type": "code",
   "execution_count": 144,
   "metadata": {},
   "outputs": [],
   "source": [
    "transportation_percents = transportation_percents.replace({'N': np.nan})"
   ]
  },
  {
   "cell_type": "code",
   "execution_count": 145,
   "metadata": {},
   "outputs": [],
   "source": [
    "# Change all transportation_percent columns to floats\n",
    "for i in transportation_percents.columns:\n",
    "    try:\n",
    "        transportation_percents[i] = transportation_percents[i].astype(float)\n",
    "    except:\n",
    "        continue"
   ]
  },
  {
   "cell_type": "markdown",
   "metadata": {},
   "source": [
    "#### Edit Data Percents"
   ]
  },
  {
   "cell_type": "code",
   "execution_count": 146,
   "metadata": {},
   "outputs": [],
   "source": [
    "data_percents.rename(columns={'Estimate!!Percent!!Total population!!AGE!!Under 5 years' : 'Percent_Under_5'}, inplace=True)"
   ]
  },
  {
   "cell_type": "code",
   "execution_count": 147,
   "metadata": {},
   "outputs": [],
   "source": [
    "data_percents.rename(columns=  {'Estimate!!Percent!!Total population!!AGE!!5 to 9 years': 'Percent_5_to_9'}, inplace=True)\n",
    "data_percents.rename(columns = {'Estimate!!Percent!!Total population!!AGE!!10 to 14 years': 'Percent_10_to_14'}, inplace=True)\n",
    "data_percents.rename(columns = {'Estimate!!Percent!!Total population!!AGE!!15 to 19 years': 'Percent_15_to_19'}, inplace=True)\n",
    "data_percents.rename(columns = {'Estimate!!Percent!!Total population!!AGE!!20 to 24 years': 'Percent_20_to_24'}, inplace=True)\n",
    "data_percents.rename(columns = {'Estimate!!Percent!!Total population!!AGE!!25 to 29 years': 'Percent_25_to_29'}, inplace=True)\n",
    "data_percents.rename(columns = {'Estimate!!Percent!!Total population!!AGE!!30 to 34 years': 'Percent_30_to_34'}, inplace=True)\n",
    "data_percents.rename(columns = {'Estimate!!Percent!!Total population!!AGE!!35 to 39 years': 'Percent_35_to_39'}, inplace=True)\n",
    "data_percents.rename(columns = {'Estimate!!Percent!!Total population!!AGE!!40 to 44 years': 'Percent_40_to_44'}, inplace=True)\n",
    "data_percents.rename(columns = {'Estimate!!Percent!!Total population!!AGE!!45 to 49 years': 'Percent_45_to_49'}, inplace=True)\n",
    "data_percents.rename(columns = {'Estimate!!Percent!!Total population!!AGE!!50 to 54 years': 'Percent_50_to_54'}, inplace=True)\n",
    "data_percents.rename(columns = {'Estimate!!Percent!!Total population!!AGE!!55 to 59 years': 'Percent_55_to_59'}, inplace=True)\n",
    "data_percents.rename(columns = {'Estimate!!Percent!!Total population!!AGE!!60 to 64 years': 'Percent_60_to_64'}, inplace=True)\n",
    "data_percents.rename(columns = {'Estimate!!Percent!!Total population!!AGE!!65 to 69 years': 'Percent_65_to_69'}, inplace=True)\n",
    "data_percents.rename(columns = {'Estimate!!Percent!!Total population!!AGE!!70 to 74 years': 'Percent_70_to_74'}, inplace=True)\n",
    "data_percents.rename(columns = {'Estimate!!Percent!!Total population!!AGE!!75 to 79 years': 'Percent_75_to_79'}, inplace=True)\n",
    "data_percents.rename(columns = {'Estimate!!Percent!!Total population!!AGE!!80 to 84 years': 'Percent_80_to_84'}, inplace=True)\n",
    "data_percents.rename(columns = {'Estimate!!Percent!!Total population!!AGE!!85 years and over': 'Percent_85_Plus'}, inplace=True)\n"
   ]
  },
  {
   "cell_type": "code",
   "execution_count": 148,
   "metadata": {},
   "outputs": [],
   "source": [
    "data_percents = data_percents[['total_pop', 'Percent_Under_5', 'Percent_5_to_9', \n",
    "                               'Percent_10_to_14', 'Percent_15_to_19', 'Percent_20_to_24', \n",
    "                               'Percent_25_to_29', 'Percent_30_to_34', 'Percent_35_to_39', \n",
    "                               'Percent_40_to_44', 'Percent_45_to_49', 'Percent_50_to_54', \n",
    "                               'Percent_55_to_59', 'Percent_60_to_64', 'Percent_65_to_69', \n",
    "                               'Percent_70_to_74', 'Percent_75_to_79', 'Percent_80_to_84', 'Percent_85_Plus']]"
   ]
  },
  {
   "cell_type": "markdown",
   "metadata": {},
   "source": [
    "#### Concatenate columns together based on \n"
   ]
  },
  {
   "cell_type": "code",
   "execution_count": 164,
   "metadata": {},
   "outputs": [],
   "source": [
    "# Merge columns together\n",
    "\n",
    "final = pd.concat([data_percents, education_percents, employment_percents, language_percents, veteran_percents, transportation_percents, financial_percents, marital_percents, real_estate_2019], axis=1)"
   ]
  },
  {
   "cell_type": "code",
   "execution_count": 150,
   "metadata": {},
   "outputs": [
    {
     "name": "stdout",
     "output_type": "stream",
     "text": [
      "<class 'pandas.core.frame.DataFrame'>\n",
      "Index: 33147 entries, 00601 to 99623\n",
      "Data columns (total 73 columns):\n",
      " #   Column                                                                                                                                                                              Non-Null Count  Dtype  \n",
      "---  ------                                                                                                                                                                              --------------  -----  \n",
      " 0   total_pop                                                                                                                                                                           33120 non-null  float64\n",
      " 1   Percent_Under_5                                                                                                                                                                     32799 non-null  float64\n",
      " 2   Percent_5_to_9                                                                                                                                                                      32799 non-null  float64\n",
      " 3   Percent_10_to_14                                                                                                                                                                    32799 non-null  float64\n",
      " 4   Percent_15_to_19                                                                                                                                                                    32799 non-null  float64\n",
      " 5   Percent_20_to_24                                                                                                                                                                    32799 non-null  float64\n",
      " 6   Percent_25_to_29                                                                                                                                                                    32799 non-null  float64\n",
      " 7   Percent_30_to_34                                                                                                                                                                    32799 non-null  float64\n",
      " 8   Percent_35_to_39                                                                                                                                                                    32799 non-null  float64\n",
      " 9   Percent_40_to_44                                                                                                                                                                    32799 non-null  float64\n",
      " 10  Percent_45_to_49                                                                                                                                                                    32799 non-null  float64\n",
      " 11  Percent_50_to_54                                                                                                                                                                    32799 non-null  float64\n",
      " 12  Percent_55_to_59                                                                                                                                                                    32799 non-null  float64\n",
      " 13  Percent_60_to_64                                                                                                                                                                    32799 non-null  float64\n",
      " 14  Percent_65_to_69                                                                                                                                                                    32799 non-null  float64\n",
      " 15  Percent_70_to_74                                                                                                                                                                    32799 non-null  float64\n",
      " 16  Percent_75_to_79                                                                                                                                                                    32799 non-null  float64\n",
      " 17  Percent_80_to_84                                                                                                                                                                    32799 non-null  float64\n",
      " 18  Percent_85_Plus                                                                                                                                                                     32799 non-null  float64\n",
      " 19  Estimate!!Percent!!Population 25 years and over!!Bachelor's degree                                                                                                                  32763 non-null  float64\n",
      " 20  Estimate!!Percent!!Population 25 years and over!!Graduate or professional degree                                                                                                    32763 non-null  float64\n",
      " 21  Estimate!!Percent!!Population 25 years and over!!High school graduate or higher                                                                                                     32763 non-null  float64\n",
      " 22  Estimate!!Percent!!Population 25 years and over!!Some college, no degree                                                                                                            32763 non-null  float64\n",
      " 23  Estimate!!Percent Male!!Population 25 years and over!!Bachelor's degree                                                                                                             32664 non-null  float64\n",
      " 24  Estimate!!Percent Female!!Population 25 years and over!!Bachelor's degree                                                                                                           32609 non-null  float64\n",
      " 25  Estimate!!Percent Male!!Population 25 years and over!!Graduate or professional degree                                                                                               32664 non-null  float64\n",
      " 26  Estimate!!Percent Female!!Population 25 years and over!!Graduate or professional degree                                                                                             32609 non-null  float64\n",
      " 27  Estimate!!Percent Male!!Population 25 years and over!!High school graduate or higher                                                                                                32664 non-null  float64\n",
      " 28  Estimate!!Percent Female!!Population 25 years and over!!High school graduate or higher                                                                                              32609 non-null  float64\n",
      " 29  Percent_Families_With_Children                                                                                                                                                      32313 non-null  float64\n",
      " 30  Estimate!!Percent!!Families!!EMPLOYMENT STATUS CHARACTERISTICS!!Married-couple families!!Husband in labor force, wife not in labor force                                            32203 non-null  float64\n",
      " 31  Estimate!!Percent Families with own children under 18 years!!Families!!EMPLOYMENT STATUS CHARACTERISTICS!!Married-couple families!!Husband in labor force, wife not in labor force  30829 non-null  float64\n",
      " 32  Estimate!!Percent!!Families!!EMPLOYMENT STATUS CHARACTERISTICS!!Married-couple families!!Wife in labor force, husband not in labor force                                            32203 non-null  float64\n",
      " 33  Estimate!!Percent Families with own children under 18 years!!Families!!EMPLOYMENT STATUS CHARACTERISTICS!!Married-couple families!!Wife in labor force, husband not in labor force  30829 non-null  float64\n",
      " 34  Estimate!!Percent!!Families!!EMPLOYMENT STATUS CHARACTERISTICS!!Married-couple families!!Both husband and wife not in labor force                                                   32203 non-null  float64\n",
      " 35  Estimate!!Percent Families with own children under 18 years!!Families!!EMPLOYMENT STATUS CHARACTERISTICS!!Married-couple families!!Both husband and wife not in labor force         30829 non-null  float64\n",
      " 36  Estimate!!Percent!!Families!!EMPLOYMENT STATUS CHARACTERISTICS!!Other families                                                                                                      33085 non-null  float64\n",
      " 37  Estimate!!Percent Families with own children under 18 years!!Families!!EMPLOYMENT STATUS CHARACTERISTICS!!Other families                                                            33085 non-null  float64\n",
      " 38  Estimate!!Percent!!Families!!EMPLOYMENT STATUS CHARACTERISTICS!!Other families!!Female householder, no husband present                                                              30668 non-null  float64\n",
      " 39  Estimate!!Percent Families with own children under 18 years!!Families!!EMPLOYMENT STATUS CHARACTERISTICS!!Other families!!Female householder, no husband present                    28842 non-null  float64\n",
      " 40  Estimate!!Percent!!Families!!EMPLOYMENT STATUS CHARACTERISTICS!!Other families!!Female householder, no husband present!!In labor force                                              30668 non-null  float64\n",
      " 41  Estimate!!Percent Families with own children under 18 years!!Families!!EMPLOYMENT STATUS CHARACTERISTICS!!Other families!!Female householder, no husband present!!In labor force    28842 non-null  float64\n",
      " 42  Estimate!!Percent!!Families!!EMPLOYMENT STATUS CHARACTERISTICS!!Other families!!Male householder, no wife present                                                                   30668 non-null  float64\n",
      " 43  Estimate!!Percent Families with own children under 18 years!!Families!!EMPLOYMENT STATUS CHARACTERISTICS!!Other families!!Male householder, no wife present                         28842 non-null  float64\n",
      " 44  Estimate!!Percent!!Families!!EMPLOYMENT STATUS CHARACTERISTICS!!Other families!!Male householder, no wife present!!In labor force                                                   30668 non-null  float64\n",
      " 45  Estimate!!Percent Families with own children under 18 years!!Families!!EMPLOYMENT STATUS CHARACTERISTICS!!Other families!!Male householder, no wife present!!In labor force         28842 non-null  float64\n",
      " 46  Estimate!!Percent!!Families!!EMPLOYMENT STATUS CHARACTERISTICS!!Other families!!Male householder, no wife present!!Not in labor force                                               30668 non-null  float64\n",
      " 47  Estimate!!Percent!!WORK STATUS CHARACTERISTICS!!Families!!1 worker in the past 12 months                                                                                            32313 non-null  float64\n",
      " 48  Estimate!!Percent!!WORK STATUS CHARACTERISTICS!!Families!!2 or more workers in the past 12 months                                                                                   32313 non-null  float64\n",
      " 49  Estimate!!Percent Families with own children under 18 years!!WORK STATUS CHARACTERISTICS!!Families!!No workers in the past 12 months                                                31297 non-null  float64\n",
      " 50  Estimate!!Percent Families with own children under 18 years!!WORK STATUS CHARACTERISTICS!!Families!!1 worker in the past 12 months                                                  31297 non-null  float64\n",
      " 51  Estimate!!Percent!!WORK STATUS CHARACTERISTICS!!Families!!No workers in the past 12 months                                                                                          32313 non-null  float64\n",
      " 52  Speaks_Spanish                                                                                                                                                                      32792 non-null  float64\n",
      " 53  Speaks_Other_Language                                                                                                                                                               32799 non-null  float64\n",
      " 54  Speak_Only_English                                                                                                                                                                  32799 non-null  float64\n",
      " 55  Poor_English_Speaking                                                                                                                                                               32799 non-null  float64\n",
      " 56  Percent_Veterans                                                                                                                                                                    32783 non-null  float64\n",
      " 57  Percent_Private_Vehicle                                                                                                                                                             32539 non-null  float64\n",
      " 58  Percent_Public_Trans                                                                                                                                                                32539 non-null  float64\n",
      " 59  Percent_Walked                                                                                                                                                                      32539 non-null  float64\n",
      " 60  Percent_Remote_Work                                                                                                                                                                 32539 non-null  float64\n",
      " 61  Mean_Commute_Time                                                                                                                                                                   30718 non-null  float64\n",
      " 62  Percent_Owner_Occupied                                                                                                                                                              32508 non-null  float64\n",
      " 63  Median_HH_Income                                                                                                                                                                    33085 non-null  object \n",
      " 64  Median_Owner_HH_Income                                                                                                                                                              33085 non-null  object \n",
      " 65  Median_Renter_HH_Income                                                                                                                                                             33085 non-null  object \n",
      " 66  Estimate!!Now married (except separated)!!Population 15 years and over                                                                                                              32799 non-null  float64\n",
      " 67  Estimate!!Widowed!!Population 15 years and over                                                                                                                                     32799 non-null  float64\n",
      " 68  Estimate!!Divorced!!Population 15 years and over                                                                                                                                    32799 non-null  float64\n",
      " 69  Estimate!!Separated!!Population 15 years and over                                                                                                                                   32799 non-null  float64\n",
      " 70  Estimate!!Never married!!Population 15 years and over                                                                                                                               32799 non-null  float64\n",
      " 71  HPI_%_Annual_Change                                                                                                                                                                 18411 non-null  object \n",
      " 72  HPI                                                                                                                                                                                 18411 non-null  object \n",
      "dtypes: float64(68), object(5)\n",
      "memory usage: 18.7+ MB\n"
     ]
    }
   ],
   "source": [
    "final.info(verbose=True)"
   ]
  },
  {
   "cell_type": "code",
   "execution_count": 165,
   "metadata": {},
   "outputs": [],
   "source": [
    "# Fix the remaining object datatypes in the final. Cut down zip codes less than 2000\n",
    "final['Mean_Commute_Time'] = final['Mean_Commute_Time'].astype(float)"
   ]
  },
  {
   "cell_type": "code",
   "execution_count": 166,
   "metadata": {},
   "outputs": [],
   "source": [
    "final['Median_HH_Income'] = final['Median_HH_Income'].replace({'-': np.nan})\n"
   ]
  },
  {
   "cell_type": "code",
   "execution_count": 167,
   "metadata": {},
   "outputs": [],
   "source": [
    "final['Median_HH_Income'] = final['Median_HH_Income'].replace({'2,500-': 2500.0})"
   ]
  },
  {
   "cell_type": "code",
   "execution_count": 168,
   "metadata": {},
   "outputs": [],
   "source": [
    "final['Median_HH_Income'] = final['Median_HH_Income'].replace({'250,000+': 250000.0})"
   ]
  },
  {
   "cell_type": "code",
   "execution_count": 169,
   "metadata": {},
   "outputs": [],
   "source": [
    "final['Median_HH_Income'] = final['Median_HH_Income'].astype(float)"
   ]
  },
  {
   "cell_type": "code",
   "execution_count": 170,
   "metadata": {},
   "outputs": [],
   "source": [
    "final['Median_Owner_HH_Income'] = final['Median_Owner_HH_Income'].replace({'-': np.nan})\n",
    "final['Median_Owner_HH_Income'] = final['Median_Owner_HH_Income'].replace({'2,500-': 2500.0})\n",
    "final['Median_Owner_HH_Income'] = final['Median_Owner_HH_Income'].replace({'250,000+': 250000.0})"
   ]
  },
  {
   "cell_type": "code",
   "execution_count": 171,
   "metadata": {},
   "outputs": [],
   "source": [
    "final['Median_Owner_HH_Income'] = final['Median_Owner_HH_Income'].astype(float)"
   ]
  },
  {
   "cell_type": "code",
   "execution_count": 173,
   "metadata": {},
   "outputs": [],
   "source": [
    "final['HPI_%_Annual_Change'] = final['HPI_%_Annual_Change'].replace({'.': np.nan})"
   ]
  },
  {
   "cell_type": "code",
   "execution_count": 174,
   "metadata": {},
   "outputs": [],
   "source": [
    "final['HPI_%_Annual_Change'] = final['HPI_%_Annual_Change'].astype(float)"
   ]
  },
  {
   "cell_type": "code",
   "execution_count": 176,
   "metadata": {},
   "outputs": [],
   "source": [
    "final['Median_Renter_HH_Income'] = final['Median_Renter_HH_Income'].replace({'-': np.nan})\n",
    "final['Median_Renter_HH_Income'] = final['Median_Renter_HH_Income'].replace({'2,500-': 2500.0})\n",
    "final['Median_Renter_HH_Income'] = final['Median_Renter_HH_Income'].replace({'250,000+': 250000.0})\n",
    "final['Median_Renter_HH_Income'] = final['Median_Renter_HH_Income'].astype(float)"
   ]
  },
  {
   "cell_type": "code",
   "execution_count": 179,
   "metadata": {},
   "outputs": [],
   "source": [
    "final['HPI'] = final['HPI'].replace({'.': np.nan})\n",
    "final['HPI'] = final['HPI'].astype(float)"
   ]
  },
  {
   "cell_type": "code",
   "execution_count": 182,
   "metadata": {},
   "outputs": [
    {
     "data": {
      "text/plain": [
       "array([dtype('float64')], dtype=object)"
      ]
     },
     "execution_count": 182,
     "metadata": {},
     "output_type": "execute_result"
    }
   ],
   "source": [
    "final.dtypes.unique()"
   ]
  },
  {
   "cell_type": "code",
   "execution_count": 186,
   "metadata": {},
   "outputs": [],
   "source": [
    "# Drop zip codes with fewer than 2000 people\n",
    "final = final[final['total_pop'] >= 2000]"
   ]
  },
  {
   "cell_type": "code",
   "execution_count": 188,
   "metadata": {},
   "outputs": [],
   "source": [
    "# Save to csv\n",
    "\n",
    "final.to_csv('data/final.csv', index=False)"
   ]
  },
  {
   "cell_type": "markdown",
   "metadata": {},
   "source": [
    "## EDA"
   ]
  },
  {
   "cell_type": "code",
   "execution_count": null,
   "metadata": {},
   "outputs": [],
   "source": [
    "# First do EDA on individual features\n",
    "# Then figure out NaNs\n",
    "# Then scale between 0 and 1\n",
    "\n",
    "scaler = StandardScaler()\n",
    "scaler.fit(data)"
   ]
  },
  {
   "cell_type": "code",
   "execution_count": 190,
   "metadata": {},
   "outputs": [
    {
     "data": {
      "image/png": "[encoded data removed]",
      "text/plain": [
       "<Figure size 432x288 with 1 Axes>"
      ]
     },
     "metadata": {
      "needs_background": "light"
     },
     "output_type": "display_data"
    }
   ],
   "source": [
    "ax = sns.distplot(final['Mean_Commute_Time'])\n",
    "ax.set_title(\"Distribution: Mean Commute Time\");"
   ]
  },
  {
   "cell_type": "code",
   "execution_count": 193,
   "metadata": {},
   "outputs": [
    {
     "data": {
      "text/plain": [
       "count    18633.000000\n",
       "mean        26.208571\n",
       "std          6.567243\n",
       "min          1.000000\n",
       "25%         21.700000\n",
       "50%         25.700000\n",
       "75%         30.300000\n",
       "max         64.200000\n",
       "Name: Mean_Commute_Time, dtype: float64"
      ]
     },
     "execution_count": 193,
     "metadata": {},
     "output_type": "execute_result"
    }
   ],
   "source": [
    "final['Mean_Commute_Time'].describe()"
   ]
  },
  {
   "cell_type": "code",
   "execution_count": 199,
   "metadata": {},
   "outputs": [
    {
     "data": {
      "image/png": "[encoded data removed]",
      "text/plain": [
       "<Figure size 432x288 with 1 Axes>"
      ]
     },
     "metadata": {
      "needs_background": "light"
     },
     "output_type": "display_data"
    }
   ],
   "source": [
    "ax = sns.distplot(final['total_pop'])\n",
    "ax.set_title(\"Distribution: Total Population\");"
   ]
  },
  {
   "cell_type": "code",
   "execution_count": 195,
   "metadata": {
    "scrolled": true
   },
   "outputs": [
    {
     "name": "stdout",
     "output_type": "stream",
     "text": [
      "<class 'pandas.core.frame.DataFrame'>\n",
      "Index: 18654 entries, 00601 to 99929\n",
      "Data columns (total 73 columns):\n",
      " #   Column                                                                                                                                                                              Non-Null Count  Dtype  \n",
      "---  ------                                                                                                                                                                              --------------  -----  \n",
      " 0   total_pop                                                                                                                                                                           18654 non-null  float64\n",
      " 1   Percent_Under_5                                                                                                                                                                     18654 non-null  float64\n",
      " 2   Percent_5_to_9                                                                                                                                                                      18654 non-null  float64\n",
      " 3   Percent_10_to_14                                                                                                                                                                    18654 non-null  float64\n",
      " 4   Percent_15_to_19                                                                                                                                                                    18654 non-null  float64\n",
      " 5   Percent_20_to_24                                                                                                                                                                    18654 non-null  float64\n",
      " 6   Percent_25_to_29                                                                                                                                                                    18654 non-null  float64\n",
      " 7   Percent_30_to_34                                                                                                                                                                    18654 non-null  float64\n",
      " 8   Percent_35_to_39                                                                                                                                                                    18654 non-null  float64\n",
      " 9   Percent_40_to_44                                                                                                                                                                    18654 non-null  float64\n",
      " 10  Percent_45_to_49                                                                                                                                                                    18654 non-null  float64\n",
      " 11  Percent_50_to_54                                                                                                                                                                    18654 non-null  float64\n",
      " 12  Percent_55_to_59                                                                                                                                                                    18654 non-null  float64\n",
      " 13  Percent_60_to_64                                                                                                                                                                    18654 non-null  float64\n",
      " 14  Percent_65_to_69                                                                                                                                                                    18654 non-null  float64\n",
      " 15  Percent_70_to_74                                                                                                                                                                    18654 non-null  float64\n",
      " 16  Percent_75_to_79                                                                                                                                                                    18654 non-null  float64\n",
      " 17  Percent_80_to_84                                                                                                                                                                    18654 non-null  float64\n",
      " 18  Percent_85_Plus                                                                                                                                                                     18654 non-null  float64\n",
      " 19  Estimate!!Percent!!Population 25 years and over!!Bachelor's degree                                                                                                                  18650 non-null  float64\n",
      " 20  Estimate!!Percent!!Population 25 years and over!!Graduate or professional degree                                                                                                    18650 non-null  float64\n",
      " 21  Estimate!!Percent!!Population 25 years and over!!High school graduate or higher                                                                                                     18650 non-null  float64\n",
      " 22  Estimate!!Percent!!Population 25 years and over!!Some college, no degree                                                                                                            18650 non-null  float64\n",
      " 23  Estimate!!Percent Male!!Population 25 years and over!!Bachelor's degree                                                                                                             18645 non-null  float64\n",
      " 24  Estimate!!Percent Female!!Population 25 years and over!!Bachelor's degree                                                                                                           18628 non-null  float64\n",
      " 25  Estimate!!Percent Male!!Population 25 years and over!!Graduate or professional degree                                                                                               18645 non-null  float64\n",
      " 26  Estimate!!Percent Female!!Population 25 years and over!!Graduate or professional degree                                                                                             18628 non-null  float64\n",
      " 27  Estimate!!Percent Male!!Population 25 years and over!!High school graduate or higher                                                                                                18645 non-null  float64\n",
      " 28  Estimate!!Percent Female!!Population 25 years and over!!High school graduate or higher                                                                                              18628 non-null  float64\n",
      " 29  Percent_Families_With_Children                                                                                                                                                      18575 non-null  float64\n",
      " 30  Estimate!!Percent!!Families!!EMPLOYMENT STATUS CHARACTERISTICS!!Married-couple families!!Husband in labor force, wife not in labor force                                            18571 non-null  float64\n",
      " 31  Estimate!!Percent Families with own children under 18 years!!Families!!EMPLOYMENT STATUS CHARACTERISTICS!!Married-couple families!!Husband in labor force, wife not in labor force  18550 non-null  float64\n",
      " 32  Estimate!!Percent!!Families!!EMPLOYMENT STATUS CHARACTERISTICS!!Married-couple families!!Wife in labor force, husband not in labor force                                            18571 non-null  float64\n",
      " 33  Estimate!!Percent Families with own children under 18 years!!Families!!EMPLOYMENT STATUS CHARACTERISTICS!!Married-couple families!!Wife in labor force, husband not in labor force  18550 non-null  float64\n",
      " 34  Estimate!!Percent!!Families!!EMPLOYMENT STATUS CHARACTERISTICS!!Married-couple families!!Both husband and wife not in labor force                                                   18571 non-null  float64\n",
      " 35  Estimate!!Percent Families with own children under 18 years!!Families!!EMPLOYMENT STATUS CHARACTERISTICS!!Married-couple families!!Both husband and wife not in labor force         18550 non-null  float64\n",
      " 36  Estimate!!Percent!!Families!!EMPLOYMENT STATUS CHARACTERISTICS!!Other families                                                                                                      18647 non-null  float64\n",
      " 37  Estimate!!Percent Families with own children under 18 years!!Families!!EMPLOYMENT STATUS CHARACTERISTICS!!Other families                                                            18647 non-null  float64\n",
      " 38  Estimate!!Percent!!Families!!EMPLOYMENT STATUS CHARACTERISTICS!!Other families!!Female householder, no husband present                                                              18554 non-null  float64\n",
      " 39  Estimate!!Percent Families with own children under 18 years!!Families!!EMPLOYMENT STATUS CHARACTERISTICS!!Other families!!Female householder, no husband present                    18486 non-null  float64\n",
      " 40  Estimate!!Percent!!Families!!EMPLOYMENT STATUS CHARACTERISTICS!!Other families!!Female householder, no husband present!!In labor force                                              18554 non-null  float64\n",
      " 41  Estimate!!Percent Families with own children under 18 years!!Families!!EMPLOYMENT STATUS CHARACTERISTICS!!Other families!!Female householder, no husband present!!In labor force    18486 non-null  float64\n",
      " 42  Estimate!!Percent!!Families!!EMPLOYMENT STATUS CHARACTERISTICS!!Other families!!Male householder, no wife present                                                                   18554 non-null  float64\n",
      " 43  Estimate!!Percent Families with own children under 18 years!!Families!!EMPLOYMENT STATUS CHARACTERISTICS!!Other families!!Male householder, no wife present                         18486 non-null  float64\n",
      " 44  Estimate!!Percent!!Families!!EMPLOYMENT STATUS CHARACTERISTICS!!Other families!!Male householder, no wife present!!In labor force                                                   18554 non-null  float64\n",
      " 45  Estimate!!Percent Families with own children under 18 years!!Families!!EMPLOYMENT STATUS CHARACTERISTICS!!Other families!!Male householder, no wife present!!In labor force         18486 non-null  float64\n",
      " 46  Estimate!!Percent!!Families!!EMPLOYMENT STATUS CHARACTERISTICS!!Other families!!Male householder, no wife present!!Not in labor force                                               18554 non-null  float64\n",
      " 47  Estimate!!Percent!!WORK STATUS CHARACTERISTICS!!Families!!1 worker in the past 12 months                                                                                            18575 non-null  float64\n",
      " 48  Estimate!!Percent!!WORK STATUS CHARACTERISTICS!!Families!!2 or more workers in the past 12 months                                                                                   18575 non-null  float64\n",
      " 49  Estimate!!Percent Families with own children under 18 years!!WORK STATUS CHARACTERISTICS!!Families!!No workers in the past 12 months                                                18560 non-null  float64\n",
      " 50  Estimate!!Percent Families with own children under 18 years!!WORK STATUS CHARACTERISTICS!!Families!!1 worker in the past 12 months                                                  18560 non-null  float64\n",
      " 51  Estimate!!Percent!!WORK STATUS CHARACTERISTICS!!Families!!No workers in the past 12 months                                                                                          18575 non-null  float64\n",
      " 52  Speaks_Spanish                                                                                                                                                                      18654 non-null  float64\n",
      " 53  Speaks_Other_Language                                                                                                                                                               18654 non-null  float64\n",
      " 54  Speak_Only_English                                                                                                                                                                  18654 non-null  float64\n",
      " 55  Poor_English_Speaking                                                                                                                                                               18654 non-null  float64\n",
      " 56  Percent_Veterans                                                                                                                                                                    18654 non-null  float64\n",
      " 57  Percent_Private_Vehicle                                                                                                                                                             18639 non-null  float64\n",
      " 58  Percent_Public_Trans                                                                                                                                                                18639 non-null  float64\n",
      " 59  Percent_Walked                                                                                                                                                                      18639 non-null  float64\n",
      " 60  Percent_Remote_Work                                                                                                                                                                 18639 non-null  float64\n",
      " 61  Mean_Commute_Time                                                                                                                                                                   18633 non-null  float64\n",
      " 62  Percent_Owner_Occupied                                                                                                                                                              18586 non-null  float64\n",
      " 63  Median_HH_Income                                                                                                                                                                    18558 non-null  float64\n",
      " 64  Median_Owner_HH_Income                                                                                                                                                              18458 non-null  float64\n",
      " 65  Median_Renter_HH_Income                                                                                                                                                             17981 non-null  float64\n",
      " 66  Estimate!!Now married (except separated)!!Population 15 years and over                                                                                                              18654 non-null  float64\n",
      " 67  Estimate!!Widowed!!Population 15 years and over                                                                                                                                     18654 non-null  float64\n",
      " 68  Estimate!!Divorced!!Population 15 years and over                                                                                                                                    18654 non-null  float64\n",
      " 69  Estimate!!Separated!!Population 15 years and over                                                                                                                                   18654 non-null  float64\n",
      " 70  Estimate!!Never married!!Population 15 years and over                                                                                                                               18654 non-null  float64\n",
      " 71  HPI_%_Annual_Change                                                                                                                                                                 15028 non-null  float64\n",
      " 72  HPI                                                                                                                                                                                 15426 non-null  float64\n",
      "dtypes: float64(73)\n",
      "memory usage: 10.5+ MB\n"
     ]
    }
   ],
   "source": [
    "final.info(verbose=True)"
   ]
  },
  {
   "cell_type": "code",
   "execution_count": 232,
   "metadata": {},
   "outputs": [
    {
     "data": {
      "image/png": "[encoded data removed]",
      "text/plain": [
       "<Figure size 432x288 with 1 Axes>"
      ]
     },
     "metadata": {},
     "output_type": "display_data"
    }
   ],
   "source": [
    "sns.set_palette(\"Dark2\")\n",
    "sns.set_style(\"dark\")\n",
    "ax = sns.regplot(x='Mean_Commute_Time', \n",
    "                 y='Median_HH_Income', data=final, line_kws= {\"color\": 'black'})\n",
    "ax.set_title(\"Mean Commute Time vs. Median Household Income\")\n",
    "ax.set_xlabel('Mean Commute Time')\n",
    "ax.set_ylabel('Median Household Income');"
   ]
  },
  {
   "cell_type": "code",
   "execution_count": 233,
   "metadata": {},
   "outputs": [
    {
     "data": {
      "image/png": "[encoded data removed]",
      "text/plain": [
       "<Figure size 432x288 with 1 Axes>"
      ]
     },
     "metadata": {},
     "output_type": "display_data"
    }
   ],
   "source": [
    "ax = sns.regplot(x='Estimate!!Percent!!Population 25 years and over!!Graduate or professional degree', \n",
    "                 y='Median_HH_Income', data=final, line_kws= {\"color\": 'black'})\n",
    "ax.set_title(\"% with Graduate Degrees vs. Median Household Income\")\n",
    "ax.set_xlabel('Percent of Population 25+ with a Graduate or Professional Degree')\n",
    "ax.set_ylabel('Median Household Income');"
   ]
  },
  {
   "cell_type": "code",
   "execution_count": 234,
   "metadata": {},
   "outputs": [
    {
     "data": {
      "image/png": "[encoded data removed]",
      "text/plain": [
       "<Figure size 432x288 with 1 Axes>"
      ]
     },
     "metadata": {},
     "output_type": "display_data"
    }
   ],
   "source": [
    "ax = sns.regplot(x = 'Estimate!!Divorced!!Population 15 years and over', y='Median_HH_Income', data=final, line_kws= {\"color\": 'black'})\n"
   ]
  },
  {
   "cell_type": "markdown",
   "metadata": {},
   "source": [
    "It appears that there is a negative correlation between Divorced Population and median household income"
   ]
  },
  {
   "cell_type": "code",
   "execution_count": null,
   "metadata": {},
   "outputs": [],
   "source": []
  },
  {
   "cell_type": "markdown",
   "metadata": {},
   "source": [
    "### Deal with NaNs"
   ]
  },
  {
   "cell_type": "markdown",
   "metadata": {},
   "source": [
    "Two options 1. Delete rows with missing values, 2. Impute values with missing values"
   ]
  },
  {
   "cell_type": "code",
   "execution_count": 257,
   "metadata": {},
   "outputs": [],
   "source": [
    "final_del_nans = final.copy()"
   ]
  },
  {
   "cell_type": "code",
   "execution_count": 259,
   "metadata": {},
   "outputs": [],
   "source": [
    "final_del_nans.dropna(axis=0, how='any', inplace=True)"
   ]
  },
  {
   "cell_type": "code",
   "execution_count": 260,
   "metadata": {},
   "outputs": [
    {
     "data": {
      "text/plain": [
       "(14633, 73)"
      ]
     },
     "execution_count": 260,
     "metadata": {},
     "output_type": "execute_result"
    }
   ],
   "source": [
    "final_del_nans.shape"
   ]
  },
  {
   "cell_type": "code",
   "execution_count": 276,
   "metadata": {},
   "outputs": [],
   "source": [
    "scaler = StandardScaler()\n",
    "scaled = scaler.fit_transform(final_del_nans)"
   ]
  },
  {
   "cell_type": "code",
   "execution_count": 277,
   "metadata": {},
   "outputs": [],
   "source": [
    "scaled = pd.DataFrame(scaled, index=final_del_nans.index, columns=final_del_nans.columns)"
   ]
  },
  {
   "cell_type": "code",
   "execution_count": 278,
   "metadata": {},
   "outputs": [
    {
     "data": {
      "text/html": [
       "<div>\n",
       "<style scoped>\n",
       "    .dataframe tbody tr th:only-of-type {\n",
       "        vertical-align: middle;\n",
       "    }\n",
       "\n",
       "    .dataframe tbody tr th {\n",
       "        vertical-align: top;\n",
       "    }\n",
       "\n",
       "    .dataframe thead th {\n",
       "        text-align: right;\n",
       "    }\n",
       "</style>\n",
       "<table border=\"1\" class=\"dataframe\">\n",
       "  <thead>\n",
       "    <tr style=\"text-align: right;\">\n",
       "      <th></th>\n",
       "      <th>total_pop</th>\n",
       "      <th>Percent_Under_5</th>\n",
       "      <th>Percent_5_to_9</th>\n",
       "      <th>Percent_10_to_14</th>\n",
       "      <th>Percent_15_to_19</th>\n",
       "      <th>Percent_20_to_24</th>\n",
       "      <th>Percent_25_to_29</th>\n",
       "      <th>Percent_30_to_34</th>\n",
       "      <th>Percent_35_to_39</th>\n",
       "      <th>Percent_40_to_44</th>\n",
       "      <th>...</th>\n",
       "      <th>Median_HH_Income</th>\n",
       "      <th>Median_Owner_HH_Income</th>\n",
       "      <th>Median_Renter_HH_Income</th>\n",
       "      <th>Estimate!!Now married (except separated)!!Population 15 years and over</th>\n",
       "      <th>Estimate!!Widowed!!Population 15 years and over</th>\n",
       "      <th>Estimate!!Divorced!!Population 15 years and over</th>\n",
       "      <th>Estimate!!Separated!!Population 15 years and over</th>\n",
       "      <th>Estimate!!Never married!!Population 15 years and over</th>\n",
       "      <th>HPI_%_Annual_Change</th>\n",
       "      <th>HPI</th>\n",
       "    </tr>\n",
       "  </thead>\n",
       "  <tbody>\n",
       "    <tr>\n",
       "      <th>01001</th>\n",
       "      <td>-0.121831</td>\n",
       "      <td>-0.762104</td>\n",
       "      <td>-0.441774</td>\n",
       "      <td>-0.192087</td>\n",
       "      <td>-1.299505</td>\n",
       "      <td>-0.793853</td>\n",
       "      <td>-0.519640</td>\n",
       "      <td>0.644523</td>\n",
       "      <td>-0.146599</td>\n",
       "      <td>0.450106</td>\n",
       "      <td>...</td>\n",
       "      <td>-0.130640</td>\n",
       "      <td>-0.166298</td>\n",
       "      <td>-0.240086</td>\n",
       "      <td>-0.503333</td>\n",
       "      <td>1.333294</td>\n",
       "      <td>1.111930</td>\n",
       "      <td>0.031492</td>\n",
       "      <td>-0.136907</td>\n",
       "      <td>-0.062781</td>\n",
       "      <td>-0.272891</td>\n",
       "    </tr>\n",
       "    <tr>\n",
       "      <th>01002</th>\n",
       "      <td>0.632545</td>\n",
       "      <td>-1.567189</td>\n",
       "      <td>-1.726611</td>\n",
       "      <td>-1.799509</td>\n",
       "      <td>3.770282</td>\n",
       "      <td>7.143369</td>\n",
       "      <td>0.047573</td>\n",
       "      <td>-0.835097</td>\n",
       "      <td>-1.765212</td>\n",
       "      <td>-2.009577</td>\n",
       "      <td>...</td>\n",
       "      <td>-0.374005</td>\n",
       "      <td>1.222663</td>\n",
       "      <td>-0.591839</td>\n",
       "      <td>-2.223178</td>\n",
       "      <td>-1.147910</td>\n",
       "      <td>-1.809929</td>\n",
       "      <td>-0.773043</td>\n",
       "      <td>3.387636</td>\n",
       "      <td>0.512439</td>\n",
       "      <td>0.144541</td>\n",
       "    </tr>\n",
       "    <tr>\n",
       "      <th>01005</th>\n",
       "      <td>-0.887421</td>\n",
       "      <td>-1.682201</td>\n",
       "      <td>-0.850586</td>\n",
       "      <td>0.554216</td>\n",
       "      <td>0.979574</td>\n",
       "      <td>-0.400022</td>\n",
       "      <td>-0.600670</td>\n",
       "      <td>0.389416</td>\n",
       "      <td>-2.671635</td>\n",
       "      <td>-2.150130</td>\n",
       "      <td>...</td>\n",
       "      <td>0.106840</td>\n",
       "      <td>-0.098999</td>\n",
       "      <td>0.515075</td>\n",
       "      <td>-0.093370</td>\n",
       "      <td>-1.386488</td>\n",
       "      <td>1.433013</td>\n",
       "      <td>-1.577577</td>\n",
       "      <td>0.135048</td>\n",
       "      <td>0.363436</td>\n",
       "      <td>-0.591663</td>\n",
       "    </tr>\n",
       "    <tr>\n",
       "      <th>01007</th>\n",
       "      <td>-0.282708</td>\n",
       "      <td>-0.589586</td>\n",
       "      <td>0.083841</td>\n",
       "      <td>-0.019863</td>\n",
       "      <td>0.328408</td>\n",
       "      <td>0.448231</td>\n",
       "      <td>-1.451489</td>\n",
       "      <td>-0.528969</td>\n",
       "      <td>-0.470321</td>\n",
       "      <td>-0.112107</td>\n",
       "      <td>...</td>\n",
       "      <td>1.075577</td>\n",
       "      <td>0.996970</td>\n",
       "      <td>-0.526573</td>\n",
       "      <td>0.746555</td>\n",
       "      <td>-0.909333</td>\n",
       "      <td>-0.429270</td>\n",
       "      <td>-1.130614</td>\n",
       "      <td>-0.310959</td>\n",
       "      <td>0.103548</td>\n",
       "      <td>-0.212099</td>\n",
       "    </tr>\n",
       "    <tr>\n",
       "      <th>01010</th>\n",
       "      <td>-0.963313</td>\n",
       "      <td>-0.877116</td>\n",
       "      <td>0.726259</td>\n",
       "      <td>-1.110614</td>\n",
       "      <td>-0.090198</td>\n",
       "      <td>-0.915032</td>\n",
       "      <td>-0.762731</td>\n",
       "      <td>-0.631012</td>\n",
       "      <td>-1.376745</td>\n",
       "      <td>-0.814874</td>\n",
       "      <td>...</td>\n",
       "      <td>0.733759</td>\n",
       "      <td>0.526994</td>\n",
       "      <td>-0.668108</td>\n",
       "      <td>0.536574</td>\n",
       "      <td>-0.384463</td>\n",
       "      <td>0.341330</td>\n",
       "      <td>-1.398792</td>\n",
       "      <td>-0.441498</td>\n",
       "      <td>0.157258</td>\n",
       "      <td>-0.612992</td>\n",
       "    </tr>\n",
       "  </tbody>\n",
       "</table>\n",
       "<p>5 rows × 73 columns</p>\n",
       "</div>"
      ],
      "text/plain": [
       "       total_pop  Percent_Under_5  Percent_5_to_9  Percent_10_to_14  \\\n",
       "01001  -0.121831        -0.762104       -0.441774         -0.192087   \n",
       "01002   0.632545        -1.567189       -1.726611         -1.799509   \n",
       "01005  -0.887421        -1.682201       -0.850586          0.554216   \n",
       "01007  -0.282708        -0.589586        0.083841         -0.019863   \n",
       "01010  -0.963313        -0.877116        0.726259         -1.110614   \n",
       "\n",
       "       Percent_15_to_19  Percent_20_to_24  Percent_25_to_29  Percent_30_to_34  \\\n",
       "01001         -1.299505         -0.793853         -0.519640          0.644523   \n",
       "01002          3.770282          7.143369          0.047573         -0.835097   \n",
       "01005          0.979574         -0.400022         -0.600670          0.389416   \n",
       "01007          0.328408          0.448231         -1.451489         -0.528969   \n",
       "01010         -0.090198         -0.915032         -0.762731         -0.631012   \n",
       "\n",
       "       Percent_35_to_39  Percent_40_to_44  ...  Median_HH_Income  \\\n",
       "01001         -0.146599          0.450106  ...         -0.130640   \n",
       "01002         -1.765212         -2.009577  ...         -0.374005   \n",
       "01005         -2.671635         -2.150130  ...          0.106840   \n",
       "01007         -0.470321         -0.112107  ...          1.075577   \n",
       "01010         -1.376745         -0.814874  ...          0.733759   \n",
       "\n",
       "       Median_Owner_HH_Income  Median_Renter_HH_Income  \\\n",
       "01001               -0.166298                -0.240086   \n",
       "01002                1.222663                -0.591839   \n",
       "01005               -0.098999                 0.515075   \n",
       "01007                0.996970                -0.526573   \n",
       "01010                0.526994                -0.668108   \n",
       "\n",
       "       Estimate!!Now married (except separated)!!Population 15 years and over  \\\n",
       "01001                                          -0.503333                        \n",
       "01002                                          -2.223178                        \n",
       "01005                                          -0.093370                        \n",
       "01007                                           0.746555                        \n",
       "01010                                           0.536574                        \n",
       "\n",
       "       Estimate!!Widowed!!Population 15 years and over  \\\n",
       "01001                                         1.333294   \n",
       "01002                                        -1.147910   \n",
       "01005                                        -1.386488   \n",
       "01007                                        -0.909333   \n",
       "01010                                        -0.384463   \n",
       "\n",
       "       Estimate!!Divorced!!Population 15 years and over  \\\n",
       "01001                                          1.111930   \n",
       "01002                                         -1.809929   \n",
       "01005                                          1.433013   \n",
       "01007                                         -0.429270   \n",
       "01010                                          0.341330   \n",
       "\n",
       "       Estimate!!Separated!!Population 15 years and over  \\\n",
       "01001                                           0.031492   \n",
       "01002                                          -0.773043   \n",
       "01005                                          -1.577577   \n",
       "01007                                          -1.130614   \n",
       "01010                                          -1.398792   \n",
       "\n",
       "       Estimate!!Never married!!Population 15 years and over  \\\n",
       "01001                                          -0.136907       \n",
       "01002                                           3.387636       \n",
       "01005                                           0.135048       \n",
       "01007                                          -0.310959       \n",
       "01010                                          -0.441498       \n",
       "\n",
       "       HPI_%_Annual_Change       HPI  \n",
       "01001            -0.062781 -0.272891  \n",
       "01002             0.512439  0.144541  \n",
       "01005             0.363436 -0.591663  \n",
       "01007             0.103548 -0.212099  \n",
       "01010             0.157258 -0.612992  \n",
       "\n",
       "[5 rows x 73 columns]"
      ]
     },
     "execution_count": 278,
     "metadata": {},
     "output_type": "execute_result"
    }
   ],
   "source": [
    "scaled.head()"
   ]
  },
  {
   "cell_type": "code",
   "execution_count": 284,
   "metadata": {},
   "outputs": [
    {
     "data": {
      "text/plain": [
       "<matplotlib.axes._subplots.AxesSubplot at 0x7faf65520f50>"
      ]
     },
     "execution_count": 284,
     "metadata": {},
     "output_type": "execute_result"
    },
    {
     "data": {
      "image/png": "[encoded data removed]",
      "text/plain": [
       "<Figure size 432x288 with 2 Axes>"
      ]
     },
     "metadata": {},
     "output_type": "display_data"
    }
   ],
   "source": [
    "\n",
    "sns.heatmap(corr)"
   ]
  },
  {
   "cell_type": "code",
   "execution_count": 285,
   "metadata": {},
   "outputs": [
    {
     "data": {
      "text/html": [
       "<div>\n",
       "<style scoped>\n",
       "    .dataframe tbody tr th:only-of-type {\n",
       "        vertical-align: middle;\n",
       "    }\n",
       "\n",
       "    .dataframe tbody tr th {\n",
       "        vertical-align: top;\n",
       "    }\n",
       "\n",
       "    .dataframe thead th {\n",
       "        text-align: right;\n",
       "    }\n",
       "</style>\n",
       "<table border=\"1\" class=\"dataframe\">\n",
       "  <thead>\n",
       "    <tr style=\"text-align: right;\">\n",
       "      <th></th>\n",
       "      <th>total_pop</th>\n",
       "      <th>Percent_Under_5</th>\n",
       "      <th>Percent_5_to_9</th>\n",
       "      <th>Percent_10_to_14</th>\n",
       "      <th>Percent_15_to_19</th>\n",
       "      <th>Percent_20_to_24</th>\n",
       "      <th>Percent_25_to_29</th>\n",
       "      <th>Percent_30_to_34</th>\n",
       "      <th>Percent_35_to_39</th>\n",
       "      <th>Percent_40_to_44</th>\n",
       "      <th>...</th>\n",
       "      <th>Median_HH_Income</th>\n",
       "      <th>Median_Owner_HH_Income</th>\n",
       "      <th>Median_Renter_HH_Income</th>\n",
       "      <th>Estimate!!Now married (except separated)!!Population 15 years and over</th>\n",
       "      <th>Estimate!!Widowed!!Population 15 years and over</th>\n",
       "      <th>Estimate!!Divorced!!Population 15 years and over</th>\n",
       "      <th>Estimate!!Separated!!Population 15 years and over</th>\n",
       "      <th>Estimate!!Never married!!Population 15 years and over</th>\n",
       "      <th>HPI_%_Annual_Change</th>\n",
       "      <th>HPI</th>\n",
       "    </tr>\n",
       "  </thead>\n",
       "  <tbody>\n",
       "    <tr>\n",
       "      <th>total_pop</th>\n",
       "      <td>1.000000</td>\n",
       "      <td>0.188209</td>\n",
       "      <td>0.104012</td>\n",
       "      <td>0.038879</td>\n",
       "      <td>-0.019774</td>\n",
       "      <td>0.100196</td>\n",
       "      <td>0.255144</td>\n",
       "      <td>0.267297</td>\n",
       "      <td>0.221972</td>\n",
       "      <td>0.138818</td>\n",
       "      <td>...</td>\n",
       "      <td>0.103104</td>\n",
       "      <td>0.213988</td>\n",
       "      <td>0.163400</td>\n",
       "      <td>-0.204772</td>\n",
       "      <td>-0.204872</td>\n",
       "      <td>-0.084385</td>\n",
       "      <td>0.098596</td>\n",
       "      <td>0.267077</td>\n",
       "      <td>0.006453</td>\n",
       "      <td>0.469719</td>\n",
       "    </tr>\n",
       "    <tr>\n",
       "      <th>Percent_Under_5</th>\n",
       "      <td>0.188209</td>\n",
       "      <td>1.000000</td>\n",
       "      <td>0.544317</td>\n",
       "      <td>0.311345</td>\n",
       "      <td>-0.148022</td>\n",
       "      <td>-0.054737</td>\n",
       "      <td>0.195985</td>\n",
       "      <td>0.277322</td>\n",
       "      <td>0.248081</td>\n",
       "      <td>0.073740</td>\n",
       "      <td>...</td>\n",
       "      <td>-0.105966</td>\n",
       "      <td>-0.092373</td>\n",
       "      <td>-0.038895</td>\n",
       "      <td>0.028632</td>\n",
       "      <td>-0.151356</td>\n",
       "      <td>-0.056161</td>\n",
       "      <td>0.159229</td>\n",
       "      <td>0.002148</td>\n",
       "      <td>0.045945</td>\n",
       "      <td>0.003056</td>\n",
       "    </tr>\n",
       "    <tr>\n",
       "      <th>Percent_5_to_9</th>\n",
       "      <td>0.104012</td>\n",
       "      <td>0.544317</td>\n",
       "      <td>1.000000</td>\n",
       "      <td>0.511035</td>\n",
       "      <td>-0.127349</td>\n",
       "      <td>-0.208320</td>\n",
       "      <td>-0.074116</td>\n",
       "      <td>0.072400</td>\n",
       "      <td>0.218241</td>\n",
       "      <td>0.185820</td>\n",
       "      <td>...</td>\n",
       "      <td>0.001672</td>\n",
       "      <td>-0.048139</td>\n",
       "      <td>-0.022200</td>\n",
       "      <td>0.194008</td>\n",
       "      <td>-0.107077</td>\n",
       "      <td>-0.069552</td>\n",
       "      <td>0.103680</td>\n",
       "      <td>-0.165169</td>\n",
       "      <td>0.034664</td>\n",
       "      <td>-0.087098</td>\n",
       "    </tr>\n",
       "    <tr>\n",
       "      <th>Percent_10_to_14</th>\n",
       "      <td>0.038879</td>\n",
       "      <td>0.311345</td>\n",
       "      <td>0.511035</td>\n",
       "      <td>1.000000</td>\n",
       "      <td>-0.076693</td>\n",
       "      <td>-0.276391</td>\n",
       "      <td>-0.278845</td>\n",
       "      <td>-0.126356</td>\n",
       "      <td>0.113558</td>\n",
       "      <td>0.260390</td>\n",
       "      <td>...</td>\n",
       "      <td>0.115949</td>\n",
       "      <td>0.017777</td>\n",
       "      <td>0.030084</td>\n",
       "      <td>0.316340</td>\n",
       "      <td>-0.089480</td>\n",
       "      <td>-0.110765</td>\n",
       "      <td>0.027910</td>\n",
       "      <td>-0.272044</td>\n",
       "      <td>0.025545</td>\n",
       "      <td>-0.126041</td>\n",
       "    </tr>\n",
       "    <tr>\n",
       "      <th>Percent_15_to_19</th>\n",
       "      <td>-0.019774</td>\n",
       "      <td>-0.148022</td>\n",
       "      <td>-0.127349</td>\n",
       "      <td>-0.076693</td>\n",
       "      <td>1.000000</td>\n",
       "      <td>0.483290</td>\n",
       "      <td>-0.171807</td>\n",
       "      <td>-0.259407</td>\n",
       "      <td>-0.258472</td>\n",
       "      <td>-0.220570</td>\n",
       "      <td>...</td>\n",
       "      <td>-0.008895</td>\n",
       "      <td>0.023428</td>\n",
       "      <td>-0.067816</td>\n",
       "      <td>-0.313124</td>\n",
       "      <td>-0.254886</td>\n",
       "      <td>-0.316728</td>\n",
       "      <td>-0.101423</td>\n",
       "      <td>0.482980</td>\n",
       "      <td>0.011913</td>\n",
       "      <td>-0.083045</td>\n",
       "    </tr>\n",
       "    <tr>\n",
       "      <th>...</th>\n",
       "      <td>...</td>\n",
       "      <td>...</td>\n",
       "      <td>...</td>\n",
       "      <td>...</td>\n",
       "      <td>...</td>\n",
       "      <td>...</td>\n",
       "      <td>...</td>\n",
       "      <td>...</td>\n",
       "      <td>...</td>\n",
       "      <td>...</td>\n",
       "      <td>...</td>\n",
       "      <td>...</td>\n",
       "      <td>...</td>\n",
       "      <td>...</td>\n",
       "      <td>...</td>\n",
       "      <td>...</td>\n",
       "      <td>...</td>\n",
       "      <td>...</td>\n",
       "      <td>...</td>\n",
       "      <td>...</td>\n",
       "      <td>...</td>\n",
       "    </tr>\n",
       "    <tr>\n",
       "      <th>Estimate!!Divorced!!Population 15 years and over</th>\n",
       "      <td>-0.084385</td>\n",
       "      <td>-0.056161</td>\n",
       "      <td>-0.069552</td>\n",
       "      <td>-0.110765</td>\n",
       "      <td>-0.316728</td>\n",
       "      <td>-0.248236</td>\n",
       "      <td>0.038564</td>\n",
       "      <td>0.062948</td>\n",
       "      <td>0.049333</td>\n",
       "      <td>0.020716</td>\n",
       "      <td>...</td>\n",
       "      <td>-0.451438</td>\n",
       "      <td>-0.456686</td>\n",
       "      <td>-0.358504</td>\n",
       "      <td>-0.236148</td>\n",
       "      <td>0.324436</td>\n",
       "      <td>1.000000</td>\n",
       "      <td>0.227240</td>\n",
       "      <td>-0.163416</td>\n",
       "      <td>0.089093</td>\n",
       "      <td>-0.175035</td>\n",
       "    </tr>\n",
       "    <tr>\n",
       "      <th>Estimate!!Separated!!Population 15 years and over</th>\n",
       "      <td>0.098596</td>\n",
       "      <td>0.159229</td>\n",
       "      <td>0.103680</td>\n",
       "      <td>0.027910</td>\n",
       "      <td>-0.101423</td>\n",
       "      <td>0.003279</td>\n",
       "      <td>0.201005</td>\n",
       "      <td>0.168660</td>\n",
       "      <td>0.110254</td>\n",
       "      <td>0.046952</td>\n",
       "      <td>...</td>\n",
       "      <td>-0.445350</td>\n",
       "      <td>-0.384074</td>\n",
       "      <td>-0.325127</td>\n",
       "      <td>-0.450807</td>\n",
       "      <td>0.170088</td>\n",
       "      <td>0.227240</td>\n",
       "      <td>1.000000</td>\n",
       "      <td>0.236196</td>\n",
       "      <td>0.086497</td>\n",
       "      <td>-0.067462</td>\n",
       "    </tr>\n",
       "    <tr>\n",
       "      <th>Estimate!!Never married!!Population 15 years and over</th>\n",
       "      <td>0.267077</td>\n",
       "      <td>0.002148</td>\n",
       "      <td>-0.165169</td>\n",
       "      <td>-0.272044</td>\n",
       "      <td>0.482980</td>\n",
       "      <td>0.683151</td>\n",
       "      <td>0.509068</td>\n",
       "      <td>0.319345</td>\n",
       "      <td>0.084348</td>\n",
       "      <td>-0.125701</td>\n",
       "      <td>...</td>\n",
       "      <td>-0.242165</td>\n",
       "      <td>-0.030380</td>\n",
       "      <td>-0.102713</td>\n",
       "      <td>-0.891043</td>\n",
       "      <td>-0.324569</td>\n",
       "      <td>-0.163416</td>\n",
       "      <td>0.236196</td>\n",
       "      <td>1.000000</td>\n",
       "      <td>0.049871</td>\n",
       "      <td>0.234352</td>\n",
       "    </tr>\n",
       "    <tr>\n",
       "      <th>HPI_%_Annual_Change</th>\n",
       "      <td>0.006453</td>\n",
       "      <td>0.045945</td>\n",
       "      <td>0.034664</td>\n",
       "      <td>0.025545</td>\n",
       "      <td>0.011913</td>\n",
       "      <td>0.018988</td>\n",
       "      <td>0.031153</td>\n",
       "      <td>0.006297</td>\n",
       "      <td>0.003719</td>\n",
       "      <td>-0.017679</td>\n",
       "      <td>...</td>\n",
       "      <td>-0.161630</td>\n",
       "      <td>-0.174603</td>\n",
       "      <td>-0.120314</td>\n",
       "      <td>-0.085013</td>\n",
       "      <td>0.008802</td>\n",
       "      <td>0.089093</td>\n",
       "      <td>0.086497</td>\n",
       "      <td>0.049871</td>\n",
       "      <td>1.000000</td>\n",
       "      <td>-0.072561</td>\n",
       "    </tr>\n",
       "    <tr>\n",
       "      <th>HPI</th>\n",
       "      <td>0.469719</td>\n",
       "      <td>0.003056</td>\n",
       "      <td>-0.087098</td>\n",
       "      <td>-0.126041</td>\n",
       "      <td>-0.083045</td>\n",
       "      <td>0.057891</td>\n",
       "      <td>0.220266</td>\n",
       "      <td>0.241534</td>\n",
       "      <td>0.187701</td>\n",
       "      <td>0.118164</td>\n",
       "      <td>...</td>\n",
       "      <td>0.351523</td>\n",
       "      <td>0.473704</td>\n",
       "      <td>0.409252</td>\n",
       "      <td>-0.106086</td>\n",
       "      <td>-0.220258</td>\n",
       "      <td>-0.175035</td>\n",
       "      <td>-0.067462</td>\n",
       "      <td>0.234352</td>\n",
       "      <td>-0.072561</td>\n",
       "      <td>1.000000</td>\n",
       "    </tr>\n",
       "  </tbody>\n",
       "</table>\n",
       "<p>73 rows × 73 columns</p>\n",
       "</div>"
      ],
      "text/plain": [
       "                                                    total_pop  \\\n",
       "total_pop                                            1.000000   \n",
       "Percent_Under_5                                      0.188209   \n",
       "Percent_5_to_9                                       0.104012   \n",
       "Percent_10_to_14                                     0.038879   \n",
       "Percent_15_to_19                                    -0.019774   \n",
       "...                                                       ...   \n",
       "Estimate!!Divorced!!Population 15 years and over    -0.084385   \n",
       "Estimate!!Separated!!Population 15 years and over    0.098596   \n",
       "Estimate!!Never married!!Population 15 years an...   0.267077   \n",
       "HPI_%_Annual_Change                                  0.006453   \n",
       "HPI                                                  0.469719   \n",
       "\n",
       "                                                    Percent_Under_5  \\\n",
       "total_pop                                                  0.188209   \n",
       "Percent_Under_5                                            1.000000   \n",
       "Percent_5_to_9                                             0.544317   \n",
       "Percent_10_to_14                                           0.311345   \n",
       "Percent_15_to_19                                          -0.148022   \n",
       "...                                                             ...   \n",
       "Estimate!!Divorced!!Population 15 years and over          -0.056161   \n",
       "Estimate!!Separated!!Population 15 years and over          0.159229   \n",
       "Estimate!!Never married!!Population 15 years an...         0.002148   \n",
       "HPI_%_Annual_Change                                        0.045945   \n",
       "HPI                                                        0.003056   \n",
       "\n",
       "                                                    Percent_5_to_9  \\\n",
       "total_pop                                                 0.104012   \n",
       "Percent_Under_5                                           0.544317   \n",
       "Percent_5_to_9                                            1.000000   \n",
       "Percent_10_to_14                                          0.511035   \n",
       "Percent_15_to_19                                         -0.127349   \n",
       "...                                                            ...   \n",
       "Estimate!!Divorced!!Population 15 years and over         -0.069552   \n",
       "Estimate!!Separated!!Population 15 years and over         0.103680   \n",
       "Estimate!!Never married!!Population 15 years an...       -0.165169   \n",
       "HPI_%_Annual_Change                                       0.034664   \n",
       "HPI                                                      -0.087098   \n",
       "\n",
       "                                                    Percent_10_to_14  \\\n",
       "total_pop                                                   0.038879   \n",
       "Percent_Under_5                                             0.311345   \n",
       "Percent_5_to_9                                              0.511035   \n",
       "Percent_10_to_14                                            1.000000   \n",
       "Percent_15_to_19                                           -0.076693   \n",
       "...                                                              ...   \n",
       "Estimate!!Divorced!!Population 15 years and over           -0.110765   \n",
       "Estimate!!Separated!!Population 15 years and over           0.027910   \n",
       "Estimate!!Never married!!Population 15 years an...         -0.272044   \n",
       "HPI_%_Annual_Change                                         0.025545   \n",
       "HPI                                                        -0.126041   \n",
       "\n",
       "                                                    Percent_15_to_19  \\\n",
       "total_pop                                                  -0.019774   \n",
       "Percent_Under_5                                            -0.148022   \n",
       "Percent_5_to_9                                             -0.127349   \n",
       "Percent_10_to_14                                           -0.076693   \n",
       "Percent_15_to_19                                            1.000000   \n",
       "...                                                              ...   \n",
       "Estimate!!Divorced!!Population 15 years and over           -0.316728   \n",
       "Estimate!!Separated!!Population 15 years and over          -0.101423   \n",
       "Estimate!!Never married!!Population 15 years an...          0.482980   \n",
       "HPI_%_Annual_Change                                         0.011913   \n",
       "HPI                                                        -0.083045   \n",
       "\n",
       "                                                    Percent_20_to_24  \\\n",
       "total_pop                                                   0.100196   \n",
       "Percent_Under_5                                            -0.054737   \n",
       "Percent_5_to_9                                             -0.208320   \n",
       "Percent_10_to_14                                           -0.276391   \n",
       "Percent_15_to_19                                            0.483290   \n",
       "...                                                              ...   \n",
       "Estimate!!Divorced!!Population 15 years and over           -0.248236   \n",
       "Estimate!!Separated!!Population 15 years and over           0.003279   \n",
       "Estimate!!Never married!!Population 15 years an...          0.683151   \n",
       "HPI_%_Annual_Change                                         0.018988   \n",
       "HPI                                                         0.057891   \n",
       "\n",
       "                                                    Percent_25_to_29  \\\n",
       "total_pop                                                   0.255144   \n",
       "Percent_Under_5                                             0.195985   \n",
       "Percent_5_to_9                                             -0.074116   \n",
       "Percent_10_to_14                                           -0.278845   \n",
       "Percent_15_to_19                                           -0.171807   \n",
       "...                                                              ...   \n",
       "Estimate!!Divorced!!Population 15 years and over            0.038564   \n",
       "Estimate!!Separated!!Population 15 years and over           0.201005   \n",
       "Estimate!!Never married!!Population 15 years an...          0.509068   \n",
       "HPI_%_Annual_Change                                         0.031153   \n",
       "HPI                                                         0.220266   \n",
       "\n",
       "                                                    Percent_30_to_34  \\\n",
       "total_pop                                                   0.267297   \n",
       "Percent_Under_5                                             0.277322   \n",
       "Percent_5_to_9                                              0.072400   \n",
       "Percent_10_to_14                                           -0.126356   \n",
       "Percent_15_to_19                                           -0.259407   \n",
       "...                                                              ...   \n",
       "Estimate!!Divorced!!Population 15 years and over            0.062948   \n",
       "Estimate!!Separated!!Population 15 years and over           0.168660   \n",
       "Estimate!!Never married!!Population 15 years an...          0.319345   \n",
       "HPI_%_Annual_Change                                         0.006297   \n",
       "HPI                                                         0.241534   \n",
       "\n",
       "                                                    Percent_35_to_39  \\\n",
       "total_pop                                                   0.221972   \n",
       "Percent_Under_5                                             0.248081   \n",
       "Percent_5_to_9                                              0.218241   \n",
       "Percent_10_to_14                                            0.113558   \n",
       "Percent_15_to_19                                           -0.258472   \n",
       "...                                                              ...   \n",
       "Estimate!!Divorced!!Population 15 years and over            0.049333   \n",
       "Estimate!!Separated!!Population 15 years and over           0.110254   \n",
       "Estimate!!Never married!!Population 15 years an...          0.084348   \n",
       "HPI_%_Annual_Change                                         0.003719   \n",
       "HPI                                                         0.187701   \n",
       "\n",
       "                                                    Percent_40_to_44  ...  \\\n",
       "total_pop                                                   0.138818  ...   \n",
       "Percent_Under_5                                             0.073740  ...   \n",
       "Percent_5_to_9                                              0.185820  ...   \n",
       "Percent_10_to_14                                            0.260390  ...   \n",
       "Percent_15_to_19                                           -0.220570  ...   \n",
       "...                                                              ...  ...   \n",
       "Estimate!!Divorced!!Population 15 years and over            0.020716  ...   \n",
       "Estimate!!Separated!!Population 15 years and over           0.046952  ...   \n",
       "Estimate!!Never married!!Population 15 years an...         -0.125701  ...   \n",
       "HPI_%_Annual_Change                                        -0.017679  ...   \n",
       "HPI                                                         0.118164  ...   \n",
       "\n",
       "                                                    Median_HH_Income  \\\n",
       "total_pop                                                   0.103104   \n",
       "Percent_Under_5                                            -0.105966   \n",
       "Percent_5_to_9                                              0.001672   \n",
       "Percent_10_to_14                                            0.115949   \n",
       "Percent_15_to_19                                           -0.008895   \n",
       "...                                                              ...   \n",
       "Estimate!!Divorced!!Population 15 years and over           -0.451438   \n",
       "Estimate!!Separated!!Population 15 years and over          -0.445350   \n",
       "Estimate!!Never married!!Population 15 years an...         -0.242165   \n",
       "HPI_%_Annual_Change                                        -0.161630   \n",
       "HPI                                                         0.351523   \n",
       "\n",
       "                                                    Median_Owner_HH_Income  \\\n",
       "total_pop                                                         0.213988   \n",
       "Percent_Under_5                                                  -0.092373   \n",
       "Percent_5_to_9                                                   -0.048139   \n",
       "Percent_10_to_14                                                  0.017777   \n",
       "Percent_15_to_19                                                  0.023428   \n",
       "...                                                                    ...   \n",
       "Estimate!!Divorced!!Population 15 years and over                 -0.456686   \n",
       "Estimate!!Separated!!Population 15 years and over                -0.384074   \n",
       "Estimate!!Never married!!Population 15 years an...               -0.030380   \n",
       "HPI_%_Annual_Change                                              -0.174603   \n",
       "HPI                                                               0.473704   \n",
       "\n",
       "                                                    Median_Renter_HH_Income  \\\n",
       "total_pop                                                          0.163400   \n",
       "Percent_Under_5                                                   -0.038895   \n",
       "Percent_5_to_9                                                    -0.022200   \n",
       "Percent_10_to_14                                                   0.030084   \n",
       "Percent_15_to_19                                                  -0.067816   \n",
       "...                                                                     ...   \n",
       "Estimate!!Divorced!!Population 15 years and over                  -0.358504   \n",
       "Estimate!!Separated!!Population 15 years and over                 -0.325127   \n",
       "Estimate!!Never married!!Population 15 years an...                -0.102713   \n",
       "HPI_%_Annual_Change                                               -0.120314   \n",
       "HPI                                                                0.409252   \n",
       "\n",
       "                                                    Estimate!!Now married (except separated)!!Population 15 years and over  \\\n",
       "total_pop                                                                                   -0.204772                        \n",
       "Percent_Under_5                                                                              0.028632                        \n",
       "Percent_5_to_9                                                                               0.194008                        \n",
       "Percent_10_to_14                                                                             0.316340                        \n",
       "Percent_15_to_19                                                                            -0.313124                        \n",
       "...                                                                                               ...                        \n",
       "Estimate!!Divorced!!Population 15 years and over                                            -0.236148                        \n",
       "Estimate!!Separated!!Population 15 years and over                                           -0.450807                        \n",
       "Estimate!!Never married!!Population 15 years an...                                          -0.891043                        \n",
       "HPI_%_Annual_Change                                                                         -0.085013                        \n",
       "HPI                                                                                         -0.106086                        \n",
       "\n",
       "                                                    Estimate!!Widowed!!Population 15 years and over  \\\n",
       "total_pop                                                                                 -0.204872   \n",
       "Percent_Under_5                                                                           -0.151356   \n",
       "Percent_5_to_9                                                                            -0.107077   \n",
       "Percent_10_to_14                                                                          -0.089480   \n",
       "Percent_15_to_19                                                                          -0.254886   \n",
       "...                                                                                             ...   \n",
       "Estimate!!Divorced!!Population 15 years and over                                           0.324436   \n",
       "Estimate!!Separated!!Population 15 years and over                                          0.170088   \n",
       "Estimate!!Never married!!Population 15 years an...                                        -0.324569   \n",
       "HPI_%_Annual_Change                                                                        0.008802   \n",
       "HPI                                                                                       -0.220258   \n",
       "\n",
       "                                                    Estimate!!Divorced!!Population 15 years and over  \\\n",
       "total_pop                                                                                  -0.084385   \n",
       "Percent_Under_5                                                                            -0.056161   \n",
       "Percent_5_to_9                                                                             -0.069552   \n",
       "Percent_10_to_14                                                                           -0.110765   \n",
       "Percent_15_to_19                                                                           -0.316728   \n",
       "...                                                                                              ...   \n",
       "Estimate!!Divorced!!Population 15 years and over                                            1.000000   \n",
       "Estimate!!Separated!!Population 15 years and over                                           0.227240   \n",
       "Estimate!!Never married!!Population 15 years an...                                         -0.163416   \n",
       "HPI_%_Annual_Change                                                                         0.089093   \n",
       "HPI                                                                                        -0.175035   \n",
       "\n",
       "                                                    Estimate!!Separated!!Population 15 years and over  \\\n",
       "total_pop                                                                                    0.098596   \n",
       "Percent_Under_5                                                                              0.159229   \n",
       "Percent_5_to_9                                                                               0.103680   \n",
       "Percent_10_to_14                                                                             0.027910   \n",
       "Percent_15_to_19                                                                            -0.101423   \n",
       "...                                                                                               ...   \n",
       "Estimate!!Divorced!!Population 15 years and over                                             0.227240   \n",
       "Estimate!!Separated!!Population 15 years and over                                            1.000000   \n",
       "Estimate!!Never married!!Population 15 years an...                                           0.236196   \n",
       "HPI_%_Annual_Change                                                                          0.086497   \n",
       "HPI                                                                                         -0.067462   \n",
       "\n",
       "                                                    Estimate!!Never married!!Population 15 years and over  \\\n",
       "total_pop                                                                                    0.267077       \n",
       "Percent_Under_5                                                                              0.002148       \n",
       "Percent_5_to_9                                                                              -0.165169       \n",
       "Percent_10_to_14                                                                            -0.272044       \n",
       "Percent_15_to_19                                                                             0.482980       \n",
       "...                                                                                               ...       \n",
       "Estimate!!Divorced!!Population 15 years and over                                            -0.163416       \n",
       "Estimate!!Separated!!Population 15 years and over                                            0.236196       \n",
       "Estimate!!Never married!!Population 15 years an...                                           1.000000       \n",
       "HPI_%_Annual_Change                                                                          0.049871       \n",
       "HPI                                                                                          0.234352       \n",
       "\n",
       "                                                    HPI_%_Annual_Change  \\\n",
       "total_pop                                                      0.006453   \n",
       "Percent_Under_5                                                0.045945   \n",
       "Percent_5_to_9                                                 0.034664   \n",
       "Percent_10_to_14                                               0.025545   \n",
       "Percent_15_to_19                                               0.011913   \n",
       "...                                                                 ...   \n",
       "Estimate!!Divorced!!Population 15 years and over               0.089093   \n",
       "Estimate!!Separated!!Population 15 years and over              0.086497   \n",
       "Estimate!!Never married!!Population 15 years an...             0.049871   \n",
       "HPI_%_Annual_Change                                            1.000000   \n",
       "HPI                                                           -0.072561   \n",
       "\n",
       "                                                         HPI  \n",
       "total_pop                                           0.469719  \n",
       "Percent_Under_5                                     0.003056  \n",
       "Percent_5_to_9                                     -0.087098  \n",
       "Percent_10_to_14                                   -0.126041  \n",
       "Percent_15_to_19                                   -0.083045  \n",
       "...                                                      ...  \n",
       "Estimate!!Divorced!!Population 15 years and over   -0.175035  \n",
       "Estimate!!Separated!!Population 15 years and over  -0.067462  \n",
       "Estimate!!Never married!!Population 15 years an...  0.234352  \n",
       "HPI_%_Annual_Change                                -0.072561  \n",
       "HPI                                                 1.000000  \n",
       "\n",
       "[73 rows x 73 columns]"
      ]
     },
     "execution_count": 285,
     "metadata": {},
     "output_type": "execute_result"
    }
   ],
   "source": [
    "corr = final.corr()\n",
    "corr"
   ]
  },
  {
   "cell_type": "code",
   "execution_count": null,
   "metadata": {},
   "outputs": [],
   "source": []
  }
 ],
 "metadata": {
  "kernelspec": {
   "display_name": "Python 3",
   "language": "python",
   "name": "python3"
  },
  "language_info": {
   "codemirror_mode": {
    "name": "ipython",
    "version": 3
   },
   "file_extension": ".py",
   "mimetype": "text/x-python",
   "name": "python",
   "nbconvert_exporter": "python",
   "pygments_lexer": "ipython3",
   "version": "3.7.7"
  }
 },
 "nbformat": 4,
 "nbformat_minor": 4
}
